{
  "nbformat": 4,
  "nbformat_minor": 0,
  "metadata": {
    "colab": {
      "name": "WDL Spark - Stage 1 Challenge 1 Submission.ipynb",
      "provenance": [],
      "collapsed_sections": []
    },
    "kernelspec": {
      "name": "python3",
      "display_name": "Python 3"
    },
    "language_info": {
      "name": "python"
    }
  },
  "cells": [
    {
      "cell_type": "markdown",
      "metadata": {
        "id": "JeP6xkRIBJco"
      },
      "source": [
        "# World Data League 2021\n",
        "## Notebook Template\n",
        "\n",
        "This notebook is one of the mandatory deliverables when you submit your solution (alongside the video pitch). Its structure follows the WDL evaluation criteria and it has dedicated cells where you can add descriptions. Make sure your code is readable as it will be the only technical support the jury will have to evaluate your work.\n",
        "\n",
        "The notebook must:\n",
        "\n",
        "*   💻 have all the code that you want the jury to evaluate\n",
        "*   🧱 follow the predefined structure\n",
        "*   📄 have markdown descriptions where you find necessary\n",
        "*   👀 be saved with all the output that you want the jury to see\n",
        "*   🏃‍♂️ be runnable\n"
      ]
    },
    {
      "cell_type": "markdown",
      "metadata": {
        "id": "63ltgxp_rOpI"
      },
      "source": [
        "## Introduction\n"
      ]
    },
    {
      "cell_type": "markdown",
      "metadata": {
        "id": "Hp34gOznrwrq"
      },
      "source": [
        "The challenge that we have worked on is Churn Prediction\n",
        "\n",
        "We have performed some EDA to get an understanding of the different categories of people in the data and we have also built a prediction model based on Linear Regression to predict the reduction ratio. Higher the reduction ratio, more is the churn. \n",
        "\n",
        "Our additional source of data is the latitude and longitude data of the counties and cities in Portugal to create an Origin Destination map in Tableau."
      ]
    },
    {
      "cell_type": "markdown",
      "metadata": {
        "id": "C8rCpNajszur"
      },
      "source": [
        "## Development\n",
        "Start coding here! 🐱‍🏍\n",
        "\n",
        "Don't hesitate to create markdown cells to include descriptions of your work where you see fit, as well as commenting your code.\n",
        "\n",
        "We know that you know exactly where to start when it comes to crunching data and building models, but don't forget that WDL is all about social impact...so take that into consideration as well."
      ]
    },
    {
      "cell_type": "code",
      "metadata": {
        "id": "D8FVIpTWwI2S"
      },
      "source": [
        "import pandas as pd\n",
        "import numpy as np\n",
        "import seaborn as sns"
      ],
      "execution_count": null,
      "outputs": []
    },
    {
      "cell_type": "markdown",
      "metadata": {
        "id": "TkAfaITs9WXf"
      },
      "source": [
        "Import Data"
      ]
    },
    {
      "cell_type": "code",
      "metadata": {
        "colab": {
          "base_uri": "https://localhost:8080/",
          "height": 239
        },
        "id": "bBf4L9C0wk8g",
        "outputId": "35e6e535-c490-4a11-bb5a-4da5d54d9fa8"
      },
      "source": [
        "churn_od = pd.read_csv('https://wdl-data.fra1.digitaloceanspaces.com/pse/Churn_OD.txt',delimiter = '|', encoding = 'Latin-1')\n",
        "print(len(churn_od))\n",
        "churn_od.head()"
      ],
      "execution_count": null,
      "outputs": [
        {
          "output_type": "stream",
          "text": [
            "2253\n"
          ],
          "name": "stdout"
        },
        {
          "output_type": "execute_result",
          "data": {
            "text/html": [
              "<div>\n",
              "<style scoped>\n",
              "    .dataframe tbody tr th:only-of-type {\n",
              "        vertical-align: middle;\n",
              "    }\n",
              "\n",
              "    .dataframe tbody tr th {\n",
              "        vertical-align: top;\n",
              "    }\n",
              "\n",
              "    .dataframe thead th {\n",
              "        text-align: right;\n",
              "    }\n",
              "</style>\n",
              "<table border=\"1\" class=\"dataframe\">\n",
              "  <thead>\n",
              "    <tr style=\"text-align: right;\">\n",
              "      <th></th>\n",
              "      <th>Region_of_Origin</th>\n",
              "      <th>District_of_Origin</th>\n",
              "      <th>County_of_Origin</th>\n",
              "      <th>Region_of_Public_Transportation</th>\n",
              "      <th>District_of_Public_Transportation</th>\n",
              "      <th>County_of_Public_Transportation</th>\n",
              "      <th>Dicofre_ParishCode_of_Public_Transportation</th>\n",
              "      <th>Demand_weight</th>\n",
              "    </tr>\n",
              "  </thead>\n",
              "  <tbody>\n",
              "    <tr>\n",
              "      <th>0</th>\n",
              "      <td>R1 - AM Lisboa</td>\n",
              "      <td>Lisboa</td>\n",
              "      <td>Amadora</td>\n",
              "      <td>R1 - AM Lisboa</td>\n",
              "      <td>LISBOA</td>\n",
              "      <td>LISBOA</td>\n",
              "      <td>110608</td>\n",
              "      <td>0.307323</td>\n",
              "    </tr>\n",
              "    <tr>\n",
              "      <th>1</th>\n",
              "      <td>R1 - AM Lisboa</td>\n",
              "      <td>Lisboa</td>\n",
              "      <td>Amadora</td>\n",
              "      <td>R1 - AM Lisboa</td>\n",
              "      <td>LISBOA</td>\n",
              "      <td>LISBOA</td>\n",
              "      <td>110639</td>\n",
              "      <td>0.069997</td>\n",
              "    </tr>\n",
              "    <tr>\n",
              "      <th>2</th>\n",
              "      <td>R1 - AM Lisboa</td>\n",
              "      <td>Lisboa</td>\n",
              "      <td>Amadora</td>\n",
              "      <td>R1 - AM Lisboa</td>\n",
              "      <td>LISBOA</td>\n",
              "      <td>LISBOA</td>\n",
              "      <td>110658</td>\n",
              "      <td>0.066059</td>\n",
              "    </tr>\n",
              "    <tr>\n",
              "      <th>3</th>\n",
              "      <td>R1 - AM Lisboa</td>\n",
              "      <td>Lisboa</td>\n",
              "      <td>Amadora</td>\n",
              "      <td>R1 - AM Lisboa</td>\n",
              "      <td>LISBOA</td>\n",
              "      <td>LISBOA</td>\n",
              "      <td>110654</td>\n",
              "      <td>0.059847</td>\n",
              "    </tr>\n",
              "    <tr>\n",
              "      <th>4</th>\n",
              "      <td>R1 - AM Lisboa</td>\n",
              "      <td>Lisboa</td>\n",
              "      <td>Amadora</td>\n",
              "      <td>R1 - AM Lisboa</td>\n",
              "      <td>LISBOA</td>\n",
              "      <td>LISBOA</td>\n",
              "      <td>110633</td>\n",
              "      <td>0.052341</td>\n",
              "    </tr>\n",
              "  </tbody>\n",
              "</table>\n",
              "</div>"
            ],
            "text/plain": [
              "  Region_of_Origin  ... Demand_weight\n",
              "0   R1 - AM Lisboa  ...      0.307323\n",
              "1   R1 - AM Lisboa  ...      0.069997\n",
              "2   R1 - AM Lisboa  ...      0.066059\n",
              "3   R1 - AM Lisboa  ...      0.059847\n",
              "4   R1 - AM Lisboa  ...      0.052341\n",
              "\n",
              "[5 rows x 8 columns]"
            ]
          },
          "metadata": {
            "tags": []
          },
          "execution_count": 4
        }
      ]
    },
    {
      "cell_type": "code",
      "metadata": {
        "id": "sv-JmrdKlp-j"
      },
      "source": [
        "churn_od.to_csv('churd_od.csv')"
      ],
      "execution_count": null,
      "outputs": []
    },
    {
      "cell_type": "code",
      "metadata": {
        "colab": {
          "base_uri": "https://localhost:8080/",
          "height": 219
        },
        "id": "VqL4MSRQx4v_",
        "outputId": "17f23606-f3e8-4081-932b-48dca1519422"
      },
      "source": [
        "churn_up = pd.read_csv('https://wdl-data.fra1.digitaloceanspaces.com/pse/Churn_UsersProfile.txt',delimiter = '|', encoding = 'Latin-1')\n",
        "print(len(churn_up))\n",
        "churn_up.head()"
      ],
      "execution_count": null,
      "outputs": [
        {
          "output_type": "stream",
          "text": [
            "544\n"
          ],
          "name": "stdout"
        },
        {
          "output_type": "execute_result",
          "data": {
            "text/html": [
              "<div>\n",
              "<style scoped>\n",
              "    .dataframe tbody tr th:only-of-type {\n",
              "        vertical-align: middle;\n",
              "    }\n",
              "\n",
              "    .dataframe tbody tr th {\n",
              "        vertical-align: top;\n",
              "    }\n",
              "\n",
              "    .dataframe thead th {\n",
              "        text-align: right;\n",
              "    }\n",
              "</style>\n",
              "<table border=\"1\" class=\"dataframe\">\n",
              "  <thead>\n",
              "    <tr style=\"text-align: right;\">\n",
              "      <th></th>\n",
              "      <th>Region_of_Origin</th>\n",
              "      <th>District_of_Origin</th>\n",
              "      <th>County_of_Origin</th>\n",
              "      <th>Period</th>\n",
              "      <th>GenderDescription</th>\n",
              "      <th>AgeClassDescription</th>\n",
              "      <th>Average_BusUsers_per_Day</th>\n",
              "    </tr>\n",
              "  </thead>\n",
              "  <tbody>\n",
              "    <tr>\n",
              "      <th>0</th>\n",
              "      <td>R1 - AM Lisboa</td>\n",
              "      <td>Lisboa</td>\n",
              "      <td>Amadora</td>\n",
              "      <td>Sep-19 to Feb-20</td>\n",
              "      <td>Female</td>\n",
              "      <td>15-24</td>\n",
              "      <td>294.194206</td>\n",
              "    </tr>\n",
              "    <tr>\n",
              "      <th>1</th>\n",
              "      <td>R1 - AM Lisboa</td>\n",
              "      <td>Lisboa</td>\n",
              "      <td>Amadora</td>\n",
              "      <td>Sep-19 to Feb-20</td>\n",
              "      <td>Female</td>\n",
              "      <td>25-34</td>\n",
              "      <td>1081.652817</td>\n",
              "    </tr>\n",
              "    <tr>\n",
              "      <th>2</th>\n",
              "      <td>R1 - AM Lisboa</td>\n",
              "      <td>Lisboa</td>\n",
              "      <td>Amadora</td>\n",
              "      <td>Sep-19 to Feb-20</td>\n",
              "      <td>Female</td>\n",
              "      <td>35-44</td>\n",
              "      <td>235.836653</td>\n",
              "    </tr>\n",
              "    <tr>\n",
              "      <th>3</th>\n",
              "      <td>R1 - AM Lisboa</td>\n",
              "      <td>Lisboa</td>\n",
              "      <td>Amadora</td>\n",
              "      <td>Sep-19 to Feb-20</td>\n",
              "      <td>Female</td>\n",
              "      <td>45-54</td>\n",
              "      <td>840.951323</td>\n",
              "    </tr>\n",
              "    <tr>\n",
              "      <th>4</th>\n",
              "      <td>R1 - AM Lisboa</td>\n",
              "      <td>Lisboa</td>\n",
              "      <td>Amadora</td>\n",
              "      <td>Sep-19 to Feb-20</td>\n",
              "      <td>Female</td>\n",
              "      <td>55-64</td>\n",
              "      <td>1216.148092</td>\n",
              "    </tr>\n",
              "  </tbody>\n",
              "</table>\n",
              "</div>"
            ],
            "text/plain": [
              "  Region_of_Origin  ... Average_BusUsers_per_Day\n",
              "0   R1 - AM Lisboa  ...               294.194206\n",
              "1   R1 - AM Lisboa  ...              1081.652817\n",
              "2   R1 - AM Lisboa  ...               235.836653\n",
              "3   R1 - AM Lisboa  ...               840.951323\n",
              "4   R1 - AM Lisboa  ...              1216.148092\n",
              "\n",
              "[5 rows x 7 columns]"
            ]
          },
          "metadata": {
            "tags": []
          },
          "execution_count": 6
        }
      ]
    },
    {
      "cell_type": "code",
      "metadata": {
        "id": "Dkv0o8cMl0Ri"
      },
      "source": [
        "churn_up.to_csv('churn_up.csv')"
      ],
      "execution_count": null,
      "outputs": []
    },
    {
      "cell_type": "code",
      "metadata": {
        "colab": {
          "base_uri": "https://localhost:8080/",
          "height": 294
        },
        "id": "2-e0J4LAyzX5",
        "outputId": "91165ca1-c7d3-4ca0-dad2-1e107d9d5e4e"
      },
      "source": [
        "churn_up.describe()"
      ],
      "execution_count": null,
      "outputs": [
        {
          "output_type": "execute_result",
          "data": {
            "text/html": [
              "<div>\n",
              "<style scoped>\n",
              "    .dataframe tbody tr th:only-of-type {\n",
              "        vertical-align: middle;\n",
              "    }\n",
              "\n",
              "    .dataframe tbody tr th {\n",
              "        vertical-align: top;\n",
              "    }\n",
              "\n",
              "    .dataframe thead th {\n",
              "        text-align: right;\n",
              "    }\n",
              "</style>\n",
              "<table border=\"1\" class=\"dataframe\">\n",
              "  <thead>\n",
              "    <tr style=\"text-align: right;\">\n",
              "      <th></th>\n",
              "      <th>Average_BusUsers_per_Day</th>\n",
              "    </tr>\n",
              "  </thead>\n",
              "  <tbody>\n",
              "    <tr>\n",
              "      <th>count</th>\n",
              "      <td>544.000000</td>\n",
              "    </tr>\n",
              "    <tr>\n",
              "      <th>mean</th>\n",
              "      <td>1165.396638</td>\n",
              "    </tr>\n",
              "    <tr>\n",
              "      <th>std</th>\n",
              "      <td>3842.867736</td>\n",
              "    </tr>\n",
              "    <tr>\n",
              "      <th>min</th>\n",
              "      <td>5.514983</td>\n",
              "    </tr>\n",
              "    <tr>\n",
              "      <th>25%</th>\n",
              "      <td>158.801133</td>\n",
              "    </tr>\n",
              "    <tr>\n",
              "      <th>50%</th>\n",
              "      <td>475.677330</td>\n",
              "    </tr>\n",
              "    <tr>\n",
              "      <th>75%</th>\n",
              "      <td>990.064295</td>\n",
              "    </tr>\n",
              "    <tr>\n",
              "      <th>max</th>\n",
              "      <td>66882.208463</td>\n",
              "    </tr>\n",
              "  </tbody>\n",
              "</table>\n",
              "</div>"
            ],
            "text/plain": [
              "       Average_BusUsers_per_Day\n",
              "count                544.000000\n",
              "mean                1165.396638\n",
              "std                 3842.867736\n",
              "min                    5.514983\n",
              "25%                  158.801133\n",
              "50%                  475.677330\n",
              "75%                  990.064295\n",
              "max                66882.208463"
            ]
          },
          "metadata": {
            "tags": []
          },
          "execution_count": 8
        }
      ]
    },
    {
      "cell_type": "code",
      "metadata": {
        "colab": {
          "base_uri": "https://localhost:8080/",
          "height": 289
        },
        "id": "biIePSoBrxNm",
        "outputId": "31f22d9b-caa7-4622-fef9-0bf826e2618c"
      },
      "source": [
        "# We are seeing some counties having very high bus uses\n",
        "churn_up[churn_up['Average_BusUsers_per_Day']>10000]\n",
        "# All are in Porto, and all are 65+ age groups"
      ],
      "execution_count": null,
      "outputs": [
        {
          "output_type": "execute_result",
          "data": {
            "text/html": [
              "<div>\n",
              "<style scoped>\n",
              "    .dataframe tbody tr th:only-of-type {\n",
              "        vertical-align: middle;\n",
              "    }\n",
              "\n",
              "    .dataframe tbody tr th {\n",
              "        vertical-align: top;\n",
              "    }\n",
              "\n",
              "    .dataframe thead th {\n",
              "        text-align: right;\n",
              "    }\n",
              "</style>\n",
              "<table border=\"1\" class=\"dataframe\">\n",
              "  <thead>\n",
              "    <tr style=\"text-align: right;\">\n",
              "      <th></th>\n",
              "      <th>Region_of_Origin</th>\n",
              "      <th>District_of_Origin</th>\n",
              "      <th>County_of_Origin</th>\n",
              "      <th>Period</th>\n",
              "      <th>GenderDescription</th>\n",
              "      <th>AgeClassDescription</th>\n",
              "      <th>Average_BusUsers_per_Day</th>\n",
              "      <th>pre_post</th>\n",
              "    </tr>\n",
              "  </thead>\n",
              "  <tbody>\n",
              "    <tr>\n",
              "      <th>184</th>\n",
              "      <td>R2 - AM Porto</td>\n",
              "      <td>Porto</td>\n",
              "      <td>Gondomar</td>\n",
              "      <td>Sep-19 to Feb-20</td>\n",
              "      <td>Female</td>\n",
              "      <td>65+</td>\n",
              "      <td>66882.208463</td>\n",
              "      <td>pre</td>\n",
              "    </tr>\n",
              "    <tr>\n",
              "      <th>201</th>\n",
              "      <td>R2 - AM Porto</td>\n",
              "      <td>Porto</td>\n",
              "      <td>Maia</td>\n",
              "      <td>Sep-19 to Feb-20</td>\n",
              "      <td>Male</td>\n",
              "      <td>65+</td>\n",
              "      <td>38731.005027</td>\n",
              "      <td>pre</td>\n",
              "    </tr>\n",
              "    <tr>\n",
              "      <th>218</th>\n",
              "      <td>R2 - AM Porto</td>\n",
              "      <td>Porto</td>\n",
              "      <td>Porto</td>\n",
              "      <td>Sep-19 to Feb-20</td>\n",
              "      <td>Female</td>\n",
              "      <td>65+</td>\n",
              "      <td>11774.918453</td>\n",
              "      <td>pre</td>\n",
              "    </tr>\n",
              "    <tr>\n",
              "      <th>224</th>\n",
              "      <td>R2 - AM Porto</td>\n",
              "      <td>Porto</td>\n",
              "      <td>Porto</td>\n",
              "      <td>Sep-19 to Feb-20</td>\n",
              "      <td>Male</td>\n",
              "      <td>65+</td>\n",
              "      <td>13509.241837</td>\n",
              "      <td>pre</td>\n",
              "    </tr>\n",
              "    <tr>\n",
              "      <th>456</th>\n",
              "      <td>R2 - AM Porto</td>\n",
              "      <td>Porto</td>\n",
              "      <td>Gondomar</td>\n",
              "      <td>Sep-20 to Jan-21</td>\n",
              "      <td>Female</td>\n",
              "      <td>65+</td>\n",
              "      <td>34406.417961</td>\n",
              "      <td>post</td>\n",
              "    </tr>\n",
              "  </tbody>\n",
              "</table>\n",
              "</div>"
            ],
            "text/plain": [
              "    Region_of_Origin District_of_Origin  ... Average_BusUsers_per_Day pre_post\n",
              "184    R2 - AM Porto              Porto  ...             66882.208463      pre\n",
              "201    R2 - AM Porto              Porto  ...             38731.005027      pre\n",
              "218    R2 - AM Porto              Porto  ...             11774.918453      pre\n",
              "224    R2 - AM Porto              Porto  ...             13509.241837      pre\n",
              "456    R2 - AM Porto              Porto  ...             34406.417961     post\n",
              "\n",
              "[5 rows x 8 columns]"
            ]
          },
          "metadata": {
            "tags": []
          },
          "execution_count": 75
        }
      ]
    },
    {
      "cell_type": "markdown",
      "metadata": {
        "id": "XSFFa-bV9pKo"
      },
      "source": [
        "Plotting"
      ]
    },
    {
      "cell_type": "code",
      "metadata": {
        "colab": {
          "base_uri": "https://localhost:8080/",
          "height": 297
        },
        "id": "ZEFbbuAjLJsZ",
        "outputId": "e2e51d7b-e033-41ce-8524-11748c412671"
      },
      "source": [
        "sns.barplot(x=\"AgeClassDescription\",y=\"Average_BusUsers_per_Day\",data = churn_up,color='salmon')"
      ],
      "execution_count": null,
      "outputs": [
        {
          "output_type": "execute_result",
          "data": {
            "text/plain": [
              "<matplotlib.axes._subplots.AxesSubplot at 0x7f9f74d0d410>"
            ]
          },
          "metadata": {
            "tags": []
          },
          "execution_count": 9
        },
        {
          "output_type": "display_data",
          "data": {
            "image/png": "[encoded data removed]",
            "text/plain": [
              "<Figure size 432x288 with 1 Axes>"
            ]
          },
          "metadata": {
            "tags": [],
            "needs_background": "light"
          }
        }
      ]
    },
    {
      "cell_type": "code",
      "metadata": {
        "id": "MCOVqvDhvVAa"
      },
      "source": [
        "# As we can see, most of the users of public transportation come from 65+ age group\n",
        "# College going (15-24) is a bump in lower age groups, but lesser than expected from population data\n",
        "# Maybe because most of them live in hostels, and/or use cycling"
      ],
      "execution_count": null,
      "outputs": []
    },
    {
      "cell_type": "code",
      "metadata": {
        "id": "t-f0MDntzZq_",
        "colab": {
          "base_uri": "https://localhost:8080/",
          "height": 297
        },
        "outputId": "2c834a34-9bf9-462f-97c6-219e3c38edad"
      },
      "source": [
        "sns.barplot(x=\"AgeClassDescription\",y=\"Average_BusUsers_per_Day\",data = churn_up,hue=\"GenderDescription\",palette='Blues_r')"
      ],
      "execution_count": null,
      "outputs": [
        {
          "output_type": "execute_result",
          "data": {
            "text/plain": [
              "<matplotlib.axes._subplots.AxesSubplot at 0x7f9f747a9850>"
            ]
          },
          "metadata": {
            "tags": []
          },
          "execution_count": 10
        },
        {
          "output_type": "display_data",
          "data": {
            "image/png": "[encoded data removed]",
            "text/plain": [
              "<Figure size 432x288 with 1 Axes>"
            ]
          },
          "metadata": {
            "tags": [],
            "needs_background": "light"
          }
        }
      ]
    },
    {
      "cell_type": "code",
      "metadata": {
        "id": "lbuXtmVkvWox"
      },
      "source": [
        "# Gender ratio is more or less same across age groups, for using public transportation\n",
        "# More females in 65+ age group, might be correlated to higher life expantency of women compared to men"
      ],
      "execution_count": null,
      "outputs": []
    },
    {
      "cell_type": "code",
      "metadata": {
        "colab": {
          "base_uri": "https://localhost:8080/",
          "height": 297
        },
        "id": "5SfH1GfOGmTg",
        "outputId": "00ca7406-b831-4ffa-ebe1-4a41b2d0bb5a"
      },
      "source": [
        "sns.barplot(x=\"Period\",y=\"Average_BusUsers_per_Day\",data = churn_up)"
      ],
      "execution_count": null,
      "outputs": [
        {
          "output_type": "execute_result",
          "data": {
            "text/plain": [
              "<matplotlib.axes._subplots.AxesSubplot at 0x7f9f74268310>"
            ]
          },
          "metadata": {
            "tags": []
          },
          "execution_count": 11
        },
        {
          "output_type": "display_data",
          "data": {
            "image/png": "[encoded data removed]",
            "text/plain": [
              "<Figure size 432x288 with 1 Axes>"
            ]
          },
          "metadata": {
            "tags": [],
            "needs_background": "light"
          }
        }
      ]
    },
    {
      "cell_type": "code",
      "metadata": {
        "id": "7BOPBh4Rvdm6"
      },
      "source": [
        "# We haver overall less volume in post-pandemic period, than pre.\n",
        "# That can be because of 2nd waves in Portugal, in November 2020 and in January 2021\n",
        "# So this might introduce an overall bias in post vs pre comparison"
      ],
      "execution_count": null,
      "outputs": []
    },
    {
      "cell_type": "code",
      "metadata": {
        "colab": {
          "base_uri": "https://localhost:8080/"
        },
        "id": "QC6FUkULMZ7g",
        "outputId": "12f74bb7-528d-46c0-ea60-72f136bf4867"
      },
      "source": [
        "churn_up[\"County_of_Origin\"].unique()"
      ],
      "execution_count": null,
      "outputs": [
        {
          "output_type": "execute_result",
          "data": {
            "text/plain": [
              "array(['Amadora', 'Cascais', 'Lisboa', 'Loures', 'Mafra', 'Odivelas',\n",
              "       'Oeiras', 'Sintra', 'Vila Franca de Xira', 'Alcochete', 'Almada',\n",
              "       'Barreiro', 'Moita', 'Montijo', 'Palmela', 'Seixal', 'Sesimbra',\n",
              "       'Setúbal', 'Espinho', 'Oliveira de Azeméis',\n",
              "       'Santa Maria da Feira', 'Gondomar', 'Maia', 'Matosinhos',\n",
              "       'Paredes', 'Porto', 'Póvoa de Varzim', 'Santo Tirso', 'Trofa',\n",
              "       'Valongo', 'Vila do Conde', 'Vila Nova de Gaia', 'Arouca',\n",
              "       'São João da Madeira', 'Vale de Cambra'], dtype=object)"
            ]
          },
          "metadata": {
            "tags": []
          },
          "execution_count": 12
        }
      ]
    },
    {
      "cell_type": "code",
      "metadata": {
        "colab": {
          "base_uri": "https://localhost:8080/"
        },
        "id": "Uzr_2nnPPW_Y",
        "outputId": "338375a9-0f35-4d0a-ca00-91855ed7baf5"
      },
      "source": [
        "churn_up[\"Region_of_Origin\"].unique()"
      ],
      "execution_count": null,
      "outputs": [
        {
          "output_type": "execute_result",
          "data": {
            "text/plain": [
              "array(['R1 - AM Lisboa', 'R2 - AM Porto'], dtype=object)"
            ]
          },
          "metadata": {
            "tags": []
          },
          "execution_count": 13
        }
      ]
    },
    {
      "cell_type": "code",
      "metadata": {
        "colab": {
          "base_uri": "https://localhost:8080/"
        },
        "id": "oPe8A6TePb-I",
        "outputId": "55f1afcc-39e6-4d3f-9857-b755e494407a"
      },
      "source": [
        "churn_up[\"District_of_Origin\"].unique()"
      ],
      "execution_count": null,
      "outputs": [
        {
          "output_type": "execute_result",
          "data": {
            "text/plain": [
              "array(['Lisboa', 'Setúbal', 'Aveiro', 'Porto'], dtype=object)"
            ]
          },
          "metadata": {
            "tags": []
          },
          "execution_count": 14
        }
      ]
    },
    {
      "cell_type": "code",
      "metadata": {
        "colab": {
          "base_uri": "https://localhost:8080/",
          "height": 297
        },
        "id": "JISQDW_uP1E8",
        "outputId": "4c1852cb-7b83-42aa-8df5-90d6b297f4a7"
      },
      "source": [
        "sns.barplot(x=\"Region_of_Origin\",y=\"Average_BusUsers_per_Day\",data = churn_up)"
      ],
      "execution_count": null,
      "outputs": [
        {
          "output_type": "execute_result",
          "data": {
            "text/plain": [
              "<matplotlib.axes._subplots.AxesSubplot at 0x7f9f741ee310>"
            ]
          },
          "metadata": {
            "tags": []
          },
          "execution_count": 15
        },
        {
          "output_type": "display_data",
          "data": {
            "image/png": "[encoded data removed]",
            "text/plain": [
              "<Figure size 432x288 with 1 Axes>"
            ]
          },
          "metadata": {
            "tags": [],
            "needs_background": "light"
          }
        }
      ]
    },
    {
      "cell_type": "code",
      "metadata": {
        "id": "mdS1nV7kvp74"
      },
      "source": [
        "# Most of users of public transporation are from Porto, can be correlated with Porto region having higher population overall"
      ],
      "execution_count": null,
      "outputs": []
    },
    {
      "cell_type": "code",
      "metadata": {
        "colab": {
          "base_uri": "https://localhost:8080/",
          "height": 299
        },
        "id": "7JLwScfnPyvC",
        "outputId": "311aabb1-69b4-4aed-874f-ec94660756eb"
      },
      "source": [
        "sns.barplot(x=\"Region_of_Origin\",y=\"Average_BusUsers_per_Day\",data = churn_up,hue='GenderDescription')"
      ],
      "execution_count": null,
      "outputs": [
        {
          "output_type": "execute_result",
          "data": {
            "text/plain": [
              "<matplotlib.axes._subplots.AxesSubplot at 0x7f9f74273110>"
            ]
          },
          "metadata": {
            "tags": []
          },
          "execution_count": 16
        },
        {
          "output_type": "display_data",
          "data": {
            "image/png": "[encoded data removed]",
            "text/plain": [
              "<Figure size 432x288 with 1 Axes>"
            ]
          },
          "metadata": {
            "tags": [],
            "needs_background": "light"
          }
        }
      ]
    },
    {
      "cell_type": "code",
      "metadata": {
        "id": "U2GQwPZav9yt"
      },
      "source": [
        "# Porto having more female public transportation than Lisboa is interesting"
      ],
      "execution_count": null,
      "outputs": []
    },
    {
      "cell_type": "code",
      "metadata": {
        "colab": {
          "base_uri": "https://localhost:8080/",
          "height": 297
        },
        "id": "fbkkMYq_Pg9B",
        "outputId": "3d52746a-afd3-40d9-dd68-db561736ba0f"
      },
      "source": [
        "sns.barplot(x=\"Region_of_Origin\",y=\"Average_BusUsers_per_Day\",data = churn_up,hue='AgeClassDescription')"
      ],
      "execution_count": null,
      "outputs": [
        {
          "output_type": "execute_result",
          "data": {
            "text/plain": [
              "<matplotlib.axes._subplots.AxesSubplot at 0x7f9f741bc290>"
            ]
          },
          "metadata": {
            "tags": []
          },
          "execution_count": 17
        },
        {
          "output_type": "display_data",
          "data": {
            "image/png": "[encoded data removed]",
            "text/plain": [
              "<Figure size 432x288 with 1 Axes>"
            ]
          },
          "metadata": {
            "tags": [],
            "needs_background": "light"
          }
        }
      ]
    },
    {
      "cell_type": "code",
      "metadata": {
        "id": "AyOb3Rvovt7g"
      },
      "source": [
        "\n",
        "# Porto having mostly users from 65+ age group is interesting"
      ],
      "execution_count": null,
      "outputs": []
    },
    {
      "cell_type": "code",
      "metadata": {
        "colab": {
          "base_uri": "https://localhost:8080/"
        },
        "id": "uOCIkJLeuVQ3",
        "outputId": "27ea1107-804c-494e-8138-c7dd7269fb7b"
      },
      "source": [
        "churn_up.groupby(['Region_of_Origin','GenderDescription','AgeClassDescription'])['Average_BusUsers_per_Day'].mean().round()"
      ],
      "execution_count": null,
      "outputs": [
        {
          "output_type": "execute_result",
          "data": {
            "text/plain": [
              "Region_of_Origin  GenderDescription  AgeClassDescription\n",
              "R1 - AM Lisboa    Female             15-24                    741.0\n",
              "                                     25-34                    403.0\n",
              "                                     35-44                    479.0\n",
              "                                     45-54                    529.0\n",
              "                                     55-64                    903.0\n",
              "                                     65+                     2108.0\n",
              "                  Male               15-24                   1055.0\n",
              "                                     25-34                    585.0\n",
              "                                     35-44                    430.0\n",
              "                                     45-54                    558.0\n",
              "                                     55-64                    779.0\n",
              "                                     65+                     2600.0\n",
              "R2 - AM Porto     Female             15-24                    486.0\n",
              "                                     25-34                    482.0\n",
              "                                     35-44                    310.0\n",
              "                                     45-54                   1224.0\n",
              "                                     55-64                   1832.0\n",
              "                                     65+                    16082.0\n",
              "                  Male               15-24                   1317.0\n",
              "                                     25-34                    533.0\n",
              "                                     35-44                    385.0\n",
              "                                     45-54                    970.0\n",
              "                                     55-64                   1058.0\n",
              "                                     65+                     8556.0\n",
              "Name: Average_BusUsers_per_Day, dtype: float64"
            ]
          },
          "metadata": {
            "tags": []
          },
          "execution_count": 93
        }
      ]
    },
    {
      "cell_type": "code",
      "metadata": {
        "id": "gXhrFiEPPplm",
        "colab": {
          "base_uri": "https://localhost:8080/"
        },
        "outputId": "abda6f52-75eb-4e4c-ab3b-6018c565ffa0"
      },
      "source": [
        "churn_up.groupby(['Region_of_Origin','District_of_Origin','County_of_Origin'])['Period'].count().round()"
      ],
      "execution_count": null,
      "outputs": [
        {
          "output_type": "execute_result",
          "data": {
            "text/plain": [
              "Region_of_Origin  District_of_Origin  County_of_Origin    \n",
              "R1 - AM Lisboa    Lisboa              Amadora                 23\n",
              "                                      Cascais                 23\n",
              "                                      Lisboa                  24\n",
              "                                      Loures                  22\n",
              "                                      Mafra                   17\n",
              "                                      Odivelas                21\n",
              "                                      Oeiras                  23\n",
              "                                      Sintra                  24\n",
              "                                      Vila Franca de Xira     22\n",
              "                  Setúbal             Alcochete                6\n",
              "                                      Almada                  22\n",
              "                                      Barreiro                18\n",
              "                                      Moita                   13\n",
              "                                      Montijo                 14\n",
              "                                      Palmela                 15\n",
              "                                      Seixal                  23\n",
              "                                      Sesimbra                12\n",
              "                                      Setúbal                 17\n",
              "R2 - AM Porto     Aveiro              Arouca                   1\n",
              "                                      Espinho                  7\n",
              "                                      Oliveira de Azeméis      8\n",
              "                                      Santa Maria da Feira    16\n",
              "                                      São João da Madeira      3\n",
              "                                      Vale de Cambra           2\n",
              "                  Porto               Gondomar                23\n",
              "                                      Maia                    23\n",
              "                                      Matosinhos              20\n",
              "                                      Paredes                  7\n",
              "                                      Porto                   23\n",
              "                                      Póvoa de Varzim          9\n",
              "                                      Santo Tirso              6\n",
              "                                      Trofa                   10\n",
              "                                      Valongo                 17\n",
              "                                      Vila Nova de Gaia       21\n",
              "                                      Vila do Conde            9\n",
              "Name: Period, dtype: int64"
            ]
          },
          "metadata": {
            "tags": []
          },
          "execution_count": 18
        }
      ]
    },
    {
      "cell_type": "code",
      "metadata": {
        "id": "c47YfztIwCgd"
      },
      "source": [
        "# Women in Porto and 65+ age group, has very higher than usual public transportation uses\n"
      ],
      "execution_count": null,
      "outputs": []
    },
    {
      "cell_type": "markdown",
      "metadata": {
        "id": "s-qv2kvh-Y2y"
      },
      "source": [
        "\n",
        "# Modelling"
      ]
    },
    {
      "cell_type": "code",
      "metadata": {
        "colab": {
          "base_uri": "https://localhost:8080/"
        },
        "id": "Y5XFDS2ywigO",
        "outputId": "9a8d49a9-c8ed-4a08-b75f-41f1d3913185"
      },
      "source": [
        "# Pre vs post\n",
        "churn_up['Period'].unique()"
      ],
      "execution_count": null,
      "outputs": [
        {
          "output_type": "execute_result",
          "data": {
            "text/plain": [
              "array(['Sep-19 to Feb-20', 'Sep-20 to Jan-21'], dtype=object)"
            ]
          },
          "metadata": {
            "tags": []
          },
          "execution_count": 19
        }
      ]
    },
    {
      "cell_type": "code",
      "metadata": {
        "id": "YbzQJp0yw2P_"
      },
      "source": [
        "churn_up['pre_post'] = np.where(churn_up['Period']=='Sep-19 to Feb-20',\n",
        "                                'pre',\n",
        "                                'post')"
      ],
      "execution_count": null,
      "outputs": []
    },
    {
      "cell_type": "code",
      "metadata": {
        "colab": {
          "base_uri": "https://localhost:8080/",
          "height": 415
        },
        "id": "jUv-hLoYxIV_",
        "outputId": "1520e9a0-0602-4b3b-8c7e-7ec0210ee28c"
      },
      "source": [
        "# Agg at county level\n",
        "data = churn_up.groupby(['Region_of_Origin','District_of_Origin','County_of_Origin',\n",
        "                         'GenderDescription','AgeClassDescription','pre_post'])['Average_BusUsers_per_Day'].mean().reset_index()\n",
        "data"
      ],
      "execution_count": null,
      "outputs": [
        {
          "output_type": "execute_result",
          "data": {
            "text/html": [
              "<div>\n",
              "<style scoped>\n",
              "    .dataframe tbody tr th:only-of-type {\n",
              "        vertical-align: middle;\n",
              "    }\n",
              "\n",
              "    .dataframe tbody tr th {\n",
              "        vertical-align: top;\n",
              "    }\n",
              "\n",
              "    .dataframe thead th {\n",
              "        text-align: right;\n",
              "    }\n",
              "</style>\n",
              "<table border=\"1\" class=\"dataframe\">\n",
              "  <thead>\n",
              "    <tr style=\"text-align: right;\">\n",
              "      <th></th>\n",
              "      <th>Region_of_Origin</th>\n",
              "      <th>District_of_Origin</th>\n",
              "      <th>County_of_Origin</th>\n",
              "      <th>GenderDescription</th>\n",
              "      <th>AgeClassDescription</th>\n",
              "      <th>pre_post</th>\n",
              "      <th>Average_BusUsers_per_Day</th>\n",
              "    </tr>\n",
              "  </thead>\n",
              "  <tbody>\n",
              "    <tr>\n",
              "      <th>0</th>\n",
              "      <td>R1 - AM Lisboa</td>\n",
              "      <td>Lisboa</td>\n",
              "      <td>Amadora</td>\n",
              "      <td>Female</td>\n",
              "      <td>15-24</td>\n",
              "      <td>post</td>\n",
              "      <td>536.005174</td>\n",
              "    </tr>\n",
              "    <tr>\n",
              "      <th>1</th>\n",
              "      <td>R1 - AM Lisboa</td>\n",
              "      <td>Lisboa</td>\n",
              "      <td>Amadora</td>\n",
              "      <td>Female</td>\n",
              "      <td>15-24</td>\n",
              "      <td>pre</td>\n",
              "      <td>294.194206</td>\n",
              "    </tr>\n",
              "    <tr>\n",
              "      <th>2</th>\n",
              "      <td>R1 - AM Lisboa</td>\n",
              "      <td>Lisboa</td>\n",
              "      <td>Amadora</td>\n",
              "      <td>Female</td>\n",
              "      <td>25-34</td>\n",
              "      <td>post</td>\n",
              "      <td>408.068335</td>\n",
              "    </tr>\n",
              "    <tr>\n",
              "      <th>3</th>\n",
              "      <td>R1 - AM Lisboa</td>\n",
              "      <td>Lisboa</td>\n",
              "      <td>Amadora</td>\n",
              "      <td>Female</td>\n",
              "      <td>25-34</td>\n",
              "      <td>pre</td>\n",
              "      <td>1081.652817</td>\n",
              "    </tr>\n",
              "    <tr>\n",
              "      <th>4</th>\n",
              "      <td>R1 - AM Lisboa</td>\n",
              "      <td>Lisboa</td>\n",
              "      <td>Amadora</td>\n",
              "      <td>Female</td>\n",
              "      <td>35-44</td>\n",
              "      <td>post</td>\n",
              "      <td>478.337192</td>\n",
              "    </tr>\n",
              "    <tr>\n",
              "      <th>...</th>\n",
              "      <td>...</td>\n",
              "      <td>...</td>\n",
              "      <td>...</td>\n",
              "      <td>...</td>\n",
              "      <td>...</td>\n",
              "      <td>...</td>\n",
              "      <td>...</td>\n",
              "    </tr>\n",
              "    <tr>\n",
              "      <th>539</th>\n",
              "      <td>R2 - AM Porto</td>\n",
              "      <td>Porto</td>\n",
              "      <td>Vila do Conde</td>\n",
              "      <td>Female</td>\n",
              "      <td>45-54</td>\n",
              "      <td>post</td>\n",
              "      <td>76.844212</td>\n",
              "    </tr>\n",
              "    <tr>\n",
              "      <th>540</th>\n",
              "      <td>R2 - AM Porto</td>\n",
              "      <td>Porto</td>\n",
              "      <td>Vila do Conde</td>\n",
              "      <td>Male</td>\n",
              "      <td>25-34</td>\n",
              "      <td>post</td>\n",
              "      <td>13.155082</td>\n",
              "    </tr>\n",
              "    <tr>\n",
              "      <th>541</th>\n",
              "      <td>R2 - AM Porto</td>\n",
              "      <td>Porto</td>\n",
              "      <td>Vila do Conde</td>\n",
              "      <td>Male</td>\n",
              "      <td>35-44</td>\n",
              "      <td>post</td>\n",
              "      <td>17.975581</td>\n",
              "    </tr>\n",
              "    <tr>\n",
              "      <th>542</th>\n",
              "      <td>R2 - AM Porto</td>\n",
              "      <td>Porto</td>\n",
              "      <td>Vila do Conde</td>\n",
              "      <td>Male</td>\n",
              "      <td>45-54</td>\n",
              "      <td>pre</td>\n",
              "      <td>76.945089</td>\n",
              "    </tr>\n",
              "    <tr>\n",
              "      <th>543</th>\n",
              "      <td>R2 - AM Porto</td>\n",
              "      <td>Porto</td>\n",
              "      <td>Vila do Conde</td>\n",
              "      <td>Male</td>\n",
              "      <td>55-64</td>\n",
              "      <td>post</td>\n",
              "      <td>74.179387</td>\n",
              "    </tr>\n",
              "  </tbody>\n",
              "</table>\n",
              "<p>544 rows × 7 columns</p>\n",
              "</div>"
            ],
            "text/plain": [
              "    Region_of_Origin District_of_Origin  ... pre_post Average_BusUsers_per_Day\n",
              "0     R1 - AM Lisboa             Lisboa  ...     post               536.005174\n",
              "1     R1 - AM Lisboa             Lisboa  ...      pre               294.194206\n",
              "2     R1 - AM Lisboa             Lisboa  ...     post               408.068335\n",
              "3     R1 - AM Lisboa             Lisboa  ...      pre              1081.652817\n",
              "4     R1 - AM Lisboa             Lisboa  ...     post               478.337192\n",
              "..               ...                ...  ...      ...                      ...\n",
              "539    R2 - AM Porto              Porto  ...     post                76.844212\n",
              "540    R2 - AM Porto              Porto  ...     post                13.155082\n",
              "541    R2 - AM Porto              Porto  ...     post                17.975581\n",
              "542    R2 - AM Porto              Porto  ...      pre                76.945089\n",
              "543    R2 - AM Porto              Porto  ...     post                74.179387\n",
              "\n",
              "[544 rows x 7 columns]"
            ]
          },
          "metadata": {
            "tags": []
          },
          "execution_count": 21
        }
      ]
    },
    {
      "cell_type": "code",
      "metadata": {
        "colab": {
          "base_uri": "https://localhost:8080/",
          "height": 415
        },
        "id": "tJFZ7C39xTIh",
        "outputId": "03e825f7-53d4-42ea-b7ba-311d03a2aece"
      },
      "source": [
        "data_pivot = data.pivot_table(index = ['Region_of_Origin','District_of_Origin','County_of_Origin',\n",
        "                         'GenderDescription','AgeClassDescription'],\n",
        "                         columns = 'pre_post',\n",
        "                         values = 'Average_BusUsers_per_Day').reset_index()\n",
        "data_pivot['post'] = data_pivot['post'].fillna(0)\n",
        "data_pivot = data_pivot[data_pivot['pre']>0].copy()\n",
        "data_pivot['reduction_ratio'] = np.round((data_pivot['pre']-data_pivot['post'])/data_pivot['pre'],2)\n",
        "data_pivot.sort_values(by = 'reduction_ratio')"
      ],
      "execution_count": null,
      "outputs": [
        {
          "output_type": "execute_result",
          "data": {
            "text/html": [
              "<div>\n",
              "<style scoped>\n",
              "    .dataframe tbody tr th:only-of-type {\n",
              "        vertical-align: middle;\n",
              "    }\n",
              "\n",
              "    .dataframe tbody tr th {\n",
              "        vertical-align: top;\n",
              "    }\n",
              "\n",
              "    .dataframe thead th {\n",
              "        text-align: right;\n",
              "    }\n",
              "</style>\n",
              "<table border=\"1\" class=\"dataframe\">\n",
              "  <thead>\n",
              "    <tr style=\"text-align: right;\">\n",
              "      <th>pre_post</th>\n",
              "      <th>Region_of_Origin</th>\n",
              "      <th>District_of_Origin</th>\n",
              "      <th>County_of_Origin</th>\n",
              "      <th>GenderDescription</th>\n",
              "      <th>AgeClassDescription</th>\n",
              "      <th>post</th>\n",
              "      <th>pre</th>\n",
              "      <th>reduction_ratio</th>\n",
              "    </tr>\n",
              "  </thead>\n",
              "  <tbody>\n",
              "    <tr>\n",
              "      <th>160</th>\n",
              "      <td>R1 - AM Lisboa</td>\n",
              "      <td>Setúbal</td>\n",
              "      <td>Seixal</td>\n",
              "      <td>Male</td>\n",
              "      <td>15-24</td>\n",
              "      <td>1631.340763</td>\n",
              "      <td>37.697725</td>\n",
              "      <td>-42.27</td>\n",
              "    </tr>\n",
              "    <tr>\n",
              "      <th>114</th>\n",
              "      <td>R1 - AM Lisboa</td>\n",
              "      <td>Setúbal</td>\n",
              "      <td>Almada</td>\n",
              "      <td>Male</td>\n",
              "      <td>25-34</td>\n",
              "      <td>497.588139</td>\n",
              "      <td>17.528597</td>\n",
              "      <td>-27.39</td>\n",
              "    </tr>\n",
              "    <tr>\n",
              "      <th>69</th>\n",
              "      <td>R1 - AM Lisboa</td>\n",
              "      <td>Lisboa</td>\n",
              "      <td>Oeiras</td>\n",
              "      <td>Female</td>\n",
              "      <td>25-34</td>\n",
              "      <td>447.437221</td>\n",
              "      <td>21.863276</td>\n",
              "      <td>-19.47</td>\n",
              "    </tr>\n",
              "    <tr>\n",
              "      <th>297</th>\n",
              "      <td>R2 - AM Porto</td>\n",
              "      <td>Porto</td>\n",
              "      <td>Vila Nova de Gaia</td>\n",
              "      <td>Male</td>\n",
              "      <td>55-64</td>\n",
              "      <td>374.627538</td>\n",
              "      <td>21.943108</td>\n",
              "      <td>-16.07</td>\n",
              "    </tr>\n",
              "    <tr>\n",
              "      <th>282</th>\n",
              "      <td>R2 - AM Porto</td>\n",
              "      <td>Porto</td>\n",
              "      <td>Valongo</td>\n",
              "      <td>Male</td>\n",
              "      <td>25-34</td>\n",
              "      <td>366.664832</td>\n",
              "      <td>27.625672</td>\n",
              "      <td>-12.27</td>\n",
              "    </tr>\n",
              "    <tr>\n",
              "      <th>...</th>\n",
              "      <td>...</td>\n",
              "      <td>...</td>\n",
              "      <td>...</td>\n",
              "      <td>...</td>\n",
              "      <td>...</td>\n",
              "      <td>...</td>\n",
              "      <td>...</td>\n",
              "      <td>...</td>\n",
              "    </tr>\n",
              "    <tr>\n",
              "      <th>245</th>\n",
              "      <td>R2 - AM Porto</td>\n",
              "      <td>Porto</td>\n",
              "      <td>Paredes</td>\n",
              "      <td>Male</td>\n",
              "      <td>25-34</td>\n",
              "      <td>0.000000</td>\n",
              "      <td>274.555628</td>\n",
              "      <td>1.00</td>\n",
              "    </tr>\n",
              "    <tr>\n",
              "      <th>51</th>\n",
              "      <td>R1 - AM Lisboa</td>\n",
              "      <td>Lisboa</td>\n",
              "      <td>Mafra</td>\n",
              "      <td>Male</td>\n",
              "      <td>15-24</td>\n",
              "      <td>0.000000</td>\n",
              "      <td>116.974878</td>\n",
              "      <td>1.00</td>\n",
              "    </tr>\n",
              "    <tr>\n",
              "      <th>188</th>\n",
              "      <td>R2 - AM Porto</td>\n",
              "      <td>Aveiro</td>\n",
              "      <td>Oliveira de Azeméis</td>\n",
              "      <td>Female</td>\n",
              "      <td>25-34</td>\n",
              "      <td>0.000000</td>\n",
              "      <td>30.498730</td>\n",
              "      <td>1.00</td>\n",
              "    </tr>\n",
              "    <tr>\n",
              "      <th>125</th>\n",
              "      <td>R1 - AM Lisboa</td>\n",
              "      <td>Setúbal</td>\n",
              "      <td>Barreiro</td>\n",
              "      <td>Male</td>\n",
              "      <td>25-34</td>\n",
              "      <td>0.000000</td>\n",
              "      <td>250.727837</td>\n",
              "      <td>1.00</td>\n",
              "    </tr>\n",
              "    <tr>\n",
              "      <th>303</th>\n",
              "      <td>R2 - AM Porto</td>\n",
              "      <td>Porto</td>\n",
              "      <td>Vila do Conde</td>\n",
              "      <td>Male</td>\n",
              "      <td>45-54</td>\n",
              "      <td>0.000000</td>\n",
              "      <td>76.945089</td>\n",
              "      <td>1.00</td>\n",
              "    </tr>\n",
              "  </tbody>\n",
              "</table>\n",
              "<p>255 rows × 8 columns</p>\n",
              "</div>"
            ],
            "text/plain": [
              "pre_post Region_of_Origin District_of_Origin  ...         pre reduction_ratio\n",
              "160        R1 - AM Lisboa            Setúbal  ...   37.697725          -42.27\n",
              "114        R1 - AM Lisboa            Setúbal  ...   17.528597          -27.39\n",
              "69         R1 - AM Lisboa             Lisboa  ...   21.863276          -19.47\n",
              "297         R2 - AM Porto              Porto  ...   21.943108          -16.07\n",
              "282         R2 - AM Porto              Porto  ...   27.625672          -12.27\n",
              "..                    ...                ...  ...         ...             ...\n",
              "245         R2 - AM Porto              Porto  ...  274.555628            1.00\n",
              "51         R1 - AM Lisboa             Lisboa  ...  116.974878            1.00\n",
              "188         R2 - AM Porto             Aveiro  ...   30.498730            1.00\n",
              "125        R1 - AM Lisboa            Setúbal  ...  250.727837            1.00\n",
              "303         R2 - AM Porto              Porto  ...   76.945089            1.00\n",
              "\n",
              "[255 rows x 8 columns]"
            ]
          },
          "metadata": {
            "tags": []
          },
          "execution_count": 49
        }
      ]
    },
    {
      "cell_type": "code",
      "metadata": {
        "id": "4UdfCxgEpRAu"
      },
      "source": [
        "# Reduction ratio is our churn metric, for this problem statement\n",
        "# churn ratio = reduction ratio = (pre-post)/post\n",
        "# >0 means churn\n",
        "# More positive, more churn"
      ],
      "execution_count": null,
      "outputs": []
    },
    {
      "cell_type": "code",
      "metadata": {
        "colab": {
          "base_uri": "https://localhost:8080/"
        },
        "id": "ki0G8xbQyOY-",
        "outputId": "e087e050-2625-4657-a031-fbe4800605aa"
      },
      "source": [
        "data_pivot.groupby(['GenderDescription'])['reduction_ratio'].mean()"
      ],
      "execution_count": null,
      "outputs": [
        {
          "output_type": "execute_result",
          "data": {
            "text/plain": [
              "GenderDescription\n",
              "Female    0.009055\n",
              "Male     -0.545078\n",
              "Name: reduction_ratio, dtype: float64"
            ]
          },
          "metadata": {
            "tags": []
          },
          "execution_count": 50
        }
      ]
    },
    {
      "cell_type": "code",
      "metadata": {
        "colab": {
          "base_uri": "https://localhost:8080/"
        },
        "id": "8eX0fTUEyrx0",
        "outputId": "2466c160-ee3c-41b2-ddd0-1326566143d2"
      },
      "source": [
        "data_pivot.groupby(['AgeClassDescription'])['reduction_ratio'].mean()"
      ],
      "execution_count": null,
      "outputs": [
        {
          "output_type": "execute_result",
          "data": {
            "text/plain": [
              "AgeClassDescription\n",
              "15-24   -1.129697\n",
              "25-34   -0.757917\n",
              "35-44    0.126167\n",
              "45-54    0.329000\n",
              "55-64   -0.512368\n",
              "65+      0.018846\n",
              "Name: reduction_ratio, dtype: float64"
            ]
          },
          "metadata": {
            "tags": []
          },
          "execution_count": 51
        }
      ]
    },
    {
      "cell_type": "code",
      "metadata": {
        "colab": {
          "base_uri": "https://localhost:8080/"
        },
        "id": "EyXCBvYcvQpL",
        "outputId": "646d9505-39cf-420d-b964-e6d202522685"
      },
      "source": [
        "data_pivot.groupby(['GenderDescription','AgeClassDescription'])['reduction_ratio'].mean().round(2)"
      ],
      "execution_count": null,
      "outputs": [
        {
          "output_type": "execute_result",
          "data": {
            "text/plain": [
              "GenderDescription  AgeClassDescription\n",
              "Female             15-24                  0.13\n",
              "                   25-34                 -0.26\n",
              "                   35-44                  0.17\n",
              "                   45-54                  0.31\n",
              "                   55-64                 -0.26\n",
              "                   65+                   -0.23\n",
              "Male               15-24                 -2.32\n",
              "                   25-34                 -1.30\n",
              "                   35-44                  0.08\n",
              "                   45-54                  0.35\n",
              "                   55-64                 -0.70\n",
              "                   65+                    0.31\n",
              "Name: reduction_ratio, dtype: float64"
            ]
          },
          "metadata": {
            "tags": []
          },
          "execution_count": 123
        }
      ]
    },
    {
      "cell_type": "code",
      "metadata": {
        "id": "WWQlAOFivgS-"
      },
      "source": [
        "# Male but 65+ age grouping are churning but not the female 65+, is interesting"
      ],
      "execution_count": null,
      "outputs": []
    },
    {
      "cell_type": "code",
      "metadata": {
        "colab": {
          "base_uri": "https://localhost:8080/"
        },
        "id": "jNmH-eQOvyiK",
        "outputId": "b315e565-cc21-4f97-cb97-380362a3be2d"
      },
      "source": [
        "data_pivot.groupby(['Region_of_Origin','GenderDescription','AgeClassDescription'])['reduction_ratio'].mean().round(2)"
      ],
      "execution_count": null,
      "outputs": [
        {
          "output_type": "execute_result",
          "data": {
            "text/plain": [
              "Region_of_Origin  GenderDescription  AgeClassDescription\n",
              "R1 - AM Lisboa    Female             15-24                  0.20\n",
              "                                     25-34                 -0.86\n",
              "                                     35-44                  0.06\n",
              "                                     45-54                  0.28\n",
              "                                     55-64                  0.13\n",
              "                                     65+                   -0.27\n",
              "                  Male               15-24                 -4.30\n",
              "                                     25-34                 -1.41\n",
              "                                     35-44                 -0.04\n",
              "                                     45-54                  0.29\n",
              "                                     55-64                  0.00\n",
              "                                     65+                    0.22\n",
              "R2 - AM Porto     Female             15-24                 -0.07\n",
              "                                     25-34                  0.65\n",
              "                                     35-44                  0.29\n",
              "                                     45-54                  0.39\n",
              "                                     55-64                 -1.41\n",
              "                                     65+                   -0.12\n",
              "                  Male               15-24                 -0.09\n",
              "                                     25-34                 -1.10\n",
              "                                     35-44                  0.26\n",
              "                                     45-54                  0.46\n",
              "                                     55-64                 -2.56\n",
              "                                     65+                    0.50\n",
              "Name: reduction_ratio, dtype: float64"
            ]
          },
          "metadata": {
            "tags": []
          },
          "execution_count": 128
        }
      ]
    },
    {
      "cell_type": "code",
      "metadata": {
        "id": "2KeLxCU3wCeX"
      },
      "source": [
        "# In Lisboa, Female 15-24 are churning\n",
        "# But in Porto, Female 25-34 are churning\n",
        "\n",
        "# These are specific region insights"
      ],
      "execution_count": null,
      "outputs": []
    },
    {
      "cell_type": "markdown",
      "metadata": {
        "id": "HSfnDlMVADFc"
      },
      "source": [
        "Baselline"
      ]
    },
    {
      "cell_type": "code",
      "metadata": {
        "id": "bvBpbUCV85Az"
      },
      "source": [
        "#from sklearn.ensemble import RandomForestRegressor\n",
        "from sklearn.tree import DecisionTreeRegressor"
      ],
      "execution_count": null,
      "outputs": []
    },
    {
      "cell_type": "code",
      "metadata": {
        "colab": {
          "base_uri": "https://localhost:8080/"
        },
        "id": "eydu_B0AASDh",
        "outputId": "e9f9e76b-bc81-4334-8582-d74c4bd5dec5"
      },
      "source": [
        "#model = RandomForestRegressor(n_estimators = 10, max_depth = 5)\n",
        "model = DecisionTreeRegressor(max_depth = 5)\n",
        "model"
      ],
      "execution_count": null,
      "outputs": [
        {
          "output_type": "execute_result",
          "data": {
            "text/plain": [
              "DecisionTreeRegressor(ccp_alpha=0.0, criterion='mse', max_depth=5,\n",
              "                      max_features=None, max_leaf_nodes=None,\n",
              "                      min_impurity_decrease=0.0, min_impurity_split=None,\n",
              "                      min_samples_leaf=1, min_samples_split=2,\n",
              "                      min_weight_fraction_leaf=0.0, presort='deprecated',\n",
              "                      random_state=None, splitter='best')"
            ]
          },
          "metadata": {
            "tags": []
          },
          "execution_count": 53
        }
      ]
    },
    {
      "cell_type": "code",
      "metadata": {
        "id": "xHgU_VHFBjJr",
        "colab": {
          "base_uri": "https://localhost:8080/",
          "height": 453
        },
        "outputId": "e6ed4a35-b44c-444d-afc2-92e9f92449c5"
      },
      "source": [
        "data_pivot['GenderDescription_enc'] = np.where(data_pivot['GenderDescription']=='Male',1,0)\n",
        "data_pivot['AgeClassDescription_enc'] = data['AgeClassDescription'].map({'15-24':1,\n",
        "                                                                         '25-34':1,\n",
        "                                                                         '35-44':2,\n",
        "                                                                         '45-54':2,\n",
        "                                                                         '55-64':3,\n",
        "                                                                         '65+':3})\n",
        "for i in data_pivot['AgeClassDescription'].unique():\n",
        "  data_pivot[i] = np.where(data_pivot['AgeClassDescription']==i,1,0)\n",
        "#data_pivot = data_pivot.drop(['65+'],axis = 1)\n",
        "data_pivot"
      ],
      "execution_count": null,
      "outputs": [
        {
          "output_type": "execute_result",
          "data": {
            "text/html": [
              "<div>\n",
              "<style scoped>\n",
              "    .dataframe tbody tr th:only-of-type {\n",
              "        vertical-align: middle;\n",
              "    }\n",
              "\n",
              "    .dataframe tbody tr th {\n",
              "        vertical-align: top;\n",
              "    }\n",
              "\n",
              "    .dataframe thead th {\n",
              "        text-align: right;\n",
              "    }\n",
              "</style>\n",
              "<table border=\"1\" class=\"dataframe\">\n",
              "  <thead>\n",
              "    <tr style=\"text-align: right;\">\n",
              "      <th>pre_post</th>\n",
              "      <th>Region_of_Origin</th>\n",
              "      <th>District_of_Origin</th>\n",
              "      <th>County_of_Origin</th>\n",
              "      <th>GenderDescription</th>\n",
              "      <th>AgeClassDescription</th>\n",
              "      <th>post</th>\n",
              "      <th>pre</th>\n",
              "      <th>reduction_ratio</th>\n",
              "      <th>GenderDescription_enc</th>\n",
              "      <th>AgeClassDescription_enc</th>\n",
              "      <th>15-24</th>\n",
              "      <th>25-34</th>\n",
              "      <th>35-44</th>\n",
              "      <th>45-54</th>\n",
              "      <th>55-64</th>\n",
              "      <th>65+</th>\n",
              "    </tr>\n",
              "  </thead>\n",
              "  <tbody>\n",
              "    <tr>\n",
              "      <th>0</th>\n",
              "      <td>R1 - AM Lisboa</td>\n",
              "      <td>Lisboa</td>\n",
              "      <td>Amadora</td>\n",
              "      <td>Female</td>\n",
              "      <td>15-24</td>\n",
              "      <td>536.005174</td>\n",
              "      <td>294.194206</td>\n",
              "      <td>-0.82</td>\n",
              "      <td>0</td>\n",
              "      <td>1</td>\n",
              "      <td>1</td>\n",
              "      <td>0</td>\n",
              "      <td>0</td>\n",
              "      <td>0</td>\n",
              "      <td>0</td>\n",
              "      <td>0</td>\n",
              "    </tr>\n",
              "    <tr>\n",
              "      <th>1</th>\n",
              "      <td>R1 - AM Lisboa</td>\n",
              "      <td>Lisboa</td>\n",
              "      <td>Amadora</td>\n",
              "      <td>Female</td>\n",
              "      <td>25-34</td>\n",
              "      <td>408.068335</td>\n",
              "      <td>1081.652817</td>\n",
              "      <td>0.62</td>\n",
              "      <td>0</td>\n",
              "      <td>1</td>\n",
              "      <td>0</td>\n",
              "      <td>1</td>\n",
              "      <td>0</td>\n",
              "      <td>0</td>\n",
              "      <td>0</td>\n",
              "      <td>0</td>\n",
              "    </tr>\n",
              "    <tr>\n",
              "      <th>2</th>\n",
              "      <td>R1 - AM Lisboa</td>\n",
              "      <td>Lisboa</td>\n",
              "      <td>Amadora</td>\n",
              "      <td>Female</td>\n",
              "      <td>35-44</td>\n",
              "      <td>478.337192</td>\n",
              "      <td>235.836653</td>\n",
              "      <td>-1.03</td>\n",
              "      <td>0</td>\n",
              "      <td>1</td>\n",
              "      <td>0</td>\n",
              "      <td>0</td>\n",
              "      <td>1</td>\n",
              "      <td>0</td>\n",
              "      <td>0</td>\n",
              "      <td>0</td>\n",
              "    </tr>\n",
              "    <tr>\n",
              "      <th>3</th>\n",
              "      <td>R1 - AM Lisboa</td>\n",
              "      <td>Lisboa</td>\n",
              "      <td>Amadora</td>\n",
              "      <td>Female</td>\n",
              "      <td>45-54</td>\n",
              "      <td>571.192813</td>\n",
              "      <td>840.951323</td>\n",
              "      <td>0.32</td>\n",
              "      <td>0</td>\n",
              "      <td>1</td>\n",
              "      <td>0</td>\n",
              "      <td>0</td>\n",
              "      <td>0</td>\n",
              "      <td>1</td>\n",
              "      <td>0</td>\n",
              "      <td>0</td>\n",
              "    </tr>\n",
              "    <tr>\n",
              "      <th>4</th>\n",
              "      <td>R1 - AM Lisboa</td>\n",
              "      <td>Lisboa</td>\n",
              "      <td>Amadora</td>\n",
              "      <td>Female</td>\n",
              "      <td>55-64</td>\n",
              "      <td>741.072367</td>\n",
              "      <td>1216.148092</td>\n",
              "      <td>0.39</td>\n",
              "      <td>0</td>\n",
              "      <td>2</td>\n",
              "      <td>0</td>\n",
              "      <td>0</td>\n",
              "      <td>0</td>\n",
              "      <td>0</td>\n",
              "      <td>1</td>\n",
              "      <td>0</td>\n",
              "    </tr>\n",
              "    <tr>\n",
              "      <th>...</th>\n",
              "      <td>...</td>\n",
              "      <td>...</td>\n",
              "      <td>...</td>\n",
              "      <td>...</td>\n",
              "      <td>...</td>\n",
              "      <td>...</td>\n",
              "      <td>...</td>\n",
              "      <td>...</td>\n",
              "      <td>...</td>\n",
              "      <td>...</td>\n",
              "      <td>...</td>\n",
              "      <td>...</td>\n",
              "      <td>...</td>\n",
              "      <td>...</td>\n",
              "      <td>...</td>\n",
              "      <td>...</td>\n",
              "    </tr>\n",
              "    <tr>\n",
              "      <th>296</th>\n",
              "      <td>R2 - AM Porto</td>\n",
              "      <td>Porto</td>\n",
              "      <td>Vila Nova de Gaia</td>\n",
              "      <td>Male</td>\n",
              "      <td>45-54</td>\n",
              "      <td>1443.335763</td>\n",
              "      <td>1788.376244</td>\n",
              "      <td>0.19</td>\n",
              "      <td>1</td>\n",
              "      <td>3</td>\n",
              "      <td>0</td>\n",
              "      <td>0</td>\n",
              "      <td>0</td>\n",
              "      <td>1</td>\n",
              "      <td>0</td>\n",
              "      <td>0</td>\n",
              "    </tr>\n",
              "    <tr>\n",
              "      <th>297</th>\n",
              "      <td>R2 - AM Porto</td>\n",
              "      <td>Porto</td>\n",
              "      <td>Vila Nova de Gaia</td>\n",
              "      <td>Male</td>\n",
              "      <td>55-64</td>\n",
              "      <td>374.627538</td>\n",
              "      <td>21.943108</td>\n",
              "      <td>-16.07</td>\n",
              "      <td>1</td>\n",
              "      <td>3</td>\n",
              "      <td>0</td>\n",
              "      <td>0</td>\n",
              "      <td>0</td>\n",
              "      <td>0</td>\n",
              "      <td>1</td>\n",
              "      <td>0</td>\n",
              "    </tr>\n",
              "    <tr>\n",
              "      <th>298</th>\n",
              "      <td>R2 - AM Porto</td>\n",
              "      <td>Porto</td>\n",
              "      <td>Vila do Conde</td>\n",
              "      <td>Female</td>\n",
              "      <td>25-34</td>\n",
              "      <td>283.342437</td>\n",
              "      <td>335.380123</td>\n",
              "      <td>0.16</td>\n",
              "      <td>0</td>\n",
              "      <td>3</td>\n",
              "      <td>0</td>\n",
              "      <td>1</td>\n",
              "      <td>0</td>\n",
              "      <td>0</td>\n",
              "      <td>0</td>\n",
              "      <td>0</td>\n",
              "    </tr>\n",
              "    <tr>\n",
              "      <th>299</th>\n",
              "      <td>R2 - AM Porto</td>\n",
              "      <td>Porto</td>\n",
              "      <td>Vila do Conde</td>\n",
              "      <td>Female</td>\n",
              "      <td>35-44</td>\n",
              "      <td>9.758835</td>\n",
              "      <td>144.469939</td>\n",
              "      <td>0.93</td>\n",
              "      <td>0</td>\n",
              "      <td>1</td>\n",
              "      <td>0</td>\n",
              "      <td>0</td>\n",
              "      <td>1</td>\n",
              "      <td>0</td>\n",
              "      <td>0</td>\n",
              "      <td>0</td>\n",
              "    </tr>\n",
              "    <tr>\n",
              "      <th>303</th>\n",
              "      <td>R2 - AM Porto</td>\n",
              "      <td>Porto</td>\n",
              "      <td>Vila do Conde</td>\n",
              "      <td>Male</td>\n",
              "      <td>45-54</td>\n",
              "      <td>0.000000</td>\n",
              "      <td>76.945089</td>\n",
              "      <td>1.00</td>\n",
              "      <td>1</td>\n",
              "      <td>2</td>\n",
              "      <td>0</td>\n",
              "      <td>0</td>\n",
              "      <td>0</td>\n",
              "      <td>1</td>\n",
              "      <td>0</td>\n",
              "      <td>0</td>\n",
              "    </tr>\n",
              "  </tbody>\n",
              "</table>\n",
              "<p>255 rows × 16 columns</p>\n",
              "</div>"
            ],
            "text/plain": [
              "pre_post Region_of_Origin District_of_Origin  ... 55-64 65+\n",
              "0          R1 - AM Lisboa             Lisboa  ...     0   0\n",
              "1          R1 - AM Lisboa             Lisboa  ...     0   0\n",
              "2          R1 - AM Lisboa             Lisboa  ...     0   0\n",
              "3          R1 - AM Lisboa             Lisboa  ...     0   0\n",
              "4          R1 - AM Lisboa             Lisboa  ...     1   0\n",
              "..                    ...                ...  ...   ...  ..\n",
              "296         R2 - AM Porto              Porto  ...     0   0\n",
              "297         R2 - AM Porto              Porto  ...     1   0\n",
              "298         R2 - AM Porto              Porto  ...     0   0\n",
              "299         R2 - AM Porto              Porto  ...     0   0\n",
              "303         R2 - AM Porto              Porto  ...     0   0\n",
              "\n",
              "[255 rows x 16 columns]"
            ]
          },
          "metadata": {
            "tags": []
          },
          "execution_count": 54
        }
      ]
    },
    {
      "cell_type": "code",
      "metadata": {
        "colab": {
          "base_uri": "https://localhost:8080/"
        },
        "id": "LeEKizs3BADk",
        "outputId": "84e828ee-dd0e-48fc-d8bd-f873f350ad13"
      },
      "source": [
        "y = data_pivot['reduction_ratio']\n",
        "#X = data_pivot[['GenderDescription_enc','AgeClassDescription_enc']]\n",
        "X = data_pivot[['GenderDescription_enc','15-24','25-34','35-44','45-54','55-64']]\n",
        "X.shape,y.shape"
      ],
      "execution_count": null,
      "outputs": [
        {
          "output_type": "execute_result",
          "data": {
            "text/plain": [
              "((255, 6), (255,))"
            ]
          },
          "metadata": {
            "tags": []
          },
          "execution_count": 55
        }
      ]
    },
    {
      "cell_type": "code",
      "metadata": {
        "colab": {
          "base_uri": "https://localhost:8080/"
        },
        "id": "QTcmuK3kBND4",
        "outputId": "ff920317-d30a-461d-e7aa-a42306f37d0e"
      },
      "source": [
        "model.fit(X,y)"
      ],
      "execution_count": null,
      "outputs": [
        {
          "output_type": "execute_result",
          "data": {
            "text/plain": [
              "DecisionTreeRegressor(ccp_alpha=0.0, criterion='mse', max_depth=5,\n",
              "                      max_features=None, max_leaf_nodes=None,\n",
              "                      min_impurity_decrease=0.0, min_impurity_split=None,\n",
              "                      min_samples_leaf=1, min_samples_split=2,\n",
              "                      min_weight_fraction_leaf=0.0, presort='deprecated',\n",
              "                      random_state=None, splitter='best')"
            ]
          },
          "metadata": {
            "tags": []
          },
          "execution_count": 56
        }
      ]
    },
    {
      "cell_type": "code",
      "metadata": {
        "colab": {
          "base_uri": "https://localhost:8080/"
        },
        "id": "T8sycFpBBP5g",
        "outputId": "5c788dfd-029d-4c2b-85a0-f53490cfb143"
      },
      "source": [
        "y_pred = model.predict(X)\n",
        "len(y_pred)"
      ],
      "execution_count": null,
      "outputs": [
        {
          "output_type": "execute_result",
          "data": {
            "text/plain": [
              "255"
            ]
          },
          "metadata": {
            "tags": []
          },
          "execution_count": 57
        }
      ]
    },
    {
      "cell_type": "code",
      "metadata": {
        "id": "tQh5eyaiDQY4"
      },
      "source": [
        "from sklearn.metrics import r2_score"
      ],
      "execution_count": null,
      "outputs": []
    },
    {
      "cell_type": "code",
      "metadata": {
        "colab": {
          "base_uri": "https://localhost:8080/"
        },
        "id": "s-B7pevoEAMD",
        "outputId": "e7326a9e-13d4-4a42-8578-3d6b0f51f468"
      },
      "source": [
        "r2_score(y, y_pred)"
      ],
      "execution_count": null,
      "outputs": [
        {
          "output_type": "execute_result",
          "data": {
            "text/plain": [
              "0.037446794440671005"
            ]
          },
          "metadata": {
            "tags": []
          },
          "execution_count": 59
        }
      ]
    },
    {
      "cell_type": "markdown",
      "metadata": {
        "id": "9LVWOzY6nLDq"
      },
      "source": [
        "Interpretable Linear Regression"
      ]
    },
    {
      "cell_type": "code",
      "metadata": {
        "id": "f3F6Z_RHEBBm"
      },
      "source": [
        "import statsmodels.api as sm"
      ],
      "execution_count": null,
      "outputs": []
    },
    {
      "cell_type": "code",
      "metadata": {
        "colab": {
          "base_uri": "https://localhost:8080/",
          "height": 219
        },
        "id": "Q3Pv-cW7GZRn",
        "outputId": "e00914be-da3b-44ba-dff7-4a87acbab9b7"
      },
      "source": [
        "X_constant = sm.add_constant(X)\n",
        "print(len(X_constant))\n",
        "X_constant.head()"
      ],
      "execution_count": null,
      "outputs": [
        {
          "output_type": "stream",
          "text": [
            "255\n"
          ],
          "name": "stdout"
        },
        {
          "output_type": "execute_result",
          "data": {
            "text/html": [
              "<div>\n",
              "<style scoped>\n",
              "    .dataframe tbody tr th:only-of-type {\n",
              "        vertical-align: middle;\n",
              "    }\n",
              "\n",
              "    .dataframe tbody tr th {\n",
              "        vertical-align: top;\n",
              "    }\n",
              "\n",
              "    .dataframe thead th {\n",
              "        text-align: right;\n",
              "    }\n",
              "</style>\n",
              "<table border=\"1\" class=\"dataframe\">\n",
              "  <thead>\n",
              "    <tr style=\"text-align: right;\">\n",
              "      <th></th>\n",
              "      <th>const</th>\n",
              "      <th>GenderDescription_enc</th>\n",
              "      <th>15-24</th>\n",
              "      <th>25-34</th>\n",
              "      <th>35-44</th>\n",
              "      <th>45-54</th>\n",
              "      <th>55-64</th>\n",
              "    </tr>\n",
              "  </thead>\n",
              "  <tbody>\n",
              "    <tr>\n",
              "      <th>0</th>\n",
              "      <td>1.0</td>\n",
              "      <td>0</td>\n",
              "      <td>1</td>\n",
              "      <td>0</td>\n",
              "      <td>0</td>\n",
              "      <td>0</td>\n",
              "      <td>0</td>\n",
              "    </tr>\n",
              "    <tr>\n",
              "      <th>1</th>\n",
              "      <td>1.0</td>\n",
              "      <td>0</td>\n",
              "      <td>0</td>\n",
              "      <td>1</td>\n",
              "      <td>0</td>\n",
              "      <td>0</td>\n",
              "      <td>0</td>\n",
              "    </tr>\n",
              "    <tr>\n",
              "      <th>2</th>\n",
              "      <td>1.0</td>\n",
              "      <td>0</td>\n",
              "      <td>0</td>\n",
              "      <td>0</td>\n",
              "      <td>1</td>\n",
              "      <td>0</td>\n",
              "      <td>0</td>\n",
              "    </tr>\n",
              "    <tr>\n",
              "      <th>3</th>\n",
              "      <td>1.0</td>\n",
              "      <td>0</td>\n",
              "      <td>0</td>\n",
              "      <td>0</td>\n",
              "      <td>0</td>\n",
              "      <td>1</td>\n",
              "      <td>0</td>\n",
              "    </tr>\n",
              "    <tr>\n",
              "      <th>4</th>\n",
              "      <td>1.0</td>\n",
              "      <td>0</td>\n",
              "      <td>0</td>\n",
              "      <td>0</td>\n",
              "      <td>0</td>\n",
              "      <td>0</td>\n",
              "      <td>1</td>\n",
              "    </tr>\n",
              "  </tbody>\n",
              "</table>\n",
              "</div>"
            ],
            "text/plain": [
              "   const  GenderDescription_enc  15-24  25-34  35-44  45-54  55-64\n",
              "0    1.0                      0      1      0      0      0      0\n",
              "1    1.0                      0      0      1      0      0      0\n",
              "2    1.0                      0      0      0      1      0      0\n",
              "3    1.0                      0      0      0      0      1      0\n",
              "4    1.0                      0      0      0      0      0      1"
            ]
          },
          "metadata": {
            "tags": []
          },
          "execution_count": 61
        }
      ]
    },
    {
      "cell_type": "code",
      "metadata": {
        "colab": {
          "base_uri": "https://localhost:8080/"
        },
        "id": "vXk-pp1-HNb_",
        "outputId": "be668320-607d-4a87-d328-27615a8f933e"
      },
      "source": [
        "mod = sm.OLS(y,X_constant)\n",
        "mod"
      ],
      "execution_count": null,
      "outputs": [
        {
          "output_type": "execute_result",
          "data": {
            "text/plain": [
              "<statsmodels.regression.linear_model.OLS at 0x7f9f5206c350>"
            ]
          },
          "metadata": {
            "tags": []
          },
          "execution_count": 62
        }
      ]
    },
    {
      "cell_type": "code",
      "metadata": {
        "id": "AgPQce9yHgs4"
      },
      "source": [
        "res = mod.fit()"
      ],
      "execution_count": null,
      "outputs": []
    },
    {
      "cell_type": "code",
      "metadata": {
        "colab": {
          "base_uri": "https://localhost:8080/",
          "height": 544
        },
        "id": "B8ZOzwurHxtt",
        "outputId": "a0e8254f-1e5c-458f-d5d5-716dba8c0ee0"
      },
      "source": [
        "res.summary()"
      ],
      "execution_count": null,
      "outputs": [
        {
          "output_type": "execute_result",
          "data": {
            "text/html": [
              "<table class=\"simpletable\">\n",
              "<caption>OLS Regression Results</caption>\n",
              "<tr>\n",
              "  <th>Dep. Variable:</th>     <td>reduction_ratio</td> <th>  R-squared:         </th> <td>   0.024</td>\n",
              "</tr>\n",
              "<tr>\n",
              "  <th>Model:</th>                   <td>OLS</td>       <th>  Adj. R-squared:    </th> <td>   0.001</td>\n",
              "</tr>\n",
              "<tr>\n",
              "  <th>Method:</th>             <td>Least Squares</td>  <th>  F-statistic:       </th> <td>   1.031</td>\n",
              "</tr>\n",
              "<tr>\n",
              "  <th>Date:</th>             <td>Sat, 17 Apr 2021</td> <th>  Prob (F-statistic):</th>  <td> 0.406</td> \n",
              "</tr>\n",
              "<tr>\n",
              "  <th>Time:</th>                 <td>11:38:38</td>     <th>  Log-Likelihood:    </th> <td> -693.51</td>\n",
              "</tr>\n",
              "<tr>\n",
              "  <th>No. Observations:</th>      <td>   255</td>      <th>  AIC:               </th> <td>   1401.</td>\n",
              "</tr>\n",
              "<tr>\n",
              "  <th>Df Residuals:</th>          <td>   248</td>      <th>  BIC:               </th> <td>   1426.</td>\n",
              "</tr>\n",
              "<tr>\n",
              "  <th>Df Model:</th>              <td>     6</td>      <th>                     </th>     <td> </td>   \n",
              "</tr>\n",
              "<tr>\n",
              "  <th>Covariance Type:</th>      <td>nonrobust</td>    <th>                     </th>     <td> </td>   \n",
              "</tr>\n",
              "</table>\n",
              "<table class=\"simpletable\">\n",
              "<tr>\n",
              "            <td></td>               <th>coef</th>     <th>std err</th>      <th>t</th>      <th>P>|t|</th>  <th>[0.025</th>    <th>0.975]</th>  \n",
              "</tr>\n",
              "<tr>\n",
              "  <th>const</th>                 <td>    0.2660</td> <td>    0.761</td> <td>    0.349</td> <td> 0.727</td> <td>   -1.234</td> <td>    1.766</td>\n",
              "</tr>\n",
              "<tr>\n",
              "  <th>GenderDescription_enc</th> <td>   -0.5356</td> <td>    0.468</td> <td>   -1.146</td> <td> 0.253</td> <td>   -1.456</td> <td>    0.385</td>\n",
              "</tr>\n",
              "<tr>\n",
              "  <th>15-24</th>                 <td>   -1.1198</td> <td>    0.977</td> <td>   -1.147</td> <td> 0.253</td> <td>   -3.043</td> <td>    0.804</td>\n",
              "</tr>\n",
              "<tr>\n",
              "  <th>25-34</th>                 <td>   -0.7673</td> <td>    0.907</td> <td>   -0.846</td> <td> 0.398</td> <td>   -2.553</td> <td>    1.018</td>\n",
              "</tr>\n",
              "<tr>\n",
              "  <th>35-44</th>                 <td>    0.1190</td> <td>    0.874</td> <td>    0.136</td> <td> 0.892</td> <td>   -1.603</td> <td>    1.841</td>\n",
              "</tr>\n",
              "<tr>\n",
              "  <th>45-54</th>                 <td>    0.3308</td> <td>    0.900</td> <td>    0.367</td> <td> 0.714</td> <td>   -1.443</td> <td>    2.104</td>\n",
              "</tr>\n",
              "<tr>\n",
              "  <th>55-64</th>                 <td>   -0.4683</td> <td>    0.949</td> <td>   -0.493</td> <td> 0.622</td> <td>   -2.338</td> <td>    1.401</td>\n",
              "</tr>\n",
              "</table>\n",
              "<table class=\"simpletable\">\n",
              "<tr>\n",
              "  <th>Omnibus:</th>       <td>397.027</td> <th>  Durbin-Watson:     </th> <td>   2.024</td> \n",
              "</tr>\n",
              "<tr>\n",
              "  <th>Prob(Omnibus):</th> <td> 0.000</td>  <th>  Jarque-Bera (JB):  </th> <td>57804.993</td>\n",
              "</tr>\n",
              "<tr>\n",
              "  <th>Skew:</th>          <td>-7.826</td>  <th>  Prob(JB):          </th> <td>    0.00</td> \n",
              "</tr>\n",
              "<tr>\n",
              "  <th>Kurtosis:</th>      <td>75.080</td>  <th>  Cond. No.          </th> <td>    9.70</td> \n",
              "</tr>\n",
              "</table><br/><br/>Warnings:<br/>[1] Standard Errors assume that the covariance matrix of the errors is correctly specified."
            ],
            "text/plain": [
              "<class 'statsmodels.iolib.summary.Summary'>\n",
              "\"\"\"\n",
              "                            OLS Regression Results                            \n",
              "==============================================================================\n",
              "Dep. Variable:        reduction_ratio   R-squared:                       0.024\n",
              "Model:                            OLS   Adj. R-squared:                  0.001\n",
              "Method:                 Least Squares   F-statistic:                     1.031\n",
              "Date:                Sat, 17 Apr 2021   Prob (F-statistic):              0.406\n",
              "Time:                        11:38:38   Log-Likelihood:                -693.51\n",
              "No. Observations:                 255   AIC:                             1401.\n",
              "Df Residuals:                     248   BIC:                             1426.\n",
              "Df Model:                           6                                         \n",
              "Covariance Type:            nonrobust                                         \n",
              "=========================================================================================\n",
              "                            coef    std err          t      P>|t|      [0.025      0.975]\n",
              "-----------------------------------------------------------------------------------------\n",
              "const                     0.2660      0.761      0.349      0.727      -1.234       1.766\n",
              "GenderDescription_enc    -0.5356      0.468     -1.146      0.253      -1.456       0.385\n",
              "15-24                    -1.1198      0.977     -1.147      0.253      -3.043       0.804\n",
              "25-34                    -0.7673      0.907     -0.846      0.398      -2.553       1.018\n",
              "35-44                     0.1190      0.874      0.136      0.892      -1.603       1.841\n",
              "45-54                     0.3308      0.900      0.367      0.714      -1.443       2.104\n",
              "55-64                    -0.4683      0.949     -0.493      0.622      -2.338       1.401\n",
              "==============================================================================\n",
              "Omnibus:                      397.027   Durbin-Watson:                   2.024\n",
              "Prob(Omnibus):                  0.000   Jarque-Bera (JB):            57804.993\n",
              "Skew:                          -7.826   Prob(JB):                         0.00\n",
              "Kurtosis:                      75.080   Cond. No.                         9.70\n",
              "==============================================================================\n",
              "\n",
              "Warnings:\n",
              "[1] Standard Errors assume that the covariance matrix of the errors is correctly specified.\n",
              "\"\"\""
            ]
          },
          "metadata": {
            "tags": []
          },
          "execution_count": 64
        }
      ]
    },
    {
      "cell_type": "code",
      "metadata": {
        "id": "2K93BdxhIe4c"
      },
      "source": [
        "# Parameters are not statistically significant on 0.05 level of significance\n",
        "# But coefficients indicate that 35-54 age group have more tendency to churn, from public transport, than other age groups"
      ],
      "execution_count": null,
      "outputs": []
    },
    {
      "cell_type": "code",
      "metadata": {
        "id": "c1sAV7ZcnuRR"
      },
      "source": [
        "# Interpretation"
      ],
      "execution_count": null,
      "outputs": []
    },
    {
      "cell_type": "code",
      "metadata": {
        "id": "p6VL8p0AoH-K"
      },
      "source": [
        "# Young college going age-group has lesser income than other age groups so they are less likely to churn from public transportation, \n",
        "# as they don't have private cars.\n",
        "# But their overall volume is also small, as most of them might be living in hostels, or cycling\n",
        "\n",
        "# Majority to people using public transporation are coming from 65+ age group only\n",
        "# Old age groups prefer public transportation, as they mostly live alone and probably less regular income.\n",
        "\n",
        "# Middle age groups having higher and sustainiable running income, might have private cars so churning from public transportation"
      ],
      "execution_count": null,
      "outputs": []
    },
    {
      "cell_type": "markdown",
      "metadata": {
        "id": "FfMiCUSYo_bx"
      },
      "source": [
        "Actionables\n"
      ]
    },
    {
      "cell_type": "code",
      "metadata": {
        "id": "i3w2t36VohXZ"
      },
      "source": [
        "# We can campaign focussing on 35-54 age group, focused on sustainable and eco-friendly benefits of public transport, \n",
        "# not to forget less traffic congestion"
      ],
      "execution_count": null,
      "outputs": []
    },
    {
      "cell_type": "markdown",
      "metadata": {
        "id": "m5pC6S4Lt3-y"
      },
      "source": [
        "**Additional Data Sources and Tableau Visualization Link**"
      ]
    },
    {
      "cell_type": "markdown",
      "metadata": {
        "id": "gROQ-rlRuPQE"
      },
      "source": [
        "Tableau Link : https://public.tableau.com/profile/b7220#!/vizhome/WDLMap/Dashboard1?publish=yes\n",
        "\n",
        "Data used for Tableau Visualization : https://drive.google.com/file/d/14oomhon8GKXK_yHwpvOCaKH3IzJncjh2/view?usp=sharing\n",
        "\n",
        "Data Sources for Latitude and Longitude data:\n",
        "https://simplemaps.com/data/pt-cities"
      ]
    },
    {
      "cell_type": "markdown",
      "metadata": {
        "id": "gSDath2nr1fq"
      },
      "source": [
        "## Conclusions\n",
        "\n",
        "### Scalability and Impact\n"
      ]
    },
    {
      "cell_type": "markdown",
      "metadata": {
        "id": "CGmbES9GszEv"
      },
      "source": [
        "Our suggestion would be extract data about sustainable cities in Portugal and identify if the destinations to which people travel to are sustainable or not, depending on the Demand weights and the number of cities which connect to that particular destination.\n"
      ]
    },
    {
      "cell_type": "markdown",
      "metadata": {
        "id": "czpCYxX83qEZ"
      },
      "source": [
        "Majority to people using public transporation are coming from 65+ age group only\n"
      ]
    },
    {
      "cell_type": "markdown",
      "metadata": {
        "id": "rTDgrO1Z3sMi"
      },
      "source": [
        "Interpretation"
      ]
    },
    {
      "cell_type": "markdown",
      "metadata": {
        "id": "Q4jc2bQU3x8t"
      },
      "source": [
        "Young college going age-group has lesser income than other age groups so they are less likely to churn from public transportation, \n",
        " as they don't have private cars.\n",
        " But their overall volume is also small, as most of them might be living in hostels, or cycling\n",
        "\n",
        "Majority to people using public transporation are coming from 65+ age group only\n",
        " Old age groups prefer public transportation, as they mostly live alone and probably less regular income.\n",
        "\n",
        "Middle age groups having higher and sustainiable running income, might have private cars so churning from public transportation"
      ]
    },
    {
      "cell_type": "markdown",
      "metadata": {
        "id": "oUZRvnLH360R"
      },
      "source": [
        "Actionables"
      ]
    },
    {
      "cell_type": "markdown",
      "metadata": {
        "id": "bpoUTBpl38G_"
      },
      "source": [
        "We can campaign focussing on 35-54 age group, focused on sustainable and eco-friendly benefits of public transport, \n",
        "# not to forget less traffic congestion"
      ]
    },
    {
      "cell_type": "markdown",
      "metadata": {
        "id": "0XBiBOyAl2Sv"
      },
      "source": [
        "### Future Work\n"
      ]
    },
    {
      "cell_type": "markdown",
      "metadata": {
        "id": "5gK3heTKl7qz"
      },
      "source": [
        "We will have to use the Automobile production and the GDP data of Portugal to understand how the increase/decrease in GDP or Automobile productions result in more people opting out of Public Transportation"
      ]
    }
  ]
}