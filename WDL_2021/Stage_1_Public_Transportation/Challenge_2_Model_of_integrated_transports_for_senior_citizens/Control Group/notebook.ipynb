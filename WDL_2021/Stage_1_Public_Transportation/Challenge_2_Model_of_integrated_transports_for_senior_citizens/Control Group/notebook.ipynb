{
  "nbformat": 4,
  "nbformat_minor": 0,
  "metadata": {
    "colab": {
      "name": "ControlGroup.ipynb",
      "provenance": [],
      "collapsed_sections": []
    },
    "kernelspec": {
      "name": "python3",
      "display_name": "Python 3"
    },
    "language_info": {
      "name": "python"
    }
  },
  "cells": [
    {
      "cell_type": "markdown",
      "metadata": {
        "id": "JeP6xkRIBJco"
      },
      "source": [
        "# World Data League 2021\n",
        "## Notebook Template\n",
        "\n",
        "This notebook is one of the mandatory deliverables when you submit your solution (alongside the video pitch). Its structure follows the WDL evaluation criteria and it has dedicated cells where you can add descriptions. Make sure your code is readable as it will be the only technical support the jury will have to evaluate your work.\n",
        "\n",
        "The notebook must:\n",
        "\n",
        "*   💻 have all the code that you want the jury to evaluate\n",
        "*   🧱 follow the predefined structure\n",
        "*   📄 have markdown descriptions where you find necessary\n",
        "*   👀 be saved with all the output that you want the jury to see\n",
        "*   🏃‍♂️ be runnable??\n"
      ]
    },
    {
      "cell_type": "markdown",
      "metadata": {
        "id": "63ltgxp_rOpI"
      },
      "source": [
        "## Introduction\n",
        "Describe how you framed the challenge by telling us what problem are you trying to solve and how your solution solves that problem."
      ]
    },
    {
      "cell_type": "markdown",
      "metadata": {
        "id": "Hp34gOznrwrq"
      },
      "source": [
        "The main goal of the present challenge was to understand the senior citizens' mobility patterns, their characteristics and possible improvement points. For this reason, we first tried to understand the primary pain points that the Portugals' elder citizen feels when using the available public transportation, so we could better focus on possible improvements that could lead to a better quality of life.\n",
        "\n",
        "In the first iteration, we analyzed the senior mobility characterization by Municipality to better understand their patterns, how it varies considering the percentage of the ageing population in the given locations.\n",
        "After having a better sense of the data, our team brainstormed on possible improvement points, which lead us to think about several options.  Nonetheless, for our team, the distance between the public transports stops and the elders' points of interest is the most important point to be solved. Not everyone has the physical capacity to arrive at their destiny, especially if it means walking a significant distance between the bus stop and a health facility.\n",
        "\n",
        "For this reason, our team focused on analyzing the distances between the public transportation stops and the seniors' citizens points of interest to better provide bus stops/lines recommendations."
      ]
    },
    {
      "cell_type": "markdown",
      "metadata": {
        "id": "C8rCpNajszur"
      },
      "source": [
        "## Development\n",
        "Start coding here! 🐱‍🏍\n",
        "\n",
        "Don't hesitate to create markdown cells to include descriptions of your work where you see fit, as well as commenting your code.\n",
        "\n",
        "We know that you know exactly where to start when it comes to crunching data and building models, but don't forget that WDL is all about social impact...so take that into consideration as well."
      ]
    },
    {
      "cell_type": "markdown",
      "metadata": {
        "id": "tRqF6SZIi_Vc"
      },
      "source": [
        "# Install packages"
      ]
    },
    {
      "cell_type": "code",
      "metadata": {
        "id": "876y42ZI5-39",
        "colab": {
          "base_uri": "https://localhost:8080/"
        },
        "outputId": "a3c192eb-2837-43cb-e1fc-40c88ee3cf7c"
      },
      "source": [
        "! pip install geopandas\n",
        "! pip install osmium\n",
        "! pip install geopy"
      ],
      "execution_count": null,
      "outputs": [
        {
          "output_type": "stream",
          "text": [
            "Requirement already satisfied: geopandas in /usr/local/lib/python3.7/dist-packages (0.9.0)\n",
            "Requirement already satisfied: pyproj>=2.2.0 in /usr/local/lib/python3.7/dist-packages (from geopandas) (3.0.1)\n",
            "Requirement already satisfied: fiona>=1.8 in /usr/local/lib/python3.7/dist-packages (from geopandas) (1.8.19)\n",
            "Requirement already satisfied: shapely>=1.6 in /usr/local/lib/python3.7/dist-packages (from geopandas) (1.7.1)\n",
            "Requirement already satisfied: pandas>=0.24.0 in /usr/local/lib/python3.7/dist-packages (from geopandas) (1.1.5)\n",
            "Requirement already satisfied: certifi in /usr/local/lib/python3.7/dist-packages (from pyproj>=2.2.0->geopandas) (2020.12.5)\n",
            "Requirement already satisfied: click<8,>=4.0 in /usr/local/lib/python3.7/dist-packages (from fiona>=1.8->geopandas) (7.1.2)\n",
            "Requirement already satisfied: six>=1.7 in /usr/local/lib/python3.7/dist-packages (from fiona>=1.8->geopandas) (1.15.0)\n",
            "Requirement already satisfied: cligj>=0.5 in /usr/local/lib/python3.7/dist-packages (from fiona>=1.8->geopandas) (0.7.1)\n",
            "Requirement already satisfied: attrs>=17 in /usr/local/lib/python3.7/dist-packages (from fiona>=1.8->geopandas) (20.3.0)\n",
            "Requirement already satisfied: click-plugins>=1.0 in /usr/local/lib/python3.7/dist-packages (from fiona>=1.8->geopandas) (1.1.1)\n",
            "Requirement already satisfied: munch in /usr/local/lib/python3.7/dist-packages (from fiona>=1.8->geopandas) (2.5.0)\n",
            "Requirement already satisfied: pytz>=2017.2 in /usr/local/lib/python3.7/dist-packages (from pandas>=0.24.0->geopandas) (2018.9)\n",
            "Requirement already satisfied: numpy>=1.15.4 in /usr/local/lib/python3.7/dist-packages (from pandas>=0.24.0->geopandas) (1.19.5)\n",
            "Requirement already satisfied: python-dateutil>=2.7.3 in /usr/local/lib/python3.7/dist-packages (from pandas>=0.24.0->geopandas) (2.8.1)\n",
            "Requirement already satisfied: osmium in /usr/local/lib/python3.7/dist-packages (3.1.3)\n",
            "Requirement already satisfied: geopy in /usr/local/lib/python3.7/dist-packages (1.17.0)\n",
            "Requirement already satisfied: geographiclib<2,>=1.49 in /usr/local/lib/python3.7/dist-packages (from geopy) (1.50)\n"
          ],
          "name": "stdout"
        }
      ]
    },
    {
      "cell_type": "markdown",
      "metadata": {
        "id": "_PZ2l00GHGAn"
      },
      "source": [
        "# Import packages"
      ]
    },
    {
      "cell_type": "code",
      "metadata": {
        "id": "_SbBnBmP1a0h"
      },
      "source": [
        "import pandas as pd\n",
        "import geopandas as gpd\n",
        "import osmium\n",
        "import json\n",
        "import numpy as np\n",
        "from geopy import distance"
      ],
      "execution_count": null,
      "outputs": []
    },
    {
      "cell_type": "markdown",
      "metadata": {
        "id": "jy2u30rRlZ71"
      },
      "source": [
        "# 1. Understanding Senior citizens public transportation behaviour by Municipality"
      ]
    },
    {
      "cell_type": "markdown",
      "metadata": {
        "id": "8fu-wyLE6ck8"
      },
      "source": [
        "## 1.1 Data imports from WDL datasets"
      ]
    },
    {
      "cell_type": "code",
      "metadata": {
        "id": "0fYjftzFmob3"
      },
      "source": [
        "bus_routes_path = 'https://wdl-data.fra1.digitaloceanspaces.com/pse/BusRoutes.txt'\n",
        "seniors_tim_path = 'https://wdl-data.fra1.digitaloceanspaces.com/pse/Senior_TIM_v1.txt'\n",
        "churn_path = 'https://wdl-data.fra1.digitaloceanspaces.com/pse/Churn_UsersProfile.txt'\n",
        "\n",
        "bus_routes = pd.read_csv(bus_routes_path, delimiter = \"|\")\n",
        "seniors_tim = pd.read_csv(seniors_tim_path, delimiter=\"|\", encoding = \"latin\")\n",
        "Churn_UsersProfile = pd.read_csv(churn_path, delimiter=\"|\", encoding = \"latin\")"
      ],
      "execution_count": null,
      "outputs": []
    },
    {
      "cell_type": "markdown",
      "metadata": {
        "id": "Qfgcoj3561eb"
      },
      "source": [
        "## 1.2 Prepare the data"
      ]
    },
    {
      "cell_type": "code",
      "metadata": {
        "id": "nByWfSVSpm0O"
      },
      "source": [
        "# Merge Seniors tim data with Bus routes data\n",
        "seniors_tim = seniors_tim.merge(\n",
        "    right = bus_routes,\n",
        "    how = 'left',\n",
        "    on = 'linkid'\n",
        ")"
      ],
      "execution_count": null,
      "outputs": []
    },
    {
      "cell_type": "markdown",
      "metadata": {
        "id": "UTcuUtve39Ra"
      },
      "source": [
        "For this analysis, we focused on the pre-pandemic data since the elderly population was one of the most affected age group during this time. If we considered this time during the analysis, we would be considering external patterns rather than simply focusing on senior mobility since there were guidelines and mobility restrictions during the pandemic, leading to a decrease in the public transportation demand.\n"
      ]
    },
    {
      "cell_type": "code",
      "metadata": {
        "id": "kxAUetKUpw1j"
      },
      "source": [
        "# Select data before the pandemic\n",
        "Churn_UsersProfile = Churn_UsersProfile[Churn_UsersProfile['Period'] == 'Sep-19 to Feb-20']\n",
        "\n",
        "# Group by to create the total population average daily users\n",
        "Churn_UsersProfile_total_users = Churn_UsersProfile.groupby(['Region_of_Origin', 'District_of_Origin', 'County_of_Origin', 'Period'], dropna = False).sum().reset_index()\n",
        "Churn_UsersProfile_total_users.rename(columns={'Average_BusUsers_per_Day':'Average_BusUsers_per_Day_all_ages'}, inplace=True)\n",
        "\n",
        "# Create a senior users profile\n",
        "Churn_UsersProfile_seniors_only = Churn_UsersProfile[Churn_UsersProfile['AgeClassDescription'] == '65+']\n",
        "Churn_UsersProfile_seniors_only = Churn_UsersProfile_seniors_only.groupby(['Region_of_Origin', 'District_of_Origin', 'County_of_Origin', 'Period'], dropna = False).sum().reset_index()\n",
        "Churn_UsersProfile_seniors_only.rename(columns={'Average_BusUsers_per_Day':'Average_BusUsers_per_Day_seniors'}, inplace=True)"
      ],
      "execution_count": null,
      "outputs": []
    },
    {
      "cell_type": "code",
      "metadata": {
        "id": "TBZmX4yLaGds"
      },
      "source": [
        "# Obtain rate of public transport usage by Seniors in the entiry  population of Bus users \n",
        "Churn_UsersProfile_seniors_only = Churn_UsersProfile_seniors_only.merge(\n",
        "    right = Churn_UsersProfile_total_users,\n",
        "    how = 'left', \n",
        "    on = ['Region_of_Origin', 'District_of_Origin', 'County_of_Origin', 'Period']\n",
        ")\n",
        "\n",
        "Churn_UsersProfile_seniors_only['seniors_ratio'] = Churn_UsersProfile_seniors_only['Average_BusUsers_per_Day_seniors'] / Churn_UsersProfile_seniors_only['Average_BusUsers_per_Day_all_ages']"
      ],
      "execution_count": null,
      "outputs": []
    },
    {
      "cell_type": "code",
      "metadata": {
        "colab": {
          "base_uri": "https://localhost:8080/",
          "height": 206
        },
        "id": "Yrfl5_nkpF6N",
        "outputId": "21124c84-d509-4331-e671-5dcd196d3d79"
      },
      "source": [
        "# Retrieved data from https://www.pordata.pt/Municipios/População+residente+total+e+por+grandes+grupos+etários-390 and cleaned the fields\n",
        "path_pop_muncipios = 'https://raw.githubusercontent.com/PMMAraujo/Control_Group_WDL/main/pop_municipios.csv'\n",
        "pop_municipios = pd.read_csv(path_pop_muncipios, encoding = 'latin-1')\n",
        "pop_municipios.columns = ['Municipio', 'pop_total', 'pop_idosa', 'racio_pop_idosa']\n",
        "pop_municipios.head()"
      ],
      "execution_count": null,
      "outputs": [
        {
          "output_type": "execute_result",
          "data": {
            "text/html": [
              "<div>\n",
              "<style scoped>\n",
              "    .dataframe tbody tr th:only-of-type {\n",
              "        vertical-align: middle;\n",
              "    }\n",
              "\n",
              "    .dataframe tbody tr th {\n",
              "        vertical-align: top;\n",
              "    }\n",
              "\n",
              "    .dataframe thead th {\n",
              "        text-align: right;\n",
              "    }\n",
              "</style>\n",
              "<table border=\"1\" class=\"dataframe\">\n",
              "  <thead>\n",
              "    <tr style=\"text-align: right;\">\n",
              "      <th></th>\n",
              "      <th>Municipio</th>\n",
              "      <th>pop_total</th>\n",
              "      <th>pop_idosa</th>\n",
              "      <th>racio_pop_idosa</th>\n",
              "    </tr>\n",
              "  </thead>\n",
              "  <tbody>\n",
              "    <tr>\n",
              "      <th>0</th>\n",
              "      <td>Alcoutim</td>\n",
              "      <td>2917</td>\n",
              "      <td>1282</td>\n",
              "      <td>0.439493</td>\n",
              "    </tr>\n",
              "    <tr>\n",
              "      <th>1</th>\n",
              "      <td>Penamacor</td>\n",
              "      <td>5682</td>\n",
              "      <td>2481</td>\n",
              "      <td>0.436642</td>\n",
              "    </tr>\n",
              "    <tr>\n",
              "      <th>2</th>\n",
              "      <td>Vila Velha de Ródão</td>\n",
              "      <td>3521</td>\n",
              "      <td>1535</td>\n",
              "      <td>0.435956</td>\n",
              "    </tr>\n",
              "    <tr>\n",
              "      <th>3</th>\n",
              "      <td>Idanha-a-Nova</td>\n",
              "      <td>9716</td>\n",
              "      <td>4169</td>\n",
              "      <td>0.429086</td>\n",
              "    </tr>\n",
              "    <tr>\n",
              "      <th>4</th>\n",
              "      <td>Pampilhosa da Serra</td>\n",
              "      <td>4481</td>\n",
              "      <td>1893</td>\n",
              "      <td>0.422450</td>\n",
              "    </tr>\n",
              "  </tbody>\n",
              "</table>\n",
              "</div>"
            ],
            "text/plain": [
              "             Municipio  pop_total  pop_idosa  racio_pop_idosa\n",
              "0             Alcoutim       2917       1282         0.439493\n",
              "1            Penamacor       5682       2481         0.436642\n",
              "2  Vila Velha de Ródão       3521       1535         0.435956\n",
              "3        Idanha-a-Nova       9716       4169         0.429086\n",
              "4  Pampilhosa da Serra       4481       1893         0.422450"
            ]
          },
          "metadata": {
            "tags": []
          },
          "execution_count": 7
        }
      ]
    },
    {
      "cell_type": "code",
      "metadata": {
        "id": "OXj98fdPp452"
      },
      "source": [
        "# Merge data by municipality\n",
        "Churn_UsersProfile_seniors_only = Churn_UsersProfile_seniors_only.merge(\n",
        "    right = pop_municipios,\n",
        "    how = 'left',\n",
        "    left_on = 'County_of_Origin',\n",
        "    right_on = 'Municipio'\n",
        "    )\n",
        "\n",
        "Churn_UsersProfile_seniors_only = Churn_UsersProfile_seniors_only.drop(['Region_of_Origin', 'Municipio'], axis = 1)"
      ],
      "execution_count": null,
      "outputs": []
    },
    {
      "cell_type": "code",
      "metadata": {
        "colab": {
          "base_uri": "https://localhost:8080/",
          "height": 400
        },
        "id": "BxQVqC-paGis",
        "outputId": "423078ad-1b06-4435-8394-3948a68cb7f2"
      },
      "source": [
        "Churn_UsersProfile_seniors_only.head()"
      ],
      "execution_count": null,
      "outputs": [
        {
          "output_type": "execute_result",
          "data": {
            "text/html": [
              "<div>\n",
              "<style scoped>\n",
              "    .dataframe tbody tr th:only-of-type {\n",
              "        vertical-align: middle;\n",
              "    }\n",
              "\n",
              "    .dataframe tbody tr th {\n",
              "        vertical-align: top;\n",
              "    }\n",
              "\n",
              "    .dataframe thead th {\n",
              "        text-align: right;\n",
              "    }\n",
              "</style>\n",
              "<table border=\"1\" class=\"dataframe\">\n",
              "  <thead>\n",
              "    <tr style=\"text-align: right;\">\n",
              "      <th></th>\n",
              "      <th>District_of_Origin</th>\n",
              "      <th>County_of_Origin</th>\n",
              "      <th>Period</th>\n",
              "      <th>Average_BusUsers_per_Day_seniors</th>\n",
              "      <th>Average_BusUsers_per_Day_all_ages</th>\n",
              "      <th>seniors_ratio</th>\n",
              "      <th>pop_total</th>\n",
              "      <th>pop_idosa</th>\n",
              "      <th>racio_pop_idosa</th>\n",
              "    </tr>\n",
              "  </thead>\n",
              "  <tbody>\n",
              "    <tr>\n",
              "      <th>0</th>\n",
              "      <td>Lisboa</td>\n",
              "      <td>Amadora</td>\n",
              "      <td>Sep-19 to Feb-20</td>\n",
              "      <td>1612.851365</td>\n",
              "      <td>8474.874368</td>\n",
              "      <td>0.190310</td>\n",
              "      <td>175136</td>\n",
              "      <td>32742</td>\n",
              "      <td>0.186952</td>\n",
              "    </tr>\n",
              "    <tr>\n",
              "      <th>1</th>\n",
              "      <td>Lisboa</td>\n",
              "      <td>Cascais</td>\n",
              "      <td>Sep-19 to Feb-20</td>\n",
              "      <td>2017.333975</td>\n",
              "      <td>13023.810109</td>\n",
              "      <td>0.154896</td>\n",
              "      <td>206479</td>\n",
              "      <td>36714</td>\n",
              "      <td>0.177810</td>\n",
              "    </tr>\n",
              "    <tr>\n",
              "      <th>2</th>\n",
              "      <td>Lisboa</td>\n",
              "      <td>Lisboa</td>\n",
              "      <td>Sep-19 to Feb-20</td>\n",
              "      <td>9072.259102</td>\n",
              "      <td>27874.289765</td>\n",
              "      <td>0.325471</td>\n",
              "      <td>547733</td>\n",
              "      <td>130960</td>\n",
              "      <td>0.239095</td>\n",
              "    </tr>\n",
              "    <tr>\n",
              "      <th>3</th>\n",
              "      <td>Lisboa</td>\n",
              "      <td>Loures</td>\n",
              "      <td>Sep-19 to Feb-20</td>\n",
              "      <td>147.474840</td>\n",
              "      <td>8483.736827</td>\n",
              "      <td>0.017383</td>\n",
              "      <td>205054</td>\n",
              "      <td>35277</td>\n",
              "      <td>0.172038</td>\n",
              "    </tr>\n",
              "    <tr>\n",
              "      <th>4</th>\n",
              "      <td>Lisboa</td>\n",
              "      <td>Mafra</td>\n",
              "      <td>Sep-19 to Feb-20</td>\n",
              "      <td>1217.088440</td>\n",
              "      <td>4601.247092</td>\n",
              "      <td>0.264513</td>\n",
              "      <td>76685</td>\n",
              "      <td>11344</td>\n",
              "      <td>0.147930</td>\n",
              "    </tr>\n",
              "  </tbody>\n",
              "</table>\n",
              "</div>"
            ],
            "text/plain": [
              "  District_of_Origin County_of_Origin  ... pop_idosa  racio_pop_idosa\n",
              "0             Lisboa          Amadora  ...     32742         0.186952\n",
              "1             Lisboa          Cascais  ...     36714         0.177810\n",
              "2             Lisboa           Lisboa  ...    130960         0.239095\n",
              "3             Lisboa           Loures  ...     35277         0.172038\n",
              "4             Lisboa            Mafra  ...     11344         0.147930\n",
              "\n",
              "[5 rows x 9 columns]"
            ]
          },
          "metadata": {
            "tags": []
          },
          "execution_count": 9
        }
      ]
    },
    {
      "cell_type": "code",
      "metadata": {
        "colab": {
          "base_uri": "https://localhost:8080/",
          "height": 381
        },
        "id": "Wkx_bDLzaGns",
        "outputId": "eb8b6c13-007b-4708-ee44-a6025c40c89c"
      },
      "source": [
        "Churn_UsersProfile_seniors_only.plot(x=\"County_of_Origin\", y=[\"seniors_ratio\", \"racio_pop_idosa\"], kind=\"bar\")"
      ],
      "execution_count": null,
      "outputs": [
        {
          "output_type": "execute_result",
          "data": {
            "text/plain": [
              "<matplotlib.axes._subplots.AxesSubplot at 0x7f83157614d0>"
            ]
          },
          "metadata": {
            "tags": []
          },
          "execution_count": 10
        },
        {
          "output_type": "display_data",
          "data": {
            "image/png": "[encoded data removed]",
            "text/plain": [
              "<Figure size 432x288 with 1 Axes>"
            ]
          },
          "metadata": {
            "tags": [],
            "needs_background": "light"
          }
        }
      ]
    },
    {
      "cell_type": "markdown",
      "metadata": {
        "id": "rMN1EY2iHZx_"
      },
      "source": [
        "As it is possible to state from the graph above, the seniors' ratio from the public transportation dataset in most cases is higher than the ratio of the elderly population according to the 2019 information extracted from PORDATA. Given this, it is possible to state that elderly people are avid users of public transportation when considering the entire population of public transportation users."
      ]
    },
    {
      "cell_type": "code",
      "metadata": {
        "colab": {
          "base_uri": "https://localhost:8080/",
          "height": 381
        },
        "id": "hQYIYy5IaGqE",
        "outputId": "63035ab2-71b8-4ae1-b79b-0fb3541e41d2"
      },
      "source": [
        "Churn_UsersProfile_seniors_only.plot(x=\"County_of_Origin\", y=[\"Average_BusUsers_per_Day_seniors\", \"pop_idosa\"], kind=\"bar\")"
      ],
      "execution_count": null,
      "outputs": [
        {
          "output_type": "execute_result",
          "data": {
            "text/plain": [
              "<matplotlib.axes._subplots.AxesSubplot at 0x7f830e7da250>"
            ]
          },
          "metadata": {
            "tags": []
          },
          "execution_count": 11
        },
        {
          "output_type": "display_data",
          "data": {
            "image/png": "[encoded data removed]",
            "text/plain": [
              "<Figure size 432x288 with 1 Axes>"
            ]
          },
          "metadata": {
            "tags": [],
            "needs_background": "light"
          }
        }
      ]
    },
    {
      "cell_type": "markdown",
      "metadata": {
        "id": "esevABUBHcQ5"
      },
      "source": [
        "When comparing the average daily senior user of public transportation with the total value of the elderly population, it is possible to state that only in rare exceptions is a small percentage of seniors who really use public transportations. \n",
        "\n",
        "However, Gondomar and Maia present a curious pattern since the average daily users are higher than the total number of the senior population. This could indicate that in those municipalities, the elderly population resort to the usage of public transportation in a more avid manner.\n"
      ]
    },
    {
      "cell_type": "markdown",
      "metadata": {
        "id": "q70_bD027rZb"
      },
      "source": [
        "# 2. Distance from Bus Stops to Health Centers"
      ]
    },
    {
      "cell_type": "markdown",
      "metadata": {
        "id": "APDvAM9M_Mnq"
      },
      "source": [
        "The first step was to gather the bus stops and Health Centers' data (longitude, latitude) to accomplish this task."
      ]
    },
    {
      "cell_type": "markdown",
      "metadata": {
        "id": "lKHP53p_7z-y"
      },
      "source": [
        "## 2.1 Openstreetmap Bus stops data"
      ]
    },
    {
      "cell_type": "code",
      "metadata": {
        "id": "52c9c28e-09c4-426f-8816-d1a0f279df44",
        "colab": {
          "base_uri": "https://localhost:8080/"
        },
        "outputId": "90ce477f-00cc-49a7-a8e9-ad133c974512"
      },
      "source": [
        "# Get data from the metropolitan Porto area from bbbike\n",
        "# Then Convert data to gpkg to read with geopandas\n",
        "\n",
        "%%bash\n",
        "wget https://download.bbbike.org/osm/bbbike/Porto/Porto.osm.pbf \\\n",
        "    --quiet -O Porto.osm.pbf\n",
        "\n",
        "ogr2ogr \\\n",
        "  -f GPKG Porto.gpkg \\\n",
        "  Porto.osm.pbf"
      ],
      "execution_count": null,
      "outputs": [
        {
          "output_type": "stream",
          "text": [
            "0...10...20...30...40...50...60...70...80...90...100 - done.\n"
          ],
          "name": "stdout"
        }
      ]
    },
    {
      "cell_type": "code",
      "metadata": {
        "id": "0a0bcc68-4aa6-4beb-a7d9-0b4a5935c188",
        "colab": {
          "base_uri": "https://localhost:8080/"
        },
        "outputId": "d98c6f0c-e10c-46b6-d5eb-bc2f5a39f085"
      },
      "source": [
        "# Check if data is good\n",
        "! ogrinfo Porto.osm.pbf"
      ],
      "execution_count": null,
      "outputs": [
        {
          "output_type": "stream",
          "text": [
            "Had to open data source read-only.\n",
            "INFO: Open of `Porto.osm.pbf'\n",
            "      using driver `OSM' successful.\n",
            "1: points (Point)\n",
            "2: lines (Line String)\n",
            "3: multilinestrings (Multi Line String)\n",
            "4: multipolygons (Multi Polygon)\n",
            "5: other_relations (Geometry Collection)\n"
          ],
          "name": "stdout"
        }
      ]
    },
    {
      "cell_type": "code",
      "metadata": {
        "id": "aa0033d7-724d-4d0f-9023-76b027f07a38",
        "colab": {
          "base_uri": "https://localhost:8080/"
        },
        "outputId": "93d38693-4a25-42bf-aeda-ab1bba6586d0"
      },
      "source": [
        "# Open with geopandas\n",
        "gdf = gpd.read_file(\"Porto.gpkg\", driver='GPKG')\n",
        "gdf.head(2), gdf.shape"
      ],
      "execution_count": null,
      "outputs": [
        {
          "output_type": "execute_result",
          "data": {
            "text/plain": [
              "(     osm_id  ...                   geometry\n",
              " 0  25264014  ...  POINT (-8.48964 40.90208)\n",
              " 1  25264018  ...  POINT (-8.54267 40.92542)\n",
              " \n",
              " [2 rows x 11 columns], (76870, 11))"
            ]
          },
          "metadata": {
            "tags": []
          },
          "execution_count": 14
        }
      ]
    },
    {
      "cell_type": "markdown",
      "metadata": {
        "id": "f7aefef4-9568-4a53-b6b6-f4b1bb788d0d"
      },
      "source": [
        ""
      ]
    },
    {
      "cell_type": "code",
      "metadata": {
        "id": "2e86c451-ec24-4322-abfb-07f908477fa2",
        "colab": {
          "base_uri": "https://localhost:8080/"
        },
        "outputId": "d91a3455-d048-4652-8950-9e208debdc9b"
      },
      "source": [
        "# Select only bus stops data (highway == bus_stop)\n",
        "busstop_df = gdf[gdf['highway'] == 'bus_stop'].copy()\n",
        "busstop_df.shape"
      ],
      "execution_count": null,
      "outputs": [
        {
          "output_type": "execute_result",
          "data": {
            "text/plain": [
              "(3072, 11)"
            ]
          },
          "metadata": {
            "tags": []
          },
          "execution_count": 15
        }
      ]
    },
    {
      "cell_type": "code",
      "metadata": {
        "id": "05499f59-4103-471b-a98b-d62c05c46dde",
        "colab": {
          "base_uri": "https://localhost:8080/"
        },
        "outputId": "70ef3b69-97e8-4a53-aa2e-d7af530f20e4"
      },
      "source": [
        "# Format the longitude and latitude data to plot in a future step\n",
        "busstop_df['longitude'] = busstop_df['geometry'].apply(lambda x: str(x).split(' ')[1].replace('(', ''))\n",
        "busstop_df['latitude'] = busstop_df['geometry'].apply(lambda x: str(x).split(' ')[2].replace(')', ''))\n",
        "\n",
        "# Create DataFrame with only the coordinates data\n",
        "busstop_osm = busstop_df[['name', 'latitude', 'longitude']].copy()\n",
        "busstop_osm.to_csv('bus_stops_osm.csv', index=False) # Please note this file is used in an external visualization (https://kepler.gl/demo) tool and not in this notebook.\n",
        "busstop_osm.head(), busstop_osm.shape"
      ],
      "execution_count": null,
      "outputs": [
        {
          "output_type": "execute_result",
          "data": {
            "text/plain": [
              "(                        name    latitude           longitude\n",
              " 461                     None  41.3533359          -8.4497292\n",
              " 1166                    None  40.9818319  -8.615623100000001\n",
              " 1300  Casa da Música (Metro)  41.1613174          -8.6297087\n",
              " 1342                    None   41.358168  -8.365672400000001\n",
              " 1402        Segurança Social  41.1571968          -8.6671829, (3072, 3))"
            ]
          },
          "metadata": {
            "tags": []
          },
          "execution_count": 16
        }
      ]
    },
    {
      "cell_type": "markdown",
      "metadata": {
        "id": "M1HEc4DjACg1"
      },
      "source": [
        "## 2.2 STCP Bus stops data from porto digital"
      ]
    },
    {
      "cell_type": "markdown",
      "metadata": {
        "id": "MS80IyYwAy3o"
      },
      "source": [
        "We found an external dataset containing the data for the STCP bus stops provided by Porto Digital (source: https://opendata.urbanplatform.portodigital.pt/ne/dataset/stcp-autocarros-paragens-centroides).\n",
        "We then performed 3 queries to extract the bus stop data from this platform, the resulting files from those queries can be found in the following links."
      ]
    },
    {
      "cell_type": "code",
      "metadata": {
        "id": "YPNb5UsnBwUU"
      },
      "source": [
        "# External data from Porto Digital\n",
        "%%bash\n",
        "\n",
        "wget https://raw.githubusercontent.com/PMMAraujo/Control_Group_WDL/main/portodigital_busstops_01.json \\\n",
        "    --quiet -O portodigital_busstops_01.json\n",
        "wget https://raw.githubusercontent.com/PMMAraujo/Control_Group_WDL/main/portodigital_busstops_02.json \\\n",
        "    --quiet -O portodigital_busstops_02.json\n",
        "wget https://raw.githubusercontent.com/PMMAraujo/Control_Group_WDL/main/portodigital_busstops_03.json \\\n",
        "    --quiet -O portodigital_busstops_03.json"
      ],
      "execution_count": null,
      "outputs": []
    },
    {
      "cell_type": "code",
      "metadata": {
        "id": "V5I5R0qkH7sj"
      },
      "source": [
        "def parse_json(in_file):\n",
        "  \"\"\"\n",
        "  Functionality:\n",
        "    Process geo json file to create a DataFrame\n",
        "  Input:\n",
        "    Geo jason file\n",
        "  Output:\n",
        "    Pandas DataFrame\n",
        "  \"\"\"\n",
        "  bus_stops = {\"name\":[], \"latitude\":[], \"longitude\":[]}\n",
        "\n",
        "  with open(in_file) as json_file:\n",
        "      data = json.load(json_file)\n",
        "      for bus_stop in data[\"features\"]:\n",
        "        bus_stops[\"name\"].append(bus_stop['properties']['codigo'])\n",
        "        bus_stops[\"latitude\"].append(bus_stop['geometry']['coordinates'][1])\n",
        "        bus_stops[\"longitude\"].append(bus_stop['geometry']['coordinates'][0])\n",
        "  \n",
        "  df = pd.DataFrame(bus_stops)\n",
        "  df['cords'] = [tuple(_) for _ in df[['latitude', 'longitude']].values]\n",
        "  return df"
      ],
      "execution_count": null,
      "outputs": []
    },
    {
      "cell_type": "code",
      "metadata": {
        "colab": {
          "base_uri": "https://localhost:8080/"
        },
        "id": "fxG6kA9RJJjL",
        "outputId": "ab213929-16b6-42d1-faf0-4e030b47c111"
      },
      "source": [
        "# Concatenate the results from the 3 queries in one unique DataFrame\n",
        "bus_stops_df = pd.concat([parse_json('portodigital_busstops_01.json'), \n",
        "                          parse_json('portodigital_busstops_02.json'),\n",
        "                          parse_json('portodigital_busstops_03.json')], axis=0)\n",
        "\n",
        "bus_stops_df.head(), bus_stops_df.shape"
      ],
      "execution_count": null,
      "outputs": [
        {
          "output_type": "execute_result",
          "data": {
            "text/plain": [
              "(    name   latitude  longitude                                    cords\n",
              " 0      .  41.254128  -8.653737  (41.25412841245856, -8.653736724768118)\n",
              " 1   1AAC  41.238812  -8.612783  (41.23881184687845, -8.612782565788029)\n",
              " 2   1ADN  41.229745  -8.527130   (41.2297452008147, -8.527129521197322)\n",
              " 3  1ANC1  41.238325  -8.615394  (41.23832484017553, -8.615393874671113)\n",
              " 4  1ANC2  41.238297  -8.615224   (41.23829676930887, -8.61522377964076),\n",
              " (2519, 4))"
            ]
          },
          "metadata": {
            "tags": []
          },
          "execution_count": 19
        }
      ]
    },
    {
      "cell_type": "code",
      "metadata": {
        "id": "9AmcB_6AJU1p"
      },
      "source": [
        "bus_stops_df[['name', 'latitude', 'longitude']].to_csv('bus_stops_portodigital.csv', index=False) # Please note this file is used in an external visualization (https://kepler.gl/demo) tool and not in this notebook."
      ],
      "execution_count": null,
      "outputs": []
    },
    {
      "cell_type": "markdown",
      "metadata": {
        "id": "KYky3lGaFrYJ"
      },
      "source": [
        "## 2.3 Compare the bus stops data from the two different souces"
      ]
    },
    {
      "cell_type": "markdown",
      "metadata": {
        "id": "K5815BZPJACU"
      },
      "source": [
        "To visually compare the points obtained for Bus stops using the Porto digital data and the OpenStreetMap, we used https://kepler.gl/demo. This web app allows the plotting of geographic locations using their latitude and longitude.\n",
        "\n",
        "The following image demonstrates the difference in the bus stops locations obtained using Porto Digital data (green) and OpenStreetMap data (red)."
      ]
    },
    {
      "cell_type": "markdown",
      "metadata": {
        "id": "effzuU_IH4Zf"
      },
      "source": [
        "![image](https://raw.githubusercontent.com/PMMAraujo/Control_Group_WDL/main/image2.png)"
      ]
    },
    {
      "cell_type": "markdown",
      "metadata": {
        "id": "-9JDxn44Klvx"
      },
      "source": [
        "As it is evident from the previous image, the concordance between the two datasets is not perfect. Some of it was expected since Porto Digital data only contained STCP (one bus company) data while Openstreetmap did not have that restriction. The most obvious solution for this was to aggregate the two datasets. However, this would generate data repetition, and since the data points are not perfectly on top of each other, deleting possible duplicates would be a challenging task. Therefore we decided to evaluate these two data sources, comparing them with a third visually (google maps)."
      ]
    },
    {
      "cell_type": "markdown",
      "metadata": {
        "id": "W_n3A3HHHvrY"
      },
      "source": [
        "![image](https://raw.githubusercontent.com/PMMAraujo/Control_Group_WDL/main/image1.png)"
      ]
    },
    {
      "cell_type": "markdown",
      "metadata": {
        "id": "l8udwVUgLs1q"
      },
      "source": [
        "As it is possible to see from the previous image, several points indicated be Openstreetmap (red boxes, panel A and C) that are not present in the other dataset or the google maps visualization (panel B and D). This uncertainty led us to feel unease about the OpenStreetMap data for the bus stops. Therefore, we decided to progress this work only using the Porto Digital data for the bus stops."
      ]
    },
    {
      "cell_type": "markdown",
      "metadata": {
        "id": "m4CdQAQ0H5m6"
      },
      "source": [
        "## 2.4 Healthcare centers data"
      ]
    },
    {
      "cell_type": "markdown",
      "metadata": {
        "id": "2bitW8meMf8u"
      },
      "source": [
        "These 41 data points were obtained manually (latitude and longitude), ensuring that all the Healthcare Centers in Porto Oriental and Occidental (as described by official sources: http://www.arsnorte.min-saude.pt/agrupamentos-de-centros-de-saude/aces-grande-porto-vi-porto-oriental/) were present."
      ]
    },
    {
      "cell_type": "code",
      "metadata": {
        "colab": {
          "base_uri": "https://localhost:8080/"
        },
        "id": "qONjpolfK3Cb",
        "outputId": "b062dced-c393-416e-e5da-aa98c5a17799"
      },
      "source": [
        "url_health_centers = 'https://raw.githubusercontent.com/PMMAraujo/Control_Group_WDL/main/health_centers_porto.csv'\n",
        "health_centers_df = pd.read_csv(url_health_centers)\n",
        "health_centers_df.head(), health_centers_df.shape"
      ],
      "execution_count": null,
      "outputs": [
        {
          "output_type": "execute_result",
          "data": {
            "text/plain": [
              "(                     Name  longitude   latitude\n",
              " 0      SAP Porto Oriental  -8.681758  41.160224\n",
              " 1            UCC Campanhã  -8.567661  41.151552\n",
              " 2            UCC Paranhos  -8.620631  41.156422\n",
              " 3   UCSP Azevedo Campanhã  -8.567708  41.151483\n",
              " 4  UCSP São Roque Lameira  -8.589250  41.157136, (41, 3))"
            ]
          },
          "metadata": {
            "tags": []
          },
          "execution_count": 21
        }
      ]
    },
    {
      "cell_type": "markdown",
      "metadata": {
        "id": "4FYWgXPMQUly"
      },
      "source": [
        "## 2.5 Distance calculations"
      ]
    },
    {
      "cell_type": "markdown",
      "metadata": {
        "id": "ypAm6FDnR8QU"
      },
      "source": [
        "Iterate over all 41 Health center, and the 2519 bus stops used to find the minimal distance between every center and a bus stop (closest bus stop)."
      ]
    },
    {
      "cell_type": "code",
      "metadata": {
        "id": "l39lm4FtPYs-"
      },
      "source": [
        "health_centers_df['min_dist'] = 99999\n",
        "health_centers_df[\"stop_name\"] = ''\n",
        "health_centers_df[\"colossets_stop_long\"] = 0\n",
        "health_centers_df[\"colossets_stop_lat\"] = 0\n",
        "\n",
        "for healthcenter in health_centers_df.iterrows():\n",
        "  coords_healthcenter = (healthcenter[1]['latitude'], healthcenter[1]['longitude'])\n",
        "\n",
        "  for busstop in bus_stops_df.iterrows():\n",
        "    coords_busstop = ( busstop[1]['latitude'],busstop[1]['longitude'])\n",
        "    new_distance = distance.vincenty(coords_healthcenter, coords_busstop).km*1000\n",
        "\n",
        "    if new_distance < health_centers_df.loc[healthcenter[0], 'min_dist']:\n",
        "      health_centers_df.loc[healthcenter[0], 'min_dist'] = new_distance\n",
        "      health_centers_df.loc[healthcenter[0], 'stop_name'] = busstop[1]['name']\n",
        "      health_centers_df.loc[healthcenter[0], 'colossets_stop_long'] = busstop[1]['longitude']\n",
        "      health_centers_df.loc[healthcenter[0], 'colossets_stop_lat'] = busstop[1]['latitude']"
      ],
      "execution_count": null,
      "outputs": []
    },
    {
      "cell_type": "markdown",
      "metadata": {
        "id": "zWwtKAdmV_2w"
      },
      "source": [
        "With this, we can now observe the Healthcare centers further away from a bus stop. Being the top 5 most distant:"
      ]
    },
    {
      "cell_type": "code",
      "metadata": {
        "colab": {
          "base_uri": "https://localhost:8080/",
          "height": 143
        },
        "id": "uy_Pq-oPVgGF",
        "outputId": "5bf0e12b-4492-47ca-8d4d-b3fc58e725e9"
      },
      "source": [
        "health_centers_df.sort_values(by='min_dist', ascending=False)[['Name', 'min_dist']].head(n=3)"
      ],
      "execution_count": null,
      "outputs": [
        {
          "output_type": "execute_result",
          "data": {
            "text/html": [
              "<div>\n",
              "<style scoped>\n",
              "    .dataframe tbody tr th:only-of-type {\n",
              "        vertical-align: middle;\n",
              "    }\n",
              "\n",
              "    .dataframe tbody tr th {\n",
              "        vertical-align: top;\n",
              "    }\n",
              "\n",
              "    .dataframe thead th {\n",
              "        text-align: right;\n",
              "    }\n",
              "</style>\n",
              "<table border=\"1\" class=\"dataframe\">\n",
              "  <thead>\n",
              "    <tr style=\"text-align: right;\">\n",
              "      <th></th>\n",
              "      <th>Name</th>\n",
              "      <th>min_dist</th>\n",
              "    </tr>\n",
              "  </thead>\n",
              "  <tbody>\n",
              "    <tr>\n",
              "      <th>9</th>\n",
              "      <td>USF Barão de Nova Sintra</td>\n",
              "      <td>202.560006</td>\n",
              "    </tr>\n",
              "    <tr>\n",
              "      <th>14</th>\n",
              "      <td>USF Aníbal Cunha</td>\n",
              "      <td>155.344922</td>\n",
              "    </tr>\n",
              "    <tr>\n",
              "      <th>12</th>\n",
              "      <td>USF Aldoar</td>\n",
              "      <td>133.460838</td>\n",
              "    </tr>\n",
              "  </tbody>\n",
              "</table>\n",
              "</div>"
            ],
            "text/plain": [
              "                        Name    min_dist\n",
              "9   USF Barão de Nova Sintra  202.560006\n",
              "14          USF Aníbal Cunha  155.344922\n",
              "12                USF Aldoar  133.460838"
            ]
          },
          "metadata": {
            "tags": []
          },
          "execution_count": 23
        }
      ]
    },
    {
      "cell_type": "markdown",
      "metadata": {
        "id": "loo8ac3wc_Yr"
      },
      "source": [
        "![image](https://raw.githubusercontent.com/PMMAraujo/Control_Group_WDL/main/image3.png)"
      ]
    },
    {
      "cell_type": "markdown",
      "metadata": {
        "id": "d4_7zPHnpxJ2"
      },
      "source": [
        "The three Healthcare centers with the longest distance to a bus stop were plotted in the previous image. In panel A there is the \"USF Barão de Nova Sintra'' with the closest bus stop at more than 200 meters. Nevertheless, there is also a metro station nearby. The second case, in panel B, shows a similar case with the closest bus stop at more than 155 meters and others even further away. In the first example, panels C and D, we have an interesting case. Although our algorithm successfully identified the bus stop with the smaller walking distance, there is a second stop a bit further away but with a connection to one of the city's main arteries. To go from this point of interest to this second bus stop, a poorly characterized path needs to be taken. This is not even recognized by commonly used tools. This example highlights the need to better describe paths that may help citizens with mobility issues."
      ]
    },
    {
      "cell_type": "markdown",
      "metadata": {
        "id": "xE8XC6pqhgzU"
      },
      "source": [
        "## 2.5 Grid search"
      ]
    },
    {
      "cell_type": "markdown",
      "metadata": {
        "id": "Wy3Tblxnp4xC"
      },
      "source": [
        "Knowing about the worst served health center is excellent, but if we know all the points of interest where the elderly like to / have to go, we can suggest a new bus stop that lowers the total travelling distance. We use the code we used previously to calculate the worst served Points of interest (PoI) and run this for each of the possible buses stops on a grid to suggest a new bus stop. The selected bus stop is the one that has the best impact on lowering the total minimum distance from each PoI to a bus stop. If we had different PoI, not only health care centers, we could add weights to the calculus of the sum of distances. Assuming elderly people would prefer to have a bus stop closest to a health center than a commercial building, we would give a weight of 1 to the health center and a lower value to the commercial building."
      ]
    },
    {
      "cell_type": "code",
      "metadata": {
        "id": "n7GcVzPAhnRq"
      },
      "source": [
        "# Define costume box for the bus stop grid search\n",
        "minLat = 41.1486\n",
        "maxLat = 41.1586\n",
        "minLon = -8.6236\n",
        "maxLon = -8.6180\n",
        "\n",
        "# Create the grid with about 40 meters between each point\n",
        "latValuesToTest = np.arange(minLat,maxLat,0.0005)\n",
        "lonValuesToTest = np.arange(minLon,maxLon,0.0005)\n",
        "myNewBusStopPossibilities = []\n",
        "for latValues in latValuesToTest:\n",
        "  for lonValues in lonValuesToTest:\n",
        "    myNewBusStopPossibilities.append((latValues, lonValues))"
      ],
      "execution_count": null,
      "outputs": []
    },
    {
      "cell_type": "code",
      "metadata": {
        "colab": {
          "base_uri": "https://localhost:8080/",
          "height": 206
        },
        "id": "nhGnmyeYjA98",
        "outputId": "ab587b85-f4f5-4b54-e7c0-a5600ef7e524"
      },
      "source": [
        "dfTentativeBusStop = pd.DataFrame(myNewBusStopPossibilities)\n",
        "dfTentativeBusStop[\"Name\"] = [\"TestPoint\" + str(x) for x in range(len(dfTentativeBusStop))]\n",
        "dfTentativeBusStop.columns = [ 'latitude', 'longitude', 'Name']\n",
        "dfTentativeBusStop.head()"
      ],
      "execution_count": null,
      "outputs": [
        {
          "output_type": "execute_result",
          "data": {
            "text/html": [
              "<div>\n",
              "<style scoped>\n",
              "    .dataframe tbody tr th:only-of-type {\n",
              "        vertical-align: middle;\n",
              "    }\n",
              "\n",
              "    .dataframe tbody tr th {\n",
              "        vertical-align: top;\n",
              "    }\n",
              "\n",
              "    .dataframe thead th {\n",
              "        text-align: right;\n",
              "    }\n",
              "</style>\n",
              "<table border=\"1\" class=\"dataframe\">\n",
              "  <thead>\n",
              "    <tr style=\"text-align: right;\">\n",
              "      <th></th>\n",
              "      <th>latitude</th>\n",
              "      <th>longitude</th>\n",
              "      <th>Name</th>\n",
              "    </tr>\n",
              "  </thead>\n",
              "  <tbody>\n",
              "    <tr>\n",
              "      <th>0</th>\n",
              "      <td>41.1486</td>\n",
              "      <td>-8.6236</td>\n",
              "      <td>TestPoint0</td>\n",
              "    </tr>\n",
              "    <tr>\n",
              "      <th>1</th>\n",
              "      <td>41.1486</td>\n",
              "      <td>-8.6231</td>\n",
              "      <td>TestPoint1</td>\n",
              "    </tr>\n",
              "    <tr>\n",
              "      <th>2</th>\n",
              "      <td>41.1486</td>\n",
              "      <td>-8.6226</td>\n",
              "      <td>TestPoint2</td>\n",
              "    </tr>\n",
              "    <tr>\n",
              "      <th>3</th>\n",
              "      <td>41.1486</td>\n",
              "      <td>-8.6221</td>\n",
              "      <td>TestPoint3</td>\n",
              "    </tr>\n",
              "    <tr>\n",
              "      <th>4</th>\n",
              "      <td>41.1486</td>\n",
              "      <td>-8.6216</td>\n",
              "      <td>TestPoint4</td>\n",
              "    </tr>\n",
              "  </tbody>\n",
              "</table>\n",
              "</div>"
            ],
            "text/plain": [
              "   latitude  longitude        Name\n",
              "0   41.1486    -8.6236  TestPoint0\n",
              "1   41.1486    -8.6231  TestPoint1\n",
              "2   41.1486    -8.6226  TestPoint2\n",
              "3   41.1486    -8.6221  TestPoint3\n",
              "4   41.1486    -8.6216  TestPoint4"
            ]
          },
          "metadata": {
            "tags": []
          },
          "execution_count": 25
        }
      ]
    },
    {
      "cell_type": "code",
      "metadata": {
        "id": "wO3F-RYOkhh_"
      },
      "source": [
        "baseline = sum(health_centers_df['min_dist'])\n",
        "glob_min = baseline\n",
        "best_new_stop = []\n",
        "best_df = health_centers_df.copy()\n",
        "\n",
        "i=0\n",
        "for new_stop in dfTentativeBusStop.iterrows():\n",
        "  i +=1\n",
        "  myNewStops = bus_stops_df.append({'name': new_stop[1][2], \"latitude\": new_stop[1][0], \"longitude\": new_stop[1][1], \"cords\":(new_stop[1][0], new_stop[1][1])}, ignore_index=True)\n",
        "\n",
        "  health_centers_df['min_dist'] = 99999\n",
        "  health_centers_df[\"stop_name\"] = ''\n",
        "  health_centers_df[\"colossets_stop_long\"] = 0\n",
        "  health_centers_df[\"colossets_stop_lat\"] = 0\n",
        "\n",
        "  for healthcenter in health_centers_df.iterrows():\n",
        "\n",
        "    coords_healthcenter = (healthcenter[1]['latitude'], healthcenter[1]['longitude'])\n",
        "\n",
        "    for busstop in myNewStops.iterrows():\n",
        "      coords_busstop = ( busstop[1]['latitude'],busstop[1]['longitude'])\n",
        "      new_distance = distance.vincenty(coords_healthcenter, coords_busstop).km*1000\n",
        "\n",
        "      if new_distance < health_centers_df.loc[healthcenter[0], 'min_dist']:\n",
        "        health_centers_df.loc[healthcenter[0], 'min_dist'] = new_distance\n",
        "        health_centers_df.loc[healthcenter[0], 'stop_name'] = busstop[1]['name']\n",
        "        health_centers_df.loc[healthcenter[0], 'colossets_stop_long'] = busstop[1]['longitude']\n",
        "        health_centers_df.loc[healthcenter[0], 'colossets_stop_lat'] = busstop[1]['latitude']\n",
        "\n",
        "  print(str(i) + '/' + str(len(dfTentativeBusStop)))\n",
        "\n",
        "  new_min =  sum(health_centers_df['min_dist'])\n",
        "  if new_min < glob_min:\n",
        "    glob_min = new_min\n",
        "    best_new_stop = new_stop[1]\n",
        "    best_df = health_centers_df.copy()\n",
        "\n",
        "    print(\"New Minimum\")\n",
        "    print(new_min)\n",
        "    print('New stop')\n",
        "    print(best_new_stop)\n"
      ],
      "execution_count": null,
      "outputs": []
    },
    {
      "cell_type": "markdown",
      "metadata": {
        "id": "8LdNfV3opMlu"
      },
      "source": [
        "![image](https://raw.githubusercontent.com/PMMAraujo/Control_Group_WDL/main/image4.png)"
      ]
    },
    {
      "cell_type": "markdown",
      "metadata": {
        "id": "5Cag_rpWdb8W"
      },
      "source": [
        "As you can see in the image above our grid search approach can find useful bus stops, that decreases the walking time to Healthcare centers. In the eventual case of looking to improve the bus stop network approaches like this can be used. This dummy example, for a small region of the Porto metro area, has several limitations but highlights the possibilities that data centred solutions have."
      ]
    },
    {
      "cell_type": "markdown",
      "metadata": {
        "id": "gSDath2nr1fq"
      },
      "source": [
        "## Conclusions\n",
        "\n",
        "### Scalability and Impact\n",
        "Tell us how applicable and scalable your solution is if you were to implement it in a city. Identify possible limitations and measure the potential social impact of your solution."
      ]
    },
    {
      "cell_type": "markdown",
      "metadata": {
        "id": "CGmbES9GszEv"
      },
      "source": [
        "With our solution, the city can quickly improve the public transportation system by adapting them to the population needs. Having an automatic and intelligent manner of better planning and understanding our population needs can help the city council to create a better public transportation system or modify them according to their citizens. Sometimes we see bus stops being kept because it was near old points of interests, but the city would probably gain if the route was optimized with new information. Nonetheless, we are aware that creating or removing bus stops can be expensive, but having optimized routes could also bring new possible customers that would ultimately lead to increased transportation usage, resulting in a higher monetary return.\n",
        "\n",
        "In terms of life quality, by providing a better transportation system, we would improve the senior population quality of life, since they would be able to easily go to their points of interests without depending on the help of external persons.\n",
        "\n",
        "Finally, regarding the scalability of the solution, it is possible to expand this to other cities and points of interests. We would need to complete our data with those coordinates and information.\n",
        "\n",
        "Nevertheless, we know that the presented solution has some flaws and limitations that could be fixed to create a more robust solution, such as:\n",
        "* When performing the space search, we should only consider the bus stops within the street range since we could not exclude the stops on top of buildings. For that, we needed to create a human in the loop component.\n",
        "* Use Googles' API to collect the walk distance between two points. We tried to obtain this information by using the OpenStreetMap framework, but we could only manage the car distances, which led to errors in some bus stops. For instance, instead of calculating a distance of 70m, we obtained 1300m because of the street orientation."
      ]
    },
    {
      "cell_type": "markdown",
      "metadata": {
        "id": "0XBiBOyAl2Sv"
      },
      "source": [
        "### Future Work\n",
        "Now picture the following scenario: imagine you could have access to any type of data that could help you solve this challenge even better. What would that data be and how would it improve your solution? 🚀"
      ]
    },
    {
      "cell_type": "markdown",
      "metadata": {
        "id": "5gK3heTKl7qz"
      },
      "source": [
        "Several additional pieces of information could help us improve our analysis and the social impact of our solution. Nonetheless, the information that we missed the most was:\n",
        "\n",
        "\n",
        "*  Complete route information of the public transports. With this information, we could easily find the most impactful point of interests for the population. Or at least have enough data points so we could easily extrapolate the route path.\n",
        "\n",
        "* The ability to connect the datasets from both challenges, so it was possible to better understand how COVID affected the population.\n",
        "\n",
        "* Datasets with weighted Points of Interests so it was possible to quickly know which locations are critical to the elders.\n",
        "\n",
        "* Information regarding the transports stops: does the stop has benches? Does it have a step to board the bus? How easily can the bus reach the sidewalk so the elder does not have to take a long step?\n",
        "\n",
        "\n",
        "Nonetheless, our solution could also be improved, and we consider that the following developments should be the next steps:\n",
        "\n",
        "* Create a heatmap of temporal distance, so it would be possible to understand the time it takes to arrive at all of the city's points. This would also include transhipment since sometimes people need to take more than one different transport to move from one point to another.\n",
        "\n",
        "* Understand the local with more elder population to better acknowledge if there is the necessity to add more routes options.\n",
        "\n",
        "\n"
      ]
    }
  ]
}