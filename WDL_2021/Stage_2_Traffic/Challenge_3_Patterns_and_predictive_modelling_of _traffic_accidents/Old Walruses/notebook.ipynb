{
 "cells": [
  {
   "cell_type": "markdown",
   "metadata": {
    "id": "JeP6xkRIBJco"
   },
   "source": [
    "# World Data League 2021\n",
    "## Notebook Template\n",
    "\n",
    "This notebook is one of the mandatory deliverables when you submit your solution (alongside the video pitch). Its structure follows the WDL evaluation criteria and it has dedicated cells where you can add descriptions. Make sure your code is readable as it will be the only technical support the jury will have to evaluate your work.\n",
    "\n",
    "The notebook must:\n",
    "\n",
    "*   💻 have all the code that you want the jury to evaluate\n",
    "*   🧱 follow the predefined structure\n",
    "*   📄 have markdown descriptions where you find necessary\n",
    "*   👀 be saved with all the output that you want the jury to see\n",
    "*   🏃‍♂️ be runnable\n"
   ]
  },
  {
   "cell_type": "markdown",
   "metadata": {},
   "source": [
    "## Using R in ipynb notebooks\n",
    "\n",
    "**Note that the script is written in R, therefore in order to be able to execute it, R kernel should be installed and selected in Jupyter.**\n",
    "\n",
    "See more at https://docs.anaconda.com/anaconda/user-guide/tasks/using-r-language/ and a practical guide at https://kyleake.medium.com/how-to-install-r-in-jupyter-with-irkernel-in-3-steps-917519326e41.\n",
    "\n",
    "Also note that *geojsonio* package is not enlisted among the packages of the [Anaconda repo](https://repo.anaconda.com/pkgs/r/), but can still be installed through R. Unfortunately the other R packages for geojson manipulation could not handle the specific object (sp SpatialMultiPointsDataFrame) correctly."
   ]
  },
  {
   "cell_type": "code",
   "execution_count": null,
   "metadata": {},
   "outputs": [],
   "source": [
    "#uncomment to run\n",
    "#install.packages(\"geojsonio\")"
   ]
  },
  {
   "cell_type": "markdown",
   "metadata": {
    "id": "1QNcZrkVu9xf"
   },
   "source": [
    "## External links and resources"
   ]
  },
  {
   "cell_type": "markdown",
   "metadata": {
    "id": "VJzSXXIYvxf9"
   },
   "source": [
    "There is a variety of sites publishing open data in Waterloo (CA) area:\n",
    "- [Waterloo city](https://data.waterloo.ca/datasets/75fa68b17e5b421d9d881f987c2d43fc_0?geometry=-81.052%2C43.339%2C-79.893%2C43.514)\n",
    "- [Kitchener city](https://open-kitchenergis.opendata.arcgis.com/datasets/traffic-collisions?geometry=-80.994%2C43.339%2C-79.951%2C43.514)\n",
    "- [Waterloo region](https://rowopendata-rmw.opendata.arcgis.com/datasets/KitchenerGIS::traffic-collisions?geometry=-80.994%2C43.339%2C-79.951%2C43.514)\n",
    "\n",
    "All of these sites offer in theory the same dataset, **Traffic Collisions in Kitchener**. The **API link for the full geojson data** is \n",
    "https://opendata.arcgis.com/datasets/75fa68b17e5b421d9d881f987c2d43fc_0.geojson from all 3 sites.\n",
    "\n",
    "We download another dataset from Waterloo Open Data Portal on the **Kitchener road system** (look for API at https://data.waterloo.ca/datasets/KitchenerGIS::roads), and also experimented with **OpenStreetMap** data through the *osmdata* R package.\n",
    "\n",
    "**Note:** we met a disturbing phenomenon, which may also affect the execution of this notebook, namely that occasionally the downloaded dataset consists of not 12.201, but 4.099 rows (and it is not a subset of the bigger dataset!). We do not understand this (even asked for help through the wdl-challenge-support channel on 29/04/2021), but it can impact the findings of this notebook."
   ]
  },
  {
   "cell_type": "markdown",
   "metadata": {
    "id": "63ltgxp_rOpI"
   },
   "source": [
    "## Introduction"
   ]
  },
  {
   "cell_type": "markdown",
   "metadata": {
    "id": "Hp34gOznrwrq"
   },
   "source": [
    "We chose the ***Patterns and predictive modelling of traffic accidents*** in stage 2 of WDL.  The goal of our submission is to visualize spatial patterns and apply predictive modelling techniques to help better understand factors behind traffic accidents. \n",
    "\n",
    "We aim to provide an explainable predictive model of traffic accidents at street (road segment) level by the period of the day. \n",
    "\n",
    "Our steps were:\n",
    "\n",
    " - Load, understand and enrich data.\n",
    "\n",
    " - Understand potential use cases for our model. This will help with the decision making process while modeling.\n",
    "\n",
    " - Start building the groundwork for the model. Some, otherwise useful data didn't support our predictive model. As we might have been able to incorporate these in the analysis if we had more time, we'll still briefly introduce these.\n",
    "\n",
    " - Develop models\n",
    "\n",
    " - Identify key variables and suggest actionable proposal which can offer a good return on investment for the community.\n",
    "\n",
    "\n",
    "### Potential Use Cases\n",
    "\n",
    " Understanding and predicting traffic accidents can have the following main use cases:\n",
    "\n",
    " - Identify and justify road (re)construction projects (e.g. change intersections or add additional protective devices) with the highest returns\n",
    " \n",
    " - Support the design of the development of the road network of a city\n",
    "\n",
    " - Support proactive placement of traffic police\n",
    "\n",
    " - Adjust traffic signs and adaptive speed limit control\n",
    "\n",
    " - Predict insurance claims\n",
    "\n",
    " - Target certain demographic groups to reduce accidents (improve safety for bicycles, reduce drinking and driving, reduce mobile usage while driving)"
   ]
  },
  {
   "cell_type": "markdown",
   "metadata": {
    "id": "C8rCpNajszur"
   },
   "source": [
    "## Development"
   ]
  },
  {
   "cell_type": "code",
   "execution_count": null,
   "metadata": {
    "executionInfo": {
     "elapsed": 522,
     "status": "ok",
     "timestamp": 1619845817985,
     "user": {
      "displayName": "Lilla Tagai",
      "photoUrl": "https://lh5.googleusercontent.com/-iVHY13DD7Bg/AAAAAAAAAAI/AAAAAAAAGvM/L7De7NgHjA4/s64/photo.jpg",
      "userId": "00454873866386097808"
     },
     "user_tz": -120
    },
    "id": "afB4W0KnutpV"
   },
   "outputs": [],
   "source": [
    "url_geojson <- \"https://opendata.arcgis.com/datasets/75fa68b17e5b421d9d881f987c2d43fc_0.geojson\" \n",
    "url_geojson_roads <- \"https://opendata.arcgis.com/datasets/c2a28a64955943ffad68e7ce099c5556_0.geojson\""
   ]
  },
  {
   "cell_type": "code",
   "execution_count": null,
   "metadata": {
    "colab": {
     "base_uri": "https://localhost:8080/"
    },
    "executionInfo": {
     "elapsed": 1574,
     "status": "ok",
     "timestamp": 1619846309802,
     "user": {
      "displayName": "Lilla Tagai",
      "photoUrl": "https://lh5.googleusercontent.com/-iVHY13DD7Bg/AAAAAAAAAAI/AAAAAAAAGvM/L7De7NgHjA4/s64/photo.jpg",
      "userId": "00454873866386097808"
     },
     "user_tz": -120
    },
    "id": "J4jPpcKOutZ5",
    "outputId": "c505053a-c288-4f96-fd69-16a98d01d03f"
   },
   "outputs": [],
   "source": [
    "require(tidyverse)\n",
    "require(leaflet)\n",
    "require(leaflet.extras)\n",
    "require(rgdal)\n",
    "require(sf)\n",
    "require(osmdata)\n",
    "require(ggmap)\n",
    "require(lubridate)\n",
    "require(sp)\n",
    "require(rgeos)\n",
    "require(raster)\n",
    "require(weathercan)\n",
    "require(naniar)\n",
    "require(maptools)\n",
    "require(data.table)\n",
    "require(RcmdrMisc)\n",
    "require(caret)\n",
    "require(RColorBrewer)\n",
    "require(skimr)\n",
    "require(gridExtra)"
   ]
  },
  {
   "cell_type": "code",
   "execution_count": null,
   "metadata": {
    "colab": {
     "base_uri": "https://localhost:8080/",
     "height": 249
    },
    "executionInfo": {
     "elapsed": 1068,
     "status": "error",
     "timestamp": 1619846324489,
     "user": {
      "displayName": "Lilla Tagai",
      "photoUrl": "https://lh5.googleusercontent.com/-iVHY13DD7Bg/AAAAAAAAAAI/AAAAAAAAGvM/L7De7NgHjA4/s64/photo.jpg",
      "userId": "00454873866386097808"
     },
     "user_tz": -120
    },
    "id": "LQ90XveiBN6A",
    "outputId": "f0c7d86d-5f1d-4df6-d0d3-05607926d824"
   },
   "outputs": [],
   "source": [
    "# the data is downloaded as an sp SpatialMultiPointsDataFrame object, which is designed to manipulate point set data. \n",
    "# this is unnecessarily complex for our use case and the DF contains only coordinates of 1 point in each row\n",
    "# so the data is turned to SpatialPointsDataFrame object\n",
    "url_geojson <- URLencode(url_geojson)\n",
    "data_waterloo1 <- geojsonio::geojson_read(url_geojson, what = \"sp\")\n",
    "longlat <- data.frame(lon = coordinates(data_waterloo1)[,1], lat = coordinates(data_waterloo1)[,2])\n",
    "data_waterloo <- SpatialPointsDataFrame(coords = longlat, data = data_waterloo1@data, proj4string = CRS(\"+proj=longlat +datum=WGS84 +no_defs\"))\n",
    "names(data_waterloo) <- tolower(names(data_waterloo))"
   ]
  },
  {
   "cell_type": "code",
   "execution_count": null,
   "metadata": {
    "colab": {
     "base_uri": "https://localhost:8080/",
     "height": 249
    },
    "executionInfo": {
     "elapsed": 535,
     "status": "error",
     "timestamp": 1619845828743,
     "user": {
      "displayName": "Lilla Tagai",
      "photoUrl": "https://lh5.googleusercontent.com/-iVHY13DD7Bg/AAAAAAAAAAI/AAAAAAAAGvM/L7De7NgHjA4/s64/photo.jpg",
      "userId": "00454873866386097808"
     },
     "user_tz": -120
    },
    "id": "WNq4oMcBLbDE",
    "outputId": "e734cfc2-bb9d-42f3-b34f-15de0d8b706c"
   },
   "outputs": [],
   "source": [
    "url_geojson_roads <- URLencode(url_geojson_roads)\n",
    "data_waterloo_roads <- geojsonio::geojson_read(url_geojson_roads, what = \"sp\")   \n",
    "names(data_waterloo_roads) <- tolower(names(data_waterloo_roads))"
   ]
  },
  {
   "cell_type": "markdown",
   "metadata": {
    "id": "516rgSZgLbDE"
   },
   "source": [
    "### Example OpenStreetMap (OSM)  application in R\n",
    "Many features could be downloaded using the *osmdata* R package, below is an example with speed limits data on the map of Kitchener. See more info about OSM on https://wiki.openstreetmap.org/wiki/Map_features.\n",
    "\n",
    "After careful investigation of the data, however, we decided that the available road segment dataset on the Waterloo open data portals should suffice for our purposes."
   ]
  },
  {
   "cell_type": "code",
   "execution_count": null,
   "metadata": {
    "colab": {
     "base_uri": "https://localhost:8080/",
     "height": 130
    },
    "executionInfo": {
     "elapsed": 537,
     "status": "error",
     "timestamp": 1619845255275,
     "user": {
      "displayName": "Lilla Tagai",
      "photoUrl": "https://lh5.googleusercontent.com/-iVHY13DD7Bg/AAAAAAAAAAI/AAAAAAAAGvM/L7De7NgHjA4/s64/photo.jpg",
      "userId": "00454873866386097808"
     },
     "user_tz": -120
    },
    "id": "1K2yAWFVLbDE",
    "outputId": "a899bf2e-db10-4e8b-e578-3288fd7930e0"
   },
   "outputs": [],
   "source": [
    "head(available_features())"
   ]
  },
  {
   "cell_type": "code",
   "execution_count": null,
   "metadata": {
    "colab": {
     "base_uri": "https://localhost:8080/",
     "height": 96
    },
    "executionInfo": {
     "elapsed": 553,
     "status": "error",
     "timestamp": 1619845262347,
     "user": {
      "displayName": "Lilla Tagai",
      "photoUrl": "https://lh5.googleusercontent.com/-iVHY13DD7Bg/AAAAAAAAAAI/AAAAAAAAGvM/L7De7NgHjA4/s64/photo.jpg",
      "userId": "00454873866386097808"
     },
     "user_tz": -120
    },
    "id": "vqT1QidHLbDE",
    "outputId": "7736cbd8-aa19-4128-b71b-41e70b2c9af7"
   },
   "outputs": [],
   "source": [
    "bb_wat <- data_waterloo@bbox \n",
    "rownames(bb_wat) <- c(\"x\", \"y\")\n",
    "q <-  bb_wat %>% \n",
    "  opq() %>% \n",
    "  add_osm_feature(key = \"maxspeed\")  \n",
    "poi_osm_sp <- osmdata_sp(q)\n",
    "poi_osm_sp$osm_points <- subset(poi_osm_sp$osm_points, !is.na(poi_osm_sp$osm_points$maxspeed))"
   ]
  },
  {
   "cell_type": "code",
   "execution_count": null,
   "metadata": {
    "colab": {
     "base_uri": "https://localhost:8080/",
     "height": 96
    },
    "executionInfo": {
     "elapsed": 658,
     "status": "error",
     "timestamp": 1619845265962,
     "user": {
      "displayName": "Lilla Tagai",
      "photoUrl": "https://lh5.googleusercontent.com/-iVHY13DD7Bg/AAAAAAAAAAI/AAAAAAAAGvM/L7De7NgHjA4/s64/photo.jpg",
      "userId": "00454873866386097808"
     },
     "user_tz": -120
    },
    "id": "0h7KA2UJLbDF",
    "outputId": "84f17432-0170-476c-a809-612609d66d35",
    "scrolled": true
   },
   "outputs": [],
   "source": [
    "pal <- colorFactor(RColorBrewer::brewer.pal(8, \"OrRd\"), domain = factor(seq(30,100, 10)))\n",
    "leaflet() %>% \n",
    "  setView(lng = -80.49, lat = 43.43, zoom = 12) %>%\n",
    "  addTiles() %>%\n",
    "  addCircleMarkers(lng = coordinates(poi_osm_sp$osm_points)[,1], lat = coordinates(poi_osm_sp$osm_points)[,2], \n",
    "                   radius = 10, color = \"black\", weight = 2, fillColor = ~pal(poi_osm_sp$osm_points$maxspeed), \n",
    "                   opacity = 0.8, fillOpacity = 0.8,\n",
    "                   data = poi_osm_sp) %>% \n",
    "  addLegend(\"bottomleft\", pal = pal, values = ~maxspeed, opacity = 1, \n",
    "            title = \"MaxSpeed (km/h)\",\n",
    "            data = poi_osm_sp$osm_points)"
   ]
  },
  {
   "cell_type": "markdown",
   "metadata": {
    "id": "W3HmPL-JLbDF"
   },
   "source": [
    "### Exploratory Data Analysis"
   ]
  },
  {
   "cell_type": "code",
   "execution_count": null,
   "metadata": {
    "colab": {
     "base_uri": "https://localhost:8080/",
     "height": 164
    },
    "executionInfo": {
     "elapsed": 539,
     "status": "error",
     "timestamp": 1619845269603,
     "user": {
      "displayName": "Lilla Tagai",
      "photoUrl": "https://lh5.googleusercontent.com/-iVHY13DD7Bg/AAAAAAAAAAI/AAAAAAAAGvM/L7De7NgHjA4/s64/photo.jpg",
      "userId": "00454873866386097808"
     },
     "user_tz": -120
    },
    "id": "Zp0vTYjcLbDF",
    "outputId": "f32165e9-2c92-41a4-cd65-13a8ac19766e",
    "scrolled": false
   },
   "outputs": [],
   "source": [
    "data_waterloo %>% \n",
    "  leaflet() %>%\n",
    "  addProviderTiles(providers$CartoDB.Positron) %>%\n",
    "  addCircleMarkers(stroke = FALSE, fillOpacity = 0.8,  \n",
    "                   clusterOptions = markerClusterOptions()) %>% \n",
    "  addHeatmap(radius = 8)"
   ]
  },
  {
   "cell_type": "markdown",
   "metadata": {},
   "source": [
    "We checked available variables to understand how to clean and feature engineer them."
   ]
  },
  {
   "cell_type": "code",
   "execution_count": null,
   "metadata": {},
   "outputs": [],
   "source": [
    "head(data_waterloo@data)"
   ]
  },
  {
   "cell_type": "markdown",
   "metadata": {},
   "source": [
    "The challenge explicitly asked us to examine the impact of ***day period*** on accidents, and we only found this information in the *light* variable."
   ]
  },
  {
   "cell_type": "code",
   "execution_count": null,
   "metadata": {
    "id": "PaSGK6DaLbDF",
    "scrolled": true
   },
   "outputs": [],
   "source": [
    "data_waterloo@data %>% count(light)"
   ]
  },
  {
   "cell_type": "markdown",
   "metadata": {
    "id": "Dl2xIRpjLbDF"
   },
   "source": [
    "**Regional roads and highways** with heatmap of traffic collisions in the background.\n",
    "\n",
    "If you zoom in on regional roads and highways, it seems that collisions were only recorded in intersections. The actual surface of these major roads is probably covered in the dataset - therefore we omit this data during cleaning."
   ]
  },
  {
   "cell_type": "code",
   "execution_count": null,
   "metadata": {
    "id": "QDf3UB17LbDF"
   },
   "outputs": [],
   "source": [
    "leaflet() %>%\n",
    "  addProviderTiles(providers$CartoDB.Positron) %>%\n",
    "  addPolylines(data = subset(data_waterloo_roads, !is.na(regional_road))) %>% \n",
    "  addPolylines(data = subset(data_waterloo_roads, !is.na(highway)), color = \"red\") %>% \n",
    "  addHeatmap(data = data_waterloo, radius = 8, blur = 8)"
   ]
  },
  {
   "cell_type": "markdown",
   "metadata": {
    "id": "hvnYX7W5LbDG"
   },
   "source": [
    "A good way to understand different elements or categories is to map them and try to understand their role. \n",
    "\n",
    "E.g. on the following map we can see that *bulbs* are practically roundabouts in *cul-de-sac*, which are most probably constructed in residential areas."
   ]
  },
  {
   "cell_type": "code",
   "execution_count": null,
   "metadata": {
    "id": "EAHKZ_hRLbDG",
    "scrolled": true
   },
   "outputs": [],
   "source": [
    "pal1 <- colorFactor(c(\"black\", \"black\", \"green\", \"blue\", \"orange\"), \n",
    "                   domain = c(\"BULB\", \"HIGHWAY\", \"RAMP\", \"ROAD\", \"ROUNDABOUT\"))\n",
    "leaflet() %>% \n",
    "  addTiles() %>%\n",
    "  addPolylines(data = data_waterloo_roads, color = ~pal1(data_waterloo_roads@data$category))  "
   ]
  },
  {
   "cell_type": "markdown",
   "metadata": {
    "id": "SnfAz43PLbDG"
   },
   "source": [
    "We can see that *truck access* is mainly allowed on the major roads (allowed routes are denoted black)."
   ]
  },
  {
   "cell_type": "code",
   "execution_count": null,
   "metadata": {
    "id": "e9ObzolgLbDG"
   },
   "outputs": [],
   "source": [
    "pal2 <- colorFactor(c(\"black\", \"black\", \"black\", \"black\", \"black\", \"blue\"), \n",
    "                    domain = c(\"7-7 MON-FRI\", \"7-7 MON-SAT\", \"7-7 MON-SUN\", \"MON-SUN\", \"24HR\", \"NO ACCESS\"))\n",
    "leaflet() %>% \n",
    "  addTiles() %>%\n",
    "  addPolylines(data = data_waterloo_roads,\n",
    "               color = ~pal2(data_waterloo_roads@data$truck_access)) %>% \n",
    "  addHeatmap(data = data_waterloo, radius = 8)"
   ]
  },
  {
   "cell_type": "markdown",
   "metadata": {
    "id": "zeOB6GWbLbDG"
   },
   "source": [
    "Bus routes seem to be only sporadically entered in the data. Still, we kept it in our analysis as buses can constitute traffic obstructions themselves, and also it seems that bus routes follow a different pattern than the main roads in the hierarchical road network."
   ]
  },
  {
   "cell_type": "code",
   "execution_count": null,
   "metadata": {
    "id": "cjtQ4zoALbDG",
    "scrolled": false
   },
   "outputs": [],
   "source": [
    "leaflet() %>%                                                             \n",
    "  addProviderTiles(providers$CartoDB.Positron) %>%\n",
    "  addPolylines(data = subset(data_waterloo_roads, bus_route == \"Y\")) %>% \n",
    "  addHeatmap(data = data_waterloo, radius = 8)"
   ]
  },
  {
   "cell_type": "markdown",
   "metadata": {
    "id": "J7FG5X39LbDG"
   },
   "source": [
    "Numerous classifications are available in the road dataset: *category*, *subcategory*, *carto_class*, *official_road_classification*. After examining their contents, we decided to drop them except for *category* and *subcategory*."
   ]
  },
  {
   "cell_type": "code",
   "execution_count": null,
   "metadata": {
    "id": "0kYZ1LtXLbDH"
   },
   "outputs": [],
   "source": [
    "data_waterloo_roads@data %>% count(category, subcategory, carto_class)"
   ]
  },
  {
   "cell_type": "markdown",
   "metadata": {
    "id": "YIf4eDxGLbDH"
   },
   "source": [
    "### Data cleaning\n",
    "\n"
   ]
  },
  {
   "cell_type": "code",
   "execution_count": null,
   "metadata": {
    "id": "NiWL3E0NLbDH"
   },
   "outputs": [],
   "source": [
    "data_waterloo@data <- data_waterloo@data %>% \n",
    "  mutate(accidentdate = ymd(accidentdate))\n",
    "data_waterloo@data$trafficcollisionsid <- NULL\n",
    "data_waterloo@data <- data_waterloo@data %>% \n",
    "  mutate(day_period = case_when(str_detect(light, \"Daylight\") ~ \"Day\",\n",
    "                                str_detect(light, \"Dawn\") ~ \"Dawn\",\n",
    "                                str_detect(light, \"Dusk\") ~ \"Evening\",\n",
    "                                str_detect(light, \"Dark\") ~ \"Night\"))\n",
    "data_waterloo <- subset(data_waterloo, !(is.na(accident_location) | is.na(impact_location) | is.na(environment_condition) | \n",
    "                                            is.na(light) ))    "
   ]
  },
  {
   "cell_type": "code",
   "execution_count": null,
   "metadata": {
    "id": "nkVcXuwpLbDH"
   },
   "outputs": [],
   "source": [
    "data_waterloo@data <- data_waterloo@data %>% \n",
    "  mutate(fromstreet = str_trim(str_split(location, \"@|(btwn)\", simplify = TRUE)[,1])) %>%\n",
    "  mutate(tostreet = str_trim(str_split(location, \"@|(btwn)\", simplify = TRUE)[,2])) %>% \n",
    "  mutate(tostreet_1 = str_trim(str_split(tostreet, \"&\", simplify = TRUE)[,1])) %>% \n",
    "  mutate(tostreet_2 = str_trim(str_split(tostreet, \"&\", simplify = TRUE)[,2])) %>% \n",
    "  dplyr::select(-tostreet)"
   ]
  },
  {
   "cell_type": "code",
   "execution_count": null,
   "metadata": {
    "id": "Lsj0BjW1LbDH"
   },
   "outputs": [],
   "source": [
    "data_waterloo_roads <- subset(data_waterloo_roads, (is.na(regional_road) & is.na(highway) ))\n",
    "cols_to_del <- c(\"street\", \"from_street\", \"to_street\", \"from_left_address\", \"from_right_address\", \"to_left_address\", \"to_right_address\", \n",
    "                 \"right_side_parity\", \"regional_road\", \"highway\", \"municipality\", \"general_grid_id\",\n",
    "                 \"sequence\", \"ownership\", \"plow_route\", \"median_type\", \"street_direction\", \"leaf_route\", \"left_municipality\", \n",
    "                 \"right_municipality\", \"create_by\", \"update_date\", \"update_by\", \"source\", \"revision_notes\", \"status\", \"row_width\",\n",
    "                 \"quarter_grid_id\", \"wardid\", \"planningcommunityid\", \"str_roadsegmentid\", \"fireresponsezoneid\", \"parcelid\",\n",
    "                 \"shoulder\", \"maintenance\", \"carto_class\", \"operations_class\", \"salt_sand_route\", \"startx\", \"starty\", \"endx\", \"endy\", \n",
    "                 \"road_patrol\", \"operations_mto_class\", \"last_road_patrol_date\", \n",
    "                 \"next_road_patrol_date\", \"surface_layer_type\", \"official_road_classification\", \"aadt_year\", \"aadt_type\", \n",
    "                 \"calculated_mto_class\", \"service_year\", \"next_road_patrol_due\")\n",
    "data_waterloo_roads@data[cols_to_del] <- NULL\n",
    "data_waterloo_roads@data <- data_waterloo_roads@data %>% \n",
    "  mutate(flow_direction = if_else(flow_direction == \"TwoWay\", 1, 0)) %>% \n",
    "  mutate(aadt = log(aadt+1)) %>% \n",
    "  mutate(lanes = if_else(lanes >= 5, 5L, .$lanes)) %>% \n",
    "  mutate(speed_limit_km = case_when(speed_limit_km == 50 ~ \"50\",\n",
    "                                 speed_limit_km > 50 ~ \"50+\",\n",
    "                                 speed_limit_km < 50 ~ \"50-\")) %>% \n",
    "  mutate(truck_access = if_else(truck_access == \"NO ACCESS\", 0, 1)) %>% \n",
    "  mutate(bus_route = if_else(bus_route == \"Y\", 1, 0)) %>% \n",
    "  mutate(shape__length = log(shape__length))"
   ]
  },
  {
   "cell_type": "markdown",
   "metadata": {
    "id": "11p50tsuLbDH"
   },
   "source": [
    "To perform **spatial join** of the 2 datasets (collisions and roads), we tried to match the spatial points of collisions to the polylines of the road segments, but only a small part of the connected features could be really captured this way. Therefore we decided to establish a **10 m wide buffer** (1/11114 planar coordinates) along the road segments and do the spatial join on the resulting polygons. We experimented with wider buffers as well, but this seemed to be a good compromise between picking up the points close to the road segments, but not picking up points already belonging to other segments as well.\n",
    "\n",
    "Of course the spatial join is a delicate task and could have been refined more, and also the points still left out from the joined dataset could be grabbed (check out the red points not on blue buffer areas in the map below when zooming in the map), e.g. by their minimal distance to any road segments, but we decided to keep this simple algorithm for this demonstration task."
   ]
  },
  {
   "cell_type": "code",
   "execution_count": null,
   "metadata": {
    "id": "vGYFmCn9LbDH"
   },
   "outputs": [],
   "source": [
    "data_waterloo_roads_buffer <- rgeos::gBuffer(data_waterloo_roads, byid = TRUE, width = 1/11114,\n",
    "                                             capStyle = \"FLAT\", joinStyle = \"MITRE\")  # 10 m wide "
   ]
  },
  {
   "cell_type": "code",
   "execution_count": null,
   "metadata": {
    "id": "8YII39vqLbDI"
   },
   "outputs": [],
   "source": [
    "leaflet(data_waterloo_roads_buffer, options = leafletOptions(minZoom = 14)) %>%\n",
    "  addProviderTiles(providers$CartoDB.Positron) %>%\n",
    "  addPolygons() %>% \n",
    "  addPolylines(data = data_waterloo_roads) %>% \n",
    "  addCircles(data = data_waterloo, radius = 10, color = \"red\")\n"
   ]
  },
  {
   "cell_type": "markdown",
   "metadata": {},
   "source": [
    "## Data preparation for the ML exercise\n",
    "\n",
    "**We decided to include summary data of all the accidents that belong to a road segment, and thus investigate the factors explaining why a given road segment is more dangerous (in terms of more traffic accidents) than another.**\n",
    "\n",
    "We constructed 2 target features:\n",
    "\n",
    "- the number of accidents in a given road segment throughout the whole period (2005-2018)\n",
    "- introducing a categorical variable for road segments with 0, 1-3 and 4+ accidents in the whole period\n",
    "\n",
    "Also constructed the same targets by the 4 day period (dawn, day, evening, night) to be able to examine differences from this ascpect. \n",
    "\n",
    "*Note that for lack of time we have not worked with all potential factors, e.g. artificial light augmenting conditions for drivers relative to natural light.*"
   ]
  },
  {
   "cell_type": "code",
   "execution_count": null,
   "metadata": {
    "id": "59Kw-p8DLbDI"
   },
   "outputs": [],
   "source": [
    "data_waterloo_joined4 <- over(data_waterloo_roads_buffer, data_waterloo, returnList = TRUE) # list of DFs output \n",
    "data_waterloo_joined4_all <- data_waterloo_joined4 %>% map_df(rbind)       # 15853 rows\n",
    "num_accidents <- sapply(data_waterloo_joined4, nrow)"
   ]
  },
  {
   "cell_type": "code",
   "execution_count": null,
   "metadata": {
    "id": "9NOytcZbLbDI"
   },
   "outputs": [],
   "source": [
    "paste2 <- function(x, y, sep = \"\") paste(x, y, sep = sep)  \n",
    "\n",
    "col_collisiontype <- data_waterloo_joined4 %>% \n",
    "  map_chr(~ reduce(.x$collision_type, paste2, .init = \"\"))\n",
    "col_collisiontype <- if_else(col_collisiontype == \"\", NA_character_, col_collisiontype)\n",
    "col_collision_type_int <- if_else(is.na(col_collisiontype), 0L, str_count(col_collisiontype, \"INTERSECTION\") )\n",
    "col_collision_type_mid <- if_else(is.na(col_collisiontype), 0L, str_count(col_collisiontype, \"MIDBLOCK\") )"
   ]
  },
  {
   "cell_type": "code",
   "execution_count": null,
   "metadata": {
    "id": "moe66yQsLbDI"
   },
   "outputs": [],
   "source": [
    "col_dayperiod <- data_waterloo_joined4 %>% \n",
    "  map_chr(~ reduce(.x$day_period, paste2, .init = \"\"))\n",
    "col_dayperiod <- if_else(col_dayperiod == \"\", NA_character_, col_dayperiod)\n",
    "col_dayperiod_day <- if_else(is.na(col_dayperiod), 0L, str_count(col_dayperiod, \"Day\") )\n",
    "col_dayperiod_nig <- if_else(is.na(col_dayperiod), 0L, str_count(col_dayperiod, \"Night\") )\n",
    "col_dayperiod_daw <- if_else(is.na(col_dayperiod), 0L, str_count(col_dayperiod, \"Dawn\") )\n",
    "col_dayperiod_eve <- if_else(is.na(col_dayperiod), 0L, str_count(col_dayperiod, \"Evening\") )"
   ]
  },
  {
   "cell_type": "code",
   "execution_count": null,
   "metadata": {
    "id": "Zq3N-lJbLbDI"
   },
   "outputs": [],
   "source": [
    "data_waterloo_ML <- spCbind(data_waterloo_roads, num_accidents)\n",
    "data_waterloo_ML <- spCbind(data_waterloo_ML, col_dayperiod_day)\n",
    "data_waterloo_ML <- spCbind(data_waterloo_ML, col_dayperiod_nig)\n",
    "data_waterloo_ML <- spCbind(data_waterloo_ML, col_dayperiod_daw)\n",
    "data_waterloo_ML <- spCbind(data_waterloo_ML, col_dayperiod_eve)\n",
    "data_waterloo_ML <- spCbind(data_waterloo_ML, col_collision_type_int)\n",
    "data_waterloo_ML <- spCbind(data_waterloo_ML, col_collision_type_mid)"
   ]
  },
  {
   "cell_type": "markdown",
   "metadata": {},
   "source": [
    "This is the final dataset for the ML exercise:"
   ]
  },
  {
   "cell_type": "code",
   "execution_count": null,
   "metadata": {
    "id": "D8XHb6uYLbDI"
   },
   "outputs": [],
   "source": [
    "skimr::skim_without_charts(data_waterloo_ML@data) %>%\n",
    "  dplyr::select(-complete_rate)"
   ]
  },
  {
   "cell_type": "code",
   "execution_count": null,
   "metadata": {
    "id": "Xt-LOZ5VLbDI"
   },
   "outputs": [],
   "source": [
    "data_ml <- data_waterloo_ML@data\n",
    "setDT(data_ml)\n",
    "\n",
    "data_ml[num_accidents == 0, num_accidents_cat:= \"noAccident\"]\n",
    "data_ml[num_accidents > 0 & num_accidents <= 3, num_accidents_cat:= \"lowAccident\"]\n",
    "data_ml[num_accidents > 3, num_accidents_cat:= \"highAccident\"]\n",
    "\n",
    "data_ml[, street_type:= as.factor(street_type)]\n",
    "data_ml[is.na(street_type), street_type:= \"other\"]\n",
    "data_ml[is.na(plow_priority), plow_priority:= -1]\n",
    "data_ml[, category:= as.factor(category)]\n",
    "data_ml[, subcategory:= as.factor(subcategory)]\n",
    "data_ml[is.na(pavement_width), pavement_width:= -1]\n",
    "data_ml[is.na(flow_direction), flow_direction:= 1]\n",
    "data_ml[, speed_limit_km:= as.factor(speed_limit_km)]\n",
    "data_ml[is.na(truck_access), truck_access:= 0]\n",
    "data_ml[is.na(speed_limit_km), speed_limit_km:= \"50\"]\n",
    "data_ml[speed_limit_km==\"50+\", speed_limit_km:= \"50\"]\n",
    "data_ml[is.na(bus_route), bus_route:= 0]\n",
    "data_ml[is.na(shape__length), pavement_width:= -1]\n",
    "data_ml[is.na(aadt), aadt:= -1]"
   ]
  },
  {
   "cell_type": "markdown",
   "metadata": {},
   "source": [
    "Benchmark for the categorical variable based on statistical distribution (probability). This helps to see if our model performs better than prediction based on knowing the ratio of the different categories."
   ]
  },
  {
   "cell_type": "code",
   "execution_count": null,
   "metadata": {},
   "outputs": [],
   "source": [
    "dist_num_acc <- summary(factor(data_ml$num_accidents_cat))\n",
    "data_ml[, num_accidents_cat_bm:= sample(c(\"highAccident\", \"lowAccident\", \"noAccident\"), prob = c(dist_num_acc['highAccident'],\n",
    "                                                                                                 dist_num_acc['lowAccident'],\n",
    "                                                                                                 dist_num_acc['noAccident']),\n",
    "                                        size = nrow(data_ml), replace = T)]"
   ]
  },
  {
   "cell_type": "markdown",
   "metadata": {
    "id": "l-PfIIfsLbDJ"
   },
   "source": [
    "### EDA for the ML target variables"
   ]
  },
  {
   "cell_type": "markdown",
   "metadata": {
    "id": "GhCV531uLbDJ"
   },
   "source": [
    "Exploring the target variables, e.g. their basic histograms both in normal&log and the categorical forms.\n",
    "\n",
    "*Note that the variables reveals that we are dealing with an unbalanced dataset. We have not addressed this issue for lack of time.*"
   ]
  },
  {
   "cell_type": "code",
   "execution_count": null,
   "metadata": {
    "id": "xqewXXaLLbDJ"
   },
   "outputs": [],
   "source": [
    "options(repr.plot.width=7, repr.plot.height=1.5)\n",
    "plot1 <- ggplot(data_ml, aes(x = num_accidents)) +\n",
    "  geom_histogram() +\n",
    "  theme_bw()\n",
    "plot2 <- ggplot(data_ml, aes(x = log1p(num_accidents))) +\n",
    "  geom_histogram() +\n",
    "  theme_bw()\n",
    "plot2 <- ggplot(data_ml, aes(x = log1p(num_accidents))) +\n",
    "  geom_histogram() +\n",
    "  theme_bw()\n",
    "plot3 <- ggplot(data_ml, aes(x = num_accidents_cat)) +\n",
    "  geom_bar() +\n",
    "  theme_bw() +\n",
    "  coord_flip()\n",
    "grid.arrange(plot1, plot2, plot3, ncol=3, widths = c(30,30,40))"
   ]
  },
  {
   "cell_type": "markdown",
   "metadata": {},
   "source": [
    "A few more visualizations of the relationship of the target and independent variables.\n",
    "\n",
    "Interestingly, there seem to be more accidents on average in roads with speed limits (lower than 50 km/h). This can have various explanations that speed limits were imposed on the already more dangerous road segments (maybe during the long period investigated). Also, we don't know anything about the severity of these accidents, and minor accidents with low speeds in residential areas obviously have lower social costs than severe accidents with higher speeds on major roads."
   ]
  },
  {
   "cell_type": "code",
   "execution_count": null,
   "metadata": {
    "id": "dd-CBByWLbDJ"
   },
   "outputs": [],
   "source": [
    "options(repr.plot.width=5, repr.plot.height=1.5)\n",
    "data_ml[, speed_limit_km:= as.factor(speed_limit_km)]\n",
    "data_ml[is.na(speed_limit_km), speed_limit_km:= \"50\"]\n",
    "ggplot(data_ml, aes(x = as.factor(speed_limit_km), y = log1p(num_accidents))) +\n",
    "  geom_boxplot() +\n",
    "  theme_bw()"
   ]
  },
  {
   "cell_type": "markdown",
   "metadata": {},
   "source": [
    "Average annual daily turnover (aadt) is also included in the roads dataset. Unfortunately this data is provided in different years for each road segment (there is a variable Aadt_Year), so it is not very useful for comparison, but this is the best we have. We use it in log form."
   ]
  },
  {
   "cell_type": "code",
   "execution_count": null,
   "metadata": {},
   "outputs": [],
   "source": [
    "options(repr.plot.width=7, repr.plot.height=1.5)\n",
    "plot1 <- ggplot(data_ml, aes(x = (aadt))) +\n",
    "  geom_histogram() +\n",
    "  theme_bw()\n",
    "plot2 <- ggplot(data_ml, aes(x = (aadt), y = log1p(num_accidents))) +\n",
    "  geom_jitter() +\n",
    "  geom_smooth() +\n",
    "  theme_bw()\n",
    "grid.arrange(plot1, plot2, ncol=2)"
   ]
  },
  {
   "cell_type": "markdown",
   "metadata": {},
   "source": [
    "## Model building\n",
    "### Numerical target"
   ]
  },
  {
   "cell_type": "markdown",
   "metadata": {},
   "source": [
    "We separated 20% of the data for testing."
   ]
  },
  {
   "cell_type": "code",
   "execution_count": null,
   "metadata": {},
   "outputs": [],
   "source": [
    "set.seed(1234)\n",
    "trainIndex <- createDataPartition(data_ml$num_accidents, p = 0.8, list = FALSE, times = 1)\n",
    "dataTrain <- data_ml[ trainIndex,]\n",
    "dataTest  <- data_ml[-trainIndex,]"
   ]
  },
  {
   "cell_type": "markdown",
   "metadata": {},
   "source": [
    "Calculating benchmark metrics for the models."
   ]
  },
  {
   "cell_type": "code",
   "execution_count": null,
   "metadata": {},
   "outputs": [],
   "source": [
    "# For normal values\n",
    "cat(\"Mean Average Error of benchmark: \", MAE(obs = dataTrain$num_accidents, pred = mean(dataTrain$num_accidents)), \"\\n\")\n",
    "cat(\"Root Mean Squared Error of benchmark: \", RMSE(obs = dataTrain$num_accidents, pred = mean(dataTrain$num_accidents)), \n",
    "    \"\\n\\n\")\n",
    "\n",
    "# For category values\n",
    "conf_matrix_bm <- table(dataTrain$num_accidents_cat, dataTrain$num_accidents_cat_bm)\n",
    "cat(\"Benchmark confusion matrix:\")\n",
    "conf_matrix_bm\n",
    "accuracy_bm <- (conf_matrix_bm[1, 1] + conf_matrix_bm[2, 2] + conf_matrix_bm[3, 3])/ sum(conf_matrix_bm)\n",
    "cat(\"Benchmark accuracy (%): \", accuracy_bm)"
   ]
  },
  {
   "cell_type": "code",
   "execution_count": null,
   "metadata": {},
   "outputs": [],
   "source": [
    "control <- trainControl(method='repeatedcv', \n",
    "                        number=10,\n",
    "                        repeats=5,\n",
    "                        verboseIter = FALSE)"
   ]
  },
  {
   "cell_type": "code",
   "execution_count": null,
   "metadata": {},
   "outputs": [],
   "source": [
    "set.seed(1234)\n",
    "accident_lasso_model <- train(as.numeric(num_accidents) ~ lanes + street_type + plow_priority  + category  +\n",
    "                             subcategory + pavement_width + flow_direction + speed_limit_km  + truck_access +\n",
    "                             bus_route + shape__length + aadt + poly(aadt, 3),\n",
    "                             data=dataTrain,\n",
    "                             method='glmnet',\n",
    "                             #tuneLength = 5,\n",
    "                             tuneGrid=expand.grid(alpha=1, lambda=seq(0, 0.06, by = 0.005)),\n",
    "                             trControl = control,\n",
    "                             metric='RMSE',\n",
    "                             importance = \"impurity\")"
   ]
  },
  {
   "cell_type": "code",
   "execution_count": null,
   "metadata": {},
   "outputs": [],
   "source": [
    "accident_lasso_model"
   ]
  },
  {
   "cell_type": "code",
   "execution_count": null,
   "metadata": {},
   "outputs": [],
   "source": [
    "rfGrid <- expand.grid(mtry = c(10, 15),\n",
    "                      min.node.size = c(10),\n",
    "                      splitrule = c(\"extratrees\"))\n",
    "set.seed(1234)\n",
    "accident_rf_model <- train(as.numeric(num_accidents) ~ lanes + street_type + plow_priority  + category  +\n",
    "                             subcategory + pavement_width + flow_direction  + speed_limit_km  + truck_access +\n",
    "                             bus_route + shape__length + aadt,\n",
    "                             data=dataTrain,\n",
    "                             method='ranger',\n",
    "                             tuneGrid = rfGrid,\n",
    "                             trControl = control,\n",
    "                             metric='RMSE',\n",
    "                             importance = \"impurity\")"
   ]
  },
  {
   "cell_type": "markdown",
   "metadata": {},
   "source": [
    "The cross-validated RMSE improved to 8.3 using a Random Forest algorithm, which is only a limited improvement."
   ]
  },
  {
   "cell_type": "code",
   "execution_count": null,
   "metadata": {},
   "outputs": [],
   "source": [
    "accident_rf_model"
   ]
  },
  {
   "cell_type": "markdown",
   "metadata": {},
   "source": [
    "There is a great variance in the individual fits of the model, unfortunately the different samples of CV do not behave consistenlty."
   ]
  },
  {
   "cell_type": "code",
   "execution_count": null,
   "metadata": {},
   "outputs": [],
   "source": [
    "accident_rf_model$resample"
   ]
  },
  {
   "cell_type": "markdown",
   "metadata": {},
   "source": [
    "The RF model performed better on the train set, so we check it on the test set. Results are not too far from the train's."
   ]
  },
  {
   "cell_type": "code",
   "execution_count": null,
   "metadata": {},
   "outputs": [],
   "source": [
    "dataTest[, predicted_accident:= predict(accident_rf_model, newdata = dataTest)]\n",
    "MAE(dataTest$predicted_accident, dataTest$num_accidents)\n",
    "RMSE(dataTest$predicted_accident, dataTest$num_accidents)"
   ]
  },
  {
   "cell_type": "markdown",
   "metadata": {},
   "source": [
    "These variables explain a greater part of the target's variance. It is not surprising that annual average daily traffic and the length of the road segment are important."
   ]
  },
  {
   "cell_type": "code",
   "execution_count": null,
   "metadata": {},
   "outputs": [],
   "source": [
    "options(repr.plot.width=4.5, repr.plot.height=3.5)\n",
    "plot(varImp(accident_rf_model, scale = FALSE), 15)"
   ]
  },
  {
   "cell_type": "markdown",
   "metadata": {},
   "source": [
    "High number of accidents are hard to capture by the models."
   ]
  },
  {
   "cell_type": "code",
   "execution_count": null,
   "metadata": {
    "scrolled": true
   },
   "outputs": [],
   "source": [
    "options(repr.plot.width=3.5, repr.plot.height=3.5)\n",
    "### Predict on the train set:\n",
    "dataTrain[, predicted_accident:= predict(accident_rf_model, newdata = dataTrain)]\n",
    "\n",
    "ggplot(dataTrain, aes(x = num_accidents, y = predicted_accident)) +\n",
    "  geom_point(alpha = .2) +\n",
    "  geom_abline(slope = 1) +\n",
    "  geom_smooth() +\n",
    "  theme_bw() +\n",
    "  coord_fixed(ratio = 1, xlim = c(0, 150), ylim = c(0, 150))"
   ]
  },
  {
   "cell_type": "code",
   "execution_count": null,
   "metadata": {},
   "outputs": [],
   "source": [
    "data_ml[, predicted_accident:= predict(accident_rf_model, newdata = data_ml)]\n",
    "#MAE(data_ml$predicted_accident, data_ml$num_accidents)\n",
    "cat(\"RMSE on full data: \", RMSE(data_ml$predicted_accident, data_ml$num_accidents))\n",
    "\n",
    "ggplot(data_ml, aes(x = log1p(num_accidents), y = log1p(predicted_accident))) +\n",
    "  geom_jitter(width = c(0.05)) +\n",
    "  geom_abline(slope = 1) +\n",
    "  geom_smooth() +\n",
    "  theme_bw()"
   ]
  },
  {
   "cell_type": "markdown",
   "metadata": {},
   "source": [
    "### Categorical target"
   ]
  },
  {
   "cell_type": "code",
   "execution_count": null,
   "metadata": {},
   "outputs": [],
   "source": [
    "control <- trainControl(method='repeatedcv', \n",
    "                        number=10,\n",
    "                        repeats=3,\n",
    "                        verboseIter = FALSE,\n",
    "                        classProbs = TRUE)"
   ]
  },
  {
   "cell_type": "code",
   "execution_count": null,
   "metadata": {},
   "outputs": [],
   "source": [
    "set.seed(1234)\n",
    "accident_cat_lasso_model <- train(as.factor(num_accidents_cat) ~ lanes + street_type + plow_priority  + category  +\n",
    "                             subcategory +  pavement_width + flow_direction  + speed_limit_km  + truck_access + bus_route +\n",
    "                               shape__length + aadt,\n",
    "                           data=dataTrain,\n",
    "                           method='glmnet',\n",
    "                           #tuneLength = 10,\n",
    "                           tuneGrid=expand.grid(alpha=1, lambda=seq(0.005, 0.015, by = 0.005)),\n",
    "                           trControl = control,\n",
    "                           importance = \"impurity\")"
   ]
  },
  {
   "cell_type": "code",
   "execution_count": null,
   "metadata": {},
   "outputs": [],
   "source": [
    "accident_cat_lasso_model"
   ]
  },
  {
   "cell_type": "code",
   "execution_count": null,
   "metadata": {},
   "outputs": [],
   "source": [
    "rfGrid <- expand.grid(mtry = c(10),\n",
    "                      min.node.size = c(10),\n",
    "                      splitrule = c(\"gini\"))\n",
    "set.seed(1234)\n",
    "accident_cat_rf_model <- train(as.factor(num_accidents_cat) ~ lanes + street_type + plow_priority  + category  +\n",
    "                           subcategory +  pavement_width + flow_direction  + speed_limit_km  + truck_access + bus_route +\n",
    "                           shape__length + aadt,\n",
    "                           data=dataTrain,\n",
    "                           method='ranger',\n",
    "                           tuneGrid = rfGrid,\n",
    "                           trControl = control,\n",
    "                           importance = \"impurity\")"
   ]
  },
  {
   "cell_type": "code",
   "execution_count": null,
   "metadata": {},
   "outputs": [],
   "source": [
    "accident_cat_rf_model"
   ]
  },
  {
   "cell_type": "markdown",
   "metadata": {},
   "source": [
    "We choose the RF model."
   ]
  },
  {
   "cell_type": "code",
   "execution_count": null,
   "metadata": {},
   "outputs": [],
   "source": [
    "dataTest[, predicted_accident_cat:= predict(accident_cat_rf_model, newdata = dataTest)]\n",
    "conf_matrix_test <- table(dataTest$num_accidents_cat, dataTest$predicted_accident_cat)\n",
    "conf_matrix_test"
   ]
  },
  {
   "cell_type": "code",
   "execution_count": null,
   "metadata": {},
   "outputs": [],
   "source": [
    "accuracy_test <- (conf_matrix_test[1, 1] + conf_matrix_test[2, 2] + conf_matrix_test[3, 3])/ sum(conf_matrix_test)\n",
    "accuracy_test"
   ]
  },
  {
   "cell_type": "markdown",
   "metadata": {},
   "source": [
    "Accuracy on test set is almost the same as on the train set, so the model, although of limited performance, it generalizes well."
   ]
  },
  {
   "cell_type": "code",
   "execution_count": null,
   "metadata": {},
   "outputs": [],
   "source": [
    "## Using the model on the original dataset\n",
    "data_ml[, predicted_accident_cat:= predict(accident_cat_rf_model, newdata = data_ml)]\n",
    "conf_matrix_all <- table(data_ml$num_accidents_cat, data_ml$predicted_accident_cat)\n",
    "conf_matrix_all"
   ]
  },
  {
   "cell_type": "code",
   "execution_count": null,
   "metadata": {},
   "outputs": [],
   "source": [
    "accuracy_all <- (conf_matrix_all[1, 1] + conf_matrix_all[2, 2] + conf_matrix_all[3, 3])/ sum(conf_matrix_all)\n",
    "accuracy_all"
   ]
  },
  {
   "cell_type": "markdown",
   "metadata": {},
   "source": [
    "Using the model on the original dataset:"
   ]
  },
  {
   "cell_type": "code",
   "execution_count": null,
   "metadata": {},
   "outputs": [],
   "source": [
    "options(repr.plot.width=3.5, repr.plot.height=3.5)\n",
    "plot(varImp(accident_cat_rf_model, scale = FALSE), 15)"
   ]
  },
  {
   "cell_type": "code",
   "execution_count": null,
   "metadata": {},
   "outputs": [],
   "source": [
    "models_default <- list(lasso_cat = accident_cat_lasso_model,\n",
    "                       rf_cat = accident_cat_rf_model)\n",
    "models_resampling <- resamples(models_default)\n",
    "\n",
    "summary(models_resampling, metric = \"Accuracy\")\n",
    "options(repr.plot.width=2.5, repr.plot.height=2.5)\n",
    "bwplot(models_resampling, metric= \"Accuracy\")"
   ]
  },
  {
   "cell_type": "markdown",
   "metadata": {},
   "source": [
    "### Demonstrating predictions on map"
   ]
  },
  {
   "cell_type": "code",
   "execution_count": null,
   "metadata": {},
   "outputs": [],
   "source": [
    "# introducing predictions to the spatial DF\n",
    "data_waterloo_ML@data$predicted_accident  <- data_ml$predicted_accident\n",
    "data_waterloo_ML@data$predicted_accident_cat  <- data_ml$predicted_accident_cat"
   ]
  },
  {
   "cell_type": "code",
   "execution_count": null,
   "metadata": {},
   "outputs": [],
   "source": [
    "pal3 <- colorFactor(c(\"red\", \"orange\", \"green\"), \n",
    "                    domain = factor(c(\"highAccident\", \"lowAccident\", \"noAccident\")))\n",
    "leaflet() %>% \n",
    "  addTiles() %>%\n",
    "  addPolylines(data = data_waterloo_ML,\n",
    "               color = ~pal3(data_waterloo_ML@data$predicted_accident_cat)) %>% \n",
    "  addLegend(\"bottomleft\", pal = pal3, values = ~factor(predicted_accident_cat), opacity = 1, \n",
    "            title = \"Road segments with predicted accident category\",\n",
    "            data = data_waterloo_ML@data)"
   ]
  },
  {
   "cell_type": "markdown",
   "metadata": {},
   "source": [
    "### Summary of findings\n",
    "\n",
    "Our decision to choose road segments and the number of accidents on them as he basis of analysis limited the information we could consider in our models (e.g. actual weather conditions of the accidents could not be part of this data). \n",
    "\n",
    "From a smart city perspective, however, we think that this approach is useful, as it may help to reveal road segments that are more dangerous (in terms of more traffic accidents) than another.\n",
    "\n",
    "*We also carried out the analysis using the 4 available day periods (dawn, day, evening, night) separately, to see if patterns are different in any period. Unfortunately we are running out of time so cannot incorporate it into this notebook.*"
   ]
  },
  {
   "cell_type": "markdown",
   "metadata": {
    "id": "gSDath2nr1fq"
   },
   "source": [
    "## Conclusions\n",
    "\n",
    "### Scalability and Impact\n",
    "Tell us how applicable and scalable your solution is if you were to implement it in a city. Identify possible limitations and measure the potential social impact of your solution."
   ]
  },
  {
   "cell_type": "markdown",
   "metadata": {
    "id": "CGmbES9GszEv"
   },
   "source": [
    "The current dataset is a nice start but not sufficient for a comprehensive traffic management improvement strategy. \n",
    "Key limitations:\n",
    " - Data on the severity of accidents is missing, so this model doesn't allow to optimize to avoid for example fatalities or major incidents.\n",
    " - The current dataset is limited to car accidents, we don't learn anything about bicyle and pedestrian accidents.\n",
    " - Due to the lack of time we were also not able to build a model complex enough to handle weather data - while weather (especially snow and rain) should logically be a major factor for accident prediction.\n",
    " - Our dataset doesnt' have information on demographics, so in it's current form, we wouldn't be able to use to target certain groups (for example: taxi drivers, senior or junior drivers) with campains or education.\n",
    " \n",
    " \n",
    "The heatmap part of our solution should be possible to implement for any city since it visualizes already existing data. It could be used to alert drivers for dangerous spots. \n",
    "\n",
    "The current model can be applied to all cities with similar level of data. As we assume that police databases have data of this level, after processing these (which is not a small task!) the model could be applied to other cities.\n",
    "\n",
    "This model would be even more useful if it would allow to focus on traffic accidents involving other types of transportation (bikes, pedestrians) and on avoiding fatalities. \n"
   ]
  },
  {
   "cell_type": "markdown",
   "metadata": {
    "id": "0XBiBOyAl2Sv"
   },
   "source": [
    "### Future Work\n",
    "Now picture the following scenario: imagine you could have access to any type of data that could help you solve this challenge even better. What would that data be and how would it improve your solution? 🚀"
   ]
  },
  {
   "cell_type": "markdown",
   "metadata": {
    "id": "5gK3heTKl7qz"
   },
   "source": [
    "An ideal dataset would contain data on the following factors:\n",
    "\n",
    "\n",
    " - Road Data - Our dataset has road priority data available, however the regional roads appear to be missing from the dataset. The slope grade of each road would allow a finer prediction of risk. \n",
    "\n",
    "\n",
    " - Traffic Data - Traffic flow would help to predict accidents, as it is an crucial factor for planning traffic safety and efficiency. Tolls, parking fees, and perhaps the locations of traffic signs and lights would allow a better finetuning of the traffic flow. \n",
    "\n",
    "    Close to live traffic data is possible via traffic sensors on main roads and via GPS senders in buses, this would also allow a faster reaction to traffic congestions. \n",
    "    \n",
    "\n",
    " - User Behaviour Data - our current dataset didn't have any information police would have available, but we are certain this information is available for cases where the police was involved: \n",
    " Alcohol and drug use, other passengers, personal injuries and damage (car or collateral), speeding habits\n",
    "Vehicle information (type, age)\n",
    "\n",
    "\n",
    " - Data on other transportation methods: bicycles and pedestrians are also part of the traffic.\n",
    "Public transportation as well, however we may assume this is already included in the dataset without added flag.\n",
    "\n",
    "A more granular time data (hourly split) would be also a much finer prediction."
   ]
  }
 ],
 "metadata": {
  "colab": {
   "collapsed_sections": [],
   "name": "Notebook_Submission_2 merged.ipynb",
   "provenance": [
    {
     "file_id": "1UDk7CLx_3EMsRRoD9QWwziYu9hhYMFfv",
     "timestamp": 1619844206533
    }
   ]
  },
  "kernelspec": {
   "display_name": "R",
   "language": "R",
   "name": "ir"
  },
  "language_info": {
   "codemirror_mode": "r",
   "file_extension": ".r",
   "mimetype": "text/x-r-source",
   "name": "R",
   "pygments_lexer": "r",
   "version": "3.6.1"
  }
 },
 "nbformat": 4,
 "nbformat_minor": 1
}
