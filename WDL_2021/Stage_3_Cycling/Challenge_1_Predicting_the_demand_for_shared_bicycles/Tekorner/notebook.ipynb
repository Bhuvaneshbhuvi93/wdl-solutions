{
 "cells": [
  {
   "cell_type": "markdown",
   "metadata": {},
   "source": [
    "# World Data League 2021\n"
   ]
  },
  {
   "cell_type": "markdown",
   "metadata": {},
   "source": [
    "## External links and resources\n",
    "\n",
    "We only use historical data from openweathermap."
   ]
  },
  {
   "cell_type": "markdown",
   "metadata": {},
   "source": [
    "## Introduction\n",
    "In this stage, we will solve the challenge 1, predicting the demand for shared bicycles, where the goal is create a model that allow to make system load balancing decisions based on demand forecasting.\n",
    "\n",
    "To solve this challenge we start by building several attributes from the original data and furthermore add the metoreological data from 2018.\n",
    "\n",
    "Our approach proceeded with cluster creation based on demand for bikes, and then prediction based on those clusters."
   ]
  },
  {
   "cell_type": "markdown",
   "metadata": {},
   "source": [
    "## Development"
   ]
  },
  {
   "cell_type": "code",
   "execution_count": 162,
   "metadata": {
    "pycharm": {
     "name": "#%%\n"
    }
   },
   "outputs": [],
   "source": [
    "import pandas as pd\n",
    "import matplotlib.pyplot as plt\n",
    "import seaborn as sns\n",
    "import numpy as np\n",
    "import holidays\n",
    "import json\n",
    "import requests\n",
    "from sklearn.cluster import KMeans\n",
    "import math\n",
    "from sklearn.preprocessing import MinMaxScaler\n",
    "from sklearn.preprocessing import LabelEncoder\n",
    "from sklearn import ensemble\n",
    "from sklearn.metrics import mean_squared_error\n",
    "from sklearn.model_selection import train_test_split"
   ]
  },
  {
   "cell_type": "code",
   "execution_count": 2,
   "metadata": {
    "pycharm": {
     "name": "#%%\n"
    }
   },
   "outputs": [
    {
     "data": {
      "text/html": [
       "<div>\n",
       "<style scoped>\n",
       "    .dataframe tbody tr th:only-of-type {\n",
       "        vertical-align: middle;\n",
       "    }\n",
       "\n",
       "    .dataframe tbody tr th {\n",
       "        vertical-align: top;\n",
       "    }\n",
       "\n",
       "    .dataframe thead th {\n",
       "        text-align: right;\n",
       "    }\n",
       "</style>\n",
       "<table border=\"1\" class=\"dataframe\">\n",
       "  <thead>\n",
       "    <tr style=\"text-align: right;\">\n",
       "      <th></th>\n",
       "      <th>Id_Historico_Prestamo</th>\n",
       "      <th>Id_Usuario</th>\n",
       "      <th>Id_Tag_Bicicleta</th>\n",
       "      <th>Fecha_Prestamo</th>\n",
       "      <th>Fecha_Devolucion</th>\n",
       "      <th>Id_Aparcamiento_Origen</th>\n",
       "      <th>Posicion_Origen</th>\n",
       "      <th>Id_Aparcamiento_Destino</th>\n",
       "      <th>Posicion_Destino</th>\n",
       "      <th>Importe</th>\n",
       "      <th>DescripcionImporte</th>\n",
       "      <th>operario</th>\n",
       "      <th>Num_Bici_Hist</th>\n",
       "    </tr>\n",
       "  </thead>\n",
       "  <tbody>\n",
       "    <tr>\n",
       "      <th>0</th>\n",
       "      <td>6501462</td>\n",
       "      <td>18701</td>\n",
       "      <td>000017B00743</td>\n",
       "      <td>2017-06-21 14:22:11.000</td>\n",
       "      <td>2017-06-21 14:38:29.000</td>\n",
       "      <td>8</td>\n",
       "      <td>1</td>\n",
       "      <td>43.0</td>\n",
       "      <td>1.0</td>\n",
       "      <td>0.0</td>\n",
       "      <td>NaN</td>\n",
       "      <td>jhon.castano</td>\n",
       "      <td>929.0</td>\n",
       "    </tr>\n",
       "    <tr>\n",
       "      <th>1</th>\n",
       "      <td>6501318</td>\n",
       "      <td>41811</td>\n",
       "      <td>000017AFF83C</td>\n",
       "      <td>2017-06-21 14:07:18.000</td>\n",
       "      <td>2017-06-21 14:39:06.000</td>\n",
       "      <td>56</td>\n",
       "      <td>6</td>\n",
       "      <td>54.0</td>\n",
       "      <td>NaN</td>\n",
       "      <td>0.0</td>\n",
       "      <td>NaN</td>\n",
       "      <td>monitor</td>\n",
       "      <td>1612.0</td>\n",
       "    </tr>\n",
       "    <tr>\n",
       "      <th>2</th>\n",
       "      <td>6501489</td>\n",
       "      <td>96620</td>\n",
       "      <td>000017AFFB6F</td>\n",
       "      <td>2017-06-21 14:25:11.000</td>\n",
       "      <td>2017-06-21 14:39:07.000</td>\n",
       "      <td>36</td>\n",
       "      <td>25</td>\n",
       "      <td>9.0</td>\n",
       "      <td>13.0</td>\n",
       "      <td>0.0</td>\n",
       "      <td>NaN</td>\n",
       "      <td>NaN</td>\n",
       "      <td>1679.0</td>\n",
       "    </tr>\n",
       "    <tr>\n",
       "      <th>3</th>\n",
       "      <td>6501001</td>\n",
       "      <td>16055</td>\n",
       "      <td>0000182A3B7B</td>\n",
       "      <td>2017-06-21 13:35:52.000</td>\n",
       "      <td>2017-06-21 14:39:22.000</td>\n",
       "      <td>8</td>\n",
       "      <td>1</td>\n",
       "      <td>9.0</td>\n",
       "      <td>6.0</td>\n",
       "      <td>0.0</td>\n",
       "      <td>NaN</td>\n",
       "      <td>NaN</td>\n",
       "      <td>1076.0</td>\n",
       "    </tr>\n",
       "    <tr>\n",
       "      <th>4</th>\n",
       "      <td>6501421</td>\n",
       "      <td>6431</td>\n",
       "      <td>000017AFE810</td>\n",
       "      <td>2017-06-21 14:17:56.000</td>\n",
       "      <td>2017-06-21 14:39:26.000</td>\n",
       "      <td>56</td>\n",
       "      <td>14</td>\n",
       "      <td>54.0</td>\n",
       "      <td>NaN</td>\n",
       "      <td>0.0</td>\n",
       "      <td>NaN</td>\n",
       "      <td>monitor</td>\n",
       "      <td>1176.0</td>\n",
       "    </tr>\n",
       "  </tbody>\n",
       "</table>\n",
       "</div>"
      ],
      "text/plain": [
       "   Id_Historico_Prestamo  Id_Usuario Id_Tag_Bicicleta  \\\n",
       "0                6501462       18701     000017B00743   \n",
       "1                6501318       41811     000017AFF83C   \n",
       "2                6501489       96620     000017AFFB6F   \n",
       "3                6501001       16055     0000182A3B7B   \n",
       "4                6501421        6431     000017AFE810   \n",
       "\n",
       "            Fecha_Prestamo         Fecha_Devolucion  Id_Aparcamiento_Origen  \\\n",
       "0  2017-06-21 14:22:11.000  2017-06-21 14:38:29.000                       8   \n",
       "1  2017-06-21 14:07:18.000  2017-06-21 14:39:06.000                      56   \n",
       "2  2017-06-21 14:25:11.000  2017-06-21 14:39:07.000                      36   \n",
       "3  2017-06-21 13:35:52.000  2017-06-21 14:39:22.000                       8   \n",
       "4  2017-06-21 14:17:56.000  2017-06-21 14:39:26.000                      56   \n",
       "\n",
       "   Posicion_Origen  Id_Aparcamiento_Destino  Posicion_Destino  Importe  \\\n",
       "0                1                     43.0               1.0      0.0   \n",
       "1                6                     54.0               NaN      0.0   \n",
       "2               25                      9.0              13.0      0.0   \n",
       "3                1                      9.0               6.0      0.0   \n",
       "4               14                     54.0               NaN      0.0   \n",
       "\n",
       "   DescripcionImporte      operario  Num_Bici_Hist  \n",
       "0                 NaN  jhon.castano          929.0  \n",
       "1                 NaN       monitor         1612.0  \n",
       "2                 NaN           NaN         1679.0  \n",
       "3                 NaN           NaN         1076.0  \n",
       "4                 NaN       monitor         1176.0  "
      ]
     },
     "execution_count": 2,
     "metadata": {},
     "output_type": "execute_result"
    }
   ],
   "source": [
    "bike_loans = pd.read_csv('Stage3/bike_loans.csv', sep=';')\n",
    "bike_loans.head()"
   ]
  },
  {
   "cell_type": "code",
   "execution_count": 3,
   "metadata": {},
   "outputs": [
    {
     "data": {
      "text/plain": [
       "'2014-05-30 15:41:33.000'"
      ]
     },
     "execution_count": 3,
     "metadata": {},
     "output_type": "execute_result"
    }
   ],
   "source": [
    "bike_loans.Fecha_Prestamo.min()"
   ]
  },
  {
   "cell_type": "code",
   "execution_count": 4,
   "metadata": {},
   "outputs": [
    {
     "data": {
      "text/plain": [
       "'2021-04-20 19:53:17.000'"
      ]
     },
     "execution_count": 4,
     "metadata": {},
     "output_type": "execute_result"
    }
   ],
   "source": [
    "bike_loans.Fecha_Prestamo.max()"
   ]
  },
  {
   "cell_type": "code",
   "execution_count": 5,
   "metadata": {},
   "outputs": [
    {
     "data": {
      "text/plain": [
       "Id_Historico_Prestamo      14221915\n",
       "Id_Usuario                    93005\n",
       "Id_Tag_Bicicleta               6697\n",
       "Fecha_Prestamo             12933511\n",
       "Fecha_Devolucion           12841682\n",
       "Id_Aparcamiento_Origen          128\n",
       "Posicion_Origen                  40\n",
       "Id_Aparcamiento_Destino         141\n",
       "Posicion_Destino                 40\n",
       "Importe                           1\n",
       "DescripcionImporte                0\n",
       "operario                        462\n",
       "Num_Bici_Hist                  2536\n",
       "dtype: int64"
      ]
     },
     "execution_count": 5,
     "metadata": {},
     "output_type": "execute_result"
    }
   ],
   "source": [
    "bike_loans.nunique()"
   ]
  },
  {
   "cell_type": "code",
   "execution_count": 6,
   "metadata": {},
   "outputs": [
    {
     "data": {
      "text/plain": [
       "(14225355, 13)"
      ]
     },
     "execution_count": 6,
     "metadata": {},
     "output_type": "execute_result"
    }
   ],
   "source": [
    "bike_loans.shape"
   ]
  },
  {
   "cell_type": "code",
   "execution_count": 7,
   "metadata": {},
   "outputs": [],
   "source": [
    "# bike_loans = bike_loans[bike_loans['Fecha_Prestamo'] > '2018']"
   ]
  },
  {
   "cell_type": "code",
   "execution_count": 8,
   "metadata": {},
   "outputs": [],
   "source": [
    "# bike_loans.shape"
   ]
  },
  {
   "cell_type": "markdown",
   "metadata": {},
   "source": [
    "### Feature engineering"
   ]
  },
  {
   "cell_type": "markdown",
   "metadata": {},
   "source": [
    "Add attribute with date to performe time series"
   ]
  },
  {
   "cell_type": "code",
   "execution_count": 9,
   "metadata": {},
   "outputs": [],
   "source": [
    "bike_loans['Fecha_Prestamo_data'] = pd.to_datetime(bike_loans['Fecha_Prestamo']).dt.date\n",
    "bike_loans['Fecha_Devolucion_data'] = pd.to_datetime(bike_loans['Fecha_Prestamo']).dt.date"
   ]
  },
  {
   "cell_type": "markdown",
   "metadata": {},
   "source": [
    "Add trip duration"
   ]
  },
  {
   "cell_type": "code",
   "execution_count": 10,
   "metadata": {},
   "outputs": [],
   "source": [
    "bike_loans['Fecha_Prestamo'] = pd.to_datetime(bike_loans['Fecha_Prestamo'], format='%Y-%m-%d %H:%M:%S.%f')"
   ]
  },
  {
   "cell_type": "code",
   "execution_count": 11,
   "metadata": {},
   "outputs": [],
   "source": [
    "bike_loans['Fecha_Devolucion'] = pd.to_datetime(bike_loans['Fecha_Devolucion'], format='%Y-%m-%d %H:%M:%S.%f')"
   ]
  },
  {
   "cell_type": "code",
   "execution_count": 12,
   "metadata": {},
   "outputs": [],
   "source": [
    "bike_loans['Duracion'] = bike_loans['Fecha_Devolucion'] - bike_loans['Fecha_Prestamo']"
   ]
  },
  {
   "cell_type": "code",
   "execution_count": 13,
   "metadata": {},
   "outputs": [],
   "source": [
    "bike_loans['Duracion_dias'] = bike_loans['Duracion'].dt.days"
   ]
  },
  {
   "cell_type": "code",
   "execution_count": 14,
   "metadata": {},
   "outputs": [],
   "source": [
    "bike_loans['Duracion_horas'] =  bike_loans['Duracion'] / np.timedelta64(1, 'h')"
   ]
  },
  {
   "cell_type": "code",
   "execution_count": 15,
   "metadata": {},
   "outputs": [],
   "source": [
    "loan_days = bike_loans.groupby('Duracion_dias').size().reset_index(name='Count')"
   ]
  },
  {
   "cell_type": "code",
   "execution_count": 16,
   "metadata": {},
   "outputs": [
    {
     "data": {
      "text/html": [
       "<div>\n",
       "<style scoped>\n",
       "    .dataframe tbody tr th:only-of-type {\n",
       "        vertical-align: middle;\n",
       "    }\n",
       "\n",
       "    .dataframe tbody tr th {\n",
       "        vertical-align: top;\n",
       "    }\n",
       "\n",
       "    .dataframe thead th {\n",
       "        text-align: right;\n",
       "    }\n",
       "</style>\n",
       "<table border=\"1\" class=\"dataframe\">\n",
       "  <thead>\n",
       "    <tr style=\"text-align: right;\">\n",
       "      <th></th>\n",
       "      <th>Duracion_dias</th>\n",
       "      <th>Count</th>\n",
       "    </tr>\n",
       "  </thead>\n",
       "  <tbody>\n",
       "    <tr>\n",
       "      <th>0</th>\n",
       "      <td>-4335</td>\n",
       "      <td>3</td>\n",
       "    </tr>\n",
       "    <tr>\n",
       "      <th>1</th>\n",
       "      <td>-3390</td>\n",
       "      <td>10</td>\n",
       "    </tr>\n",
       "    <tr>\n",
       "      <th>2</th>\n",
       "      <td>-3372</td>\n",
       "      <td>10</td>\n",
       "    </tr>\n",
       "    <tr>\n",
       "      <th>3</th>\n",
       "      <td>-3357</td>\n",
       "      <td>5</td>\n",
       "    </tr>\n",
       "    <tr>\n",
       "      <th>4</th>\n",
       "      <td>-3322</td>\n",
       "      <td>2</td>\n",
       "    </tr>\n",
       "  </tbody>\n",
       "</table>\n",
       "</div>"
      ],
      "text/plain": [
       "   Duracion_dias  Count\n",
       "0          -4335      3\n",
       "1          -3390     10\n",
       "2          -3372     10\n",
       "3          -3357      5\n",
       "4          -3322      2"
      ]
     },
     "execution_count": 16,
     "metadata": {},
     "output_type": "execute_result"
    }
   ],
   "source": [
    "pd.set_option('display.max_rows', 300)\n",
    "loan_days.head()"
   ]
  },
  {
   "cell_type": "markdown",
   "metadata": {},
   "source": [
    "Remove negative trip duration"
   ]
  },
  {
   "cell_type": "code",
   "execution_count": 17,
   "metadata": {},
   "outputs": [],
   "source": [
    "bike_loans = bike_loans[bike_loans['Duracion_dias'] >= 0]"
   ]
  },
  {
   "cell_type": "code",
   "execution_count": 18,
   "metadata": {},
   "outputs": [
    {
     "data": {
      "text/plain": [
       "(14221497, 18)"
      ]
     },
     "execution_count": 18,
     "metadata": {},
     "output_type": "execute_result"
    }
   ],
   "source": [
    "bike_loans.shape"
   ]
  },
  {
   "cell_type": "markdown",
   "metadata": {},
   "source": [
    "Add year"
   ]
  },
  {
   "cell_type": "code",
   "execution_count": 19,
   "metadata": {},
   "outputs": [],
   "source": [
    "bike_loans['Ano'] = bike_loans['Fecha_Prestamo'].apply(lambda x: x.year)"
   ]
  },
  {
   "cell_type": "markdown",
   "metadata": {},
   "source": [
    "Add months number"
   ]
  },
  {
   "cell_type": "code",
   "execution_count": 20,
   "metadata": {},
   "outputs": [],
   "source": [
    "bike_loans['Mes'] = bike_loans['Fecha_Prestamo'].apply(lambda x: x.month)"
   ]
  },
  {
   "cell_type": "markdown",
   "metadata": {},
   "source": [
    "Add days number"
   ]
  },
  {
   "cell_type": "code",
   "execution_count": 21,
   "metadata": {},
   "outputs": [],
   "source": [
    "bike_loans['Dia'] = bike_loans['Fecha_Prestamo'].apply(lambda x: x.day)"
   ]
  },
  {
   "cell_type": "markdown",
   "metadata": {},
   "source": [
    "Add week days"
   ]
  },
  {
   "cell_type": "code",
   "execution_count": 22,
   "metadata": {},
   "outputs": [],
   "source": [
    "bike_loans['Dias_Semana'] = bike_loans['Fecha_Prestamo'].apply(lambda x: x.weekday())"
   ]
  },
  {
   "cell_type": "markdown",
   "metadata": {},
   "source": [
    "Add working days"
   ]
  },
  {
   "cell_type": "code",
   "execution_count": 23,
   "metadata": {},
   "outputs": [],
   "source": [
    "bike_loans['Dias_habiles'] = np.where(bike_loans['Dias_Semana'] <= 5, 1, 0)"
   ]
  },
  {
   "cell_type": "markdown",
   "metadata": {},
   "source": [
    "Add hours"
   ]
  },
  {
   "cell_type": "code",
   "execution_count": 24,
   "metadata": {},
   "outputs": [],
   "source": [
    "bike_loans['Hora_Origen'] = bike_loans['Fecha_Prestamo'].apply(lambda x: x.hour)\n",
    "bike_loans['Hora_Destino'] = bike_loans['Fecha_Devolucion'].apply(lambda x: x.hour)"
   ]
  },
  {
   "cell_type": "markdown",
   "metadata": {},
   "source": [
    "Add season"
   ]
  },
  {
   "cell_type": "code",
   "execution_count": 25,
   "metadata": {},
   "outputs": [],
   "source": [
    "bike_loans['Estaciones'] = bike_loans['Fecha_Prestamo'].dt.month%12 // 3 + 1"
   ]
  },
  {
   "cell_type": "markdown",
   "metadata": {},
   "source": [
    "Add holidays"
   ]
  },
  {
   "cell_type": "code",
   "execution_count": 26,
   "metadata": {},
   "outputs": [],
   "source": [
    "# select country\n",
    "colombia_vacaciones = holidays.Colombia()"
   ]
  },
  {
   "cell_type": "code",
   "execution_count": 27,
   "metadata": {},
   "outputs": [],
   "source": [
    "bike_loans['Vacaciones'] = bike_loans['Fecha_Prestamo'].apply(lambda x: x in colombia_vacaciones).astype(int)"
   ]
  },
  {
   "cell_type": "markdown",
   "metadata": {},
   "source": [
    "#### Add slots capacity\n",
    "\n",
    "We add the capacity of the stations based on the nr of the position of the bike. We select the maximum between the nr of rentals and returns for each station ID."
   ]
  },
  {
   "cell_type": "code",
   "execution_count": 28,
   "metadata": {},
   "outputs": [],
   "source": [
    "slots_o = bike_loans.groupby(['Ano', 'Id_Aparcamiento_Origen', 'Posicion_Origen']).size().reset_index(name='Count')\n",
    "# pd.set_option('display.max_rows', 300)\n",
    "slots_o = slots_o.groupby(['Ano', 'Id_Aparcamiento_Origen']).size().reset_index(name='Ocupacion')\n",
    "# slots_o.head()"
   ]
  },
  {
   "cell_type": "code",
   "execution_count": 29,
   "metadata": {},
   "outputs": [],
   "source": [
    "slots_d = bike_loans.groupby(['Ano', 'Id_Aparcamiento_Destino', 'Posicion_Origen']).size().reset_index(name='Count')\n",
    "# pd.set_option('display.max_rows', 300)\n",
    "slots_d = slots_d.groupby(['Ano', 'Id_Aparcamiento_Destino']).size().reset_index(name='Ocupacion')\n",
    "# slots_d.head()"
   ]
  },
  {
   "cell_type": "code",
   "execution_count": 30,
   "metadata": {},
   "outputs": [],
   "source": [
    "slots = pd.merge(slots_o, slots_d, how='left', left_on=['Ano', 'Id_Aparcamiento_Origen'],right_on=['Ano', 'Id_Aparcamiento_Destino'])"
   ]
  },
  {
   "cell_type": "code",
   "execution_count": 31,
   "metadata": {},
   "outputs": [],
   "source": [
    "slots['Ocupacion'] = slots[['Ocupacion_x', 'Ocupacion_y']].max(axis=1)"
   ]
  },
  {
   "cell_type": "code",
   "execution_count": 32,
   "metadata": {},
   "outputs": [],
   "source": [
    "slots = slots[['Ano', 'Id_Aparcamiento_Origen', 'Id_Aparcamiento_Destino', 'Ocupacion']]"
   ]
  },
  {
   "cell_type": "code",
   "execution_count": 33,
   "metadata": {},
   "outputs": [],
   "source": [
    "# pd.set_option('display.max_rows', 300)"
   ]
  },
  {
   "cell_type": "code",
   "execution_count": 34,
   "metadata": {},
   "outputs": [],
   "source": [
    "bike_loans = pd.merge(bike_loans, slots, how='left', on=['Ano', 'Id_Aparcamiento_Origen', 'Id_Aparcamiento_Destino'])"
   ]
  },
  {
   "cell_type": "code",
   "execution_count": 35,
   "metadata": {},
   "outputs": [
    {
     "data": {
      "text/plain": [
       "array([nan, 40.,  8.,  6.,  1., 21., 27., 11., 37.,  4., 31., 12., 24.,\n",
       "       14., 39., 13., 30., 28.,  9., 10., 33., 19., 32., 34., 23.,  7.,\n",
       "       20., 22.,  5.,  2.,  3., 29., 17., 25., 26., 35., 18., 15., 38.,\n",
       "       16., 36.])"
      ]
     },
     "execution_count": 35,
     "metadata": {},
     "output_type": "execute_result"
    }
   ],
   "source": [
    "bike_loans.Ocupacion.unique()"
   ]
  },
  {
   "cell_type": "markdown",
   "metadata": {},
   "source": [
    "#### Create rented and returned attribute - number of bikes from a station in a specific hour of a day"
   ]
  },
  {
   "cell_type": "code",
   "execution_count": 36,
   "metadata": {},
   "outputs": [],
   "source": [
    "bike_loans['Rented'] = bike_loans.groupby(['Ano', 'Mes', 'Dia', 'Hora_Origen', 'Id_Aparcamiento_Origen'])['Id_Aparcamiento_Origen'].transform('count')\n",
    "bike_loans['Returned'] = bike_loans.groupby(['Fecha_Devolucion_data', 'Hora_Destino', 'Id_Aparcamiento_Destino'])['Id_Aparcamiento_Destino'].transform('count')"
   ]
  },
  {
   "cell_type": "code",
   "execution_count": 37,
   "metadata": {},
   "outputs": [
    {
     "data": {
      "text/plain": [
       "Index(['Id_Historico_Prestamo', 'Id_Usuario', 'Id_Tag_Bicicleta',\n",
       "       'Fecha_Prestamo', 'Fecha_Devolucion', 'Id_Aparcamiento_Origen',\n",
       "       'Posicion_Origen', 'Id_Aparcamiento_Destino', 'Posicion_Destino',\n",
       "       'Importe', 'DescripcionImporte', 'operario', 'Num_Bici_Hist',\n",
       "       'Fecha_Prestamo_data', 'Fecha_Devolucion_data', 'Duracion',\n",
       "       'Duracion_dias', 'Duracion_horas', 'Ano', 'Mes', 'Dia', 'Dias_Semana',\n",
       "       'Dias_habiles', 'Hora_Origen', 'Hora_Destino', 'Estaciones',\n",
       "       'Vacaciones', 'Ocupacion', 'Rented', 'Returned'],\n",
       "      dtype='object')"
      ]
     },
     "execution_count": 37,
     "metadata": {},
     "output_type": "execute_result"
    }
   ],
   "source": [
    "bike_loans.columns"
   ]
  },
  {
   "cell_type": "code",
   "execution_count": 38,
   "metadata": {},
   "outputs": [
    {
     "data": {
      "text/plain": [
       "Index(['Id_Aparcamiento_Origen', 'Posicion_Origen', 'Id_Aparcamiento_Destino',\n",
       "       'Posicion_Destino', 'Fecha_Prestamo_data', 'Fecha_Devolucion_data',\n",
       "       'Duracion', 'Duracion_dias', 'Duracion_horas', 'Ano', 'Mes', 'Dia',\n",
       "       'Dias_Semana', 'Dias_habiles', 'Hora_Origen', 'Estaciones',\n",
       "       'Vacaciones', 'Ocupacion', 'Rented'],\n",
       "      dtype='object')"
      ]
     },
     "execution_count": 38,
     "metadata": {},
     "output_type": "execute_result"
    }
   ],
   "source": [
    "cols = bike_loans.columns[np.r_[5:9,13:24,25:29]]\n",
    "cols"
   ]
  },
  {
   "cell_type": "markdown",
   "metadata": {},
   "source": [
    "Hourly data"
   ]
  },
  {
   "cell_type": "code",
   "execution_count": 39,
   "metadata": {},
   "outputs": [],
   "source": [
    "# Average duration\n",
    "bike_loans['Duracion_dias'] = bike_loans.groupby(['Ano', 'Mes', 'Dia', 'Hora_Origen', 'Id_Aparcamiento_Origen'])['Duracion_dias'].transform('mean')\n",
    "bike_loans['Duracion_horas'] = bike_loans.groupby(['Ano', 'Mes', 'Dia', 'Hora_Origen', 'Id_Aparcamiento_Origen'])['Duracion_horas'].transform('mean')"
   ]
  },
  {
   "cell_type": "code",
   "execution_count": 40,
   "metadata": {},
   "outputs": [],
   "source": [
    "# bikes = bike_loans[bike_loans[cols].duplicated(keep=False)]\n",
    "bikes = bike_loans.drop_duplicates(subset=cols)"
   ]
  },
  {
   "cell_type": "code",
   "execution_count": 41,
   "metadata": {},
   "outputs": [
    {
     "data": {
      "text/plain": [
       "(14137803, 30)"
      ]
     },
     "execution_count": 41,
     "metadata": {},
     "output_type": "execute_result"
    }
   ],
   "source": [
    "bikes.shape"
   ]
  },
  {
   "cell_type": "code",
   "execution_count": 42,
   "metadata": {},
   "outputs": [
    {
     "data": {
      "text/plain": [
       "array([14, 13, 12, 15, 11, 10, 16, 17,  9,  7,  8,  6,  4,  5, 18, 19, 20,\n",
       "       22, 21,  2,  3, 23,  1,  0])"
      ]
     },
     "execution_count": 42,
     "metadata": {},
     "output_type": "execute_result"
    }
   ],
   "source": [
    "bike_loans.Hora_Origen.unique()"
   ]
  },
  {
   "cell_type": "markdown",
   "metadata": {},
   "source": [
    "Add hours groups"
   ]
  },
  {
   "cell_type": "code",
   "execution_count": 119,
   "metadata": {},
   "outputs": [],
   "source": [
    "bikes['Horas_grp'] = np.where((bikes.Hora_Origen >= 0) & (bikes.Hora_Origen <=5), '0-5am', bikes.Hora_Origen)\n",
    "bikes['Horas_grp'] = np.where((bikes.Hora_Origen >= 6) & (bikes.Hora_Origen <=11), '5-11am', bikes.Horas_grp)\n",
    "bikes['Horas_grp'] = np.where((bikes.Hora_Origen >= 12) & (bikes.Hora_Origen <=17), '12-17pm', bikes.Horas_grp)\n",
    "bikes['Horas_grp'] = np.where((bikes.Hora_Origen >= 18) & (bikes.Hora_Origen <=23), '18-23pm', bikes.Horas_grp)"
   ]
  },
  {
   "cell_type": "code",
   "execution_count": 120,
   "metadata": {},
   "outputs": [
    {
     "data": {
      "text/plain": [
       "(8895058, 43)"
      ]
     },
     "execution_count": 120,
     "metadata": {},
     "output_type": "execute_result"
    }
   ],
   "source": [
    "bikes.shape"
   ]
  },
  {
   "cell_type": "markdown",
   "metadata": {},
   "source": [
    "#### Add weather"
   ]
  },
  {
   "cell_type": "code",
   "execution_count": 45,
   "metadata": {},
   "outputs": [],
   "source": [
    "# 1/1/2018 - 30/4/2021\n",
    "response = requests.get('http://history.openweathermap.org/data/2.5/history/wdl?q=Medellin,CO&type=hour&start=1514802702&end=1619819666&appid=9fb9e32959e5cc017d18dcaed0426065')\n",
    "jsondata = response.json()"
   ]
  },
  {
   "cell_type": "code",
   "execution_count": 46,
   "metadata": {},
   "outputs": [],
   "source": [
    "# jsondata['list']"
   ]
  },
  {
   "cell_type": "code",
   "execution_count": 47,
   "metadata": {},
   "outputs": [],
   "source": [
    "jdata = jsondata['list']"
   ]
  },
  {
   "cell_type": "code",
   "execution_count": 48,
   "metadata": {},
   "outputs": [],
   "source": [
    "d = str(jdata)[1:-1]"
   ]
  },
  {
   "cell_type": "code",
   "execution_count": 49,
   "metadata": {},
   "outputs": [],
   "source": [
    "d = eval(d)"
   ]
  },
  {
   "cell_type": "code",
   "execution_count": 50,
   "metadata": {},
   "outputs": [],
   "source": [
    "weather = pd.DataFrame(columns=['dt', 'temp', 'feels_like', 'pressure', 'humidity', 'temp_min', 'temp_max', 'speed', 'deg', 'clouds'])\n",
    "\n",
    "for idx, _ in enumerate(d):\n",
    "    weather.loc[idx, 'dt'] = d[idx]['dt']\n",
    "    weather.loc[idx,'temp'] = d[idx]['main']['temp']\n",
    "    weather.loc[idx,'feels_like'] = d[idx]['main']['feels_like']\n",
    "    weather.loc[idx,'pressure'] = d[idx]['main']['pressure']\n",
    "    weather.loc[idx,'humidity'] = d[idx]['main']['humidity']\n",
    "    weather.loc[idx,'temp_min'] = d[idx]['main']['temp_min']\n",
    "    weather.loc[idx,'temp_max'] = d[idx]['main']['temp_max']\n",
    "    weather.loc[idx,'speed'] = d[idx]['wind']['speed']\n",
    "    weather.loc[idx,'deg'] = d[idx]['wind']['deg']\n",
    "    weather.loc[idx,'clouds'] = d[idx]['clouds']['all']"
   ]
  },
  {
   "cell_type": "code",
   "execution_count": 51,
   "metadata": {},
   "outputs": [
    {
     "data": {
      "text/plain": [
       "(29168, 10)"
      ]
     },
     "execution_count": 51,
     "metadata": {},
     "output_type": "execute_result"
    }
   ],
   "source": [
    "weather.shape"
   ]
  },
  {
   "cell_type": "code",
   "execution_count": 52,
   "metadata": {},
   "outputs": [],
   "source": [
    "weather['dt'] = pd.to_datetime(weather['dt'].astype(int), unit='s')"
   ]
  },
  {
   "cell_type": "code",
   "execution_count": 53,
   "metadata": {},
   "outputs": [],
   "source": [
    "weather['date'] = pd.to_datetime(weather['dt']).dt.date\n",
    "weather['hour'] = pd.to_datetime(weather['dt']).dt.hour"
   ]
  },
  {
   "cell_type": "code",
   "execution_count": 54,
   "metadata": {
    "scrolled": false
   },
   "outputs": [
    {
     "data": {
      "text/html": [
       "<div>\n",
       "<style scoped>\n",
       "    .dataframe tbody tr th:only-of-type {\n",
       "        vertical-align: middle;\n",
       "    }\n",
       "\n",
       "    .dataframe tbody tr th {\n",
       "        vertical-align: top;\n",
       "    }\n",
       "\n",
       "    .dataframe thead th {\n",
       "        text-align: right;\n",
       "    }\n",
       "</style>\n",
       "<table border=\"1\" class=\"dataframe\">\n",
       "  <thead>\n",
       "    <tr style=\"text-align: right;\">\n",
       "      <th></th>\n",
       "      <th>dt</th>\n",
       "      <th>temp</th>\n",
       "      <th>feels_like</th>\n",
       "      <th>pressure</th>\n",
       "      <th>humidity</th>\n",
       "      <th>temp_min</th>\n",
       "      <th>temp_max</th>\n",
       "      <th>speed</th>\n",
       "      <th>deg</th>\n",
       "      <th>clouds</th>\n",
       "      <th>date</th>\n",
       "      <th>hour</th>\n",
       "    </tr>\n",
       "  </thead>\n",
       "  <tbody>\n",
       "    <tr>\n",
       "      <th>0</th>\n",
       "      <td>2018-01-01 11:00:00</td>\n",
       "      <td>286.15</td>\n",
       "      <td>286.03</td>\n",
       "      <td>1026</td>\n",
       "      <td>100</td>\n",
       "      <td>286.15</td>\n",
       "      <td>286.15</td>\n",
       "      <td>1.5</td>\n",
       "      <td>240</td>\n",
       "      <td>90</td>\n",
       "      <td>2018-01-01</td>\n",
       "      <td>11</td>\n",
       "    </tr>\n",
       "    <tr>\n",
       "      <th>1</th>\n",
       "      <td>2018-01-01 12:00:00</td>\n",
       "      <td>288.12</td>\n",
       "      <td>287.69</td>\n",
       "      <td>1022</td>\n",
       "      <td>83</td>\n",
       "      <td>285.15</td>\n",
       "      <td>291.15</td>\n",
       "      <td>1.54</td>\n",
       "      <td>230</td>\n",
       "      <td>40</td>\n",
       "      <td>2018-01-01</td>\n",
       "      <td>12</td>\n",
       "    </tr>\n",
       "    <tr>\n",
       "      <th>2</th>\n",
       "      <td>2018-01-01 13:00:00</td>\n",
       "      <td>289.12</td>\n",
       "      <td>288.76</td>\n",
       "      <td>1023</td>\n",
       "      <td>73</td>\n",
       "      <td>285.15</td>\n",
       "      <td>293.15</td>\n",
       "      <td>1.03</td>\n",
       "      <td>0</td>\n",
       "      <td>20</td>\n",
       "      <td>2018-01-01</td>\n",
       "      <td>13</td>\n",
       "    </tr>\n",
       "    <tr>\n",
       "      <th>3</th>\n",
       "      <td>2018-01-01 14:00:00</td>\n",
       "      <td>290.12</td>\n",
       "      <td>289.33</td>\n",
       "      <td>1023</td>\n",
       "      <td>73</td>\n",
       "      <td>286.15</td>\n",
       "      <td>294.15</td>\n",
       "      <td>2.06</td>\n",
       "      <td>70</td>\n",
       "      <td>20</td>\n",
       "      <td>2018-01-01</td>\n",
       "      <td>14</td>\n",
       "    </tr>\n",
       "    <tr>\n",
       "      <th>4</th>\n",
       "      <td>2018-01-01 15:00:00</td>\n",
       "      <td>293.63</td>\n",
       "      <td>293.34</td>\n",
       "      <td>1023</td>\n",
       "      <td>65</td>\n",
       "      <td>291.15</td>\n",
       "      <td>296.15</td>\n",
       "      <td>2.06</td>\n",
       "      <td>10</td>\n",
       "      <td>20</td>\n",
       "      <td>2018-01-01</td>\n",
       "      <td>15</td>\n",
       "    </tr>\n",
       "  </tbody>\n",
       "</table>\n",
       "</div>"
      ],
      "text/plain": [
       "                   dt    temp feels_like pressure humidity temp_min temp_max  \\\n",
       "0 2018-01-01 11:00:00  286.15     286.03     1026      100   286.15   286.15   \n",
       "1 2018-01-01 12:00:00  288.12     287.69     1022       83   285.15   291.15   \n",
       "2 2018-01-01 13:00:00  289.12     288.76     1023       73   285.15   293.15   \n",
       "3 2018-01-01 14:00:00  290.12     289.33     1023       73   286.15   294.15   \n",
       "4 2018-01-01 15:00:00  293.63     293.34     1023       65   291.15   296.15   \n",
       "\n",
       "  speed  deg clouds        date  hour  \n",
       "0   1.5  240     90  2018-01-01    11  \n",
       "1  1.54  230     40  2018-01-01    12  \n",
       "2  1.03    0     20  2018-01-01    13  \n",
       "3  2.06   70     20  2018-01-01    14  \n",
       "4  2.06   10     20  2018-01-01    15  "
      ]
     },
     "execution_count": 54,
     "metadata": {},
     "output_type": "execute_result"
    }
   ],
   "source": [
    "weather.head()"
   ]
  },
  {
   "cell_type": "markdown",
   "metadata": {},
   "source": [
    "Merge weather to bike_loans"
   ]
  },
  {
   "cell_type": "code",
   "execution_count": 55,
   "metadata": {},
   "outputs": [],
   "source": [
    "bikes = pd.merge(bikes, weather, how='left', left_on=['Fecha_Prestamo_data', 'Hora_Origen'], right_on=['date', 'hour'])"
   ]
  },
  {
   "cell_type": "code",
   "execution_count": 56,
   "metadata": {},
   "outputs": [
    {
     "data": {
      "text/plain": [
       "(14137803, 43)"
      ]
     },
     "execution_count": 56,
     "metadata": {},
     "output_type": "execute_result"
    }
   ],
   "source": [
    "bikes.shape"
   ]
  },
  {
   "cell_type": "markdown",
   "metadata": {},
   "source": [
    "### Analysis"
   ]
  },
  {
   "cell_type": "markdown",
   "metadata": {},
   "source": [
    "Let's start by checking the evolution of stations number per year."
   ]
  },
  {
   "cell_type": "code",
   "execution_count": 57,
   "metadata": {},
   "outputs": [],
   "source": [
    "stations = bikes.groupby(['Ano', 'Id_Aparcamiento_Origen']).size().reset_index(name='Ocupacion')\n",
    "stations = stations.groupby(['Ano']).size().reset_index(name='Count')"
   ]
  },
  {
   "cell_type": "code",
   "execution_count": 58,
   "metadata": {},
   "outputs": [],
   "source": [
    "def change_width(ax, new_value) :\n",
    "    locs = ax.get_xticks()\n",
    "    for i,patch in enumerate(ax.patches):\n",
    "        current_width = patch.get_width()\n",
    "        diff = current_width - new_value\n",
    "\n",
    "        # we change the bar width\n",
    "        patch.set_width(new_value)\n",
    "\n",
    "        # we recenter the bar\n",
    "        patch.set_x(patch.get_x() + diff * .5)\n"
   ]
  },
  {
   "cell_type": "code",
   "execution_count": 59,
   "metadata": {},
   "outputs": [
    {
     "data": {
      "image/png": "[encoded data removed]",
      "text/plain": [
       "<Figure size 576x432 with 1 Axes>"
      ]
     },
     "metadata": {
      "needs_background": "light"
     },
     "output_type": "display_data"
    }
   ],
   "source": [
    "fig, ax = plt.subplots(figsize=(8, 6))\n",
    "sns.barplot(data=stations, x=\"Ano\", y=\"Count\")\n",
    "# ax.set_yscale('log')\n",
    "ax.set_xlabel('Year', fontsize=10)\n",
    "ax.set_ylabel('Nr of stations', fontsize=10)\n",
    "change_width(ax, .5)\n",
    "plt.show()"
   ]
  },
  {
   "cell_type": "markdown",
   "metadata": {},
   "source": [
    "This annual growth is normal since nowadays we believe that people are aware of a more sustainable and ecological world. We think because of the pandemic we are facing from the year 2020 till now, there is a decrease in stations in 2021 as there are more people in remote work and some of us feel insecure about using a bike that is used by multiple people. However, this difference is minimal, as we will see below."
   ]
  },
  {
   "cell_type": "code",
   "execution_count": 60,
   "metadata": {},
   "outputs": [],
   "source": [
    "year_ID = bikes.groupby(['Ano', 'Id_Aparcamiento_Origen']).size().reset_index(name='Count')\n",
    "# year_ID.head(30)"
   ]
  },
  {
   "cell_type": "code",
   "execution_count": 61,
   "metadata": {
    "scrolled": false
   },
   "outputs": [
    {
     "data": {
      "image/png": "[encoded data removed]",
      "text/plain": [
       "<Figure size 1728x1080 with 8 Axes>"
      ]
     },
     "metadata": {
      "needs_background": "light"
     },
     "output_type": "display_data"
    }
   ],
   "source": [
    "g = sns.FacetGrid(year_ID, col=\"Ano\", height=15, aspect=0.2)\n",
    "g.map_dataframe(sns.barplot, 'Count','Id_Aparcamiento_Origen', orient='h')\n",
    "g.set(xscale=\"log\")\n",
    "# g.set_yticklabels(np.arange(min(year_ID.Id_Aparcamiento_Origen), max(year_ID.Id_Aparcamiento_Origen), 2))\n",
    "g.set_titles(col_template=\"{col_name}\", fontweight='bold')\n",
    "g.set_axis_labels('', '') \n",
    "sns.set(font_scale = 1)\n",
    "plt.show()"
   ]
  },
  {
   "cell_type": "markdown",
   "metadata": {},
   "source": [
    "The above plot shows the number of bikes requested for each station by year.\n",
    "As we can see, there are stations that are rarely used in this period. \n",
    " \n",
    "Therefore, we excluded stations with demand of one bike per hour.\n",
    "\n",
    "Also, we will only consider the period between 2018 and 2021 because it is in this period that we have the weather information."
   ]
  },
  {
   "cell_type": "code",
   "execution_count": 62,
   "metadata": {},
   "outputs": [],
   "source": [
    "bikes = bikes[bikes.Rented > 1]"
   ]
  },
  {
   "cell_type": "code",
   "execution_count": 63,
   "metadata": {},
   "outputs": [],
   "source": [
    "bikes = bikes[bikes.Ano > 2017]"
   ]
  },
  {
   "cell_type": "code",
   "execution_count": 64,
   "metadata": {},
   "outputs": [
    {
     "data": {
      "text/plain": [
       "(8895058, 43)"
      ]
     },
     "execution_count": 64,
     "metadata": {},
     "output_type": "execute_result"
    }
   ],
   "source": [
    "bikes.shape"
   ]
  },
  {
   "cell_type": "markdown",
   "metadata": {},
   "source": [
    "#### Let's analyse 2020"
   ]
  },
  {
   "cell_type": "code",
   "execution_count": 65,
   "metadata": {},
   "outputs": [],
   "source": [
    "d2020 = bikes[bikes['Ano'] == 2020]"
   ]
  },
  {
   "cell_type": "code",
   "execution_count": 66,
   "metadata": {},
   "outputs": [
    {
     "data": {
      "text/plain": [
       "(1837174, 43)"
      ]
     },
     "execution_count": 66,
     "metadata": {},
     "output_type": "execute_result"
    }
   ],
   "source": [
    "d2020.shape"
   ]
  },
  {
   "cell_type": "markdown",
   "metadata": {},
   "source": [
    "General behaviour during d2020"
   ]
  },
  {
   "cell_type": "code",
   "execution_count": 67,
   "metadata": {},
   "outputs": [
    {
     "data": {
      "image/png": "[encoded data removed]",
      "text/plain": [
       "<Figure size 864x432 with 1 Axes>"
      ]
     },
     "metadata": {},
     "output_type": "display_data"
    }
   ],
   "source": [
    "fig, ax = plt.subplots(figsize=(12, 6))\n",
    "sns.lineplot(data=d2020, x=\"Fecha_Prestamo_data\", y=\"Rented\")\n",
    "ax.set_xlabel('', )\n",
    "ax.set_ylabel('Nr of rented bikes per hour', fontsize=10)\n",
    "ax.set_title('Nr of rented bikes per hour during the pandemic', fontsize=13)\n",
    "plt.xticks(rotation=35)\n",
    "plt.show()"
   ]
  },
  {
   "cell_type": "markdown",
   "metadata": {},
   "source": [
    "There is a clear change of traffic from March to May which is justified by the pandemic.\n",
    "\n",
    "Also, we notice some lower peaks, which seems to be the weekends as we can see below.\n",
    "\n",
    "Let's look at the behaviour before the pandemic."
   ]
  },
  {
   "cell_type": "code",
   "execution_count": 68,
   "metadata": {},
   "outputs": [
    {
     "data": {
      "image/png": "[encoded data removed]",
      "text/plain": [
       "<Figure size 864x432 with 1 Axes>"
      ]
     },
     "metadata": {},
     "output_type": "display_data"
    }
   ],
   "source": [
    "d2019 = bikes[bikes['Ano'] == 2019]\n",
    "fig, ax = plt.subplots(figsize=(12, 6))\n",
    "sns.lineplot(data=d2019, x=\"Fecha_Prestamo_data\", y=\"Rented\")\n",
    "ax.set_xlabel('', )\n",
    "ax.set_ylabel('Nr of rented bikes per hour', fontsize=10)\n",
    "ax.set_title('Nr of rented bikes per hour before the pandemic', fontsize=13)\n",
    "plt.xticks(rotation=35)\n",
    "plt.show()"
   ]
  },
  {
   "cell_type": "markdown",
   "metadata": {},
   "source": [
    "There has been a drop in rented bikes since November, but from January onwards there is an increase in demand again."
   ]
  },
  {
   "cell_type": "markdown",
   "metadata": {},
   "source": [
    "Which day of the week do people use bikes the most?"
   ]
  },
  {
   "cell_type": "code",
   "execution_count": 69,
   "metadata": {},
   "outputs": [
    {
     "data": {
      "image/png": "[encoded data removed]",
      "text/plain": [
       "<Figure size 576x432 with 1 Axes>"
      ]
     },
     "metadata": {},
     "output_type": "display_data"
    }
   ],
   "source": [
    "fig, ax = plt.subplots(figsize=(8, 6))\n",
    "sns.barplot(data=d2020, x=\"Dias_Semana\", y=\"Rented\")\n",
    "# ax.set_yscale('log')\n",
    "ax.set_xlabel('Week days', fontsize=10)\n",
    "ax.set_ylabel('Nr of rented bikes per hour', fontsize=10)\n",
    "change_width(ax, .5)\n",
    "plt.show()"
   ]
  },
  {
   "cell_type": "markdown",
   "metadata": {},
   "source": [
    "0 - Monday\n",
    "6 - Sunday\n",
    "\n",
    "Bike rentals are practically consistent throughout the working days. However, at the weekend there are a service outage, especially on Sundays."
   ]
  },
  {
   "cell_type": "markdown",
   "metadata": {},
   "source": [
    "What time of day there is more traffic?"
   ]
  },
  {
   "cell_type": "code",
   "execution_count": 70,
   "metadata": {},
   "outputs": [
    {
     "data": {
      "image/png": "[encoded data removed]",
      "text/plain": [
       "<Figure size 576x432 with 1 Axes>"
      ]
     },
     "metadata": {},
     "output_type": "display_data"
    }
   ],
   "source": [
    "fig, ax = plt.subplots(figsize=(8, 6))\n",
    "sns.barplot(data=d2020, x=\"Hora_Origen\", y=\"Rented\")\n",
    "# ax.set_yscale('log')\n",
    "ax.set_xlabel('Hour', fontsize=10)\n",
    "ax.set_ylabel('Nr of rented bikes per hour', fontsize=10)\n",
    "change_width(ax, .5)\n",
    "plt.show()"
   ]
  },
  {
   "cell_type": "markdown",
   "metadata": {},
   "source": [
    "The image shows that there is more demand for bicycles at the beginning of the day and in the late afternoon, which means that people use this service as a means of transport to work or school."
   ]
  },
  {
   "cell_type": "markdown",
   "metadata": {},
   "source": [
    "Is there a connection between temperature and demand for bicycles?"
   ]
  },
  {
   "cell_type": "code",
   "execution_count": 71,
   "metadata": {},
   "outputs": [
    {
     "data": {
      "image/png": "[encoded data removed]",
      "text/plain": [
       "<Figure size 720x432 with 1 Axes>"
      ]
     },
     "metadata": {},
     "output_type": "display_data"
    }
   ],
   "source": [
    "fig, ax = plt.subplots(figsize=(10, 6))\n",
    "sns.scatterplot(data=d2020, x=\"temp\", y=\"Rented\")\n",
    "# ax.set_yscale('log')\n",
    "ax.set_xlabel('Temperature', fontsize=10)\n",
    "ax.set_ylabel('Nr of rented bikes per hour', fontsize=10)\n",
    "change_width(ax, .5)\n",
    "plt.show()"
   ]
  },
  {
   "cell_type": "markdown",
   "metadata": {},
   "source": [
    "It would be expected that people tend to use bicycles more when the temperature is higher, however what we observe in the case of Medellin is that there is no obvious connection between temperature and demand."
   ]
  },
  {
   "cell_type": "markdown",
   "metadata": {},
   "source": [
    "Which station is most popular?"
   ]
  },
  {
   "cell_type": "code",
   "execution_count": 72,
   "metadata": {},
   "outputs": [
    {
     "data": {
      "image/png": "[encoded data removed]",
      "text/plain": [
       "<Figure size 1440x432 with 1 Axes>"
      ]
     },
     "metadata": {},
     "output_type": "display_data"
    }
   ],
   "source": [
    "fig, ax = plt.subplots(figsize=(20, 6))\n",
    "sns.barplot(data=d2020, x=\"Id_Aparcamiento_Origen\", y=\"Rented\")\n",
    "# ax.set_yscale('log')\n",
    "ax.set_xlabel('Station ID', fontsize=10)\n",
    "ax.set_ylabel('Nr of rented bikes per hour', fontsize=10)\n",
    "change_width(ax, .5)\n",
    "plt.xticks(rotation=90)\n",
    "plt.show()"
   ]
  },
  {
   "cell_type": "markdown",
   "metadata": {},
   "source": [
    "Let's look at station 70"
   ]
  },
  {
   "cell_type": "code",
   "execution_count": 73,
   "metadata": {},
   "outputs": [],
   "source": [
    "station70 = d2020[d2020.Id_Aparcamiento_Origen == 70]\n",
    "station70 = station70[['Fecha_Prestamo_data','Hora_Origen','Hora_Destino', 'Dias_Semana', 'Rented', 'Returned']]"
   ]
  },
  {
   "cell_type": "code",
   "execution_count": 74,
   "metadata": {},
   "outputs": [
    {
     "data": {
      "image/png": "[encoded data removed]",
      "text/plain": [
       "<Figure size 656.8x432 with 6 Axes>"
      ]
     },
     "metadata": {},
     "output_type": "display_data"
    }
   ],
   "source": [
    "g = sns.FacetGrid(station70, col=\"Dias_Semana\", col_wrap=3)\n",
    "g.map_dataframe(sns.lineplot, 'Hora_Origen','Rented', color='b', legend=True)\n",
    "g.map_dataframe(sns.lineplot, 'Hora_Destino','Returned', color='r')\n",
    "g.add_legend()\n",
    "# g.set_yticklabels(np.arange(min(year_ID.Id_Aparcamiento_Origen), max(year_ID.Id_Aparcamiento_Origen), 2))\n",
    "g.set_titles(col_template=\"{col_name}\", fontweight='bold')\n",
    "g.set_axis_labels('Hour', 'Nr of rented bikes per hour') \n",
    "sns.set(font_scale = 1)\n",
    "plt.show()"
   ]
  },
  {
   "cell_type": "markdown",
   "metadata": {},
   "source": [
    "Blue - Nr of rented bikes per hour in origin \n",
    "\n",
    "Red - Nr of returned bikes per hour in destination"
   ]
  },
  {
   "cell_type": "markdown",
   "metadata": {},
   "source": [
    "### Cluster"
   ]
  },
  {
   "cell_type": "markdown",
   "metadata": {},
   "source": [
    "We follow the methodology applied in [this]( https://ieeexplore.ieee.org/document/9375958) article where the objective is to group stations based on demand."
   ]
  },
  {
   "cell_type": "code",
   "execution_count": 121,
   "metadata": {},
   "outputs": [
    {
     "data": {
      "text/html": [
       "<div>\n",
       "<style scoped>\n",
       "    .dataframe tbody tr th:only-of-type {\n",
       "        vertical-align: middle;\n",
       "    }\n",
       "\n",
       "    .dataframe tbody tr th {\n",
       "        vertical-align: top;\n",
       "    }\n",
       "\n",
       "    .dataframe thead th {\n",
       "        text-align: right;\n",
       "    }\n",
       "</style>\n",
       "<table border=\"1\" class=\"dataframe\">\n",
       "  <thead>\n",
       "    <tr style=\"text-align: right;\">\n",
       "      <th></th>\n",
       "      <th>Id_Aparcamiento_Origen</th>\n",
       "      <th>Fecha_Prestamo_data</th>\n",
       "      <th>Horas_grp</th>\n",
       "      <th>Rented</th>\n",
       "    </tr>\n",
       "  </thead>\n",
       "  <tbody>\n",
       "    <tr>\n",
       "      <th>147180</th>\n",
       "      <td>36</td>\n",
       "      <td>2018-09-25</td>\n",
       "      <td>12-17pm</td>\n",
       "      <td>18</td>\n",
       "    </tr>\n",
       "    <tr>\n",
       "      <th>147204</th>\n",
       "      <td>3</td>\n",
       "      <td>2018-09-25</td>\n",
       "      <td>12-17pm</td>\n",
       "      <td>41</td>\n",
       "    </tr>\n",
       "    <tr>\n",
       "      <th>147251</th>\n",
       "      <td>37</td>\n",
       "      <td>2018-09-25</td>\n",
       "      <td>12-17pm</td>\n",
       "      <td>8</td>\n",
       "    </tr>\n",
       "    <tr>\n",
       "      <th>165247</th>\n",
       "      <td>2</td>\n",
       "      <td>2018-09-25</td>\n",
       "      <td>12-17pm</td>\n",
       "      <td>30</td>\n",
       "    </tr>\n",
       "    <tr>\n",
       "      <th>202201</th>\n",
       "      <td>44</td>\n",
       "      <td>2018-09-25</td>\n",
       "      <td>12-17pm</td>\n",
       "      <td>14</td>\n",
       "    </tr>\n",
       "  </tbody>\n",
       "</table>\n",
       "</div>"
      ],
      "text/plain": [
       "        Id_Aparcamiento_Origen Fecha_Prestamo_data Horas_grp  Rented\n",
       "147180                      36          2018-09-25   12-17pm      18\n",
       "147204                       3          2018-09-25   12-17pm      41\n",
       "147251                      37          2018-09-25   12-17pm       8\n",
       "165247                       2          2018-09-25   12-17pm      30\n",
       "202201                      44          2018-09-25   12-17pm      14"
      ]
     },
     "execution_count": 121,
     "metadata": {},
     "output_type": "execute_result"
    }
   ],
   "source": [
    "station_hours = bikes[['Id_Aparcamiento_Origen', 'Fecha_Prestamo_data', 'Horas_grp', 'Rented']]\n",
    "station_hours.head()"
   ]
  },
  {
   "cell_type": "code",
   "execution_count": 122,
   "metadata": {},
   "outputs": [
    {
     "data": {
      "text/plain": [
       "array(['12-17pm', '5-11am', '0-5am', '18-23pm'], dtype=object)"
      ]
     },
     "execution_count": 122,
     "metadata": {},
     "output_type": "execute_result"
    }
   ],
   "source": [
    "bikes.Horas_grp.unique()"
   ]
  },
  {
   "cell_type": "code",
   "execution_count": 123,
   "metadata": {},
   "outputs": [
    {
     "name": "stderr",
     "output_type": "stream",
     "text": [
      "<ipython-input-123-48e829dbd05a>:1: SettingWithCopyWarning: \n",
      "A value is trying to be set on a copy of a slice from a DataFrame.\n",
      "Try using .loc[row_indexer,col_indexer] = value instead\n",
      "\n",
      "See the caveats in the documentation: https://pandas.pydata.org/pandas-docs/stable/user_guide/indexing.html#returning-a-view-versus-a-copy\n",
      "  station_hours['Rented'] = station_hours.groupby(['Id_Aparcamiento_Origen', 'Horas_grp'])['Rented'].transform(sum)\n"
     ]
    }
   ],
   "source": [
    "station_hours['Rented'] = station_hours.groupby(['Id_Aparcamiento_Origen', 'Horas_grp'])['Rented'].transform(sum)"
   ]
  },
  {
   "cell_type": "code",
   "execution_count": 124,
   "metadata": {},
   "outputs": [],
   "source": [
    "station_hours = station_hours.drop_duplicates(subset=['Id_Aparcamiento_Origen', 'Horas_grp', 'Rented'])"
   ]
  },
  {
   "cell_type": "code",
   "execution_count": 125,
   "metadata": {},
   "outputs": [
    {
     "data": {
      "text/plain": [
       "(472, 4)"
      ]
     },
     "execution_count": 125,
     "metadata": {},
     "output_type": "execute_result"
    }
   ],
   "source": [
    "station_hours.shape"
   ]
  },
  {
   "cell_type": "code",
   "execution_count": 126,
   "metadata": {},
   "outputs": [],
   "source": [
    "# Normalise the demand \n",
    "scaler = MinMaxScaler()\n",
    "station_hours.Rented = scaler.fit_transform(station_hours[['Rented']])"
   ]
  },
  {
   "cell_type": "code",
   "execution_count": 127,
   "metadata": {},
   "outputs": [],
   "source": [
    "station_hours = station_hours.pivot_table(index ='Id_Aparcamiento_Origen', columns ='Horas_grp', values =['Rented'], fill_value=0)"
   ]
  },
  {
   "cell_type": "code",
   "execution_count": 128,
   "metadata": {},
   "outputs": [
    {
     "data": {
      "text/html": [
       "<div>\n",
       "<style scoped>\n",
       "    .dataframe tbody tr th:only-of-type {\n",
       "        vertical-align: middle;\n",
       "    }\n",
       "\n",
       "    .dataframe tbody tr th {\n",
       "        vertical-align: top;\n",
       "    }\n",
       "\n",
       "    .dataframe thead tr th {\n",
       "        text-align: left;\n",
       "    }\n",
       "\n",
       "    .dataframe thead tr:last-of-type th {\n",
       "        text-align: right;\n",
       "    }\n",
       "</style>\n",
       "<table border=\"1\" class=\"dataframe\">\n",
       "  <thead>\n",
       "    <tr>\n",
       "      <th></th>\n",
       "      <th colspan=\"4\" halign=\"left\">Rented</th>\n",
       "    </tr>\n",
       "    <tr>\n",
       "      <th>Horas_grp</th>\n",
       "      <th>0-5am</th>\n",
       "      <th>12-17pm</th>\n",
       "      <th>18-23pm</th>\n",
       "      <th>5-11am</th>\n",
       "    </tr>\n",
       "    <tr>\n",
       "      <th>Id_Aparcamiento_Origen</th>\n",
       "      <th></th>\n",
       "      <th></th>\n",
       "      <th></th>\n",
       "      <th></th>\n",
       "    </tr>\n",
       "  </thead>\n",
       "  <tbody>\n",
       "    <tr>\n",
       "      <th>1</th>\n",
       "      <td>0.043690</td>\n",
       "      <td>0.215464</td>\n",
       "      <td>0.024621</td>\n",
       "      <td>0.417157</td>\n",
       "    </tr>\n",
       "    <tr>\n",
       "      <th>2</th>\n",
       "      <td>0.013123</td>\n",
       "      <td>0.402727</td>\n",
       "      <td>0.176123</td>\n",
       "      <td>0.279106</td>\n",
       "    </tr>\n",
       "    <tr>\n",
       "      <th>3</th>\n",
       "      <td>0.010891</td>\n",
       "      <td>0.464104</td>\n",
       "      <td>0.124755</td>\n",
       "      <td>0.294980</td>\n",
       "    </tr>\n",
       "    <tr>\n",
       "      <th>4</th>\n",
       "      <td>0.000401</td>\n",
       "      <td>0.105964</td>\n",
       "      <td>0.025282</td>\n",
       "      <td>0.060578</td>\n",
       "    </tr>\n",
       "    <tr>\n",
       "      <th>5</th>\n",
       "      <td>0.001078</td>\n",
       "      <td>0.101900</td>\n",
       "      <td>0.022750</td>\n",
       "      <td>0.047882</td>\n",
       "    </tr>\n",
       "  </tbody>\n",
       "</table>\n",
       "</div>"
      ],
      "text/plain": [
       "                          Rented                              \n",
       "Horas_grp                  0-5am   12-17pm   18-23pm    5-11am\n",
       "Id_Aparcamiento_Origen                                        \n",
       "1                       0.043690  0.215464  0.024621  0.417157\n",
       "2                       0.013123  0.402727  0.176123  0.279106\n",
       "3                       0.010891  0.464104  0.124755  0.294980\n",
       "4                       0.000401  0.105964  0.025282  0.060578\n",
       "5                       0.001078  0.101900  0.022750  0.047882"
      ]
     },
     "execution_count": 128,
     "metadata": {},
     "output_type": "execute_result"
    }
   ],
   "source": [
    "station_hours.head()"
   ]
  },
  {
   "cell_type": "code",
   "execution_count": 129,
   "metadata": {},
   "outputs": [],
   "source": [
    "X = station_hours.to_numpy()"
   ]
  },
  {
   "cell_type": "code",
   "execution_count": 130,
   "metadata": {},
   "outputs": [],
   "source": [
    "kmeans = KMeans(n_clusters=15, random_state=0).fit(X)"
   ]
  },
  {
   "cell_type": "code",
   "execution_count": 131,
   "metadata": {},
   "outputs": [],
   "source": [
    "station_hours['cluster'] = kmeans.labels_"
   ]
  },
  {
   "cell_type": "code",
   "execution_count": 132,
   "metadata": {},
   "outputs": [
    {
     "data": {
      "text/html": [
       "<div>\n",
       "<style scoped>\n",
       "    .dataframe tbody tr th:only-of-type {\n",
       "        vertical-align: middle;\n",
       "    }\n",
       "\n",
       "    .dataframe tbody tr th {\n",
       "        vertical-align: top;\n",
       "    }\n",
       "\n",
       "    .dataframe thead tr th {\n",
       "        text-align: left;\n",
       "    }\n",
       "\n",
       "    .dataframe thead tr:last-of-type th {\n",
       "        text-align: right;\n",
       "    }\n",
       "</style>\n",
       "<table border=\"1\" class=\"dataframe\">\n",
       "  <thead>\n",
       "    <tr>\n",
       "      <th></th>\n",
       "      <th colspan=\"4\" halign=\"left\">Rented</th>\n",
       "      <th>cluster</th>\n",
       "    </tr>\n",
       "    <tr>\n",
       "      <th>Horas_grp</th>\n",
       "      <th>0-5am</th>\n",
       "      <th>12-17pm</th>\n",
       "      <th>18-23pm</th>\n",
       "      <th>5-11am</th>\n",
       "      <th></th>\n",
       "    </tr>\n",
       "    <tr>\n",
       "      <th>Id_Aparcamiento_Origen</th>\n",
       "      <th></th>\n",
       "      <th></th>\n",
       "      <th></th>\n",
       "      <th></th>\n",
       "      <th></th>\n",
       "    </tr>\n",
       "  </thead>\n",
       "  <tbody>\n",
       "    <tr>\n",
       "      <th>1</th>\n",
       "      <td>0.043690</td>\n",
       "      <td>0.215464</td>\n",
       "      <td>0.024621</td>\n",
       "      <td>0.417157</td>\n",
       "      <td>8</td>\n",
       "    </tr>\n",
       "    <tr>\n",
       "      <th>2</th>\n",
       "      <td>0.013123</td>\n",
       "      <td>0.402727</td>\n",
       "      <td>0.176123</td>\n",
       "      <td>0.279106</td>\n",
       "      <td>9</td>\n",
       "    </tr>\n",
       "    <tr>\n",
       "      <th>3</th>\n",
       "      <td>0.010891</td>\n",
       "      <td>0.464104</td>\n",
       "      <td>0.124755</td>\n",
       "      <td>0.294980</td>\n",
       "      <td>9</td>\n",
       "    </tr>\n",
       "    <tr>\n",
       "      <th>4</th>\n",
       "      <td>0.000401</td>\n",
       "      <td>0.105964</td>\n",
       "      <td>0.025282</td>\n",
       "      <td>0.060578</td>\n",
       "      <td>11</td>\n",
       "    </tr>\n",
       "    <tr>\n",
       "      <th>5</th>\n",
       "      <td>0.001078</td>\n",
       "      <td>0.101900</td>\n",
       "      <td>0.022750</td>\n",
       "      <td>0.047882</td>\n",
       "      <td>11</td>\n",
       "    </tr>\n",
       "  </tbody>\n",
       "</table>\n",
       "</div>"
      ],
      "text/plain": [
       "                          Rented                               cluster\n",
       "Horas_grp                  0-5am   12-17pm   18-23pm    5-11am        \n",
       "Id_Aparcamiento_Origen                                                \n",
       "1                       0.043690  0.215464  0.024621  0.417157       8\n",
       "2                       0.013123  0.402727  0.176123  0.279106       9\n",
       "3                       0.010891  0.464104  0.124755  0.294980       9\n",
       "4                       0.000401  0.105964  0.025282  0.060578      11\n",
       "5                       0.001078  0.101900  0.022750  0.047882      11"
      ]
     },
     "execution_count": 132,
     "metadata": {},
     "output_type": "execute_result"
    }
   ],
   "source": [
    "station_hours.head()"
   ]
  },
  {
   "cell_type": "code",
   "execution_count": 133,
   "metadata": {},
   "outputs": [],
   "source": [
    "def increase_priority(num):\n",
    "    station_dict = {\n",
    "        0:14,\n",
    "        1:13,\n",
    "        2:12,\n",
    "        3:11,\n",
    "        4:10,\n",
    "        5:9,\n",
    "        6:8,\n",
    "        7:7,\n",
    "        8:6,\n",
    "        9:5,\n",
    "        10:4,\n",
    "        11:3, \n",
    "        12:2,\n",
    "        13:1,\n",
    "        14:0\n",
    "    }\n",
    "    return station_dict.get(num)"
   ]
  },
  {
   "cell_type": "code",
   "execution_count": 134,
   "metadata": {},
   "outputs": [],
   "source": [
    "station_hours['cluster'] = station_hours['cluster'].apply(increase_priority)"
   ]
  },
  {
   "cell_type": "code",
   "execution_count": 135,
   "metadata": {},
   "outputs": [
    {
     "name": "stdout",
     "output_type": "stream",
     "text": [
      "[2, 1, 2, 12, 21, 2, 2, 1, 1, 9, 1, 3, 1, 2, 64]\n",
      "{0: 2, 1: 1, 2: 2, 3: 12, 4: 21, 5: 2, 6: 2, 7: 1, 8: 1, 9: 9, 10: 1, 11: 3, 12: 1, 13: 2, 14: 64}\n"
     ]
    }
   ],
   "source": [
    "group_length = [0] * 15\n",
    "for val in enumerate(station_hours['cluster']):\n",
    "    group_length[val[1]] = group_length[val[1]] + 1\n",
    "print(group_length)\n",
    "group_length_dict = {}\n",
    "for i, val in enumerate(group_length):\n",
    "    group_length_dict.update({i:val})\n",
    "print(group_length_dict)"
   ]
  },
  {
   "cell_type": "code",
   "execution_count": 136,
   "metadata": {},
   "outputs": [],
   "source": [
    "cluster = []\n",
    "for index, row in station_hours.iterrows():\n",
    "    dicts = {\"station_id\" : index, \"cluster\" : row['cluster'][0]}\n",
    "    cluster.append(dicts)"
   ]
  },
  {
   "cell_type": "code",
   "execution_count": 137,
   "metadata": {},
   "outputs": [],
   "source": [
    "bikes_cp = bikes.copy()"
   ]
  },
  {
   "cell_type": "code",
   "execution_count": 138,
   "metadata": {},
   "outputs": [],
   "source": [
    "def group_stations(num):\n",
    "    for i in range(0, len(cluster)):\n",
    "        if cluster[i]['station_id'] == num:\n",
    "            return cluster[i]['cluster']"
   ]
  },
  {
   "cell_type": "code",
   "execution_count": 139,
   "metadata": {},
   "outputs": [],
   "source": [
    "bikes_cp['Station_cluster'] = bikes_cp['Id_Aparcamiento_Origen'].apply(group_stations)"
   ]
  },
  {
   "cell_type": "code",
   "execution_count": 140,
   "metadata": {},
   "outputs": [
    {
     "data": {
      "text/html": [
       "<div>\n",
       "<style scoped>\n",
       "    .dataframe tbody tr th:only-of-type {\n",
       "        vertical-align: middle;\n",
       "    }\n",
       "\n",
       "    .dataframe tbody tr th {\n",
       "        vertical-align: top;\n",
       "    }\n",
       "\n",
       "    .dataframe thead th {\n",
       "        text-align: right;\n",
       "    }\n",
       "</style>\n",
       "<table border=\"1\" class=\"dataframe\">\n",
       "  <thead>\n",
       "    <tr style=\"text-align: right;\">\n",
       "      <th></th>\n",
       "      <th>Id_Historico_Prestamo</th>\n",
       "      <th>Id_Usuario</th>\n",
       "      <th>Id_Tag_Bicicleta</th>\n",
       "      <th>Fecha_Prestamo</th>\n",
       "      <th>Fecha_Devolucion</th>\n",
       "      <th>Id_Aparcamiento_Origen</th>\n",
       "      <th>Posicion_Origen</th>\n",
       "      <th>Id_Aparcamiento_Destino</th>\n",
       "      <th>Posicion_Destino</th>\n",
       "      <th>Importe</th>\n",
       "      <th>...</th>\n",
       "      <th>pressure</th>\n",
       "      <th>humidity</th>\n",
       "      <th>temp_min</th>\n",
       "      <th>temp_max</th>\n",
       "      <th>speed</th>\n",
       "      <th>deg</th>\n",
       "      <th>clouds</th>\n",
       "      <th>date</th>\n",
       "      <th>hour</th>\n",
       "      <th>Station_cluster</th>\n",
       "    </tr>\n",
       "  </thead>\n",
       "  <tbody>\n",
       "    <tr>\n",
       "      <th>147180</th>\n",
       "      <td>9805051</td>\n",
       "      <td>117812</td>\n",
       "      <td>000017AFE954</td>\n",
       "      <td>2018-09-25 15:52:05</td>\n",
       "      <td>2018-09-25 16:54:29</td>\n",
       "      <td>36</td>\n",
       "      <td>16</td>\n",
       "      <td>36.0</td>\n",
       "      <td>4.0</td>\n",
       "      <td>0.0</td>\n",
       "      <td>...</td>\n",
       "      <td>1019</td>\n",
       "      <td>54</td>\n",
       "      <td>294.15</td>\n",
       "      <td>298.15</td>\n",
       "      <td>3.6</td>\n",
       "      <td>10</td>\n",
       "      <td>75</td>\n",
       "      <td>2018-09-25</td>\n",
       "      <td>15.0</td>\n",
       "      <td>2.0</td>\n",
       "    </tr>\n",
       "    <tr>\n",
       "      <th>147204</th>\n",
       "      <td>9805769</td>\n",
       "      <td>27151</td>\n",
       "      <td>000017AFDA51</td>\n",
       "      <td>2018-09-25 16:36:23</td>\n",
       "      <td>2018-09-25 16:55:45</td>\n",
       "      <td>3</td>\n",
       "      <td>17</td>\n",
       "      <td>36.0</td>\n",
       "      <td>18.0</td>\n",
       "      <td>0.0</td>\n",
       "      <td>...</td>\n",
       "      <td>1019</td>\n",
       "      <td>48</td>\n",
       "      <td>295.15</td>\n",
       "      <td>300.15</td>\n",
       "      <td>3.6</td>\n",
       "      <td>340</td>\n",
       "      <td>75</td>\n",
       "      <td>2018-09-25</td>\n",
       "      <td>16.0</td>\n",
       "      <td>5.0</td>\n",
       "    </tr>\n",
       "    <tr>\n",
       "      <th>147251</th>\n",
       "      <td>9806079</td>\n",
       "      <td>114788</td>\n",
       "      <td>000017AFD206</td>\n",
       "      <td>2018-09-25 16:51:56</td>\n",
       "      <td>2018-09-25 16:59:12</td>\n",
       "      <td>37</td>\n",
       "      <td>19</td>\n",
       "      <td>89.0</td>\n",
       "      <td>3.0</td>\n",
       "      <td>0.0</td>\n",
       "      <td>...</td>\n",
       "      <td>1019</td>\n",
       "      <td>48</td>\n",
       "      <td>295.15</td>\n",
       "      <td>300.15</td>\n",
       "      <td>3.6</td>\n",
       "      <td>340</td>\n",
       "      <td>75</td>\n",
       "      <td>2018-09-25</td>\n",
       "      <td>16.0</td>\n",
       "      <td>4.0</td>\n",
       "    </tr>\n",
       "    <tr>\n",
       "      <th>165247</th>\n",
       "      <td>9805680</td>\n",
       "      <td>104857</td>\n",
       "      <td>000017AFDD8B</td>\n",
       "      <td>2018-09-25 16:31:04</td>\n",
       "      <td>2018-09-25 16:59:27</td>\n",
       "      <td>2</td>\n",
       "      <td>1</td>\n",
       "      <td>9.0</td>\n",
       "      <td>8.0</td>\n",
       "      <td>0.0</td>\n",
       "      <td>...</td>\n",
       "      <td>1019</td>\n",
       "      <td>48</td>\n",
       "      <td>295.15</td>\n",
       "      <td>300.15</td>\n",
       "      <td>3.6</td>\n",
       "      <td>340</td>\n",
       "      <td>75</td>\n",
       "      <td>2018-09-25</td>\n",
       "      <td>16.0</td>\n",
       "      <td>5.0</td>\n",
       "    </tr>\n",
       "    <tr>\n",
       "      <th>202201</th>\n",
       "      <td>9805973</td>\n",
       "      <td>34974</td>\n",
       "      <td>000017AFF2F7</td>\n",
       "      <td>2018-09-25 16:46:00</td>\n",
       "      <td>2018-09-25 16:54:43</td>\n",
       "      <td>44</td>\n",
       "      <td>1</td>\n",
       "      <td>21.0</td>\n",
       "      <td>1.0</td>\n",
       "      <td>0.0</td>\n",
       "      <td>...</td>\n",
       "      <td>1019</td>\n",
       "      <td>48</td>\n",
       "      <td>295.15</td>\n",
       "      <td>300.15</td>\n",
       "      <td>3.6</td>\n",
       "      <td>340</td>\n",
       "      <td>75</td>\n",
       "      <td>2018-09-25</td>\n",
       "      <td>16.0</td>\n",
       "      <td>9.0</td>\n",
       "    </tr>\n",
       "  </tbody>\n",
       "</table>\n",
       "<p>5 rows × 44 columns</p>\n",
       "</div>"
      ],
      "text/plain": [
       "        Id_Historico_Prestamo  Id_Usuario Id_Tag_Bicicleta  \\\n",
       "147180                9805051      117812     000017AFE954   \n",
       "147204                9805769       27151     000017AFDA51   \n",
       "147251                9806079      114788     000017AFD206   \n",
       "165247                9805680      104857     000017AFDD8B   \n",
       "202201                9805973       34974     000017AFF2F7   \n",
       "\n",
       "            Fecha_Prestamo    Fecha_Devolucion  Id_Aparcamiento_Origen  \\\n",
       "147180 2018-09-25 15:52:05 2018-09-25 16:54:29                      36   \n",
       "147204 2018-09-25 16:36:23 2018-09-25 16:55:45                       3   \n",
       "147251 2018-09-25 16:51:56 2018-09-25 16:59:12                      37   \n",
       "165247 2018-09-25 16:31:04 2018-09-25 16:59:27                       2   \n",
       "202201 2018-09-25 16:46:00 2018-09-25 16:54:43                      44   \n",
       "\n",
       "        Posicion_Origen  Id_Aparcamiento_Destino  Posicion_Destino  Importe  \\\n",
       "147180               16                     36.0               4.0      0.0   \n",
       "147204               17                     36.0              18.0      0.0   \n",
       "147251               19                     89.0               3.0      0.0   \n",
       "165247                1                      9.0               8.0      0.0   \n",
       "202201                1                     21.0               1.0      0.0   \n",
       "\n",
       "        ...  pressure humidity  temp_min temp_max speed  deg  clouds  \\\n",
       "147180  ...      1019       54    294.15   298.15   3.6   10      75   \n",
       "147204  ...      1019       48    295.15   300.15   3.6  340      75   \n",
       "147251  ...      1019       48    295.15   300.15   3.6  340      75   \n",
       "165247  ...      1019       48    295.15   300.15   3.6  340      75   \n",
       "202201  ...      1019       48    295.15   300.15   3.6  340      75   \n",
       "\n",
       "              date  hour  Station_cluster  \n",
       "147180  2018-09-25  15.0              2.0  \n",
       "147204  2018-09-25  16.0              5.0  \n",
       "147251  2018-09-25  16.0              4.0  \n",
       "165247  2018-09-25  16.0              5.0  \n",
       "202201  2018-09-25  16.0              9.0  \n",
       "\n",
       "[5 rows x 44 columns]"
      ]
     },
     "execution_count": 140,
     "metadata": {},
     "output_type": "execute_result"
    }
   ],
   "source": [
    "bikes_cp.head()"
   ]
  },
  {
   "cell_type": "code",
   "execution_count": 141,
   "metadata": {},
   "outputs": [],
   "source": [
    "# hourly average trips for given station (seasons - 3 months each, day of week - 4 weeks in a month(30/7), 4 years data(2018,2019,2020,2021), size of groups) \n",
    "def average_trips(num, group_id):\n",
    "    return (int) (math.ceil(num / ((3 * 4 * 4) * group_length_dict.get(group_id))))"
   ]
  },
  {
   "cell_type": "code",
   "execution_count": 142,
   "metadata": {},
   "outputs": [],
   "source": [
    "bikes_cp['Rented_cls'] = np.vectorize(average_trips)(bikes_cp['Rented'], bikes_cp['Station_cluster'])"
   ]
  },
  {
   "cell_type": "code",
   "execution_count": 143,
   "metadata": {},
   "outputs": [
    {
     "data": {
      "text/plain": [
       "count    8.895058e+06\n",
       "mean     1.045672e+00\n",
       "std      2.133898e-01\n",
       "min      1.000000e+00\n",
       "25%      1.000000e+00\n",
       "50%      1.000000e+00\n",
       "75%      1.000000e+00\n",
       "max      3.000000e+00\n",
       "Name: Rented_cls, dtype: float64"
      ]
     },
     "execution_count": 143,
     "metadata": {},
     "output_type": "execute_result"
    }
   ],
   "source": [
    "bikes_cp.Rented_cls.describe()"
   ]
  },
  {
   "cell_type": "code",
   "execution_count": 144,
   "metadata": {},
   "outputs": [
    {
     "data": {
      "text/plain": [
       "array([1, 2, 3])"
      ]
     },
     "execution_count": 144,
     "metadata": {},
     "output_type": "execute_result"
    }
   ],
   "source": [
    "bikes_cp.Rented_cls.unique()"
   ]
  },
  {
   "cell_type": "markdown",
   "metadata": {},
   "source": [
    "#### Correlation"
   ]
  },
  {
   "cell_type": "code",
   "execution_count": 148,
   "metadata": {},
   "outputs": [
    {
     "data": {
      "text/plain": [
       "Index(['Id_Aparcamiento_Origen', 'Posicion_Origen', 'Id_Aparcamiento_Destino',\n",
       "       'Posicion_Destino', 'Duracion_dias', 'Duracion_horas', 'Ano', 'Mes',\n",
       "       'Dia', 'Dias_Semana', 'Dias_habiles', 'Hora_Origen', 'Hora_Destino',\n",
       "       'Estaciones', 'Vacaciones', 'Ocupacion', 'temp', 'feels_like',\n",
       "       'pressure', 'humidity', 'temp_min', 'temp_max', 'speed', 'deg',\n",
       "       'clouds', 'Station_cluster', 'Rented_cls'],\n",
       "      dtype='object')"
      ]
     },
     "execution_count": 148,
     "metadata": {},
     "output_type": "execute_result"
    }
   ],
   "source": [
    "cols = bikes_cp.columns[np.r_[5:9,16:28, 32:41, 43, 44]]\n",
    "cols"
   ]
  },
  {
   "cell_type": "code",
   "execution_count": 149,
   "metadata": {},
   "outputs": [
    {
     "data": {
      "text/html": [
       "<style  type=\"text/css\" >\n",
       "#T_5d0ee_row0_col0,#T_5d0ee_row1_col1,#T_5d0ee_row2_col2,#T_5d0ee_row3_col3,#T_5d0ee_row4_col4,#T_5d0ee_row5_col5,#T_5d0ee_row6_col6,#T_5d0ee_row7_col7,#T_5d0ee_row8_col8,#T_5d0ee_row9_col9,#T_5d0ee_row10_col10,#T_5d0ee_row11_col11,#T_5d0ee_row12_col12,#T_5d0ee_row13_col13,#T_5d0ee_row14_col14,#T_5d0ee_row15_col15,#T_5d0ee_row16_col16,#T_5d0ee_row17_col17{\n",
       "            background-color:  #b40426;\n",
       "            color:  #f1f1f1;\n",
       "        }#T_5d0ee_row0_col1,#T_5d0ee_row2_col6{\n",
       "            background-color:  #a3c2fe;\n",
       "            color:  #000000;\n",
       "        }#T_5d0ee_row0_col2,#T_5d0ee_row1_col5{\n",
       "            background-color:  #92b4fe;\n",
       "            color:  #000000;\n",
       "        }#T_5d0ee_row0_col3,#T_5d0ee_row1_col11,#T_5d0ee_row3_col17,#T_5d0ee_row4_col1,#T_5d0ee_row6_col12,#T_5d0ee_row7_col17,#T_5d0ee_row8_col0,#T_5d0ee_row9_col0,#T_5d0ee_row9_col1,#T_5d0ee_row10_col0,#T_5d0ee_row10_col1,#T_5d0ee_row13_col0,#T_5d0ee_row14_col0{\n",
       "            background-color:  #5977e3;\n",
       "            color:  #000000;\n",
       "        }#T_5d0ee_row0_col4,#T_5d0ee_row2_col0,#T_5d0ee_row11_col4,#T_5d0ee_row12_col4,#T_5d0ee_row14_col5,#T_5d0ee_row15_col4{\n",
       "            background-color:  #94b6ff;\n",
       "            color:  #000000;\n",
       "        }#T_5d0ee_row0_col5,#T_5d0ee_row0_col10,#T_5d0ee_row1_col4,#T_5d0ee_row1_col10,#T_5d0ee_row2_col4,#T_5d0ee_row2_col10,#T_5d0ee_row3_col4,#T_5d0ee_row3_col10,#T_5d0ee_row6_col4,#T_5d0ee_row6_col10,#T_5d0ee_row7_col4,#T_5d0ee_row7_col10,#T_5d0ee_row8_col4,#T_5d0ee_row8_col10,#T_5d0ee_row11_col5,#T_5d0ee_row11_col10,#T_5d0ee_row12_col10,#T_5d0ee_row13_col4,#T_5d0ee_row13_col10,#T_5d0ee_row14_col4,#T_5d0ee_row14_col10,#T_5d0ee_row15_col10,#T_5d0ee_row16_col10,#T_5d0ee_row17_col4,#T_5d0ee_row17_col10{\n",
       "            background-color:  #96b7ff;\n",
       "            color:  #000000;\n",
       "        }#T_5d0ee_row0_col6{\n",
       "            background-color:  #a1c0ff;\n",
       "            color:  #000000;\n",
       "        }#T_5d0ee_row0_col7{\n",
       "            background-color:  #7b9ff9;\n",
       "            color:  #000000;\n",
       "        }#T_5d0ee_row0_col8,#T_5d0ee_row2_col8,#T_5d0ee_row13_col3,#T_5d0ee_row17_col15{\n",
       "            background-color:  #445acc;\n",
       "            color:  #f1f1f1;\n",
       "        }#T_5d0ee_row0_col9,#T_5d0ee_row6_col9,#T_5d0ee_row9_col11,#T_5d0ee_row16_col9{\n",
       "            background-color:  #485fd1;\n",
       "            color:  #f1f1f1;\n",
       "        }#T_5d0ee_row0_col11,#T_5d0ee_row4_col16,#T_5d0ee_row8_col16,#T_5d0ee_row9_col16,#T_5d0ee_row10_col16,#T_5d0ee_row11_col16,#T_5d0ee_row14_col15,#T_5d0ee_row14_col16,#T_5d0ee_row16_col2,#T_5d0ee_row17_col6{\n",
       "            background-color:  #6a8bef;\n",
       "            color:  #000000;\n",
       "        }#T_5d0ee_row0_col12,#T_5d0ee_row4_col15,#T_5d0ee_row8_col15,#T_5d0ee_row10_col15,#T_5d0ee_row12_col15,#T_5d0ee_row13_col16{\n",
       "            background-color:  #688aef;\n",
       "            color:  #000000;\n",
       "        }#T_5d0ee_row0_col13,#T_5d0ee_row2_col13,#T_5d0ee_row8_col6,#T_5d0ee_row10_col13,#T_5d0ee_row11_col13,#T_5d0ee_row14_col13{\n",
       "            background-color:  #7093f3;\n",
       "            color:  #000000;\n",
       "        }#T_5d0ee_row0_col14,#T_5d0ee_row1_col14,#T_5d0ee_row2_col14,#T_5d0ee_row3_col14,#T_5d0ee_row5_col14,#T_5d0ee_row7_col14,#T_5d0ee_row12_col2,#T_5d0ee_row13_col14,#T_5d0ee_row15_col14,#T_5d0ee_row16_col14,#T_5d0ee_row17_col3{\n",
       "            background-color:  #3c4ec2;\n",
       "            color:  #f1f1f1;\n",
       "        }#T_5d0ee_row0_col15,#T_5d0ee_row2_col15{\n",
       "            background-color:  #c9d7f0;\n",
       "            color:  #000000;\n",
       "        }#T_5d0ee_row0_col16,#T_5d0ee_row15_col5{\n",
       "            background-color:  #86a9fc;\n",
       "            color:  #000000;\n",
       "        }#T_5d0ee_row0_col17,#T_5d0ee_row4_col3,#T_5d0ee_row5_col3,#T_5d0ee_row8_col3,#T_5d0ee_row9_col3,#T_5d0ee_row9_col8,#T_5d0ee_row10_col3,#T_5d0ee_row10_col8,#T_5d0ee_row13_col8,#T_5d0ee_row17_col8{\n",
       "            background-color:  #4257c9;\n",
       "            color:  #f1f1f1;\n",
       "        }#T_5d0ee_row1_col0{\n",
       "            background-color:  #a2c1ff;\n",
       "            color:  #000000;\n",
       "        }#T_5d0ee_row1_col2{\n",
       "            background-color:  #a5c3fe;\n",
       "            color:  #000000;\n",
       "        }#T_5d0ee_row1_col3{\n",
       "            background-color:  #c0d4f5;\n",
       "            color:  #000000;\n",
       "        }#T_5d0ee_row1_col6,#T_5d0ee_row5_col6,#T_5d0ee_row15_col7{\n",
       "            background-color:  #80a3fa;\n",
       "            color:  #000000;\n",
       "        }#T_5d0ee_row1_col7,#T_5d0ee_row3_col6,#T_5d0ee_row9_col7,#T_5d0ee_row9_col13,#T_5d0ee_row12_col6,#T_5d0ee_row15_col13{\n",
       "            background-color:  #799cf8;\n",
       "            color:  #000000;\n",
       "        }#T_5d0ee_row1_col8,#T_5d0ee_row3_col8,#T_5d0ee_row4_col8,#T_5d0ee_row5_col8,#T_5d0ee_row10_col9,#T_5d0ee_row11_col8,#T_5d0ee_row12_col8,#T_5d0ee_row14_col3,#T_5d0ee_row14_col8,#T_5d0ee_row15_col8,#T_5d0ee_row15_col9,#T_5d0ee_row16_col8{\n",
       "            background-color:  #4358cb;\n",
       "            color:  #f1f1f1;\n",
       "        }#T_5d0ee_row1_col9,#T_5d0ee_row3_col9,#T_5d0ee_row9_col12,#T_5d0ee_row17_col2{\n",
       "            background-color:  #465ecf;\n",
       "            color:  #f1f1f1;\n",
       "        }#T_5d0ee_row1_col12,#T_5d0ee_row5_col11,#T_5d0ee_row7_col11,#T_5d0ee_row9_col2{\n",
       "            background-color:  #5673e0;\n",
       "            color:  #000000;\n",
       "        }#T_5d0ee_row1_col13,#T_5d0ee_row4_col6,#T_5d0ee_row4_col7,#T_5d0ee_row5_col7,#T_5d0ee_row10_col6,#T_5d0ee_row10_col7,#T_5d0ee_row11_col15,#T_5d0ee_row14_col6,#T_5d0ee_row14_col7{\n",
       "            background-color:  #7396f5;\n",
       "            color:  #000000;\n",
       "        }#T_5d0ee_row1_col15,#T_5d0ee_row3_col15{\n",
       "            background-color:  #f5c4ac;\n",
       "            color:  #000000;\n",
       "        }#T_5d0ee_row1_col16,#T_5d0ee_row5_col9{\n",
       "            background-color:  #4a63d3;\n",
       "            color:  #f1f1f1;\n",
       "        }#T_5d0ee_row1_col17,#T_5d0ee_row6_col8{\n",
       "            background-color:  #4055c8;\n",
       "            color:  #f1f1f1;\n",
       "        }#T_5d0ee_row2_col1{\n",
       "            background-color:  #aac7fd;\n",
       "            color:  #000000;\n",
       "        }#T_5d0ee_row2_col3{\n",
       "            background-color:  #9abbff;\n",
       "            color:  #000000;\n",
       "        }#T_5d0ee_row2_col5,#T_5d0ee_row9_col4,#T_5d0ee_row9_col5,#T_5d0ee_row12_col5,#T_5d0ee_row16_col4,#T_5d0ee_row16_col5{\n",
       "            background-color:  #97b8ff;\n",
       "            color:  #000000;\n",
       "        }#T_5d0ee_row2_col7{\n",
       "            background-color:  #7a9df8;\n",
       "            color:  #000000;\n",
       "        }#T_5d0ee_row2_col9,#T_5d0ee_row4_col9,#T_5d0ee_row6_col3{\n",
       "            background-color:  #4961d2;\n",
       "            color:  #f1f1f1;\n",
       "        }#T_5d0ee_row2_col11,#T_5d0ee_row2_col12,#T_5d0ee_row4_col10,#T_5d0ee_row4_col14,#T_5d0ee_row6_col7,#T_5d0ee_row6_col13,#T_5d0ee_row6_col14,#T_5d0ee_row7_col6,#T_5d0ee_row7_col8,#T_5d0ee_row8_col14,#T_5d0ee_row9_col14,#T_5d0ee_row10_col4,#T_5d0ee_row10_col5,#T_5d0ee_row10_col14,#T_5d0ee_row11_col2,#T_5d0ee_row11_col3,#T_5d0ee_row11_col9,#T_5d0ee_row11_col14,#T_5d0ee_row12_col3,#T_5d0ee_row12_col9,#T_5d0ee_row12_col14,#T_5d0ee_row15_col16,#T_5d0ee_row15_col17,#T_5d0ee_row16_col1,#T_5d0ee_row16_col15,#T_5d0ee_row17_col0,#T_5d0ee_row17_col1,#T_5d0ee_row17_col14{\n",
       "            background-color:  #3b4cc0;\n",
       "            color:  #f1f1f1;\n",
       "        }#T_5d0ee_row2_col16{\n",
       "            background-color:  #7ea1fa;\n",
       "            color:  #000000;\n",
       "        }#T_5d0ee_row2_col17,#T_5d0ee_row4_col12{\n",
       "            background-color:  #516ddb;\n",
       "            color:  #000000;\n",
       "        }#T_5d0ee_row3_col0,#T_5d0ee_row4_col13,#T_5d0ee_row8_col13,#T_5d0ee_row12_col13,#T_5d0ee_row16_col13{\n",
       "            background-color:  #6f92f3;\n",
       "            color:  #000000;\n",
       "        }#T_5d0ee_row3_col1{\n",
       "            background-color:  #cedaeb;\n",
       "            color:  #000000;\n",
       "        }#T_5d0ee_row3_col2{\n",
       "            background-color:  #a9c6fd;\n",
       "            color:  #000000;\n",
       "        }#T_5d0ee_row3_col5,#T_5d0ee_row7_col5,#T_5d0ee_row8_col5,#T_5d0ee_row9_col10{\n",
       "            background-color:  #93b5fe;\n",
       "            color:  #000000;\n",
       "        }#T_5d0ee_row3_col7{\n",
       "            background-color:  #779af7;\n",
       "            color:  #000000;\n",
       "        }#T_5d0ee_row3_col11{\n",
       "            background-color:  #4c66d6;\n",
       "            color:  #000000;\n",
       "        }#T_5d0ee_row3_col12,#T_5d0ee_row7_col9{\n",
       "            background-color:  #4b64d5;\n",
       "            color:  #f1f1f1;\n",
       "        }#T_5d0ee_row3_col13,#T_5d0ee_row13_col15,#T_5d0ee_row17_col13{\n",
       "            background-color:  #7295f4;\n",
       "            color:  #000000;\n",
       "        }#T_5d0ee_row3_col16,#T_5d0ee_row5_col13,#T_5d0ee_row5_col16,#T_5d0ee_row6_col15,#T_5d0ee_row7_col16,#T_5d0ee_row17_col7{\n",
       "            background-color:  #6c8ff1;\n",
       "            color:  #000000;\n",
       "        }#T_5d0ee_row4_col0,#T_5d0ee_row5_col1,#T_5d0ee_row5_col2,#T_5d0ee_row5_col12,#T_5d0ee_row6_col11,#T_5d0ee_row9_col17{\n",
       "            background-color:  #5875e1;\n",
       "            color:  #000000;\n",
       "        }#T_5d0ee_row4_col2,#T_5d0ee_row4_col11,#T_5d0ee_row7_col12,#T_5d0ee_row10_col2,#T_5d0ee_row10_col12,#T_5d0ee_row13_col2,#T_5d0ee_row14_col11,#T_5d0ee_row16_col12{\n",
       "            background-color:  #5470de;\n",
       "            color:  #000000;\n",
       "        }#T_5d0ee_row4_col5,#T_5d0ee_row5_col4{\n",
       "            background-color:  #ba162b;\n",
       "            color:  #f1f1f1;\n",
       "        }#T_5d0ee_row4_col17,#T_5d0ee_row7_col1,#T_5d0ee_row8_col17,#T_5d0ee_row11_col17,#T_5d0ee_row12_col17,#T_5d0ee_row14_col17{\n",
       "            background-color:  #5f7fe8;\n",
       "            color:  #000000;\n",
       "        }#T_5d0ee_row5_col0,#T_5d0ee_row5_col17,#T_5d0ee_row7_col2{\n",
       "            background-color:  #5b7ae5;\n",
       "            color:  #000000;\n",
       "        }#T_5d0ee_row5_col10,#T_5d0ee_row13_col6{\n",
       "            background-color:  #3d50c3;\n",
       "            color:  #f1f1f1;\n",
       "        }#T_5d0ee_row5_col15,#T_5d0ee_row8_col1,#T_5d0ee_row14_col1{\n",
       "            background-color:  #5a78e4;\n",
       "            color:  #000000;\n",
       "        }#T_5d0ee_row6_col0{\n",
       "            background-color:  #89acfd;\n",
       "            color:  #000000;\n",
       "        }#T_5d0ee_row6_col1,#T_5d0ee_row9_col15{\n",
       "            background-color:  #6687ed;\n",
       "            color:  #000000;\n",
       "        }#T_5d0ee_row6_col2{\n",
       "            background-color:  #88abfd;\n",
       "            color:  #000000;\n",
       "        }#T_5d0ee_row6_col5{\n",
       "            background-color:  #9fbfff;\n",
       "            color:  #000000;\n",
       "        }#T_5d0ee_row6_col16,#T_5d0ee_row16_col17{\n",
       "            background-color:  #82a6fb;\n",
       "            color:  #000000;\n",
       "        }#T_5d0ee_row6_col17,#T_5d0ee_row8_col2,#T_5d0ee_row8_col11,#T_5d0ee_row10_col11,#T_5d0ee_row13_col11,#T_5d0ee_row14_col2,#T_5d0ee_row16_col11,#T_5d0ee_row17_col11{\n",
       "            background-color:  #5572df;\n",
       "            color:  #000000;\n",
       "        }#T_5d0ee_row7_col0,#T_5d0ee_row10_col17{\n",
       "            background-color:  #6180e9;\n",
       "            color:  #000000;\n",
       "        }#T_5d0ee_row7_col3,#T_5d0ee_row8_col9,#T_5d0ee_row14_col9,#T_5d0ee_row16_col3{\n",
       "            background-color:  #455cce;\n",
       "            color:  #f1f1f1;\n",
       "        }#T_5d0ee_row7_col13,#T_5d0ee_row13_col7{\n",
       "            background-color:  #f5a081;\n",
       "            color:  #000000;\n",
       "        }#T_5d0ee_row7_col15,#T_5d0ee_row9_col6,#T_5d0ee_row11_col7,#T_5d0ee_row12_col7{\n",
       "            background-color:  #7597f6;\n",
       "            color:  #000000;\n",
       "        }#T_5d0ee_row8_col7,#T_5d0ee_row12_col16{\n",
       "            background-color:  #6b8df0;\n",
       "            color:  #000000;\n",
       "        }#T_5d0ee_row8_col12,#T_5d0ee_row13_col12,#T_5d0ee_row14_col12,#T_5d0ee_row15_col12,#T_5d0ee_row17_col12{\n",
       "            background-color:  #536edd;\n",
       "            color:  #000000;\n",
       "        }#T_5d0ee_row11_col0,#T_5d0ee_row12_col0{\n",
       "            background-color:  #6e90f2;\n",
       "            color:  #000000;\n",
       "        }#T_5d0ee_row11_col1,#T_5d0ee_row12_col1,#T_5d0ee_row15_col11{\n",
       "            background-color:  #5e7de7;\n",
       "            color:  #000000;\n",
       "        }#T_5d0ee_row11_col6,#T_5d0ee_row15_col6,#T_5d0ee_row16_col0,#T_5d0ee_row16_col7{\n",
       "            background-color:  #7699f6;\n",
       "            color:  #000000;\n",
       "        }#T_5d0ee_row11_col12,#T_5d0ee_row12_col11{\n",
       "            background-color:  #b8122a;\n",
       "            color:  #f1f1f1;\n",
       "        }#T_5d0ee_row13_col1{\n",
       "            background-color:  #5d7ce6;\n",
       "            color:  #000000;\n",
       "        }#T_5d0ee_row13_col5,#T_5d0ee_row17_col5{\n",
       "            background-color:  #90b2fe;\n",
       "            color:  #000000;\n",
       "        }#T_5d0ee_row13_col9{\n",
       "            background-color:  #506bda;\n",
       "            color:  #000000;\n",
       "        }#T_5d0ee_row13_col17{\n",
       "            background-color:  #6282ea;\n",
       "            color:  #000000;\n",
       "        }#T_5d0ee_row15_col0{\n",
       "            background-color:  #bed2f6;\n",
       "            color:  #000000;\n",
       "        }#T_5d0ee_row15_col1{\n",
       "            background-color:  #f2c9b4;\n",
       "            color:  #000000;\n",
       "        }#T_5d0ee_row15_col2{\n",
       "            background-color:  #bbd1f8;\n",
       "            color:  #000000;\n",
       "        }#T_5d0ee_row15_col3{\n",
       "            background-color:  #edd1c2;\n",
       "            color:  #000000;\n",
       "        }#T_5d0ee_row16_col6,#T_5d0ee_row17_col16{\n",
       "            background-color:  #8caffe;\n",
       "            color:  #000000;\n",
       "        }#T_5d0ee_row17_col9{\n",
       "            background-color:  #3e51c5;\n",
       "            color:  #f1f1f1;\n",
       "        }</style><table id=\"T_5d0ee_\" ><thead>    <tr>        <th class=\"blank level0\" ></th>        <th class=\"col_heading level0 col0\" >Id_Aparcamiento_Origen</th>        <th class=\"col_heading level0 col1\" >Posicion_Origen</th>        <th class=\"col_heading level0 col2\" >Id_Aparcamiento_Destino</th>        <th class=\"col_heading level0 col3\" >Posicion_Destino</th>        <th class=\"col_heading level0 col4\" >Duracion_dias</th>        <th class=\"col_heading level0 col5\" >Duracion_horas</th>        <th class=\"col_heading level0 col6\" >Ano</th>        <th class=\"col_heading level0 col7\" >Mes</th>        <th class=\"col_heading level0 col8\" >Dia</th>        <th class=\"col_heading level0 col9\" >Dias_Semana</th>        <th class=\"col_heading level0 col10\" >Dias_habiles</th>        <th class=\"col_heading level0 col11\" >Hora_Origen</th>        <th class=\"col_heading level0 col12\" >Hora_Destino</th>        <th class=\"col_heading level0 col13\" >Estaciones</th>        <th class=\"col_heading level0 col14\" >Vacaciones</th>        <th class=\"col_heading level0 col15\" >Ocupacion</th>        <th class=\"col_heading level0 col16\" >Station_cluster</th>        <th class=\"col_heading level0 col17\" >Rented_cls</th>    </tr></thead><tbody>\n",
       "                <tr>\n",
       "                        <th id=\"T_5d0ee_level0_row0\" class=\"row_heading level0 row0\" >Id_Aparcamiento_Origen</th>\n",
       "                        <td id=\"T_5d0ee_row0_col0\" class=\"data row0 col0\" >1.00</td>\n",
       "                        <td id=\"T_5d0ee_row0_col1\" class=\"data row0 col1\" >0.24</td>\n",
       "                        <td id=\"T_5d0ee_row0_col2\" class=\"data row0 col2\" >0.19</td>\n",
       "                        <td id=\"T_5d0ee_row0_col3\" class=\"data row0 col3\" >0.08</td>\n",
       "                        <td id=\"T_5d0ee_row0_col4\" class=\"data row0 col4\" >-0.00</td>\n",
       "                        <td id=\"T_5d0ee_row0_col5\" class=\"data row0 col5\" >0.01</td>\n",
       "                        <td id=\"T_5d0ee_row0_col6\" class=\"data row0 col6\" >0.16</td>\n",
       "                        <td id=\"T_5d0ee_row0_col7\" class=\"data row0 col7\" >0.03</td>\n",
       "                        <td id=\"T_5d0ee_row0_col8\" class=\"data row0 col8\" >0.00</td>\n",
       "                        <td id=\"T_5d0ee_row0_col9\" class=\"data row0 col9\" >0.00</td>\n",
       "                        <td id=\"T_5d0ee_row0_col10\" class=\"data row0 col10\" >0.00</td>\n",
       "                        <td id=\"T_5d0ee_row0_col11\" class=\"data row0 col11\" >0.07</td>\n",
       "                        <td id=\"T_5d0ee_row0_col12\" class=\"data row0 col12\" >0.07</td>\n",
       "                        <td id=\"T_5d0ee_row0_col13\" class=\"data row0 col13\" >0.00</td>\n",
       "                        <td id=\"T_5d0ee_row0_col14\" class=\"data row0 col14\" >0.00</td>\n",
       "                        <td id=\"T_5d0ee_row0_col15\" class=\"data row0 col15\" >0.33</td>\n",
       "                        <td id=\"T_5d0ee_row0_col16\" class=\"data row0 col16\" >0.10</td>\n",
       "                        <td id=\"T_5d0ee_row0_col17\" class=\"data row0 col17\" >-0.11</td>\n",
       "            </tr>\n",
       "            <tr>\n",
       "                        <th id=\"T_5d0ee_level0_row1\" class=\"row_heading level0 row1\" >Posicion_Origen</th>\n",
       "                        <td id=\"T_5d0ee_row1_col0\" class=\"data row1 col0\" >0.24</td>\n",
       "                        <td id=\"T_5d0ee_row1_col1\" class=\"data row1 col1\" >1.00</td>\n",
       "                        <td id=\"T_5d0ee_row1_col2\" class=\"data row1 col2\" >0.26</td>\n",
       "                        <td id=\"T_5d0ee_row1_col3\" class=\"data row1 col3\" >0.38</td>\n",
       "                        <td id=\"T_5d0ee_row1_col4\" class=\"data row1 col4\" >-0.00</td>\n",
       "                        <td id=\"T_5d0ee_row1_col5\" class=\"data row1 col5\" >-0.01</td>\n",
       "                        <td id=\"T_5d0ee_row1_col6\" class=\"data row1 col6\" >0.04</td>\n",
       "                        <td id=\"T_5d0ee_row1_col7\" class=\"data row1 col7\" >0.02</td>\n",
       "                        <td id=\"T_5d0ee_row1_col8\" class=\"data row1 col8\" >0.00</td>\n",
       "                        <td id=\"T_5d0ee_row1_col9\" class=\"data row1 col9\" >-0.00</td>\n",
       "                        <td id=\"T_5d0ee_row1_col10\" class=\"data row1 col10\" >-0.00</td>\n",
       "                        <td id=\"T_5d0ee_row1_col11\" class=\"data row1 col11\" >0.01</td>\n",
       "                        <td id=\"T_5d0ee_row1_col12\" class=\"data row1 col12\" >0.01</td>\n",
       "                        <td id=\"T_5d0ee_row1_col13\" class=\"data row1 col13\" >0.01</td>\n",
       "                        <td id=\"T_5d0ee_row1_col14\" class=\"data row1 col14\" >0.00</td>\n",
       "                        <td id=\"T_5d0ee_row1_col15\" class=\"data row1 col15\" >0.56</td>\n",
       "                        <td id=\"T_5d0ee_row1_col16\" class=\"data row1 col16\" >-0.11</td>\n",
       "                        <td id=\"T_5d0ee_row1_col17\" class=\"data row1 col17\" >-0.11</td>\n",
       "            </tr>\n",
       "            <tr>\n",
       "                        <th id=\"T_5d0ee_level0_row2\" class=\"row_heading level0 row2\" >Id_Aparcamiento_Destino</th>\n",
       "                        <td id=\"T_5d0ee_row2_col0\" class=\"data row2 col0\" >0.19</td>\n",
       "                        <td id=\"T_5d0ee_row2_col1\" class=\"data row2 col1\" >0.26</td>\n",
       "                        <td id=\"T_5d0ee_row2_col2\" class=\"data row2 col2\" >1.00</td>\n",
       "                        <td id=\"T_5d0ee_row2_col3\" class=\"data row2 col3\" >0.27</td>\n",
       "                        <td id=\"T_5d0ee_row2_col4\" class=\"data row2 col4\" >-0.00</td>\n",
       "                        <td id=\"T_5d0ee_row2_col5\" class=\"data row2 col5\" >0.01</td>\n",
       "                        <td id=\"T_5d0ee_row2_col6\" class=\"data row2 col6\" >0.16</td>\n",
       "                        <td id=\"T_5d0ee_row2_col7\" class=\"data row2 col7\" >0.02</td>\n",
       "                        <td id=\"T_5d0ee_row2_col8\" class=\"data row2 col8\" >0.00</td>\n",
       "                        <td id=\"T_5d0ee_row2_col9\" class=\"data row2 col9\" >0.01</td>\n",
       "                        <td id=\"T_5d0ee_row2_col10\" class=\"data row2 col10\" >-0.00</td>\n",
       "                        <td id=\"T_5d0ee_row2_col11\" class=\"data row2 col11\" >-0.09</td>\n",
       "                        <td id=\"T_5d0ee_row2_col12\" class=\"data row2 col12\" >-0.09</td>\n",
       "                        <td id=\"T_5d0ee_row2_col13\" class=\"data row2 col13\" >-0.00</td>\n",
       "                        <td id=\"T_5d0ee_row2_col14\" class=\"data row2 col14\" >0.00</td>\n",
       "                        <td id=\"T_5d0ee_row2_col15\" class=\"data row2 col15\" >0.33</td>\n",
       "                        <td id=\"T_5d0ee_row2_col16\" class=\"data row2 col16\" >0.07</td>\n",
       "                        <td id=\"T_5d0ee_row2_col17\" class=\"data row2 col17\" >-0.05</td>\n",
       "            </tr>\n",
       "            <tr>\n",
       "                        <th id=\"T_5d0ee_level0_row3\" class=\"row_heading level0 row3\" >Posicion_Destino</th>\n",
       "                        <td id=\"T_5d0ee_row3_col0\" class=\"data row3 col0\" >0.08</td>\n",
       "                        <td id=\"T_5d0ee_row3_col1\" class=\"data row3 col1\" >0.38</td>\n",
       "                        <td id=\"T_5d0ee_row3_col2\" class=\"data row3 col2\" >0.27</td>\n",
       "                        <td id=\"T_5d0ee_row3_col3\" class=\"data row3 col3\" >1.00</td>\n",
       "                        <td id=\"T_5d0ee_row3_col4\" class=\"data row3 col4\" >0.00</td>\n",
       "                        <td id=\"T_5d0ee_row3_col5\" class=\"data row3 col5\" >-0.00</td>\n",
       "                        <td id=\"T_5d0ee_row3_col6\" class=\"data row3 col6\" >0.02</td>\n",
       "                        <td id=\"T_5d0ee_row3_col7\" class=\"data row3 col7\" >0.01</td>\n",
       "                        <td id=\"T_5d0ee_row3_col8\" class=\"data row3 col8\" >0.00</td>\n",
       "                        <td id=\"T_5d0ee_row3_col9\" class=\"data row3 col9\" >-0.00</td>\n",
       "                        <td id=\"T_5d0ee_row3_col10\" class=\"data row3 col10\" >-0.00</td>\n",
       "                        <td id=\"T_5d0ee_row3_col11\" class=\"data row3 col11\" >-0.03</td>\n",
       "                        <td id=\"T_5d0ee_row3_col12\" class=\"data row3 col12\" >-0.03</td>\n",
       "                        <td id=\"T_5d0ee_row3_col13\" class=\"data row3 col13\" >0.01</td>\n",
       "                        <td id=\"T_5d0ee_row3_col14\" class=\"data row3 col14\" >0.00</td>\n",
       "                        <td id=\"T_5d0ee_row3_col15\" class=\"data row3 col15\" >0.56</td>\n",
       "                        <td id=\"T_5d0ee_row3_col16\" class=\"data row3 col16\" >0.01</td>\n",
       "                        <td id=\"T_5d0ee_row3_col17\" class=\"data row3 col17\" >-0.02</td>\n",
       "            </tr>\n",
       "            <tr>\n",
       "                        <th id=\"T_5d0ee_level0_row4\" class=\"row_heading level0 row4\" >Duracion_dias</th>\n",
       "                        <td id=\"T_5d0ee_row4_col0\" class=\"data row4 col0\" >-0.00</td>\n",
       "                        <td id=\"T_5d0ee_row4_col1\" class=\"data row4 col1\" >-0.00</td>\n",
       "                        <td id=\"T_5d0ee_row4_col2\" class=\"data row4 col2\" >-0.00</td>\n",
       "                        <td id=\"T_5d0ee_row4_col3\" class=\"data row4 col3\" >0.00</td>\n",
       "                        <td id=\"T_5d0ee_row4_col4\" class=\"data row4 col4\" >1.00</td>\n",
       "                        <td id=\"T_5d0ee_row4_col5\" class=\"data row4 col5\" >0.97</td>\n",
       "                        <td id=\"T_5d0ee_row4_col6\" class=\"data row4 col6\" >-0.00</td>\n",
       "                        <td id=\"T_5d0ee_row4_col7\" class=\"data row4 col7\" >-0.00</td>\n",
       "                        <td id=\"T_5d0ee_row4_col8\" class=\"data row4 col8\" >0.00</td>\n",
       "                        <td id=\"T_5d0ee_row4_col9\" class=\"data row4 col9\" >0.01</td>\n",
       "                        <td id=\"T_5d0ee_row4_col10\" class=\"data row4 col10\" >-0.38</td>\n",
       "                        <td id=\"T_5d0ee_row4_col11\" class=\"data row4 col11\" >-0.00</td>\n",
       "                        <td id=\"T_5d0ee_row4_col12\" class=\"data row4 col12\" >-0.00</td>\n",
       "                        <td id=\"T_5d0ee_row4_col13\" class=\"data row4 col13\" >-0.00</td>\n",
       "                        <td id=\"T_5d0ee_row4_col14\" class=\"data row4 col14\" >-0.00</td>\n",
       "                        <td id=\"T_5d0ee_row4_col15\" class=\"data row4 col15\" >-0.00</td>\n",
       "                        <td id=\"T_5d0ee_row4_col16\" class=\"data row4 col16\" >0.00</td>\n",
       "                        <td id=\"T_5d0ee_row4_col17\" class=\"data row4 col17\" >-0.00</td>\n",
       "            </tr>\n",
       "            <tr>\n",
       "                        <th id=\"T_5d0ee_level0_row5\" class=\"row_heading level0 row5\" >Duracion_horas</th>\n",
       "                        <td id=\"T_5d0ee_row5_col0\" class=\"data row5 col0\" >0.01</td>\n",
       "                        <td id=\"T_5d0ee_row5_col1\" class=\"data row5 col1\" >-0.01</td>\n",
       "                        <td id=\"T_5d0ee_row5_col2\" class=\"data row5 col2\" >0.01</td>\n",
       "                        <td id=\"T_5d0ee_row5_col3\" class=\"data row5 col3\" >-0.00</td>\n",
       "                        <td id=\"T_5d0ee_row5_col4\" class=\"data row5 col4\" >0.97</td>\n",
       "                        <td id=\"T_5d0ee_row5_col5\" class=\"data row5 col5\" >1.00</td>\n",
       "                        <td id=\"T_5d0ee_row5_col6\" class=\"data row5 col6\" >0.04</td>\n",
       "                        <td id=\"T_5d0ee_row5_col7\" class=\"data row5 col7\" >-0.00</td>\n",
       "                        <td id=\"T_5d0ee_row5_col8\" class=\"data row5 col8\" >-0.00</td>\n",
       "                        <td id=\"T_5d0ee_row5_col9\" class=\"data row5 col9\" >0.01</td>\n",
       "                        <td id=\"T_5d0ee_row5_col10\" class=\"data row5 col10\" >-0.37</td>\n",
       "                        <td id=\"T_5d0ee_row5_col11\" class=\"data row5 col11\" >0.01</td>\n",
       "                        <td id=\"T_5d0ee_row5_col12\" class=\"data row5 col12\" >0.02</td>\n",
       "                        <td id=\"T_5d0ee_row5_col13\" class=\"data row5 col13\" >-0.01</td>\n",
       "                        <td id=\"T_5d0ee_row5_col14\" class=\"data row5 col14\" >0.00</td>\n",
       "                        <td id=\"T_5d0ee_row5_col15\" class=\"data row5 col15\" >-0.05</td>\n",
       "                        <td id=\"T_5d0ee_row5_col16\" class=\"data row5 col16\" >0.01</td>\n",
       "                        <td id=\"T_5d0ee_row5_col17\" class=\"data row5 col17\" >-0.01</td>\n",
       "            </tr>\n",
       "            <tr>\n",
       "                        <th id=\"T_5d0ee_level0_row6\" class=\"row_heading level0 row6\" >Ano</th>\n",
       "                        <td id=\"T_5d0ee_row6_col0\" class=\"data row6 col0\" >0.16</td>\n",
       "                        <td id=\"T_5d0ee_row6_col1\" class=\"data row6 col1\" >0.04</td>\n",
       "                        <td id=\"T_5d0ee_row6_col2\" class=\"data row6 col2\" >0.16</td>\n",
       "                        <td id=\"T_5d0ee_row6_col3\" class=\"data row6 col3\" >0.02</td>\n",
       "                        <td id=\"T_5d0ee_row6_col4\" class=\"data row6 col4\" >-0.00</td>\n",
       "                        <td id=\"T_5d0ee_row6_col5\" class=\"data row6 col5\" >0.04</td>\n",
       "                        <td id=\"T_5d0ee_row6_col6\" class=\"data row6 col6\" >1.00</td>\n",
       "                        <td id=\"T_5d0ee_row6_col7\" class=\"data row6 col7\" >-0.22</td>\n",
       "                        <td id=\"T_5d0ee_row6_col8\" class=\"data row6 col8\" >-0.01</td>\n",
       "                        <td id=\"T_5d0ee_row6_col9\" class=\"data row6 col9\" >0.00</td>\n",
       "                        <td id=\"T_5d0ee_row6_col10\" class=\"data row6 col10\" >-0.00</td>\n",
       "                        <td id=\"T_5d0ee_row6_col11\" class=\"data row6 col11\" >0.01</td>\n",
       "                        <td id=\"T_5d0ee_row6_col12\" class=\"data row6 col12\" >0.02</td>\n",
       "                        <td id=\"T_5d0ee_row6_col13\" class=\"data row6 col13\" >-0.20</td>\n",
       "                        <td id=\"T_5d0ee_row6_col14\" class=\"data row6 col14\" >0.00</td>\n",
       "                        <td id=\"T_5d0ee_row6_col15\" class=\"data row6 col15\" >0.01</td>\n",
       "                        <td id=\"T_5d0ee_row6_col16\" class=\"data row6 col16\" >0.09</td>\n",
       "                        <td id=\"T_5d0ee_row6_col17\" class=\"data row6 col17\" >-0.04</td>\n",
       "            </tr>\n",
       "            <tr>\n",
       "                        <th id=\"T_5d0ee_level0_row7\" class=\"row_heading level0 row7\" >Mes</th>\n",
       "                        <td id=\"T_5d0ee_row7_col0\" class=\"data row7 col0\" >0.03</td>\n",
       "                        <td id=\"T_5d0ee_row7_col1\" class=\"data row7 col1\" >0.02</td>\n",
       "                        <td id=\"T_5d0ee_row7_col2\" class=\"data row7 col2\" >0.02</td>\n",
       "                        <td id=\"T_5d0ee_row7_col3\" class=\"data row7 col3\" >0.01</td>\n",
       "                        <td id=\"T_5d0ee_row7_col4\" class=\"data row7 col4\" >-0.00</td>\n",
       "                        <td id=\"T_5d0ee_row7_col5\" class=\"data row7 col5\" >-0.00</td>\n",
       "                        <td id=\"T_5d0ee_row7_col6\" class=\"data row7 col6\" >-0.22</td>\n",
       "                        <td id=\"T_5d0ee_row7_col7\" class=\"data row7 col7\" >1.00</td>\n",
       "                        <td id=\"T_5d0ee_row7_col8\" class=\"data row7 col8\" >-0.03</td>\n",
       "                        <td id=\"T_5d0ee_row7_col9\" class=\"data row7 col9\" >0.02</td>\n",
       "                        <td id=\"T_5d0ee_row7_col10\" class=\"data row7 col10\" >0.00</td>\n",
       "                        <td id=\"T_5d0ee_row7_col11\" class=\"data row7 col11\" >0.01</td>\n",
       "                        <td id=\"T_5d0ee_row7_col12\" class=\"data row7 col12\" >0.01</td>\n",
       "                        <td id=\"T_5d0ee_row7_col13\" class=\"data row7 col13\" >0.68</td>\n",
       "                        <td id=\"T_5d0ee_row7_col14\" class=\"data row7 col14\" >0.00</td>\n",
       "                        <td id=\"T_5d0ee_row7_col15\" class=\"data row7 col15\" >0.04</td>\n",
       "                        <td id=\"T_5d0ee_row7_col16\" class=\"data row7 col16\" >0.01</td>\n",
       "                        <td id=\"T_5d0ee_row7_col17\" class=\"data row7 col17\" >-0.02</td>\n",
       "            </tr>\n",
       "            <tr>\n",
       "                        <th id=\"T_5d0ee_level0_row8\" class=\"row_heading level0 row8\" >Dia</th>\n",
       "                        <td id=\"T_5d0ee_row8_col0\" class=\"data row8 col0\" >0.00</td>\n",
       "                        <td id=\"T_5d0ee_row8_col1\" class=\"data row8 col1\" >0.00</td>\n",
       "                        <td id=\"T_5d0ee_row8_col2\" class=\"data row8 col2\" >0.00</td>\n",
       "                        <td id=\"T_5d0ee_row8_col3\" class=\"data row8 col3\" >0.00</td>\n",
       "                        <td id=\"T_5d0ee_row8_col4\" class=\"data row8 col4\" >0.00</td>\n",
       "                        <td id=\"T_5d0ee_row8_col5\" class=\"data row8 col5\" >-0.00</td>\n",
       "                        <td id=\"T_5d0ee_row8_col6\" class=\"data row8 col6\" >-0.01</td>\n",
       "                        <td id=\"T_5d0ee_row8_col7\" class=\"data row8 col7\" >-0.03</td>\n",
       "                        <td id=\"T_5d0ee_row8_col8\" class=\"data row8 col8\" >1.00</td>\n",
       "                        <td id=\"T_5d0ee_row8_col9\" class=\"data row8 col9\" >-0.00</td>\n",
       "                        <td id=\"T_5d0ee_row8_col10\" class=\"data row8 col10\" >-0.00</td>\n",
       "                        <td id=\"T_5d0ee_row8_col11\" class=\"data row8 col11\" >0.00</td>\n",
       "                        <td id=\"T_5d0ee_row8_col12\" class=\"data row8 col12\" >0.00</td>\n",
       "                        <td id=\"T_5d0ee_row8_col13\" class=\"data row8 col13\" >-0.00</td>\n",
       "                        <td id=\"T_5d0ee_row8_col14\" class=\"data row8 col14\" >0.00</td>\n",
       "                        <td id=\"T_5d0ee_row8_col15\" class=\"data row8 col15\" >-0.00</td>\n",
       "                        <td id=\"T_5d0ee_row8_col16\" class=\"data row8 col16\" >-0.00</td>\n",
       "                        <td id=\"T_5d0ee_row8_col17\" class=\"data row8 col17\" >-0.00</td>\n",
       "            </tr>\n",
       "            <tr>\n",
       "                        <th id=\"T_5d0ee_level0_row9\" class=\"row_heading level0 row9\" >Dias_Semana</th>\n",
       "                        <td id=\"T_5d0ee_row9_col0\" class=\"data row9 col0\" >0.00</td>\n",
       "                        <td id=\"T_5d0ee_row9_col1\" class=\"data row9 col1\" >-0.00</td>\n",
       "                        <td id=\"T_5d0ee_row9_col2\" class=\"data row9 col2\" >0.01</td>\n",
       "                        <td id=\"T_5d0ee_row9_col3\" class=\"data row9 col3\" >-0.00</td>\n",
       "                        <td id=\"T_5d0ee_row9_col4\" class=\"data row9 col4\" >0.01</td>\n",
       "                        <td id=\"T_5d0ee_row9_col5\" class=\"data row9 col5\" >0.01</td>\n",
       "                        <td id=\"T_5d0ee_row9_col6\" class=\"data row9 col6\" >0.00</td>\n",
       "                        <td id=\"T_5d0ee_row9_col7\" class=\"data row9 col7\" >0.02</td>\n",
       "                        <td id=\"T_5d0ee_row9_col8\" class=\"data row9 col8\" >-0.00</td>\n",
       "                        <td id=\"T_5d0ee_row9_col9\" class=\"data row9 col9\" >1.00</td>\n",
       "                        <td id=\"T_5d0ee_row9_col10\" class=\"data row9 col10\" >-0.01</td>\n",
       "                        <td id=\"T_5d0ee_row9_col11\" class=\"data row9 col11\" >-0.04</td>\n",
       "                        <td id=\"T_5d0ee_row9_col12\" class=\"data row9 col12\" >-0.04</td>\n",
       "                        <td id=\"T_5d0ee_row9_col13\" class=\"data row9 col13\" >0.03</td>\n",
       "                        <td id=\"T_5d0ee_row9_col14\" class=\"data row9 col14\" >-0.00</td>\n",
       "                        <td id=\"T_5d0ee_row9_col15\" class=\"data row9 col15\" >-0.01</td>\n",
       "                        <td id=\"T_5d0ee_row9_col16\" class=\"data row9 col16\" >0.00</td>\n",
       "                        <td id=\"T_5d0ee_row9_col17\" class=\"data row9 col17\" >-0.03</td>\n",
       "            </tr>\n",
       "            <tr>\n",
       "                        <th id=\"T_5d0ee_level0_row10\" class=\"row_heading level0 row10\" >Dias_habiles</th>\n",
       "                        <td id=\"T_5d0ee_row10_col0\" class=\"data row10 col0\" >0.00</td>\n",
       "                        <td id=\"T_5d0ee_row10_col1\" class=\"data row10 col1\" >-0.00</td>\n",
       "                        <td id=\"T_5d0ee_row10_col2\" class=\"data row10 col2\" >-0.00</td>\n",
       "                        <td id=\"T_5d0ee_row10_col3\" class=\"data row10 col3\" >-0.00</td>\n",
       "                        <td id=\"T_5d0ee_row10_col4\" class=\"data row10 col4\" >-0.38</td>\n",
       "                        <td id=\"T_5d0ee_row10_col5\" class=\"data row10 col5\" >-0.37</td>\n",
       "                        <td id=\"T_5d0ee_row10_col6\" class=\"data row10 col6\" >-0.00</td>\n",
       "                        <td id=\"T_5d0ee_row10_col7\" class=\"data row10 col7\" >0.00</td>\n",
       "                        <td id=\"T_5d0ee_row10_col8\" class=\"data row10 col8\" >-0.00</td>\n",
       "                        <td id=\"T_5d0ee_row10_col9\" class=\"data row10 col9\" >-0.01</td>\n",
       "                        <td id=\"T_5d0ee_row10_col10\" class=\"data row10 col10\" >1.00</td>\n",
       "                        <td id=\"T_5d0ee_row10_col11\" class=\"data row10 col11\" >0.00</td>\n",
       "                        <td id=\"T_5d0ee_row10_col12\" class=\"data row10 col12\" >0.00</td>\n",
       "                        <td id=\"T_5d0ee_row10_col13\" class=\"data row10 col13\" >0.00</td>\n",
       "                        <td id=\"T_5d0ee_row10_col14\" class=\"data row10 col14\" >0.00</td>\n",
       "                        <td id=\"T_5d0ee_row10_col15\" class=\"data row10 col15\" >-0.00</td>\n",
       "                        <td id=\"T_5d0ee_row10_col16\" class=\"data row10 col16\" >-0.00</td>\n",
       "                        <td id=\"T_5d0ee_row10_col17\" class=\"data row10 col17\" >0.00</td>\n",
       "            </tr>\n",
       "            <tr>\n",
       "                        <th id=\"T_5d0ee_level0_row11\" class=\"row_heading level0 row11\" >Hora_Origen</th>\n",
       "                        <td id=\"T_5d0ee_row11_col0\" class=\"data row11 col0\" >0.07</td>\n",
       "                        <td id=\"T_5d0ee_row11_col1\" class=\"data row11 col1\" >0.01</td>\n",
       "                        <td id=\"T_5d0ee_row11_col2\" class=\"data row11 col2\" >-0.09</td>\n",
       "                        <td id=\"T_5d0ee_row11_col3\" class=\"data row11 col3\" >-0.03</td>\n",
       "                        <td id=\"T_5d0ee_row11_col4\" class=\"data row11 col4\" >-0.00</td>\n",
       "                        <td id=\"T_5d0ee_row11_col5\" class=\"data row11 col5\" >0.01</td>\n",
       "                        <td id=\"T_5d0ee_row11_col6\" class=\"data row11 col6\" >0.01</td>\n",
       "                        <td id=\"T_5d0ee_row11_col7\" class=\"data row11 col7\" >0.01</td>\n",
       "                        <td id=\"T_5d0ee_row11_col8\" class=\"data row11 col8\" >0.00</td>\n",
       "                        <td id=\"T_5d0ee_row11_col9\" class=\"data row11 col9\" >-0.04</td>\n",
       "                        <td id=\"T_5d0ee_row11_col10\" class=\"data row11 col10\" >0.00</td>\n",
       "                        <td id=\"T_5d0ee_row11_col11\" class=\"data row11 col11\" >1.00</td>\n",
       "                        <td id=\"T_5d0ee_row11_col12\" class=\"data row11 col12\" >0.99</td>\n",
       "                        <td id=\"T_5d0ee_row11_col13\" class=\"data row11 col13\" >0.00</td>\n",
       "                        <td id=\"T_5d0ee_row11_col14\" class=\"data row11 col14\" >-0.00</td>\n",
       "                        <td id=\"T_5d0ee_row11_col15\" class=\"data row11 col15\" >0.03</td>\n",
       "                        <td id=\"T_5d0ee_row11_col16\" class=\"data row11 col16\" >0.00</td>\n",
       "                        <td id=\"T_5d0ee_row11_col17\" class=\"data row11 col17\" >0.00</td>\n",
       "            </tr>\n",
       "            <tr>\n",
       "                        <th id=\"T_5d0ee_level0_row12\" class=\"row_heading level0 row12\" >Hora_Destino</th>\n",
       "                        <td id=\"T_5d0ee_row12_col0\" class=\"data row12 col0\" >0.07</td>\n",
       "                        <td id=\"T_5d0ee_row12_col1\" class=\"data row12 col1\" >0.01</td>\n",
       "                        <td id=\"T_5d0ee_row12_col2\" class=\"data row12 col2\" >-0.09</td>\n",
       "                        <td id=\"T_5d0ee_row12_col3\" class=\"data row12 col3\" >-0.03</td>\n",
       "                        <td id=\"T_5d0ee_row12_col4\" class=\"data row12 col4\" >-0.00</td>\n",
       "                        <td id=\"T_5d0ee_row12_col5\" class=\"data row12 col5\" >0.02</td>\n",
       "                        <td id=\"T_5d0ee_row12_col6\" class=\"data row12 col6\" >0.02</td>\n",
       "                        <td id=\"T_5d0ee_row12_col7\" class=\"data row12 col7\" >0.01</td>\n",
       "                        <td id=\"T_5d0ee_row12_col8\" class=\"data row12 col8\" >0.00</td>\n",
       "                        <td id=\"T_5d0ee_row12_col9\" class=\"data row12 col9\" >-0.04</td>\n",
       "                        <td id=\"T_5d0ee_row12_col10\" class=\"data row12 col10\" >0.00</td>\n",
       "                        <td id=\"T_5d0ee_row12_col11\" class=\"data row12 col11\" >0.99</td>\n",
       "                        <td id=\"T_5d0ee_row12_col12\" class=\"data row12 col12\" >1.00</td>\n",
       "                        <td id=\"T_5d0ee_row12_col13\" class=\"data row12 col13\" >-0.00</td>\n",
       "                        <td id=\"T_5d0ee_row12_col14\" class=\"data row12 col14\" >-0.00</td>\n",
       "                        <td id=\"T_5d0ee_row12_col15\" class=\"data row12 col15\" >-0.00</td>\n",
       "                        <td id=\"T_5d0ee_row12_col16\" class=\"data row12 col16\" >0.00</td>\n",
       "                        <td id=\"T_5d0ee_row12_col17\" class=\"data row12 col17\" >-0.00</td>\n",
       "            </tr>\n",
       "            <tr>\n",
       "                        <th id=\"T_5d0ee_level0_row13\" class=\"row_heading level0 row13\" >Estaciones</th>\n",
       "                        <td id=\"T_5d0ee_row13_col0\" class=\"data row13 col0\" >0.00</td>\n",
       "                        <td id=\"T_5d0ee_row13_col1\" class=\"data row13 col1\" >0.01</td>\n",
       "                        <td id=\"T_5d0ee_row13_col2\" class=\"data row13 col2\" >-0.00</td>\n",
       "                        <td id=\"T_5d0ee_row13_col3\" class=\"data row13 col3\" >0.01</td>\n",
       "                        <td id=\"T_5d0ee_row13_col4\" class=\"data row13 col4\" >-0.00</td>\n",
       "                        <td id=\"T_5d0ee_row13_col5\" class=\"data row13 col5\" >-0.01</td>\n",
       "                        <td id=\"T_5d0ee_row13_col6\" class=\"data row13 col6\" >-0.20</td>\n",
       "                        <td id=\"T_5d0ee_row13_col7\" class=\"data row13 col7\" >0.68</td>\n",
       "                        <td id=\"T_5d0ee_row13_col8\" class=\"data row13 col8\" >-0.00</td>\n",
       "                        <td id=\"T_5d0ee_row13_col9\" class=\"data row13 col9\" >0.03</td>\n",
       "                        <td id=\"T_5d0ee_row13_col10\" class=\"data row13 col10\" >0.00</td>\n",
       "                        <td id=\"T_5d0ee_row13_col11\" class=\"data row13 col11\" >0.00</td>\n",
       "                        <td id=\"T_5d0ee_row13_col12\" class=\"data row13 col12\" >-0.00</td>\n",
       "                        <td id=\"T_5d0ee_row13_col13\" class=\"data row13 col13\" >1.00</td>\n",
       "                        <td id=\"T_5d0ee_row13_col14\" class=\"data row13 col14\" >0.00</td>\n",
       "                        <td id=\"T_5d0ee_row13_col15\" class=\"data row13 col15\" >0.03</td>\n",
       "                        <td id=\"T_5d0ee_row13_col16\" class=\"data row13 col16\" >-0.00</td>\n",
       "                        <td id=\"T_5d0ee_row13_col17\" class=\"data row13 col17\" >0.01</td>\n",
       "            </tr>\n",
       "            <tr>\n",
       "                        <th id=\"T_5d0ee_level0_row14\" class=\"row_heading level0 row14\" >Vacaciones</th>\n",
       "                        <td id=\"T_5d0ee_row14_col0\" class=\"data row14 col0\" >0.00</td>\n",
       "                        <td id=\"T_5d0ee_row14_col1\" class=\"data row14 col1\" >0.00</td>\n",
       "                        <td id=\"T_5d0ee_row14_col2\" class=\"data row14 col2\" >0.00</td>\n",
       "                        <td id=\"T_5d0ee_row14_col3\" class=\"data row14 col3\" >0.00</td>\n",
       "                        <td id=\"T_5d0ee_row14_col4\" class=\"data row14 col4\" >-0.00</td>\n",
       "                        <td id=\"T_5d0ee_row14_col5\" class=\"data row14 col5\" >0.00</td>\n",
       "                        <td id=\"T_5d0ee_row14_col6\" class=\"data row14 col6\" >0.00</td>\n",
       "                        <td id=\"T_5d0ee_row14_col7\" class=\"data row14 col7\" >0.00</td>\n",
       "                        <td id=\"T_5d0ee_row14_col8\" class=\"data row14 col8\" >0.00</td>\n",
       "                        <td id=\"T_5d0ee_row14_col9\" class=\"data row14 col9\" >-0.00</td>\n",
       "                        <td id=\"T_5d0ee_row14_col10\" class=\"data row14 col10\" >0.00</td>\n",
       "                        <td id=\"T_5d0ee_row14_col11\" class=\"data row14 col11\" >-0.00</td>\n",
       "                        <td id=\"T_5d0ee_row14_col12\" class=\"data row14 col12\" >-0.00</td>\n",
       "                        <td id=\"T_5d0ee_row14_col13\" class=\"data row14 col13\" >0.00</td>\n",
       "                        <td id=\"T_5d0ee_row14_col14\" class=\"data row14 col14\" >1.00</td>\n",
       "                        <td id=\"T_5d0ee_row14_col15\" class=\"data row14 col15\" >0.00</td>\n",
       "                        <td id=\"T_5d0ee_row14_col16\" class=\"data row14 col16\" >0.00</td>\n",
       "                        <td id=\"T_5d0ee_row14_col17\" class=\"data row14 col17\" >-0.00</td>\n",
       "            </tr>\n",
       "            <tr>\n",
       "                        <th id=\"T_5d0ee_level0_row15\" class=\"row_heading level0 row15\" >Ocupacion</th>\n",
       "                        <td id=\"T_5d0ee_row15_col0\" class=\"data row15 col0\" >0.33</td>\n",
       "                        <td id=\"T_5d0ee_row15_col1\" class=\"data row15 col1\" >0.56</td>\n",
       "                        <td id=\"T_5d0ee_row15_col2\" class=\"data row15 col2\" >0.33</td>\n",
       "                        <td id=\"T_5d0ee_row15_col3\" class=\"data row15 col3\" >0.56</td>\n",
       "                        <td id=\"T_5d0ee_row15_col4\" class=\"data row15 col4\" >-0.00</td>\n",
       "                        <td id=\"T_5d0ee_row15_col5\" class=\"data row15 col5\" >-0.05</td>\n",
       "                        <td id=\"T_5d0ee_row15_col6\" class=\"data row15 col6\" >0.01</td>\n",
       "                        <td id=\"T_5d0ee_row15_col7\" class=\"data row15 col7\" >0.04</td>\n",
       "                        <td id=\"T_5d0ee_row15_col8\" class=\"data row15 col8\" >-0.00</td>\n",
       "                        <td id=\"T_5d0ee_row15_col9\" class=\"data row15 col9\" >-0.01</td>\n",
       "                        <td id=\"T_5d0ee_row15_col10\" class=\"data row15 col10\" >-0.00</td>\n",
       "                        <td id=\"T_5d0ee_row15_col11\" class=\"data row15 col11\" >0.03</td>\n",
       "                        <td id=\"T_5d0ee_row15_col12\" class=\"data row15 col12\" >-0.00</td>\n",
       "                        <td id=\"T_5d0ee_row15_col13\" class=\"data row15 col13\" >0.03</td>\n",
       "                        <td id=\"T_5d0ee_row15_col14\" class=\"data row15 col14\" >0.00</td>\n",
       "                        <td id=\"T_5d0ee_row15_col15\" class=\"data row15 col15\" >1.00</td>\n",
       "                        <td id=\"T_5d0ee_row15_col16\" class=\"data row15 col16\" >-0.17</td>\n",
       "                        <td id=\"T_5d0ee_row15_col17\" class=\"data row15 col17\" >-0.14</td>\n",
       "            </tr>\n",
       "            <tr>\n",
       "                        <th id=\"T_5d0ee_level0_row16\" class=\"row_heading level0 row16\" >Station_cluster</th>\n",
       "                        <td id=\"T_5d0ee_row16_col0\" class=\"data row16 col0\" >0.10</td>\n",
       "                        <td id=\"T_5d0ee_row16_col1\" class=\"data row16 col1\" >-0.11</td>\n",
       "                        <td id=\"T_5d0ee_row16_col2\" class=\"data row16 col2\" >0.07</td>\n",
       "                        <td id=\"T_5d0ee_row16_col3\" class=\"data row16 col3\" >0.01</td>\n",
       "                        <td id=\"T_5d0ee_row16_col4\" class=\"data row16 col4\" >0.00</td>\n",
       "                        <td id=\"T_5d0ee_row16_col5\" class=\"data row16 col5\" >0.01</td>\n",
       "                        <td id=\"T_5d0ee_row16_col6\" class=\"data row16 col6\" >0.09</td>\n",
       "                        <td id=\"T_5d0ee_row16_col7\" class=\"data row16 col7\" >0.01</td>\n",
       "                        <td id=\"T_5d0ee_row16_col8\" class=\"data row16 col8\" >-0.00</td>\n",
       "                        <td id=\"T_5d0ee_row16_col9\" class=\"data row16 col9\" >0.00</td>\n",
       "                        <td id=\"T_5d0ee_row16_col10\" class=\"data row16 col10\" >-0.00</td>\n",
       "                        <td id=\"T_5d0ee_row16_col11\" class=\"data row16 col11\" >0.00</td>\n",
       "                        <td id=\"T_5d0ee_row16_col12\" class=\"data row16 col12\" >0.00</td>\n",
       "                        <td id=\"T_5d0ee_row16_col13\" class=\"data row16 col13\" >-0.00</td>\n",
       "                        <td id=\"T_5d0ee_row16_col14\" class=\"data row16 col14\" >0.00</td>\n",
       "                        <td id=\"T_5d0ee_row16_col15\" class=\"data row16 col15\" >-0.17</td>\n",
       "                        <td id=\"T_5d0ee_row16_col16\" class=\"data row16 col16\" >1.00</td>\n",
       "                        <td id=\"T_5d0ee_row16_col17\" class=\"data row16 col17\" >0.11</td>\n",
       "            </tr>\n",
       "            <tr>\n",
       "                        <th id=\"T_5d0ee_level0_row17\" class=\"row_heading level0 row17\" >Rented_cls</th>\n",
       "                        <td id=\"T_5d0ee_row17_col0\" class=\"data row17 col0\" >-0.11</td>\n",
       "                        <td id=\"T_5d0ee_row17_col1\" class=\"data row17 col1\" >-0.11</td>\n",
       "                        <td id=\"T_5d0ee_row17_col2\" class=\"data row17 col2\" >-0.05</td>\n",
       "                        <td id=\"T_5d0ee_row17_col3\" class=\"data row17 col3\" >-0.02</td>\n",
       "                        <td id=\"T_5d0ee_row17_col4\" class=\"data row17 col4\" >-0.00</td>\n",
       "                        <td id=\"T_5d0ee_row17_col5\" class=\"data row17 col5\" >-0.01</td>\n",
       "                        <td id=\"T_5d0ee_row17_col6\" class=\"data row17 col6\" >-0.04</td>\n",
       "                        <td id=\"T_5d0ee_row17_col7\" class=\"data row17 col7\" >-0.02</td>\n",
       "                        <td id=\"T_5d0ee_row17_col8\" class=\"data row17 col8\" >-0.00</td>\n",
       "                        <td id=\"T_5d0ee_row17_col9\" class=\"data row17 col9\" >-0.03</td>\n",
       "                        <td id=\"T_5d0ee_row17_col10\" class=\"data row17 col10\" >0.00</td>\n",
       "                        <td id=\"T_5d0ee_row17_col11\" class=\"data row17 col11\" >0.00</td>\n",
       "                        <td id=\"T_5d0ee_row17_col12\" class=\"data row17 col12\" >-0.00</td>\n",
       "                        <td id=\"T_5d0ee_row17_col13\" class=\"data row17 col13\" >0.01</td>\n",
       "                        <td id=\"T_5d0ee_row17_col14\" class=\"data row17 col14\" >-0.00</td>\n",
       "                        <td id=\"T_5d0ee_row17_col15\" class=\"data row17 col15\" >-0.14</td>\n",
       "                        <td id=\"T_5d0ee_row17_col16\" class=\"data row17 col16\" >0.11</td>\n",
       "                        <td id=\"T_5d0ee_row17_col17\" class=\"data row17 col17\" >1.00</td>\n",
       "            </tr>\n",
       "    </tbody></table>"
      ],
      "text/plain": [
       "<pandas.io.formats.style.Styler at 0x13031f820>"
      ]
     },
     "execution_count": 149,
     "metadata": {},
     "output_type": "execute_result"
    }
   ],
   "source": [
    "bikes_cp = bikes_cp[cols]\n",
    "corr = bikes_cp.corr()\n",
    "corr.style.background_gradient(cmap='coolwarm').set_precision(2)"
   ]
  },
  {
   "cell_type": "code",
   "execution_count": 150,
   "metadata": {
    "scrolled": true
   },
   "outputs": [
    {
     "data": {
      "text/plain": [
       "(8895058, 27)"
      ]
     },
     "execution_count": 150,
     "metadata": {},
     "output_type": "execute_result"
    }
   ],
   "source": [
    "bikes_cp.shape"
   ]
  },
  {
   "cell_type": "code",
   "execution_count": 151,
   "metadata": {
    "scrolled": true
   },
   "outputs": [
    {
     "name": "stderr",
     "output_type": "stream",
     "text": [
      "<ipython-input-151-5cc7278d3d96>:5: DeprecationWarning: `np.bool` is a deprecated alias for the builtin `bool`. To silence this warning, use `bool` by itself. Doing this will not modify any behavior and is safe. If you specifically wanted the numpy scalar type, use `np.bool_` here.\n",
      "Deprecated in NumPy 1.20; for more details and guidance: https://numpy.org/devdocs/release/1.20.0-notes.html#deprecations\n",
      "  upper = corr_matrix.where(np.triu(np.ones(corr_matrix.shape), k=1).astype(np.bool))\n"
     ]
    }
   ],
   "source": [
    "# create correlation matrix\n",
    "corr_matrix = bikes_cp.corr().abs()\n",
    "\n",
    "# upper triangle of correlation matrix\n",
    "upper = corr_matrix.where(np.triu(np.ones(corr_matrix.shape), k=1).astype(np.bool))\n",
    "\n",
    "# find features with correlation greater than 0.95\n",
    "to_drop = [column for column in upper.columns if any(upper[column] > 0.95)]\n",
    "\n",
    "# drop features \n",
    "bikes_cp.drop(to_drop, axis=1, inplace=True)"
   ]
  },
  {
   "cell_type": "code",
   "execution_count": 152,
   "metadata": {},
   "outputs": [
    {
     "data": {
      "text/plain": [
       "(8895058, 25)"
      ]
     },
     "execution_count": 152,
     "metadata": {},
     "output_type": "execute_result"
    }
   ],
   "source": [
    "bikes_cp.shape"
   ]
  },
  {
   "cell_type": "code",
   "execution_count": 165,
   "metadata": {},
   "outputs": [
    {
     "data": {
      "text/plain": [
       "Id_Aparcamiento_Origen           0\n",
       "Posicion_Origen                  0\n",
       "Id_Aparcamiento_Destino       1986\n",
       "Posicion_Destino             57574\n",
       "Duracion_dias                    0\n",
       "Ano                              0\n",
       "Mes                              0\n",
       "Dia                              0\n",
       "Dias_Semana                      0\n",
       "Dias_habiles                     0\n",
       "Hora_Origen                      0\n",
       "Estaciones                       0\n",
       "Vacaciones                       0\n",
       "Ocupacion                  8074149\n",
       "temp                           112\n",
       "feels_like                     112\n",
       "pressure                       112\n",
       "humidity                       112\n",
       "temp_min                       112\n",
       "temp_max                       112\n",
       "speed                          112\n",
       "deg                            112\n",
       "clouds                         112\n",
       "Station_cluster                  0\n",
       "Rented_cls                       0\n",
       "dtype: int64"
      ]
     },
     "execution_count": 165,
     "metadata": {},
     "output_type": "execute_result"
    }
   ],
   "source": [
    "bikes_cp.isna().sum()"
   ]
  },
  {
   "cell_type": "code",
   "execution_count": 170,
   "metadata": {},
   "outputs": [
    {
     "data": {
      "text/plain": [
       "Index(['Id_Aparcamiento_Origen', 'Duracion_dias', 'Ano', 'Mes', 'Dia',\n",
       "       'Dias_Semana', 'Dias_habiles', 'Hora_Origen', 'Estaciones',\n",
       "       'Vacaciones', 'temp', 'feels_like', 'pressure', 'humidity', 'temp_min',\n",
       "       'temp_max', 'speed', 'deg', 'clouds', 'Station_cluster', 'Rented_cls'],\n",
       "      dtype='object')"
      ]
     },
     "execution_count": 170,
     "metadata": {},
     "output_type": "execute_result"
    }
   ],
   "source": [
    "cols = bikes_cp.columns[np.r_[0,4:13,14:25]]\n",
    "cols"
   ]
  },
  {
   "cell_type": "code",
   "execution_count": 171,
   "metadata": {},
   "outputs": [],
   "source": [
    "bikes_cp = bikes_cp[cols]"
   ]
  },
  {
   "cell_type": "code",
   "execution_count": 174,
   "metadata": {},
   "outputs": [],
   "source": [
    "bikes_cp = bikes_cp.apply(lambda x: x.fillna(x.mean()),axis=0)"
   ]
  },
  {
   "cell_type": "markdown",
   "metadata": {},
   "source": [
    "### Modeling"
   ]
  },
  {
   "cell_type": "code",
   "execution_count": 184,
   "metadata": {},
   "outputs": [],
   "source": [
    "def prepare_modeling(df):\n",
    "    data_mod_values = df.values\n",
    "    X, y = data_mod_values[:, :-1], data_mod_values[:, -1]\n",
    "    y = LabelEncoder().fit_transform(y)\n",
    "    return X, y"
   ]
  },
  {
   "cell_type": "code",
   "execution_count": 186,
   "metadata": {},
   "outputs": [],
   "source": [
    "df, y = prepare_modeling(bikes_cp)\n",
    "X_train, X_test, y_train, y_test = train_test_split(X, y, test_size=0.25, random_state=1)"
   ]
  },
  {
   "cell_type": "code",
   "execution_count": null,
   "metadata": {},
   "outputs": [],
   "source": [
    "params = {'n_estimators': 750, 'max_depth': 30, 'min_samples_split': 15,\n",
    "          'learning_rate': 0.01, 'loss': 'ls'}\n",
    "clf = ensemble.GradientBoostingRegressor(**params)\n",
    "\n",
    "model = clf.fit(X_train, y_train)\n",
    "mse = mean_squared_error(y_test, clf.predict(X_test))\n",
    "print(\"MSE: %.4f\" % mse)"
   ]
  },
  {
   "cell_type": "code",
   "execution_count": null,
   "metadata": {},
   "outputs": [],
   "source": [
    "y_pred = clf.staged_predict(X_test)"
   ]
  },
  {
   "cell_type": "code",
   "execution_count": null,
   "metadata": {},
   "outputs": [],
   "source": [
    "test_score = np.zeros((params['n_estimators'],), dtype=np.float64)\n",
    "for i, y_pred in enumerate(clf.staged_predict(X_test)):\n",
    "    test_score[i] = clf.loss_(y_test, y_pred)"
   ]
  },
  {
   "cell_type": "code",
   "execution_count": null,
   "metadata": {},
   "outputs": [],
   "source": [
    "X_grid = np.arange(X_test[:,7].min(), X_test[:,7].max(), 0.25)\n",
    "X_grid = X_grid.reshape((len(X_grid), 1)) \n",
    "plt.scatter(X_grid, y_test[:92])\n",
    "plt.plot(X_grid, y_pred[:92])\n",
    "plt.xlabel('Hour')\n",
    "plt.ylabel('Nr of rented bikes')\n",
    "plt.ylim(0,6)"
   ]
  },
  {
   "cell_type": "markdown",
   "metadata": {},
   "source": [
    "## Conclusions\n",
    "\n",
    "For this challenge we have done extensive research, and we note that there are many researchers trying to solve this problem. And so, we chose not to include in this study the baseline results, i.e. performance of a machine learning model with the original data, since some of the baseline results are already described in some of the papers, and so we could save some time to investigate more solutions. For instance, metheorogical data is very important to improve the results as we notice in this [research paper](https://arxiv.org/pdf/2105.01125.pdf).\n",
    "\n",
    "Unfortunately we were not able to get the forecast results in time.\n",
    "\n",
    "### Scalability and Impact\n",
    "We think our work is well structured and therefore scalable. However, to have a positive impact we think it should be tested with other machine learning algorithms as well as different clusters.\n"
   ]
  },
  {
   "cell_type": "markdown",
   "metadata": {},
   "source": [
    "### Future Work\n",
    "\n",
    "A quality service in bike sharing is very important nowadays so that there is more adhesion and consequently a decrease in the use of cars and pollution. And for this, real-time demand forecasting is fundamental.: https://ieeexplore.ieee.org/document/9375958\n",
    "\n",
    "As future work, it would also be essential to have other attributes such as distance between stations, station capacity and other factors that may impact demand.\n",
    "\n",
    "Beside that, the determination of total score for bike station attractiveness could be a great plus. (Paper: https://www.mdpi.com/2071-1050/12/21/9062)\n",
    "\n",
    "Regarding thepredictive task, it is necessary to repeat the experiment using a grid search for hyperparameterisation. It is also important to experiment with other machine learning algorithms as we have already mentioned. "
   ]
  },
  {
   "cell_type": "code",
   "execution_count": null,
   "metadata": {},
   "outputs": [],
   "source": []
  }
 ],
 "metadata": {
  "kernelspec": {
   "display_name": "Python 3",
   "language": "python",
   "name": "python3"
  },
  "language_info": {
   "codemirror_mode": {
    "name": "ipython",
    "version": 3
   },
   "file_extension": ".py",
   "mimetype": "text/x-python",
   "name": "python",
   "nbconvert_exporter": "python",
   "pygments_lexer": "ipython3",
   "version": "3.9.2"
  }
 },
 "nbformat": 4,
 "nbformat_minor": 1
}
