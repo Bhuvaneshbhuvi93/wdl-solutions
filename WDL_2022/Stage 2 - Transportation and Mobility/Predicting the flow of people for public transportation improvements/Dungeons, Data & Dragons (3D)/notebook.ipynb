{
 "cells": [
  {
   "cell_type": "markdown",
   "id": "943337b5-03fc-42ae-93a5-99055c2f69c9",
   "metadata": {},
   "source": [
    "# World Data League 2022"
   ]
  },
  {
   "cell_type": "markdown",
   "id": "fd6727f6-7e05-4dd2-9bee-11f712ba88a0",
   "metadata": {},
   "source": [
    "## 🎯 Challenge\n",
    "*Predicting the flow of people for public transportation improvements*"
   ]
  },
  {
   "cell_type": "markdown",
   "id": "47b3229e-8d4f-4350-bb8c-16fda2a0f0bd",
   "metadata": {
    "tags": []
   },
   "source": [
    "## 👥 Authors\n",
    "* Antonio Oliveira\n",
    "* Any Pereira\n",
    "* Hayanne Oliveira\n",
    "* Israel Souza\n",
    "* Martim Chaves"
   ]
  },
  {
   "cell_type": "markdown",
   "id": "b3ae4e97-3d9c-48be-89d2-2084ef094a52",
   "metadata": {},
   "source": [
    "## 💻 Development"
   ]
  },
  {
   "cell_type": "markdown",
   "id": "1bd59fde-902d-4b63-aa4a-edc981c271cb",
   "metadata": {},
   "source": [
    "# 1. Imports"
   ]
  },
  {
   "cell_type": "code",
   "execution_count": 1,
   "id": "f4cde71a-ee62-4320-a750-5f69539b3a54",
   "metadata": {},
   "outputs": [],
   "source": [
    "# If needed\n",
    "#!pip install openpyxl"
   ]
  },
  {
   "cell_type": "code",
   "execution_count": 2,
   "id": "c5373240-7182-4b02-bf20-84f485f755a8",
   "metadata": {},
   "outputs": [],
   "source": [
    "import pandas as pd\n",
    "import numpy as np\n",
    "from matplotlib import pyplot as plt\n",
    "import seaborn as sns\n",
    "from scipy.stats import pearsonr\n",
    "from matplotlib import pyplot as plt\n",
    "import seaborn as sns\n",
    "import json\n",
    "from statsmodels.tsa.seasonal import seasonal_decompose\n",
    "import requests\n",
    "import os\n",
    "# DL\n",
    "import torch\n",
    "import torch.nn as nn\n",
    "from torch.autograd import Variable\n",
    "from sklearn.preprocessing import MinMaxScaler"
   ]
  },
  {
   "cell_type": "markdown",
   "id": "9244c9a2-c5fa-4616-b594-980b3d706c0a",
   "metadata": {
    "tags": []
   },
   "source": [
    "# 2. Reading the dataset and preliminary data cleaning"
   ]
  },
  {
   "cell_type": "code",
   "execution_count": 3,
   "id": "8732e49f-776b-4e90-8938-f90ba85683dc",
   "metadata": {},
   "outputs": [
    {
     "data": {
      "text/plain": [
       "['202001_Validações Ferrov.xlsx',\n",
       " '202008_Validações Ferrov.xlsx',\n",
       " '202002_Validações Ferrov.xlsx',\n",
       " '202009_Validações Ferrov.xlsx',\n",
       " '202005_Validações Ferrov.xlsx',\n",
       " '202010_Validações Ferrov.xlsx',\n",
       " '202006_Validações Ferrov.xlsx',\n",
       " '202004_Validações Ferrov.xlsx',\n",
       " '202003_Validações Ferrov.xlsx',\n",
       " '202007_Validações Ferrov.xlsx',\n",
       " '202011_Validações Ferrov.xlsx',\n",
       " '202012_Validações Ferrov.xlsx']"
      ]
     },
     "execution_count": 3,
     "metadata": {},
     "output_type": "execute_result"
    }
   ],
   "source": [
    "os.listdir(\"./data_stage2\")"
   ]
  },
  {
   "cell_type": "code",
   "execution_count": 4,
   "id": "10b07add-116f-42e5-a16b-6fa06f58431d",
   "metadata": {},
   "outputs": [],
   "source": [
    "months = []"
   ]
  },
  {
   "cell_type": "code",
   "execution_count": 5,
   "id": "514f1b31-5a04-4c4c-8a44-db89d897f5ee",
   "metadata": {},
   "outputs": [],
   "source": [
    "for month_file in os.listdir(\"./data_stage2\"):\n",
    "    month_vals = pd.read_excel(os.path.join(\"./data_stage2\",month_file))\n",
    "    months.append(month_vals)\n",
    "rail_2020 = pd.concat(months)"
   ]
  },
  {
   "cell_type": "markdown",
   "id": "554cd274-f5d1-4f42-bf29-25eb5dc75c7b",
   "metadata": {},
   "source": [
    "## 2.1. What does the dataset look like? (EDA)"
   ]
  },
  {
   "cell_type": "code",
   "execution_count": 6,
   "id": "d22cc919-b40b-48d9-a088-51749290640c",
   "metadata": {},
   "outputs": [
    {
     "data": {
      "text/html": [
       "<div>\n",
       "<style scoped>\n",
       "    .dataframe tbody tr th:only-of-type {\n",
       "        vertical-align: middle;\n",
       "    }\n",
       "\n",
       "    .dataframe tbody tr th {\n",
       "        vertical-align: top;\n",
       "    }\n",
       "\n",
       "    .dataframe thead th {\n",
       "        text-align: right;\n",
       "    }\n",
       "</style>\n",
       "<table border=\"1\" class=\"dataframe\">\n",
       "  <thead>\n",
       "    <tr style=\"text-align: right;\">\n",
       "      <th></th>\n",
       "      <th>Ano</th>\n",
       "      <th>Mês</th>\n",
       "      <th>Dia</th>\n",
       "      <th>Hora</th>\n",
       "      <th>Operador</th>\n",
       "      <th>Est/Op</th>\n",
       "      <th>Zona</th>\n",
       "      <th>Validações</th>\n",
       "    </tr>\n",
       "  </thead>\n",
       "  <tbody>\n",
       "    <tr>\n",
       "      <th>0</th>\n",
       "      <td>2020</td>\n",
       "      <td>1</td>\n",
       "      <td>1</td>\n",
       "      <td>0</td>\n",
       "      <td>CP-Porto</td>\n",
       "      <td>CP-Porto / Aguda</td>\n",
       "      <td>VNG8</td>\n",
       "      <td>1</td>\n",
       "    </tr>\n",
       "    <tr>\n",
       "      <th>1</th>\n",
       "      <td>2020</td>\n",
       "      <td>1</td>\n",
       "      <td>1</td>\n",
       "      <td>0</td>\n",
       "      <td>CP-Porto</td>\n",
       "      <td>CP-Porto / Cête</td>\n",
       "      <td>PRD2</td>\n",
       "      <td>2</td>\n",
       "    </tr>\n",
       "    <tr>\n",
       "      <th>2</th>\n",
       "      <td>2020</td>\n",
       "      <td>1</td>\n",
       "      <td>1</td>\n",
       "      <td>0</td>\n",
       "      <td>CP-Porto</td>\n",
       "      <td>CP-Porto / Ermesinde</td>\n",
       "      <td>MAI4</td>\n",
       "      <td>3</td>\n",
       "    </tr>\n",
       "    <tr>\n",
       "      <th>3</th>\n",
       "      <td>2020</td>\n",
       "      <td>1</td>\n",
       "      <td>1</td>\n",
       "      <td>0</td>\n",
       "      <td>CP-Porto</td>\n",
       "      <td>CP-Porto / Espinho</td>\n",
       "      <td>VNG8</td>\n",
       "      <td>1</td>\n",
       "    </tr>\n",
       "    <tr>\n",
       "      <th>4</th>\n",
       "      <td>2020</td>\n",
       "      <td>1</td>\n",
       "      <td>1</td>\n",
       "      <td>0</td>\n",
       "      <td>CP-Porto</td>\n",
       "      <td>CP-Porto / Famalicão</td>\n",
       "      <td></td>\n",
       "      <td>1</td>\n",
       "    </tr>\n",
       "  </tbody>\n",
       "</table>\n",
       "</div>"
      ],
      "text/plain": [
       "    Ano  Mês  Dia  Hora  Operador                Est/Op        Zona  \\\n",
       "0  2020    1    1     0  CP-Porto      CP-Porto / Aguda  VNG8         \n",
       "1  2020    1    1     0  CP-Porto       CP-Porto / Cête  PRD2         \n",
       "2  2020    1    1     0  CP-Porto  CP-Porto / Ermesinde  MAI4         \n",
       "3  2020    1    1     0  CP-Porto    CP-Porto / Espinho  VNG8         \n",
       "4  2020    1    1     0  CP-Porto  CP-Porto / Famalicão               \n",
       "\n",
       "   Validações  \n",
       "0           1  \n",
       "1           2  \n",
       "2           3  \n",
       "3           1  \n",
       "4           1  "
      ]
     },
     "execution_count": 6,
     "metadata": {},
     "output_type": "execute_result"
    }
   ],
   "source": [
    "rail_2020.head()"
   ]
  },
  {
   "cell_type": "markdown",
   "id": "73398495-c674-4777-905b-c3674fe47bf9",
   "metadata": {},
   "source": [
    "### How many stations are there? (Est/Op)"
   ]
  },
  {
   "cell_type": "code",
   "execution_count": 7,
   "id": "a67caa68-397e-4790-9628-ff09192ebbec",
   "metadata": {},
   "outputs": [
    {
     "data": {
      "text/plain": [
       "array(['CP-Porto / Aguda', 'CP-Porto / Cête', 'CP-Porto / Ermesinde',\n",
       "       'CP-Porto / Espinho', 'CP-Porto / Famalicão', 'CP-Porto / Miramar',\n",
       "       'CP-Porto / Rio Tinto', 'CP-Porto / Trofa', 'CP-Porto / Valongo',\n",
       "       'Alto da Pêga', 'Araújo', 'Bolhão', 'Câmara de Gaia',\n",
       "       'Câmara de Matosinhos', 'Carolina de Michaelis', 'Casa da Música',\n",
       "       'Castêlo da Maia', 'Custoias', 'D. João II', 'Esposade',\n",
       "       'Estádio do Dragão', 'Fânzeres', 'Fonte do Cuco - Linha P',\n",
       "       'Fórum', 'General Torres', 'H. Pedro Hispano', 'Heroísmo', 'IPO',\n",
       "       'ISMAI', 'Jardim do Morro', 'Lidador', 'Marquês', 'Mercado',\n",
       "       'Mindelo', 'Modivas Centro', 'Modivas Norte', 'Nasoni',\n",
       "       'Nau Vitória', 'Parque da Maia', 'Parque de Real', 'Pedras Rubras',\n",
       "       'Portas Fronhas', 'Póvoa de Varzim', 'Ramalde', 'São Bento',\n",
       "       'São Brás', 'Vasco da Gama', 'Verdes', 'Vila do Conde',\n",
       "       'CP-Porto / Campanhã', 'CP-Porto / Coimbrões',\n",
       "       'CP-Porto / Cortegaça', 'CP-Porto / Couto Cambeses',\n",
       "       'CP-Porto / Devesas', 'CP-Porto / General Torres',\n",
       "       'CP-Porto / Lousado', 'Azurara', 'Baguim', 'Brito Capelo',\n",
       "       'Campainha', 'Campanhã', 'Cândido dos Reis', 'Carreira',\n",
       "       'Combatentes/Lima', 'Contumil', 'Crestins', 'Custió',\n",
       "       'Fonte do Cuco - Linha T', 'Francos', 'H. São João',\n",
       "       'João de Deus', 'Lapa', 'Matosinhos Sul', 'Modivas Sul',\n",
       "       'CP-Porto / Aveiro', 'CP-Porto / Recarei', 'CP-Porto / S. Bento',\n",
       "       'CP-Porto / Suzão', 'CP-Porto / Valadares', '24 de Agosto',\n",
       "       'Aeroporto', 'Árvore', 'Botica', 'Espaço Natureza',\n",
       "       'Estádio do Mar', 'Faria Guimarães', 'Levada', 'Pias',\n",
       "       'Polo Universitário', 'Rio Tinto', 'Salgueiros', 'Santa Clara',\n",
       "       'Santo Ovídio', 'Senhor de Matosinhos', 'Sete Bicas',\n",
       "       'Srª da Hora', 'Trindade', 'Varziela', 'Venda-a-Nova',\n",
       "       'Vilar do Pinheiro', 'Viso', 'CP-Porto / Granja',\n",
       "       'CP-Porto / Madalena', 'CP-Porto / Nine', 'CP-Porto / São Romão',\n",
       "       'Zona Industrial', 'CP-Porto / Ovar', 'CP-Porto / Paredes',\n",
       "       'CP-Porto / Contumil', 'CP-Porto / Penafiel',\n",
       "       'CP-Porto / Águas Santas', 'CP-Porto / Braga', 'CP-Porto / Cabeda',\n",
       "       'CP-Porto / Caíde', 'CP-Porto / Estarreja',\n",
       "       'CP-Porto / Marco de Canaveses', 'CP-Porto / Mouquim',\n",
       "       'CP-Porto / Paramos', 'CP-Porto / Trancoso', 'Aliados', 'Mandim',\n",
       "       'CP-Porto / Esmoriz', 'CP-Porto / Lordelo', 'CP-Porto / Vizela',\n",
       "       'CP-Porto / Avanca', 'CP-Porto / Barrimau', 'CP-Porto / Guimarães',\n",
       "       'CP-Porto / Salreu', 'CP-Porto / Santo Tirso',\n",
       "       'CP-Porto / Travagem', 'CP-Porto / Cacia', 'CP-Porto / Canelas',\n",
       "       'CP-Porto / Carvalheira-Maceda', 'CP-Porto / Francelos',\n",
       "       'CP-Porto / Meinedo', 'CP-Porto / Portela', 'Alternativos',\n",
       "       'CP-Porto / Bustelo', 'CP-Porto / Giesteira', 'CP-Porto / Leandro',\n",
       "       'CP-Porto / Louro', 'CP-Porto / Parada', 'CP-Porto / São Frutuoso',\n",
       "       'CP-Porto / Terronhas', 'CP-Porto / Vila da Aves',\n",
       "       'CP-Porto / Pereirinha', 'CP-Porto / Tadim', 'CP-Porto / Válega',\n",
       "       'CP-Porto / Caniços', 'CP-Porto / Livração',\n",
       "       'CP-Porto / S. Martinho do Campo', 'CP-Porto / Arentim',\n",
       "       'CP-Porto / Esmeriz', 'CP-Porto / Aveleda', 'CP-Porto / Silvade',\n",
       "       'CP-Porto / Mazagão', 'CP-Porto / Ferreiros',\n",
       "       'CP-Porto / Oliveira', 'CP-Porto / Recesinhos',\n",
       "       'CP-Porto / Oleiros', 'CP-Porto / Ruílhe', 'CP-Porto / Vila Meã',\n",
       "       'CP-Porto / Cuca', 'CP-Porto / Nespereira', 'CP-Porto / Covas',\n",
       "       'CP-Porto / Irivo', 'Metro do Porto', 'Terminais Portáteis CP'],\n",
       "      dtype=object)"
      ]
     },
     "execution_count": 7,
     "metadata": {},
     "output_type": "execute_result"
    }
   ],
   "source": [
    "rail_2020[\"Est/Op\"].unique()"
   ]
  },
  {
   "cell_type": "markdown",
   "id": "e273e408-c411-4a8d-9d18-c98f88a4bb83",
   "metadata": {},
   "source": [
    "It's quite a long a list! The stations that have \"CP-Porto\" at the beggining are related to train railways, whereas the ones that don't are related to the subway.\n",
    "\n",
    "### When were the measures being done?\n",
    "\n",
    "First, let's rename some columns!"
   ]
  },
  {
   "cell_type": "code",
   "execution_count": 8,
   "id": "5e40acc5-7f95-4897-a0ce-a2c0f6e4657a",
   "metadata": {},
   "outputs": [],
   "source": [
    "rail_2020.rename({'Ano': 'year', 'Mês': 'month', 'Dia': 'day', 'Hora': 'hour',\n",
    "                 'Operador': 'operator', 'Est/Op': 'station', 'Zona': 'zone', 'Validações': 'validations'}, axis=1, inplace=True)"
   ]
  },
  {
   "cell_type": "code",
   "execution_count": 9,
   "id": "58647852-5e3b-449f-800f-f0f2ccd139ac",
   "metadata": {},
   "outputs": [
    {
     "data": {
      "text/plain": [
       "array([ 0,  1,  2,  3,  4,  5,  6,  7,  8,  9, 10, 11, 12, 13, 14, 15, 16,\n",
       "       17, 18, 19, 20, 21, 22, 23])"
      ]
     },
     "execution_count": 9,
     "metadata": {},
     "output_type": "execute_result"
    }
   ],
   "source": [
    "rail_2020[\"hour\"].unique()"
   ]
  },
  {
   "cell_type": "code",
   "execution_count": 10,
   "id": "27cf02fb-cbd3-417f-ab2e-8a00ae9caa68",
   "metadata": {},
   "outputs": [
    {
     "data": {
      "image/png": "[encoded data removed]",
      "text/plain": [
       "<Figure size 1000x500 with 1 Axes>"
      ]
     },
     "metadata": {
      "needs_background": "light"
     },
     "output_type": "display_data"
    }
   ],
   "source": [
    "uniq_hours = np.unique(rail_2020[\"hour\"].values, return_counts=True)\n",
    "hours, h_count = uniq_hours[0], uniq_hours[1]\n",
    "\n",
    "# Plot bar chart\n",
    "fig = plt.figure(figsize = (10, 5), dpi=100)\n",
    " \n",
    "# creating the bar plot\n",
    "plt.bar(hours, h_count, width = 0.4)\n",
    " \n",
    "plt.xlabel(\"Hour of the day\")\n",
    "plt.ylabel(\"No. of entries\")\n",
    "plt.title(\"No. of entries per hour\")\n",
    "plt.show()"
   ]
  },
  {
   "cell_type": "markdown",
   "id": "3acb6d01-ca1c-4a6a-b8a7-e22ea3cac8b0",
   "metadata": {},
   "source": [
    "There are very few measurements done for the hours of 2 am to 4 am (understandable, as there are fewer trains/subways operating in that area."
   ]
  },
  {
   "cell_type": "code",
   "execution_count": 11,
   "id": "1a46696b-3e68-4959-a19d-cc413a97feda",
   "metadata": {},
   "outputs": [],
   "source": [
    "def check_dist_data(df, time_measure = \"hour\", xlabel = \"Hour of the day\"):\n",
    "    uniq_time = np.unique(df[time_measure].values, return_counts=True)\n",
    "    time, t_count = uniq_time[0], uniq_time[1]\n",
    "\n",
    "    # Plot bar chart\n",
    "    fig = plt.figure(figsize = (10, 5), dpi=100)\n",
    "\n",
    "    # creating the bar plot\n",
    "    plt.bar(time, t_count, width = 0.4)\n",
    "\n",
    "    plt.xlabel(xlabel)\n",
    "    plt.ylabel(\"No. of entries\")\n",
    "    plt.title(f\"No. of entries per {time_measure}\")\n",
    "    plt.show()"
   ]
  },
  {
   "cell_type": "code",
   "execution_count": 12,
   "id": "2d49c15f-6770-409f-90a0-5b50d63dbae1",
   "metadata": {},
   "outputs": [
    {
     "data": {
      "image/png": "[encoded data removed]",
      "text/plain": [
       "<Figure size 1000x500 with 1 Axes>"
      ]
     },
     "metadata": {
      "needs_background": "light"
     },
     "output_type": "display_data"
    }
   ],
   "source": [
    "check_dist_data(rail_2020, time_measure = \"day\", xlabel = \"Days of the Month (sum for the entire year)\")"
   ]
  },
  {
   "cell_type": "markdown",
   "id": "5fea4fb6-6bba-4d02-b606-63f20543bb10",
   "metadata": {},
   "source": [
    "We assume that rhe dips for the 30th and the 31st of May are related to not all months having those days."
   ]
  },
  {
   "cell_type": "code",
   "execution_count": 13,
   "id": "7a6e1abd-0c39-4bd8-ace2-952b249f4b15",
   "metadata": {},
   "outputs": [
    {
     "data": {
      "image/png": "[encoded data removed]",
      "text/plain": [
       "<Figure size 1000x500 with 1 Axes>"
      ]
     },
     "metadata": {
      "needs_background": "light"
     },
     "output_type": "display_data"
    }
   ],
   "source": [
    "check_dist_data(rail_2020, time_measure = \"month\", xlabel = \"Month of the year\")"
   ]
  },
  {
   "cell_type": "markdown",
   "id": "ee40cf4e-e40c-4105-b8c9-eafed64b53a8",
   "metadata": {
    "tags": []
   },
   "source": [
    "Only a few measurements were done in the month of April. Considering that this is the first pandemic year, it may be possible that in April a lot of services were not being run (confusing times). Thus, we may have to be careful with conclusions made regarding the month of April. The same may be true for the month of March and May. However, for the remaining months, it seems like regular-ish activities were carried out. Let's add the day of the week each entry is."
   ]
  },
  {
   "cell_type": "code",
   "execution_count": 14,
   "id": "4a2a54fc-ebdd-4575-851b-3e1c0eb41048",
   "metadata": {},
   "outputs": [],
   "source": [
    "rail_2020['date'] = pd.to_datetime(rail_2020[['year', 'month', 'day', 'hour']])\n",
    "day_week_dict = {\n",
    "    0: 'Mon',\n",
    "    1: 'Tue',\n",
    "    2: 'Wed',\n",
    "    3: 'Thurs',\n",
    "    4: 'Fri',\n",
    "    5: 'Sat',\n",
    "    6: 'Sun'\n",
    "}\n",
    "rail_2020['day_week'] = [day_week_dict[d.dayofweek] for d in rail_2020.date]"
   ]
  },
  {
   "cell_type": "code",
   "execution_count": 15,
   "id": "bf4c596e-ba8f-4e61-994c-9f243520694f",
   "metadata": {},
   "outputs": [
    {
     "data": {
      "image/png": "[encoded data removed]",
      "text/plain": [
       "<Figure size 1000x500 with 1 Axes>"
      ]
     },
     "metadata": {
      "needs_background": "light"
     },
     "output_type": "display_data"
    }
   ],
   "source": [
    "check_dist_data(rail_2020, time_measure = \"day_week\", xlabel = \"Days of the week\")"
   ]
  },
  {
   "cell_type": "markdown",
   "id": "cf88b38b-39cb-45fa-a437-3c4c406ee082",
   "metadata": {},
   "source": [
    "### How many values are missing?"
   ]
  },
  {
   "cell_type": "code",
   "execution_count": 16,
   "id": "05d38400-85ce-4ef0-9de3-f55e33b9bfed",
   "metadata": {},
   "outputs": [
    {
     "data": {
      "text/plain": [
       "year           0\n",
       "month          0\n",
       "day            0\n",
       "hour           0\n",
       "operator       0\n",
       "station        0\n",
       "zone           0\n",
       "validations    0\n",
       "date           0\n",
       "day_week       0\n",
       "dtype: int64"
      ]
     },
     "execution_count": 16,
     "metadata": {},
     "output_type": "execute_result"
    }
   ],
   "source": [
    "rail_2020.isnull().sum()"
   ]
  },
  {
   "cell_type": "markdown",
   "id": "450bb420-91ec-42b0-9f3b-f4204b1f1c42",
   "metadata": {},
   "source": [
    "Apparently, there aren't any missing values. But that does not seem to be the case! The 4th index has a missing zone"
   ]
  },
  {
   "cell_type": "code",
   "execution_count": 17,
   "id": "fb82796d-e781-476f-89f5-1952a6e915dc",
   "metadata": {},
   "outputs": [
    {
     "data": {
      "text/plain": [
       "'          '"
      ]
     },
     "execution_count": 17,
     "metadata": {},
     "output_type": "execute_result"
    }
   ],
   "source": [
    "rail_2020.iloc[4]['zone']"
   ]
  },
  {
   "cell_type": "code",
   "execution_count": 18,
   "id": "30361307-830d-4001-8f00-f60bf810fdbc",
   "metadata": {},
   "outputs": [
    {
     "data": {
      "text/plain": [
       "str"
      ]
     },
     "execution_count": 18,
     "metadata": {},
     "output_type": "execute_result"
    }
   ],
   "source": [
    "type(rail_2020.iloc[4]['zone'])"
   ]
  },
  {
   "cell_type": "markdown",
   "id": "456e5c8e-8167-4393-be81-1a3cf352b7de",
   "metadata": {},
   "source": [
    "It's not \"missing\", it's instead a string of blanks"
   ]
  },
  {
   "cell_type": "code",
   "execution_count": 19,
   "id": "aab613b2-ace5-40ba-a517-f2caa7aec6d1",
   "metadata": {},
   "outputs": [
    {
     "data": {
      "text/html": [
       "<div>\n",
       "<style scoped>\n",
       "    .dataframe tbody tr th:only-of-type {\n",
       "        vertical-align: middle;\n",
       "    }\n",
       "\n",
       "    .dataframe tbody tr th {\n",
       "        vertical-align: top;\n",
       "    }\n",
       "\n",
       "    .dataframe thead th {\n",
       "        text-align: right;\n",
       "    }\n",
       "</style>\n",
       "<table border=\"1\" class=\"dataframe\">\n",
       "  <thead>\n",
       "    <tr style=\"text-align: right;\">\n",
       "      <th></th>\n",
       "      <th>year</th>\n",
       "      <th>month</th>\n",
       "      <th>day</th>\n",
       "      <th>hour</th>\n",
       "      <th>operator</th>\n",
       "      <th>station</th>\n",
       "      <th>zone</th>\n",
       "      <th>validations</th>\n",
       "      <th>date</th>\n",
       "      <th>day_week</th>\n",
       "    </tr>\n",
       "  </thead>\n",
       "  <tbody>\n",
       "    <tr>\n",
       "      <th>4</th>\n",
       "      <td>2020</td>\n",
       "      <td>1</td>\n",
       "      <td>1</td>\n",
       "      <td>0</td>\n",
       "      <td>CP-Porto</td>\n",
       "      <td>CP-Porto / Famalicão</td>\n",
       "      <td></td>\n",
       "      <td>1</td>\n",
       "      <td>2020-01-01 00:00:00</td>\n",
       "      <td>Wed</td>\n",
       "    </tr>\n",
       "    <tr>\n",
       "      <th>53</th>\n",
       "      <td>2020</td>\n",
       "      <td>1</td>\n",
       "      <td>1</td>\n",
       "      <td>1</td>\n",
       "      <td>CP-Porto</td>\n",
       "      <td>CP-Porto / Cortegaça</td>\n",
       "      <td></td>\n",
       "      <td>1</td>\n",
       "      <td>2020-01-01 01:00:00</td>\n",
       "      <td>Wed</td>\n",
       "    </tr>\n",
       "    <tr>\n",
       "      <th>54</th>\n",
       "      <td>2020</td>\n",
       "      <td>1</td>\n",
       "      <td>1</td>\n",
       "      <td>1</td>\n",
       "      <td>CP-Porto</td>\n",
       "      <td>CP-Porto / Couto Cambeses</td>\n",
       "      <td></td>\n",
       "      <td>2</td>\n",
       "      <td>2020-01-01 01:00:00</td>\n",
       "      <td>Wed</td>\n",
       "    </tr>\n",
       "    <tr>\n",
       "      <th>56</th>\n",
       "      <td>2020</td>\n",
       "      <td>1</td>\n",
       "      <td>1</td>\n",
       "      <td>1</td>\n",
       "      <td>CP-Porto</td>\n",
       "      <td>CP-Porto / Famalicão</td>\n",
       "      <td></td>\n",
       "      <td>50</td>\n",
       "      <td>2020-01-01 01:00:00</td>\n",
       "      <td>Wed</td>\n",
       "    </tr>\n",
       "    <tr>\n",
       "      <th>136</th>\n",
       "      <td>2020</td>\n",
       "      <td>1</td>\n",
       "      <td>1</td>\n",
       "      <td>1</td>\n",
       "      <td>CP-Porto</td>\n",
       "      <td>CP-Porto / Nine</td>\n",
       "      <td></td>\n",
       "      <td>7</td>\n",
       "      <td>2020-01-01 01:00:00</td>\n",
       "      <td>Wed</td>\n",
       "    </tr>\n",
       "    <tr>\n",
       "      <th>...</th>\n",
       "      <td>...</td>\n",
       "      <td>...</td>\n",
       "      <td>...</td>\n",
       "      <td>...</td>\n",
       "      <td>...</td>\n",
       "      <td>...</td>\n",
       "      <td>...</td>\n",
       "      <td>...</td>\n",
       "      <td>...</td>\n",
       "      <td>...</td>\n",
       "    </tr>\n",
       "    <tr>\n",
       "      <th>81611</th>\n",
       "      <td>2020</td>\n",
       "      <td>12</td>\n",
       "      <td>31</td>\n",
       "      <td>22</td>\n",
       "      <td>CP-Porto</td>\n",
       "      <td>CP-Porto / Braga</td>\n",
       "      <td></td>\n",
       "      <td>1</td>\n",
       "      <td>2020-12-31 22:00:00</td>\n",
       "      <td>Thurs</td>\n",
       "    </tr>\n",
       "    <tr>\n",
       "      <th>81618</th>\n",
       "      <td>2020</td>\n",
       "      <td>12</td>\n",
       "      <td>31</td>\n",
       "      <td>22</td>\n",
       "      <td>CP-Porto</td>\n",
       "      <td>CP-Porto / Estarreja</td>\n",
       "      <td></td>\n",
       "      <td>6</td>\n",
       "      <td>2020-12-31 22:00:00</td>\n",
       "      <td>Thurs</td>\n",
       "    </tr>\n",
       "    <tr>\n",
       "      <th>81620</th>\n",
       "      <td>2020</td>\n",
       "      <td>12</td>\n",
       "      <td>31</td>\n",
       "      <td>22</td>\n",
       "      <td>CP-Porto</td>\n",
       "      <td>CP-Porto / Louro</td>\n",
       "      <td></td>\n",
       "      <td>1</td>\n",
       "      <td>2020-12-31 22:00:00</td>\n",
       "      <td>Thurs</td>\n",
       "    </tr>\n",
       "    <tr>\n",
       "      <th>81622</th>\n",
       "      <td>2020</td>\n",
       "      <td>12</td>\n",
       "      <td>31</td>\n",
       "      <td>22</td>\n",
       "      <td>CP-Porto</td>\n",
       "      <td>CP-Porto / Meinedo</td>\n",
       "      <td></td>\n",
       "      <td>2</td>\n",
       "      <td>2020-12-31 22:00:00</td>\n",
       "      <td>Thurs</td>\n",
       "    </tr>\n",
       "    <tr>\n",
       "      <th>81625</th>\n",
       "      <td>2020</td>\n",
       "      <td>12</td>\n",
       "      <td>31</td>\n",
       "      <td>22</td>\n",
       "      <td>CP-Porto</td>\n",
       "      <td>CP-Porto / Penafiel</td>\n",
       "      <td></td>\n",
       "      <td>1</td>\n",
       "      <td>2020-12-31 22:00:00</td>\n",
       "      <td>Thurs</td>\n",
       "    </tr>\n",
       "  </tbody>\n",
       "</table>\n",
       "<p>142169 rows × 10 columns</p>\n",
       "</div>"
      ],
      "text/plain": [
       "       year  month  day  hour  operator                    station  \\\n",
       "4      2020      1    1     0  CP-Porto       CP-Porto / Famalicão   \n",
       "53     2020      1    1     1  CP-Porto       CP-Porto / Cortegaça   \n",
       "54     2020      1    1     1  CP-Porto  CP-Porto / Couto Cambeses   \n",
       "56     2020      1    1     1  CP-Porto       CP-Porto / Famalicão   \n",
       "136    2020      1    1     1  CP-Porto            CP-Porto / Nine   \n",
       "...     ...    ...  ...   ...       ...                        ...   \n",
       "81611  2020     12   31    22  CP-Porto           CP-Porto / Braga   \n",
       "81618  2020     12   31    22  CP-Porto       CP-Porto / Estarreja   \n",
       "81620  2020     12   31    22  CP-Porto           CP-Porto / Louro   \n",
       "81622  2020     12   31    22  CP-Porto         CP-Porto / Meinedo   \n",
       "81625  2020     12   31    22  CP-Porto        CP-Porto / Penafiel   \n",
       "\n",
       "             zone  validations                date day_week  \n",
       "4                            1 2020-01-01 00:00:00      Wed  \n",
       "53                           1 2020-01-01 01:00:00      Wed  \n",
       "54                           2 2020-01-01 01:00:00      Wed  \n",
       "56                          50 2020-01-01 01:00:00      Wed  \n",
       "136                          7 2020-01-01 01:00:00      Wed  \n",
       "...           ...          ...                 ...      ...  \n",
       "81611                        1 2020-12-31 22:00:00    Thurs  \n",
       "81618                        6 2020-12-31 22:00:00    Thurs  \n",
       "81620                        1 2020-12-31 22:00:00    Thurs  \n",
       "81622                        2 2020-12-31 22:00:00    Thurs  \n",
       "81625                        1 2020-12-31 22:00:00    Thurs  \n",
       "\n",
       "[142169 rows x 10 columns]"
      ]
     },
     "execution_count": 19,
     "metadata": {},
     "output_type": "execute_result"
    }
   ],
   "source": [
    "rail_2020[rail_2020['zone']=='          ']"
   ]
  },
  {
   "cell_type": "markdown",
   "id": "b48b068e-d475-4953-ac8b-d5a8b26639c1",
   "metadata": {},
   "source": [
    "Quite a few entries have a missing zone! Let's leave those in for now."
   ]
  },
  {
   "cell_type": "code",
   "execution_count": 20,
   "id": "0f4625e1-958c-4169-8ad4-2901abb6bc85",
   "metadata": {},
   "outputs": [
    {
     "data": {
      "text/plain": [
       "count    926852.000000\n",
       "mean         54.590226\n",
       "std         166.490216\n",
       "min           1.000000\n",
       "25%           3.000000\n",
       "50%          11.000000\n",
       "75%          42.000000\n",
       "max        6624.000000\n",
       "Name: validations, dtype: float64"
      ]
     },
     "execution_count": 20,
     "metadata": {},
     "output_type": "execute_result"
    }
   ],
   "source": [
    "rail_2020['validations'].describe()"
   ]
  },
  {
   "cell_type": "markdown",
   "id": "1e70eaf6-0e5c-43ec-8bf7-f0174a5f1adb",
   "metadata": {},
   "source": [
    "The median is around 11 validations. The mean is quite skewed due to the very high max value. Let's look at an histogram of the values."
   ]
  },
  {
   "cell_type": "code",
   "execution_count": 21,
   "id": "af39b53d-111c-4b48-bf84-8cbee8642973",
   "metadata": {},
   "outputs": [
    {
     "data": {
      "text/plain": [
       "<AxesSubplot:>"
      ]
     },
     "execution_count": 21,
     "metadata": {},
     "output_type": "execute_result"
    },
    {
     "data": {
      "image/png": "[encoded data removed]",
      "text/plain": [
       "<Figure size 432x288 with 1 Axes>"
      ]
     },
     "metadata": {
      "needs_background": "light"
     },
     "output_type": "display_data"
    }
   ],
   "source": [
    "rail_2020['validations'].hist(bins=30)"
   ]
  },
  {
   "cell_type": "markdown",
   "id": "935a8f20-2e35-478a-b9ad-2ae20f1d503c",
   "metadata": {},
   "source": [
    "That's not very helpful. It seems that this distribution has quite a long tail (some entries have a very high number of validations, whereas most entries have fewer that 1000 validations); let's look at the log"
   ]
  },
  {
   "cell_type": "code",
   "execution_count": 22,
   "id": "ee9073e2-2e46-4ed0-af6b-a92bea8a864e",
   "metadata": {},
   "outputs": [
    {
     "data": {
      "text/plain": [
       "<AxesSubplot:>"
      ]
     },
     "execution_count": 22,
     "metadata": {},
     "output_type": "execute_result"
    },
    {
     "data": {
      "image/png": "[encoded data removed]",
      "text/plain": [
       "<Figure size 432x288 with 1 Axes>"
      ]
     },
     "metadata": {
      "needs_background": "light"
     },
     "output_type": "display_data"
    }
   ],
   "source": [
    "np.log(rail_2020['validations']).hist(bins=30) # natural log (of e)"
   ]
  },
  {
   "cell_type": "markdown",
   "id": "6c21bee8-0565-4a22-9fe2-b398f095ff1d",
   "metadata": {},
   "source": [
    "Let's look at some of the outliers :)"
   ]
  },
  {
   "cell_type": "code",
   "execution_count": 23,
   "id": "157feb3a-a867-42d3-9ab8-4eb50ebeb085",
   "metadata": {},
   "outputs": [
    {
     "name": "stdout",
     "output_type": "stream",
     "text": [
      "Top 10 days:\n",
      "                     date   station  validations\n",
      "33814 2020-02-11 18:00:00  Trindade         6117\n",
      "17663 2020-01-06 18:00:00  Trindade         6150\n",
      "30576 2020-02-10 18:00:00  Trindade         6155\n",
      "37267 2020-02-12 18:00:00  Trindade         6196\n",
      "86348 2020-02-27 17:00:00  Trindade         6257\n",
      "64160 2020-02-20 18:00:00  Trindade         6391\n",
      "60409 2020-02-19 18:00:00  Trindade         6391\n",
      "53405 2020-02-18 18:00:00  Trindade         6508\n",
      "50174 2020-02-17 18:00:00  Trindade         6624\n"
     ]
    }
   ],
   "source": [
    "sorted_indx = rail_2020['validations'].argsort()\n",
    "# top 10 peaks\n",
    "top_10 = rail_2020.iloc[sorted_indx[:-10:-1]]\n",
    "top_10 = top_10.sort_values(by='validations')\n",
    "print(f\"Top 10 days:\\n{top_10[['date','station','validations']]}\")"
   ]
  },
  {
   "cell_type": "markdown",
   "id": "a68ad994-f626-4e52-aef4-1d0a46870db3",
   "metadata": {},
   "source": [
    "Unsurprisingly, the highest entries were obtained during peak hours. Note that all of them are for the first 2 months. This means that after the first few cases of covid, rail public transports did not have the same amount of influx of people as it was probably expected. Note that for all of these entries the station is Trindade. This makes sense, as Trindade is one of the largest traportations hub in Porto. Since a validation is essentially a person saying \"I am here\", our conclusion from this is that a lot of people are in Trindade during peak hours... We don't really need amazing data science for that haha! People that are in downtown are going home after work. Perhaps then, it may be interesting to explore where people came from in the morning, to have an idea of where people are going at around 6pm (18h). "
   ]
  },
  {
   "cell_type": "code",
   "execution_count": 24,
   "id": "77672871-1f5a-40e6-ae5e-911f9783877d",
   "metadata": {},
   "outputs": [],
   "source": [
    "rail_morning_6_jan = rail_2020[(rail_2020['day']==6)&(rail_2020['month']==1)&(rail_2020['hour']<=10)]"
   ]
  },
  {
   "cell_type": "code",
   "execution_count": 25,
   "id": "024067b3-7827-48f1-8732-3532740dd247",
   "metadata": {},
   "outputs": [
    {
     "name": "stdout",
     "output_type": "stream",
     "text": [
      "Top 10 days:\n",
      "                     date               station  validations\n",
      "15068 2020-01-06 07:00:00      CP-Porto / Braga          632\n",
      "15643 2020-01-06 10:00:00        Casa da Música          632\n",
      "15312 2020-01-06 08:00:00     Estádio do Dragão          644\n",
      "15211 2020-01-06 07:00:00          João de Deus          648\n",
      "15316 2020-01-06 08:00:00           H. São João          651\n",
      "15483 2020-01-06 09:00:00        Casa da Música          671\n",
      "15591 2020-01-06 09:00:00             São Bento          692\n",
      "15706 2020-01-06 10:00:00              Campanhã          701\n",
      "15375 2020-01-06 08:00:00        Casa da Música          735\n",
      "15224 2020-01-06 07:00:00           Srª da Hora          750\n",
      "15298 2020-01-06 08:00:00          24 de Agosto          764\n",
      "15384 2020-01-06 08:00:00        General Torres          772\n",
      "15564 2020-01-06 09:00:00           Srª da Hora          822\n",
      "15083 2020-01-06 07:00:00  CP-Porto / Ermesinde          823\n",
      "15378 2020-01-06 08:00:00            D. João II          838\n",
      "15330 2020-01-06 08:00:00  CP-Porto / Ermesinde          894\n",
      "15590 2020-01-06 09:00:00          Santo Ovídio          895\n",
      "15317 2020-01-06 08:00:00          João de Deus          928\n",
      "15484 2020-01-06 08:00:00             São Bento          958\n",
      "15416 2020-01-06 08:00:00           Srª da Hora         1175\n",
      "15481 2020-01-06 09:00:00              Campanhã         1358\n",
      "15201 2020-01-06 07:00:00              Campanhã         1488\n",
      "15221 2020-01-06 07:00:00          Santo Ovídio         1494\n",
      "15414 2020-01-06 08:00:00          Santo Ovídio         1772\n",
      "15820 2020-01-06 10:00:00              Trindade         2356\n",
      "15225 2020-01-06 07:00:00              Trindade         2468\n",
      "15305 2020-01-06 08:00:00              Campanhã         2914\n",
      "15565 2020-01-06 09:00:00              Trindade         3114\n",
      "15417 2020-01-06 08:00:00              Trindade         4310\n"
     ]
    }
   ],
   "source": [
    "sorted_indx_m_6_jan = rail_morning_6_jan['validations'].argsort() #m for morning\n",
    "# top 10 peaks\n",
    "top_30_m_6_jan = rail_morning_6_jan.iloc[sorted_indx_m_6_jan[:-30:-1]]\n",
    "top_30_m_6_jan = top_30_m_6_jan.sort_values(by='validations')\n",
    "print(f\"Top 10 days:\\n{top_30_m_6_jan[['date','station','validations']]}\")"
   ]
  },
  {
   "cell_type": "markdown",
   "id": "f9db6df3-077f-4f17-a586-28d0b747ac74",
   "metadata": {},
   "source": [
    "Looking at the top 30 stations in the morning, the story seems to be a little bit more interesting. We can start to tell from which stations people depart. Perhaps a connection may be established between which stations people are commuting, in order to better determine how many train/subway wagons are needed... Future work! For now, we'll focus on the busiest subway stations, *preferably* (but not necessarily) the ones at the beggining/end of a subway line, with a high influx of people, such as Santo Ovídio, Campanhã, Trindade, Srª da Hora, Estádio do Dragão, and H. São João. The reason why begginings/ends of lines are preferred is because those allow us to directly determine how many wagons should be there at a given time, whereas validation number of stations in the 'middle' of the network don't tell us where people are going. "
   ]
  },
  {
   "cell_type": "markdown",
   "id": "31a1afeb-2c33-4cb4-9af5-d9fe027856dc",
   "metadata": {},
   "source": [
    "Let's look at some more yearly trends!"
   ]
  },
  {
   "cell_type": "code",
   "execution_count": 26,
   "id": "1795dd0d-aa8e-421f-b683-21aa8e0ad425",
   "metadata": {},
   "outputs": [],
   "source": [
    "def plt_time_graph(df,stations_lst, ymax = 700, freq_time = '3D'):\n",
    "    \n",
    "    validations_stations = pd.DataFrame()\n",
    "    \n",
    "    for station_name in stations_lst:\n",
    "        df_station = df[df['station']==station_name]\n",
    "        \n",
    "        df_station_ts = df_station.groupby(pd.Grouper(key='date', axis=0,freq=freq_time)).mean()\n",
    "        \n",
    "        df_station_ts.index.name = 'date'\n",
    "        df_station_ts.reset_index(inplace=True)\n",
    "        df_station_rolled_df = df_station_ts\n",
    "        \n",
    "        validations_stations[station_name] = df_station_rolled_df['validations'] \n",
    "    \n",
    "    dates = df_station_rolled_df['date']\n",
    "    \n",
    "    plt.plot(dates, validations_stations, label=stations_lst)\n",
    "    plt.title(f\"Validations throughout the year ({freq_time} frequency)\")\n",
    "    plt.xlabel(\"Date\")\n",
    "    plt.ylabel(\"Validations\")\n",
    "    plt.legend()\n",
    "    plt.xticks(rotation=45)\n",
    "\n",
    "    fig = plt.gcf() #get current figure\n",
    "    #fig.set_size_inches(18.5, 10.5, forward=True)\n",
    "    fig.set_dpi(100)\n",
    "    \n",
    "    ax = plt.gca()\n",
    "    ax.set_ylim([0, ymax])\n",
    "    \n",
    "    plt.show()"
   ]
  },
  {
   "cell_type": "code",
   "execution_count": 27,
   "id": "6905cc96-10ab-4e4f-9341-4d3eb359e4aa",
   "metadata": {},
   "outputs": [
    {
     "data": {
      "image/png": "[encoded data removed]",
      "text/plain": [
       "<Figure size 600x400 with 1 Axes>"
      ]
     },
     "metadata": {
      "needs_background": "light"
     },
     "output_type": "display_data"
    }
   ],
   "source": [
    "stations_list = ['Santo Ovídio','Srª da Hora','H. São João']\n",
    "plt_time_graph(rail_2020,stations_list, ymax=500)"
   ]
  },
  {
   "cell_type": "code",
   "execution_count": 28,
   "id": "627ea7fc-291a-4bb8-84b0-4d88ac67359b",
   "metadata": {},
   "outputs": [
    {
     "data": {
      "image/png": "[encoded data removed]",
      "text/plain": [
       "<Figure size 600x400 with 1 Axes>"
      ]
     },
     "metadata": {
      "needs_background": "light"
     },
     "output_type": "display_data"
    }
   ],
   "source": [
    "stations_list = ['Santo Ovídio','Srª da Hora','H. São João']\n",
    "plt_time_graph(rail_2020,stations_list, freq_time=\"2W\")"
   ]
  },
  {
   "cell_type": "markdown",
   "id": "5d920ff1-e60c-4d5d-b51d-4c0045178b57",
   "metadata": {},
   "source": [
    "It's interesting how these 'main' subway stations tend to 'behave' similarly!"
   ]
  },
  {
   "cell_type": "code",
   "execution_count": 29,
   "id": "8c10188c-a02a-4ade-b0d8-06086ddcec1c",
   "metadata": {},
   "outputs": [],
   "source": [
    "def draw_boxplot_pol(df,station_name=\"H. São João\",offliers=True):\n",
    "    \n",
    "    working_df = df[df['station']==station_name]\n",
    "    \n",
    "    # Draw Plot\n",
    "    fig, axes = plt.subplots(1, 3, figsize=(20,7), dpi= 80)\n",
    "    fig.suptitle(f\"Number of validations at the {station_name} station\", fontsize=30, y=1.05)\n",
    "    sns.boxplot(x='month', y='validations', data=working_df, ax=axes[0], showfliers = offliers)\n",
    "    \n",
    "    sns.boxplot(x='day_week', y='validations', data=working_df, ax=axes[1], order=[\n",
    "                 'Mon','Tue','Wed','Thurs','Fri','Sat','Sun'], showfliers = offliers)\n",
    "    \n",
    "    sns.boxplot(x='hour', y='validations', data=working_df, ax=axes[2], showfliers = offliers)\n",
    "\n",
    "    # Set Title\n",
    "    axes[0].set_title('Month-wise Box Plot\\n(Yearly Seasonality)', fontsize=18)\n",
    "    axes[1].set_title('Day-wise Box Plot\\n(Weekly Seasonality)', fontsize=18)\n",
    "    axes[2].set_title('Hour-wise Box Plot\\n(Hourly Seasonality)', fontsize=18)\n",
    "    plt.show()"
   ]
  },
  {
   "cell_type": "markdown",
   "id": "4738de7d-1388-4af0-af70-b8f046039650",
   "metadata": {},
   "source": [
    "<a id='important_graph_1'><b>Important graph 1!</b> Shows the seasonality associated with validations at subway stations, and how that is related to peak hours.</a>"
   ]
  },
  {
   "cell_type": "code",
   "execution_count": 30,
   "id": "b2f0413c-dd1f-4c81-9895-c8930d692d26",
   "metadata": {},
   "outputs": [
    {
     "data": {
      "image/png": "[encoded data removed]",
      "text/plain": [
       "<Figure size 1600x560 with 3 Axes>"
      ]
     },
     "metadata": {
      "needs_background": "light"
     },
     "output_type": "display_data"
    }
   ],
   "source": [
    "draw_boxplot_pol(rail_2020)"
   ]
  },
  {
   "cell_type": "code",
   "execution_count": 31,
   "id": "857f8c5d-9ebd-437a-86bc-ef40fc9da4fe",
   "metadata": {},
   "outputs": [
    {
     "data": {
      "image/png": "[encoded data removed]",
      "text/plain": [
       "<Figure size 1600x560 with 3 Axes>"
      ]
     },
     "metadata": {
      "needs_background": "light"
     },
     "output_type": "display_data"
    }
   ],
   "source": [
    "draw_boxplot_pol(rail_2020, station_name = 'Srª da Hora')"
   ]
  },
  {
   "cell_type": "markdown",
   "id": "bc9b19e6-4cac-489d-b5eb-34badb381f69",
   "metadata": {},
   "source": [
    "# 3. Feature Engineering"
   ]
  },
  {
   "cell_type": "markdown",
   "id": "e41d4d6b-7702-45b1-8fa3-47d831646e07",
   "metadata": {},
   "source": [
    "Considering the effect of the covid pandemic, it was thought that adding a column explicitly saying whether or not the pandemic had started would be beneficial to a model. Furthermore, we wanted to focus on those specific subway stations (Santo Ovídio, Campanhã, Trindade, Srª da Hora, Estádio do Dragão, and H. São João), so a new dataframe is required."
   ]
  },
  {
   "cell_type": "code",
   "execution_count": 32,
   "id": "01b09bec-15d1-4b1e-aa23-5bddd66e0173",
   "metadata": {},
   "outputs": [],
   "source": [
    "subset_rail_2020 = rail_2020[(rail_2020['station']=='Santo Ovídio') | \n",
    "                             (rail_2020['station']=='Campanhã') | \n",
    "                             (rail_2020['station']=='Trindade') | \n",
    "                             (rail_2020['station']=='Srª da Hora') | \n",
    "                             (rail_2020['station']=='Estádio do Dragão') | \n",
    "                             (rail_2020['station']=='H. São João')].copy()"
   ]
  },
  {
   "cell_type": "code",
   "execution_count": 33,
   "id": "fe06735f-03fc-4113-a985-5e0f9ef2e6dc",
   "metadata": {},
   "outputs": [
    {
     "data": {
      "text/html": [
       "<div>\n",
       "<style scoped>\n",
       "    .dataframe tbody tr th:only-of-type {\n",
       "        vertical-align: middle;\n",
       "    }\n",
       "\n",
       "    .dataframe tbody tr th {\n",
       "        vertical-align: top;\n",
       "    }\n",
       "\n",
       "    .dataframe thead th {\n",
       "        text-align: right;\n",
       "    }\n",
       "</style>\n",
       "<table border=\"1\" class=\"dataframe\">\n",
       "  <thead>\n",
       "    <tr style=\"text-align: right;\">\n",
       "      <th></th>\n",
       "      <th>year</th>\n",
       "      <th>month</th>\n",
       "      <th>day</th>\n",
       "      <th>hour</th>\n",
       "      <th>operator</th>\n",
       "      <th>station</th>\n",
       "      <th>zone</th>\n",
       "      <th>validations</th>\n",
       "      <th>date</th>\n",
       "      <th>day_week</th>\n",
       "    </tr>\n",
       "  </thead>\n",
       "  <tbody>\n",
       "    <tr>\n",
       "      <th>20</th>\n",
       "      <td>2020</td>\n",
       "      <td>1</td>\n",
       "      <td>1</td>\n",
       "      <td>0</td>\n",
       "      <td>Metro do Porto</td>\n",
       "      <td>Estádio do Dragão</td>\n",
       "      <td>PRT1</td>\n",
       "      <td>129</td>\n",
       "      <td>2020-01-01 00:00:00</td>\n",
       "      <td>Wed</td>\n",
       "    </tr>\n",
       "    <tr>\n",
       "      <th>64</th>\n",
       "      <td>2020</td>\n",
       "      <td>1</td>\n",
       "      <td>1</td>\n",
       "      <td>1</td>\n",
       "      <td>Metro do Porto</td>\n",
       "      <td>Campanhã</td>\n",
       "      <td>PRT1</td>\n",
       "      <td>112</td>\n",
       "      <td>2020-01-01 01:00:00</td>\n",
       "      <td>Wed</td>\n",
       "    </tr>\n",
       "    <tr>\n",
       "      <th>72</th>\n",
       "      <td>2020</td>\n",
       "      <td>1</td>\n",
       "      <td>1</td>\n",
       "      <td>1</td>\n",
       "      <td>Metro do Porto</td>\n",
       "      <td>Estádio do Dragão</td>\n",
       "      <td>PRT1</td>\n",
       "      <td>138</td>\n",
       "      <td>2020-01-01 01:00:00</td>\n",
       "      <td>Wed</td>\n",
       "    </tr>\n",
       "    <tr>\n",
       "      <th>75</th>\n",
       "      <td>2020</td>\n",
       "      <td>1</td>\n",
       "      <td>1</td>\n",
       "      <td>1</td>\n",
       "      <td>Metro do Porto</td>\n",
       "      <td>H. São João</td>\n",
       "      <td>PRT3</td>\n",
       "      <td>231</td>\n",
       "      <td>2020-01-01 01:00:00</td>\n",
       "      <td>Wed</td>\n",
       "    </tr>\n",
       "    <tr>\n",
       "      <th>100</th>\n",
       "      <td>2020</td>\n",
       "      <td>1</td>\n",
       "      <td>1</td>\n",
       "      <td>0</td>\n",
       "      <td>Metro do Porto</td>\n",
       "      <td>Campanhã</td>\n",
       "      <td>PRT1</td>\n",
       "      <td>76</td>\n",
       "      <td>2020-01-01 00:00:00</td>\n",
       "      <td>Wed</td>\n",
       "    </tr>\n",
       "  </tbody>\n",
       "</table>\n",
       "</div>"
      ],
      "text/plain": [
       "     year  month  day  hour        operator            station        zone  \\\n",
       "20   2020      1    1     0  Metro do Porto  Estádio do Dragão  PRT1         \n",
       "64   2020      1    1     1  Metro do Porto           Campanhã  PRT1         \n",
       "72   2020      1    1     1  Metro do Porto  Estádio do Dragão  PRT1         \n",
       "75   2020      1    1     1  Metro do Porto        H. São João  PRT3         \n",
       "100  2020      1    1     0  Metro do Porto           Campanhã  PRT1         \n",
       "\n",
       "     validations                date day_week  \n",
       "20           129 2020-01-01 00:00:00      Wed  \n",
       "64           112 2020-01-01 01:00:00      Wed  \n",
       "72           138 2020-01-01 01:00:00      Wed  \n",
       "75           231 2020-01-01 01:00:00      Wed  \n",
       "100           76 2020-01-01 00:00:00      Wed  "
      ]
     },
     "execution_count": 33,
     "metadata": {},
     "output_type": "execute_result"
    }
   ],
   "source": [
    "subset_rail_2020.head()"
   ]
  },
  {
   "cell_type": "code",
   "execution_count": 34,
   "id": "a100d354-4efe-4521-881d-116a7c2cd120",
   "metadata": {},
   "outputs": [],
   "source": [
    "# drop some cols\n",
    "subset_rail_2020.drop(['operator', 'zone'], axis=1, inplace=True)"
   ]
  },
  {
   "cell_type": "code",
   "execution_count": 35,
   "id": "f3748401-d84d-4d7f-aabe-40c73535d9d7",
   "metadata": {},
   "outputs": [
    {
     "data": {
      "text/html": [
       "<div>\n",
       "<style scoped>\n",
       "    .dataframe tbody tr th:only-of-type {\n",
       "        vertical-align: middle;\n",
       "    }\n",
       "\n",
       "    .dataframe tbody tr th {\n",
       "        vertical-align: top;\n",
       "    }\n",
       "\n",
       "    .dataframe thead th {\n",
       "        text-align: right;\n",
       "    }\n",
       "</style>\n",
       "<table border=\"1\" class=\"dataframe\">\n",
       "  <thead>\n",
       "    <tr style=\"text-align: right;\">\n",
       "      <th></th>\n",
       "      <th>year</th>\n",
       "      <th>month</th>\n",
       "      <th>day</th>\n",
       "      <th>hour</th>\n",
       "      <th>station</th>\n",
       "      <th>validations</th>\n",
       "      <th>date</th>\n",
       "      <th>day_week</th>\n",
       "    </tr>\n",
       "  </thead>\n",
       "  <tbody>\n",
       "    <tr>\n",
       "      <th>20</th>\n",
       "      <td>2020</td>\n",
       "      <td>1</td>\n",
       "      <td>1</td>\n",
       "      <td>0</td>\n",
       "      <td>Estádio do Dragão</td>\n",
       "      <td>129</td>\n",
       "      <td>2020-01-01 00:00:00</td>\n",
       "      <td>Wed</td>\n",
       "    </tr>\n",
       "    <tr>\n",
       "      <th>64</th>\n",
       "      <td>2020</td>\n",
       "      <td>1</td>\n",
       "      <td>1</td>\n",
       "      <td>1</td>\n",
       "      <td>Campanhã</td>\n",
       "      <td>112</td>\n",
       "      <td>2020-01-01 01:00:00</td>\n",
       "      <td>Wed</td>\n",
       "    </tr>\n",
       "    <tr>\n",
       "      <th>72</th>\n",
       "      <td>2020</td>\n",
       "      <td>1</td>\n",
       "      <td>1</td>\n",
       "      <td>1</td>\n",
       "      <td>Estádio do Dragão</td>\n",
       "      <td>138</td>\n",
       "      <td>2020-01-01 01:00:00</td>\n",
       "      <td>Wed</td>\n",
       "    </tr>\n",
       "    <tr>\n",
       "      <th>75</th>\n",
       "      <td>2020</td>\n",
       "      <td>1</td>\n",
       "      <td>1</td>\n",
       "      <td>1</td>\n",
       "      <td>H. São João</td>\n",
       "      <td>231</td>\n",
       "      <td>2020-01-01 01:00:00</td>\n",
       "      <td>Wed</td>\n",
       "    </tr>\n",
       "    <tr>\n",
       "      <th>100</th>\n",
       "      <td>2020</td>\n",
       "      <td>1</td>\n",
       "      <td>1</td>\n",
       "      <td>0</td>\n",
       "      <td>Campanhã</td>\n",
       "      <td>76</td>\n",
       "      <td>2020-01-01 00:00:00</td>\n",
       "      <td>Wed</td>\n",
       "    </tr>\n",
       "    <tr>\n",
       "      <th>...</th>\n",
       "      <td>...</td>\n",
       "      <td>...</td>\n",
       "      <td>...</td>\n",
       "      <td>...</td>\n",
       "      <td>...</td>\n",
       "      <td>...</td>\n",
       "      <td>...</td>\n",
       "      <td>...</td>\n",
       "    </tr>\n",
       "    <tr>\n",
       "      <th>81705</th>\n",
       "      <td>2020</td>\n",
       "      <td>12</td>\n",
       "      <td>31</td>\n",
       "      <td>23</td>\n",
       "      <td>Campanhã</td>\n",
       "      <td>5</td>\n",
       "      <td>2020-12-31 23:00:00</td>\n",
       "      <td>Thurs</td>\n",
       "    </tr>\n",
       "    <tr>\n",
       "      <th>81716</th>\n",
       "      <td>2020</td>\n",
       "      <td>12</td>\n",
       "      <td>31</td>\n",
       "      <td>23</td>\n",
       "      <td>H. São João</td>\n",
       "      <td>1</td>\n",
       "      <td>2020-12-31 23:00:00</td>\n",
       "      <td>Thurs</td>\n",
       "    </tr>\n",
       "    <tr>\n",
       "      <th>81730</th>\n",
       "      <td>2020</td>\n",
       "      <td>12</td>\n",
       "      <td>31</td>\n",
       "      <td>23</td>\n",
       "      <td>Santo Ovídio</td>\n",
       "      <td>1</td>\n",
       "      <td>2020-12-31 23:00:00</td>\n",
       "      <td>Thurs</td>\n",
       "    </tr>\n",
       "    <tr>\n",
       "      <th>81733</th>\n",
       "      <td>2020</td>\n",
       "      <td>12</td>\n",
       "      <td>31</td>\n",
       "      <td>23</td>\n",
       "      <td>Srª da Hora</td>\n",
       "      <td>3</td>\n",
       "      <td>2020-12-31 23:00:00</td>\n",
       "      <td>Thurs</td>\n",
       "    </tr>\n",
       "    <tr>\n",
       "      <th>81734</th>\n",
       "      <td>2020</td>\n",
       "      <td>12</td>\n",
       "      <td>31</td>\n",
       "      <td>23</td>\n",
       "      <td>Trindade</td>\n",
       "      <td>49</td>\n",
       "      <td>2020-12-31 23:00:00</td>\n",
       "      <td>Thurs</td>\n",
       "    </tr>\n",
       "  </tbody>\n",
       "</table>\n",
       "<p>39429 rows × 8 columns</p>\n",
       "</div>"
      ],
      "text/plain": [
       "       year  month  day  hour            station  validations  \\\n",
       "20     2020      1    1     0  Estádio do Dragão          129   \n",
       "64     2020      1    1     1           Campanhã          112   \n",
       "72     2020      1    1     1  Estádio do Dragão          138   \n",
       "75     2020      1    1     1        H. São João          231   \n",
       "100    2020      1    1     0           Campanhã           76   \n",
       "...     ...    ...  ...   ...                ...          ...   \n",
       "81705  2020     12   31    23           Campanhã            5   \n",
       "81716  2020     12   31    23        H. São João            1   \n",
       "81730  2020     12   31    23       Santo Ovídio            1   \n",
       "81733  2020     12   31    23        Srª da Hora            3   \n",
       "81734  2020     12   31    23           Trindade           49   \n",
       "\n",
       "                     date day_week  \n",
       "20    2020-01-01 00:00:00      Wed  \n",
       "64    2020-01-01 01:00:00      Wed  \n",
       "72    2020-01-01 01:00:00      Wed  \n",
       "75    2020-01-01 01:00:00      Wed  \n",
       "100   2020-01-01 00:00:00      Wed  \n",
       "...                   ...      ...  \n",
       "81705 2020-12-31 23:00:00    Thurs  \n",
       "81716 2020-12-31 23:00:00    Thurs  \n",
       "81730 2020-12-31 23:00:00    Thurs  \n",
       "81733 2020-12-31 23:00:00    Thurs  \n",
       "81734 2020-12-31 23:00:00    Thurs  \n",
       "\n",
       "[39429 rows x 8 columns]"
      ]
     },
     "execution_count": 35,
     "metadata": {},
     "output_type": "execute_result"
    }
   ],
   "source": [
    "subset_rail_2020"
   ]
  },
  {
   "cell_type": "code",
   "execution_count": 36,
   "id": "98e61fdb-9d25-4bfd-9b4e-5015df518938",
   "metadata": {},
   "outputs": [
    {
     "data": {
      "text/html": [
       "<div>\n",
       "<style scoped>\n",
       "    .dataframe tbody tr th:only-of-type {\n",
       "        vertical-align: middle;\n",
       "    }\n",
       "\n",
       "    .dataframe tbody tr th {\n",
       "        vertical-align: top;\n",
       "    }\n",
       "\n",
       "    .dataframe thead th {\n",
       "        text-align: right;\n",
       "    }\n",
       "</style>\n",
       "<table border=\"1\" class=\"dataframe\">\n",
       "  <thead>\n",
       "    <tr style=\"text-align: right;\">\n",
       "      <th>station</th>\n",
       "      <th>date</th>\n",
       "      <th>Campanhã</th>\n",
       "      <th>Estádio do Dragão</th>\n",
       "      <th>H. São João</th>\n",
       "      <th>Santo Ovídio</th>\n",
       "      <th>Srª da Hora</th>\n",
       "      <th>Trindade</th>\n",
       "    </tr>\n",
       "  </thead>\n",
       "  <tbody>\n",
       "    <tr>\n",
       "      <th>0</th>\n",
       "      <td>2020-01-01 00:00:00</td>\n",
       "      <td>76.0</td>\n",
       "      <td>129.0</td>\n",
       "      <td>174.0</td>\n",
       "      <td>203.0</td>\n",
       "      <td>226.0</td>\n",
       "      <td>4562.0</td>\n",
       "    </tr>\n",
       "    <tr>\n",
       "      <th>1</th>\n",
       "      <td>2020-01-01 01:00:00</td>\n",
       "      <td>112.0</td>\n",
       "      <td>138.0</td>\n",
       "      <td>231.0</td>\n",
       "      <td>284.0</td>\n",
       "      <td>282.0</td>\n",
       "      <td>4250.0</td>\n",
       "    </tr>\n",
       "    <tr>\n",
       "      <th>2</th>\n",
       "      <td>2020-01-01 02:00:00</td>\n",
       "      <td>45.0</td>\n",
       "      <td>53.0</td>\n",
       "      <td>180.0</td>\n",
       "      <td>91.0</td>\n",
       "      <td>132.0</td>\n",
       "      <td>2988.0</td>\n",
       "    </tr>\n",
       "    <tr>\n",
       "      <th>3</th>\n",
       "      <td>2020-01-01 03:00:00</td>\n",
       "      <td>29.0</td>\n",
       "      <td>21.0</td>\n",
       "      <td>48.0</td>\n",
       "      <td>31.0</td>\n",
       "      <td>66.0</td>\n",
       "      <td>2004.0</td>\n",
       "    </tr>\n",
       "    <tr>\n",
       "      <th>4</th>\n",
       "      <td>2020-01-01 04:00:00</td>\n",
       "      <td>29.0</td>\n",
       "      <td>6.0</td>\n",
       "      <td>16.0</td>\n",
       "      <td>12.0</td>\n",
       "      <td>58.0</td>\n",
       "      <td>2287.0</td>\n",
       "    </tr>\n",
       "  </tbody>\n",
       "</table>\n",
       "</div>"
      ],
      "text/plain": [
       "station                date  Campanhã  Estádio do Dragão  H. São João  \\\n",
       "0       2020-01-01 00:00:00      76.0              129.0        174.0   \n",
       "1       2020-01-01 01:00:00     112.0              138.0        231.0   \n",
       "2       2020-01-01 02:00:00      45.0               53.0        180.0   \n",
       "3       2020-01-01 03:00:00      29.0               21.0         48.0   \n",
       "4       2020-01-01 04:00:00      29.0                6.0         16.0   \n",
       "\n",
       "station  Santo Ovídio  Srª da Hora  Trindade  \n",
       "0               203.0        226.0    4562.0  \n",
       "1               284.0        282.0    4250.0  \n",
       "2                91.0        132.0    2988.0  \n",
       "3                31.0         66.0    2004.0  \n",
       "4                12.0         58.0    2287.0  "
      ]
     },
     "execution_count": 36,
     "metadata": {},
     "output_type": "execute_result"
    }
   ],
   "source": [
    "subset_rail_2020_expanded = subset_rail_2020.pivot_table(values='validations',\\\n",
    "                                      index=subset_rail_2020.date,\\\n",
    "                                      columns='station', aggfunc='first')\n",
    "subset_rail_2020_expanded.index.name = 'date'\n",
    "subset_rail_2020_expanded.reset_index(inplace=True)\n",
    "subset_rail_2020_expanded.head()"
   ]
  },
  {
   "cell_type": "code",
   "execution_count": 37,
   "id": "ad2da8ee-c93f-438a-af1f-bb25c4f5fbb3",
   "metadata": {},
   "outputs": [
    {
     "data": {
      "text/html": [
       "<div>\n",
       "<style scoped>\n",
       "    .dataframe tbody tr th:only-of-type {\n",
       "        vertical-align: middle;\n",
       "    }\n",
       "\n",
       "    .dataframe tbody tr th {\n",
       "        vertical-align: top;\n",
       "    }\n",
       "\n",
       "    .dataframe thead th {\n",
       "        text-align: right;\n",
       "    }\n",
       "</style>\n",
       "<table border=\"1\" class=\"dataframe\">\n",
       "  <thead>\n",
       "    <tr style=\"text-align: right;\">\n",
       "      <th>station</th>\n",
       "      <th>date</th>\n",
       "      <th>Campanhã</th>\n",
       "      <th>Estádio do Dragão</th>\n",
       "      <th>H. São João</th>\n",
       "      <th>Santo Ovídio</th>\n",
       "      <th>Srª da Hora</th>\n",
       "      <th>Trindade</th>\n",
       "    </tr>\n",
       "  </thead>\n",
       "  <tbody>\n",
       "    <tr>\n",
       "      <th>0</th>\n",
       "      <td>2020-01-01 00:00:00</td>\n",
       "      <td>76.0</td>\n",
       "      <td>129.0</td>\n",
       "      <td>174.0</td>\n",
       "      <td>203.0</td>\n",
       "      <td>226.0</td>\n",
       "      <td>4562.0</td>\n",
       "    </tr>\n",
       "    <tr>\n",
       "      <th>1</th>\n",
       "      <td>2020-01-01 01:00:00</td>\n",
       "      <td>112.0</td>\n",
       "      <td>138.0</td>\n",
       "      <td>231.0</td>\n",
       "      <td>284.0</td>\n",
       "      <td>282.0</td>\n",
       "      <td>4250.0</td>\n",
       "    </tr>\n",
       "    <tr>\n",
       "      <th>2</th>\n",
       "      <td>2020-01-01 02:00:00</td>\n",
       "      <td>45.0</td>\n",
       "      <td>53.0</td>\n",
       "      <td>180.0</td>\n",
       "      <td>91.0</td>\n",
       "      <td>132.0</td>\n",
       "      <td>2988.0</td>\n",
       "    </tr>\n",
       "    <tr>\n",
       "      <th>3</th>\n",
       "      <td>2020-01-01 03:00:00</td>\n",
       "      <td>29.0</td>\n",
       "      <td>21.0</td>\n",
       "      <td>48.0</td>\n",
       "      <td>31.0</td>\n",
       "      <td>66.0</td>\n",
       "      <td>2004.0</td>\n",
       "    </tr>\n",
       "    <tr>\n",
       "      <th>4</th>\n",
       "      <td>2020-01-01 04:00:00</td>\n",
       "      <td>29.0</td>\n",
       "      <td>6.0</td>\n",
       "      <td>16.0</td>\n",
       "      <td>12.0</td>\n",
       "      <td>58.0</td>\n",
       "      <td>2287.0</td>\n",
       "    </tr>\n",
       "    <tr>\n",
       "      <th>...</th>\n",
       "      <td>...</td>\n",
       "      <td>...</td>\n",
       "      <td>...</td>\n",
       "      <td>...</td>\n",
       "      <td>...</td>\n",
       "      <td>...</td>\n",
       "      <td>...</td>\n",
       "    </tr>\n",
       "    <tr>\n",
       "      <th>6908</th>\n",
       "      <td>2020-12-31 19:00:00</td>\n",
       "      <td>78.0</td>\n",
       "      <td>39.0</td>\n",
       "      <td>40.0</td>\n",
       "      <td>41.0</td>\n",
       "      <td>59.0</td>\n",
       "      <td>503.0</td>\n",
       "    </tr>\n",
       "    <tr>\n",
       "      <th>6909</th>\n",
       "      <td>2020-12-31 20:00:00</td>\n",
       "      <td>29.0</td>\n",
       "      <td>13.0</td>\n",
       "      <td>38.0</td>\n",
       "      <td>19.0</td>\n",
       "      <td>30.0</td>\n",
       "      <td>219.0</td>\n",
       "    </tr>\n",
       "    <tr>\n",
       "      <th>6910</th>\n",
       "      <td>2020-12-31 21:00:00</td>\n",
       "      <td>10.0</td>\n",
       "      <td>8.0</td>\n",
       "      <td>19.0</td>\n",
       "      <td>12.0</td>\n",
       "      <td>24.0</td>\n",
       "      <td>147.0</td>\n",
       "    </tr>\n",
       "    <tr>\n",
       "      <th>6911</th>\n",
       "      <td>2020-12-31 22:00:00</td>\n",
       "      <td>16.0</td>\n",
       "      <td>6.0</td>\n",
       "      <td>16.0</td>\n",
       "      <td>11.0</td>\n",
       "      <td>19.0</td>\n",
       "      <td>218.0</td>\n",
       "    </tr>\n",
       "    <tr>\n",
       "      <th>6912</th>\n",
       "      <td>2020-12-31 23:00:00</td>\n",
       "      <td>5.0</td>\n",
       "      <td>NaN</td>\n",
       "      <td>1.0</td>\n",
       "      <td>1.0</td>\n",
       "      <td>3.0</td>\n",
       "      <td>49.0</td>\n",
       "    </tr>\n",
       "  </tbody>\n",
       "</table>\n",
       "<p>6913 rows × 7 columns</p>\n",
       "</div>"
      ],
      "text/plain": [
       "station                date  Campanhã  Estádio do Dragão  H. São João  \\\n",
       "0       2020-01-01 00:00:00      76.0              129.0        174.0   \n",
       "1       2020-01-01 01:00:00     112.0              138.0        231.0   \n",
       "2       2020-01-01 02:00:00      45.0               53.0        180.0   \n",
       "3       2020-01-01 03:00:00      29.0               21.0         48.0   \n",
       "4       2020-01-01 04:00:00      29.0                6.0         16.0   \n",
       "...                     ...       ...                ...          ...   \n",
       "6908    2020-12-31 19:00:00      78.0               39.0         40.0   \n",
       "6909    2020-12-31 20:00:00      29.0               13.0         38.0   \n",
       "6910    2020-12-31 21:00:00      10.0                8.0         19.0   \n",
       "6911    2020-12-31 22:00:00      16.0                6.0         16.0   \n",
       "6912    2020-12-31 23:00:00       5.0                NaN          1.0   \n",
       "\n",
       "station  Santo Ovídio  Srª da Hora  Trindade  \n",
       "0               203.0        226.0    4562.0  \n",
       "1               284.0        282.0    4250.0  \n",
       "2                91.0        132.0    2988.0  \n",
       "3                31.0         66.0    2004.0  \n",
       "4                12.0         58.0    2287.0  \n",
       "...               ...          ...       ...  \n",
       "6908             41.0         59.0     503.0  \n",
       "6909             19.0         30.0     219.0  \n",
       "6910             12.0         24.0     147.0  \n",
       "6911             11.0         19.0     218.0  \n",
       "6912              1.0          3.0      49.0  \n",
       "\n",
       "[6913 rows x 7 columns]"
      ]
     },
     "execution_count": 37,
     "metadata": {},
     "output_type": "execute_result"
    }
   ],
   "source": [
    "subset_rail_2020_expanded"
   ]
  },
  {
   "cell_type": "code",
   "execution_count": 38,
   "id": "5c563c67-f27c-4ba3-9cd1-c8b6c1ac32ae",
   "metadata": {},
   "outputs": [
    {
     "data": {
      "text/plain": [
       "station\n",
       "date                   0\n",
       "Campanhã             410\n",
       "Estádio do Dragão    347\n",
       "H. São João          372\n",
       "Santo Ovídio         415\n",
       "Srª da Hora          321\n",
       "Trindade             202\n",
       "dtype: int64"
      ]
     },
     "execution_count": 38,
     "metadata": {},
     "output_type": "execute_result"
    }
   ],
   "source": [
    "subset_rail_2020_expanded.isnull().sum()"
   ]
  },
  {
   "cell_type": "markdown",
   "id": "4885e2b2-0d79-4cbb-888f-ee9ae946ff8d",
   "metadata": {},
   "source": [
    "There are some missing values. Let's replace some with a moving mean."
   ]
  },
  {
   "cell_type": "code",
   "execution_count": 39,
   "id": "51ab4184-a951-48ce-b3b1-448098b8dd68",
   "metadata": {},
   "outputs": [],
   "source": [
    "subset_rail_2020_expanded_filled = subset_rail_2020_expanded.fillna(subset_rail_2020_expanded.rolling(10, 1).mean())"
   ]
  },
  {
   "cell_type": "code",
   "execution_count": 40,
   "id": "3de298c7-bc95-451f-8fbf-d675796f6f71",
   "metadata": {},
   "outputs": [
    {
     "data": {
      "text/html": [
       "<div>\n",
       "<style scoped>\n",
       "    .dataframe tbody tr th:only-of-type {\n",
       "        vertical-align: middle;\n",
       "    }\n",
       "\n",
       "    .dataframe tbody tr th {\n",
       "        vertical-align: top;\n",
       "    }\n",
       "\n",
       "    .dataframe thead th {\n",
       "        text-align: right;\n",
       "    }\n",
       "</style>\n",
       "<table border=\"1\" class=\"dataframe\">\n",
       "  <thead>\n",
       "    <tr style=\"text-align: right;\">\n",
       "      <th>station</th>\n",
       "      <th>date</th>\n",
       "      <th>Campanhã</th>\n",
       "      <th>Estádio do Dragão</th>\n",
       "      <th>H. São João</th>\n",
       "      <th>Santo Ovídio</th>\n",
       "      <th>Srª da Hora</th>\n",
       "      <th>Trindade</th>\n",
       "    </tr>\n",
       "  </thead>\n",
       "  <tbody>\n",
       "    <tr>\n",
       "      <th>0</th>\n",
       "      <td>2020-01-01 00:00:00</td>\n",
       "      <td>76.0</td>\n",
       "      <td>129.000000</td>\n",
       "      <td>174.0</td>\n",
       "      <td>203.0</td>\n",
       "      <td>226.0</td>\n",
       "      <td>4562.0</td>\n",
       "    </tr>\n",
       "    <tr>\n",
       "      <th>1</th>\n",
       "      <td>2020-01-01 01:00:00</td>\n",
       "      <td>112.0</td>\n",
       "      <td>138.000000</td>\n",
       "      <td>231.0</td>\n",
       "      <td>284.0</td>\n",
       "      <td>282.0</td>\n",
       "      <td>4250.0</td>\n",
       "    </tr>\n",
       "    <tr>\n",
       "      <th>2</th>\n",
       "      <td>2020-01-01 02:00:00</td>\n",
       "      <td>45.0</td>\n",
       "      <td>53.000000</td>\n",
       "      <td>180.0</td>\n",
       "      <td>91.0</td>\n",
       "      <td>132.0</td>\n",
       "      <td>2988.0</td>\n",
       "    </tr>\n",
       "    <tr>\n",
       "      <th>3</th>\n",
       "      <td>2020-01-01 03:00:00</td>\n",
       "      <td>29.0</td>\n",
       "      <td>21.000000</td>\n",
       "      <td>48.0</td>\n",
       "      <td>31.0</td>\n",
       "      <td>66.0</td>\n",
       "      <td>2004.0</td>\n",
       "    </tr>\n",
       "    <tr>\n",
       "      <th>4</th>\n",
       "      <td>2020-01-01 04:00:00</td>\n",
       "      <td>29.0</td>\n",
       "      <td>6.000000</td>\n",
       "      <td>16.0</td>\n",
       "      <td>12.0</td>\n",
       "      <td>58.0</td>\n",
       "      <td>2287.0</td>\n",
       "    </tr>\n",
       "    <tr>\n",
       "      <th>...</th>\n",
       "      <td>...</td>\n",
       "      <td>...</td>\n",
       "      <td>...</td>\n",
       "      <td>...</td>\n",
       "      <td>...</td>\n",
       "      <td>...</td>\n",
       "      <td>...</td>\n",
       "    </tr>\n",
       "    <tr>\n",
       "      <th>6908</th>\n",
       "      <td>2020-12-31 19:00:00</td>\n",
       "      <td>78.0</td>\n",
       "      <td>39.000000</td>\n",
       "      <td>40.0</td>\n",
       "      <td>41.0</td>\n",
       "      <td>59.0</td>\n",
       "      <td>503.0</td>\n",
       "    </tr>\n",
       "    <tr>\n",
       "      <th>6909</th>\n",
       "      <td>2020-12-31 20:00:00</td>\n",
       "      <td>29.0</td>\n",
       "      <td>13.000000</td>\n",
       "      <td>38.0</td>\n",
       "      <td>19.0</td>\n",
       "      <td>30.0</td>\n",
       "      <td>219.0</td>\n",
       "    </tr>\n",
       "    <tr>\n",
       "      <th>6910</th>\n",
       "      <td>2020-12-31 21:00:00</td>\n",
       "      <td>10.0</td>\n",
       "      <td>8.000000</td>\n",
       "      <td>19.0</td>\n",
       "      <td>12.0</td>\n",
       "      <td>24.0</td>\n",
       "      <td>147.0</td>\n",
       "    </tr>\n",
       "    <tr>\n",
       "      <th>6911</th>\n",
       "      <td>2020-12-31 22:00:00</td>\n",
       "      <td>16.0</td>\n",
       "      <td>6.000000</td>\n",
       "      <td>16.0</td>\n",
       "      <td>11.0</td>\n",
       "      <td>19.0</td>\n",
       "      <td>218.0</td>\n",
       "    </tr>\n",
       "    <tr>\n",
       "      <th>6912</th>\n",
       "      <td>2020-12-31 23:00:00</td>\n",
       "      <td>5.0</td>\n",
       "      <td>62.777778</td>\n",
       "      <td>1.0</td>\n",
       "      <td>1.0</td>\n",
       "      <td>3.0</td>\n",
       "      <td>49.0</td>\n",
       "    </tr>\n",
       "  </tbody>\n",
       "</table>\n",
       "<p>6913 rows × 7 columns</p>\n",
       "</div>"
      ],
      "text/plain": [
       "station                date  Campanhã  Estádio do Dragão  H. São João  \\\n",
       "0       2020-01-01 00:00:00      76.0         129.000000        174.0   \n",
       "1       2020-01-01 01:00:00     112.0         138.000000        231.0   \n",
       "2       2020-01-01 02:00:00      45.0          53.000000        180.0   \n",
       "3       2020-01-01 03:00:00      29.0          21.000000         48.0   \n",
       "4       2020-01-01 04:00:00      29.0           6.000000         16.0   \n",
       "...                     ...       ...                ...          ...   \n",
       "6908    2020-12-31 19:00:00      78.0          39.000000         40.0   \n",
       "6909    2020-12-31 20:00:00      29.0          13.000000         38.0   \n",
       "6910    2020-12-31 21:00:00      10.0           8.000000         19.0   \n",
       "6911    2020-12-31 22:00:00      16.0           6.000000         16.0   \n",
       "6912    2020-12-31 23:00:00       5.0          62.777778          1.0   \n",
       "\n",
       "station  Santo Ovídio  Srª da Hora  Trindade  \n",
       "0               203.0        226.0    4562.0  \n",
       "1               284.0        282.0    4250.0  \n",
       "2                91.0        132.0    2988.0  \n",
       "3                31.0         66.0    2004.0  \n",
       "4                12.0         58.0    2287.0  \n",
       "...               ...          ...       ...  \n",
       "6908             41.0         59.0     503.0  \n",
       "6909             19.0         30.0     219.0  \n",
       "6910             12.0         24.0     147.0  \n",
       "6911             11.0         19.0     218.0  \n",
       "6912              1.0          3.0      49.0  \n",
       "\n",
       "[6913 rows x 7 columns]"
      ]
     },
     "execution_count": 40,
     "metadata": {},
     "output_type": "execute_result"
    }
   ],
   "source": [
    "subset_rail_2020_expanded_filled"
   ]
  },
  {
   "cell_type": "code",
   "execution_count": 41,
   "id": "24797348-f3ab-4356-8333-b01d7b889894",
   "metadata": {},
   "outputs": [
    {
     "data": {
      "text/plain": [
       "station\n",
       "date                   0\n",
       "Campanhã             123\n",
       "Estádio do Dragão      0\n",
       "H. São João          122\n",
       "Santo Ovídio         122\n",
       "Srª da Hora          122\n",
       "Trindade             102\n",
       "dtype: int64"
      ]
     },
     "execution_count": 41,
     "metadata": {},
     "output_type": "execute_result"
    }
   ],
   "source": [
    "subset_rail_2020_expanded_filled.isnull().sum()"
   ]
  },
  {
   "cell_type": "markdown",
   "id": "e8afa3e5-3482-411d-9247-ba95ce61b195",
   "metadata": {},
   "source": [
    "There are still some missing values. Perhaps there's a certain time peried where not a lot of measure were done."
   ]
  },
  {
   "cell_type": "code",
   "execution_count": 42,
   "id": "3ea74597-0ae8-479a-82bb-64ea0b064109",
   "metadata": {},
   "outputs": [
    {
     "data": {
      "text/html": [
       "<div>\n",
       "<style scoped>\n",
       "    .dataframe tbody tr th:only-of-type {\n",
       "        vertical-align: middle;\n",
       "    }\n",
       "\n",
       "    .dataframe tbody tr th {\n",
       "        vertical-align: top;\n",
       "    }\n",
       "\n",
       "    .dataframe thead th {\n",
       "        text-align: right;\n",
       "    }\n",
       "</style>\n",
       "<table border=\"1\" class=\"dataframe\">\n",
       "  <thead>\n",
       "    <tr style=\"text-align: right;\">\n",
       "      <th>station</th>\n",
       "      <th>date</th>\n",
       "      <th>Campanhã</th>\n",
       "      <th>Estádio do Dragão</th>\n",
       "      <th>H. São João</th>\n",
       "      <th>Santo Ovídio</th>\n",
       "      <th>Srª da Hora</th>\n",
       "      <th>Trindade</th>\n",
       "    </tr>\n",
       "  </thead>\n",
       "  <tbody>\n",
       "    <tr>\n",
       "      <th>1611</th>\n",
       "      <td>2020-04-05 16:00:00</td>\n",
       "      <td>NaN</td>\n",
       "      <td>1.000000</td>\n",
       "      <td>NaN</td>\n",
       "      <td>NaN</td>\n",
       "      <td>NaN</td>\n",
       "      <td>NaN</td>\n",
       "    </tr>\n",
       "    <tr>\n",
       "      <th>1612</th>\n",
       "      <td>2020-04-06 07:00:00</td>\n",
       "      <td>NaN</td>\n",
       "      <td>1.000000</td>\n",
       "      <td>NaN</td>\n",
       "      <td>NaN</td>\n",
       "      <td>NaN</td>\n",
       "      <td>NaN</td>\n",
       "    </tr>\n",
       "    <tr>\n",
       "      <th>1613</th>\n",
       "      <td>2020-04-06 11:00:00</td>\n",
       "      <td>NaN</td>\n",
       "      <td>2.000000</td>\n",
       "      <td>NaN</td>\n",
       "      <td>NaN</td>\n",
       "      <td>NaN</td>\n",
       "      <td>NaN</td>\n",
       "    </tr>\n",
       "    <tr>\n",
       "      <th>1614</th>\n",
       "      <td>2020-04-06 14:00:00</td>\n",
       "      <td>NaN</td>\n",
       "      <td>2.000000</td>\n",
       "      <td>NaN</td>\n",
       "      <td>NaN</td>\n",
       "      <td>NaN</td>\n",
       "      <td>NaN</td>\n",
       "    </tr>\n",
       "    <tr>\n",
       "      <th>1615</th>\n",
       "      <td>2020-04-06 15:00:00</td>\n",
       "      <td>NaN</td>\n",
       "      <td>1.000000</td>\n",
       "      <td>NaN</td>\n",
       "      <td>NaN</td>\n",
       "      <td>NaN</td>\n",
       "      <td>NaN</td>\n",
       "    </tr>\n",
       "    <tr>\n",
       "      <th>...</th>\n",
       "      <td>...</td>\n",
       "      <td>...</td>\n",
       "      <td>...</td>\n",
       "      <td>...</td>\n",
       "      <td>...</td>\n",
       "      <td>...</td>\n",
       "      <td>...</td>\n",
       "    </tr>\n",
       "    <tr>\n",
       "      <th>1729</th>\n",
       "      <td>2020-04-30 17:00:00</td>\n",
       "      <td>NaN</td>\n",
       "      <td>1.000000</td>\n",
       "      <td>NaN</td>\n",
       "      <td>NaN</td>\n",
       "      <td>NaN</td>\n",
       "      <td>NaN</td>\n",
       "    </tr>\n",
       "    <tr>\n",
       "      <th>1730</th>\n",
       "      <td>2020-04-30 18:00:00</td>\n",
       "      <td>NaN</td>\n",
       "      <td>1.000000</td>\n",
       "      <td>NaN</td>\n",
       "      <td>NaN</td>\n",
       "      <td>NaN</td>\n",
       "      <td>NaN</td>\n",
       "    </tr>\n",
       "    <tr>\n",
       "      <th>1731</th>\n",
       "      <td>2020-04-30 19:00:00</td>\n",
       "      <td>NaN</td>\n",
       "      <td>1.000000</td>\n",
       "      <td>NaN</td>\n",
       "      <td>NaN</td>\n",
       "      <td>NaN</td>\n",
       "      <td>NaN</td>\n",
       "    </tr>\n",
       "    <tr>\n",
       "      <th>1732</th>\n",
       "      <td>2020-04-30 20:00:00</td>\n",
       "      <td>NaN</td>\n",
       "      <td>1.000000</td>\n",
       "      <td>NaN</td>\n",
       "      <td>NaN</td>\n",
       "      <td>NaN</td>\n",
       "      <td>NaN</td>\n",
       "    </tr>\n",
       "    <tr>\n",
       "      <th>1733</th>\n",
       "      <td>2020-05-01 00:00:00</td>\n",
       "      <td>NaN</td>\n",
       "      <td>1.222222</td>\n",
       "      <td>1.0</td>\n",
       "      <td>1.0</td>\n",
       "      <td>1.0</td>\n",
       "      <td>2.0</td>\n",
       "    </tr>\n",
       "  </tbody>\n",
       "</table>\n",
       "<p>123 rows × 7 columns</p>\n",
       "</div>"
      ],
      "text/plain": [
       "station                date  Campanhã  Estádio do Dragão  H. São João  \\\n",
       "1611    2020-04-05 16:00:00       NaN           1.000000          NaN   \n",
       "1612    2020-04-06 07:00:00       NaN           1.000000          NaN   \n",
       "1613    2020-04-06 11:00:00       NaN           2.000000          NaN   \n",
       "1614    2020-04-06 14:00:00       NaN           2.000000          NaN   \n",
       "1615    2020-04-06 15:00:00       NaN           1.000000          NaN   \n",
       "...                     ...       ...                ...          ...   \n",
       "1729    2020-04-30 17:00:00       NaN           1.000000          NaN   \n",
       "1730    2020-04-30 18:00:00       NaN           1.000000          NaN   \n",
       "1731    2020-04-30 19:00:00       NaN           1.000000          NaN   \n",
       "1732    2020-04-30 20:00:00       NaN           1.000000          NaN   \n",
       "1733    2020-05-01 00:00:00       NaN           1.222222          1.0   \n",
       "\n",
       "station  Santo Ovídio  Srª da Hora  Trindade  \n",
       "1611              NaN          NaN       NaN  \n",
       "1612              NaN          NaN       NaN  \n",
       "1613              NaN          NaN       NaN  \n",
       "1614              NaN          NaN       NaN  \n",
       "1615              NaN          NaN       NaN  \n",
       "...               ...          ...       ...  \n",
       "1729              NaN          NaN       NaN  \n",
       "1730              NaN          NaN       NaN  \n",
       "1731              NaN          NaN       NaN  \n",
       "1732              NaN          NaN       NaN  \n",
       "1733              1.0          1.0       2.0  \n",
       "\n",
       "[123 rows x 7 columns]"
      ]
     },
     "execution_count": 42,
     "metadata": {},
     "output_type": "execute_result"
    }
   ],
   "source": [
    "subset_rail_2020_expanded_filled[subset_rail_2020_expanded_filled['Campanhã'].isnull()]"
   ]
  },
  {
   "cell_type": "markdown",
   "id": "db48308d-9045-4020-a173-1e74521372f5",
   "metadata": {},
   "source": [
    "That does seem to be the case... In the month of April a lot of these stations had no entries. Considering that it was such an atypical month, we considered that it would be ok to remove it."
   ]
  },
  {
   "cell_type": "code",
   "execution_count": 43,
   "id": "e50df313-d898-4aa4-ae6e-a69ef68d3633",
   "metadata": {},
   "outputs": [],
   "source": [
    "subset_rail_2020_expanded_filled = subset_rail_2020_expanded_filled.dropna(axis=0)"
   ]
  },
  {
   "cell_type": "code",
   "execution_count": 44,
   "id": "07c4b711-f2a5-4210-abdf-df27668a71ca",
   "metadata": {},
   "outputs": [
    {
     "data": {
      "text/plain": [
       "station\n",
       "date                 0\n",
       "Campanhã             0\n",
       "Estádio do Dragão    0\n",
       "H. São João          0\n",
       "Santo Ovídio         0\n",
       "Srª da Hora          0\n",
       "Trindade             0\n",
       "dtype: int64"
      ]
     },
     "execution_count": 44,
     "metadata": {},
     "output_type": "execute_result"
    }
   ],
   "source": [
    "subset_rail_2020_expanded_filled.isnull().sum()"
   ]
  },
  {
   "cell_type": "markdown",
   "id": "5ad53fdf-98a4-4d0a-983e-400ed57346ab",
   "metadata": {},
   "source": [
    "Alright, it seems that we are good to go! Let's add a \"covid\" column, containing a 1 if the pandemic had already started, and a 0 if it hadn't."
   ]
  },
  {
   "cell_type": "code",
   "execution_count": 45,
   "id": "8fa241c6-e9a9-493a-869a-fc238f844880",
   "metadata": {},
   "outputs": [
    {
     "data": {
      "text/plain": [
       "5229"
      ]
     },
     "execution_count": 45,
     "metadata": {},
     "output_type": "execute_result"
    }
   ],
   "source": [
    "len(subset_rail_2020_expanded_filled[subset_rail_2020_expanded_filled.date > '2020-03-14 00:00:00'])"
   ]
  },
  {
   "cell_type": "code",
   "execution_count": 46,
   "id": "87d6f67c-13a8-41db-88a6-fbd0e65ceae4",
   "metadata": {},
   "outputs": [
    {
     "data": {
      "text/plain": [
       "6790"
      ]
     },
     "execution_count": 46,
     "metadata": {},
     "output_type": "execute_result"
    }
   ],
   "source": [
    "len(subset_rail_2020_expanded_filled)"
   ]
  },
  {
   "cell_type": "code",
   "execution_count": 47,
   "id": "356d5a77-bfa8-44ff-8ae9-8a10bd5b730b",
   "metadata": {},
   "outputs": [],
   "source": [
    "covid_arr = np.zeros(6790)"
   ]
  },
  {
   "cell_type": "code",
   "execution_count": 48,
   "id": "e030de71-a07b-40af-9bab-7c055dfc1f25",
   "metadata": {},
   "outputs": [],
   "source": [
    "covid_arr[6790-5229::]=1 # After the 14th of May, we're in 'covid' mode"
   ]
  },
  {
   "cell_type": "code",
   "execution_count": 49,
   "id": "da3b385c-f94b-42cb-9e74-c538e4fe1671",
   "metadata": {},
   "outputs": [],
   "source": [
    "final_rail_df = subset_rail_2020_expanded_filled.copy()\n",
    "final_rail_df['covid'] = covid_arr"
   ]
  },
  {
   "cell_type": "code",
   "execution_count": 50,
   "id": "486195ec-f76d-45be-803d-9dbf27baf5d6",
   "metadata": {},
   "outputs": [
    {
     "data": {
      "text/html": [
       "<div>\n",
       "<style scoped>\n",
       "    .dataframe tbody tr th:only-of-type {\n",
       "        vertical-align: middle;\n",
       "    }\n",
       "\n",
       "    .dataframe tbody tr th {\n",
       "        vertical-align: top;\n",
       "    }\n",
       "\n",
       "    .dataframe thead th {\n",
       "        text-align: right;\n",
       "    }\n",
       "</style>\n",
       "<table border=\"1\" class=\"dataframe\">\n",
       "  <thead>\n",
       "    <tr style=\"text-align: right;\">\n",
       "      <th>station</th>\n",
       "      <th>date</th>\n",
       "      <th>Campanhã</th>\n",
       "      <th>Estádio do Dragão</th>\n",
       "      <th>H. São João</th>\n",
       "      <th>Santo Ovídio</th>\n",
       "      <th>Srª da Hora</th>\n",
       "      <th>Trindade</th>\n",
       "      <th>covid</th>\n",
       "    </tr>\n",
       "  </thead>\n",
       "  <tbody>\n",
       "    <tr>\n",
       "      <th>0</th>\n",
       "      <td>2020-01-01 00:00:00</td>\n",
       "      <td>76.0</td>\n",
       "      <td>129.000000</td>\n",
       "      <td>174.0</td>\n",
       "      <td>203.0</td>\n",
       "      <td>226.0</td>\n",
       "      <td>4562.0</td>\n",
       "      <td>0.0</td>\n",
       "    </tr>\n",
       "    <tr>\n",
       "      <th>1</th>\n",
       "      <td>2020-01-01 01:00:00</td>\n",
       "      <td>112.0</td>\n",
       "      <td>138.000000</td>\n",
       "      <td>231.0</td>\n",
       "      <td>284.0</td>\n",
       "      <td>282.0</td>\n",
       "      <td>4250.0</td>\n",
       "      <td>0.0</td>\n",
       "    </tr>\n",
       "    <tr>\n",
       "      <th>2</th>\n",
       "      <td>2020-01-01 02:00:00</td>\n",
       "      <td>45.0</td>\n",
       "      <td>53.000000</td>\n",
       "      <td>180.0</td>\n",
       "      <td>91.0</td>\n",
       "      <td>132.0</td>\n",
       "      <td>2988.0</td>\n",
       "      <td>0.0</td>\n",
       "    </tr>\n",
       "    <tr>\n",
       "      <th>3</th>\n",
       "      <td>2020-01-01 03:00:00</td>\n",
       "      <td>29.0</td>\n",
       "      <td>21.000000</td>\n",
       "      <td>48.0</td>\n",
       "      <td>31.0</td>\n",
       "      <td>66.0</td>\n",
       "      <td>2004.0</td>\n",
       "      <td>0.0</td>\n",
       "    </tr>\n",
       "    <tr>\n",
       "      <th>4</th>\n",
       "      <td>2020-01-01 04:00:00</td>\n",
       "      <td>29.0</td>\n",
       "      <td>6.000000</td>\n",
       "      <td>16.0</td>\n",
       "      <td>12.0</td>\n",
       "      <td>58.0</td>\n",
       "      <td>2287.0</td>\n",
       "      <td>0.0</td>\n",
       "    </tr>\n",
       "    <tr>\n",
       "      <th>...</th>\n",
       "      <td>...</td>\n",
       "      <td>...</td>\n",
       "      <td>...</td>\n",
       "      <td>...</td>\n",
       "      <td>...</td>\n",
       "      <td>...</td>\n",
       "      <td>...</td>\n",
       "      <td>...</td>\n",
       "    </tr>\n",
       "    <tr>\n",
       "      <th>6908</th>\n",
       "      <td>2020-12-31 19:00:00</td>\n",
       "      <td>78.0</td>\n",
       "      <td>39.000000</td>\n",
       "      <td>40.0</td>\n",
       "      <td>41.0</td>\n",
       "      <td>59.0</td>\n",
       "      <td>503.0</td>\n",
       "      <td>1.0</td>\n",
       "    </tr>\n",
       "    <tr>\n",
       "      <th>6909</th>\n",
       "      <td>2020-12-31 20:00:00</td>\n",
       "      <td>29.0</td>\n",
       "      <td>13.000000</td>\n",
       "      <td>38.0</td>\n",
       "      <td>19.0</td>\n",
       "      <td>30.0</td>\n",
       "      <td>219.0</td>\n",
       "      <td>1.0</td>\n",
       "    </tr>\n",
       "    <tr>\n",
       "      <th>6910</th>\n",
       "      <td>2020-12-31 21:00:00</td>\n",
       "      <td>10.0</td>\n",
       "      <td>8.000000</td>\n",
       "      <td>19.0</td>\n",
       "      <td>12.0</td>\n",
       "      <td>24.0</td>\n",
       "      <td>147.0</td>\n",
       "      <td>1.0</td>\n",
       "    </tr>\n",
       "    <tr>\n",
       "      <th>6911</th>\n",
       "      <td>2020-12-31 22:00:00</td>\n",
       "      <td>16.0</td>\n",
       "      <td>6.000000</td>\n",
       "      <td>16.0</td>\n",
       "      <td>11.0</td>\n",
       "      <td>19.0</td>\n",
       "      <td>218.0</td>\n",
       "      <td>1.0</td>\n",
       "    </tr>\n",
       "    <tr>\n",
       "      <th>6912</th>\n",
       "      <td>2020-12-31 23:00:00</td>\n",
       "      <td>5.0</td>\n",
       "      <td>62.777778</td>\n",
       "      <td>1.0</td>\n",
       "      <td>1.0</td>\n",
       "      <td>3.0</td>\n",
       "      <td>49.0</td>\n",
       "      <td>1.0</td>\n",
       "    </tr>\n",
       "  </tbody>\n",
       "</table>\n",
       "<p>6790 rows × 8 columns</p>\n",
       "</div>"
      ],
      "text/plain": [
       "station                date  Campanhã  Estádio do Dragão  H. São João  \\\n",
       "0       2020-01-01 00:00:00      76.0         129.000000        174.0   \n",
       "1       2020-01-01 01:00:00     112.0         138.000000        231.0   \n",
       "2       2020-01-01 02:00:00      45.0          53.000000        180.0   \n",
       "3       2020-01-01 03:00:00      29.0          21.000000         48.0   \n",
       "4       2020-01-01 04:00:00      29.0           6.000000         16.0   \n",
       "...                     ...       ...                ...          ...   \n",
       "6908    2020-12-31 19:00:00      78.0          39.000000         40.0   \n",
       "6909    2020-12-31 20:00:00      29.0          13.000000         38.0   \n",
       "6910    2020-12-31 21:00:00      10.0           8.000000         19.0   \n",
       "6911    2020-12-31 22:00:00      16.0           6.000000         16.0   \n",
       "6912    2020-12-31 23:00:00       5.0          62.777778          1.0   \n",
       "\n",
       "station  Santo Ovídio  Srª da Hora  Trindade  covid  \n",
       "0               203.0        226.0    4562.0    0.0  \n",
       "1               284.0        282.0    4250.0    0.0  \n",
       "2                91.0        132.0    2988.0    0.0  \n",
       "3                31.0         66.0    2004.0    0.0  \n",
       "4                12.0         58.0    2287.0    0.0  \n",
       "...               ...          ...       ...    ...  \n",
       "6908             41.0         59.0     503.0    1.0  \n",
       "6909             19.0         30.0     219.0    1.0  \n",
       "6910             12.0         24.0     147.0    1.0  \n",
       "6911             11.0         19.0     218.0    1.0  \n",
       "6912              1.0          3.0      49.0    1.0  \n",
       "\n",
       "[6790 rows x 8 columns]"
      ]
     },
     "execution_count": 50,
     "metadata": {},
     "output_type": "execute_result"
    }
   ],
   "source": [
    "final_rail_df"
   ]
  },
  {
   "cell_type": "code",
   "execution_count": 51,
   "id": "157de30b-25e3-4c1c-ad8a-aefef4486b50",
   "metadata": {},
   "outputs": [
    {
     "data": {
      "text/html": [
       "<div>\n",
       "<style scoped>\n",
       "    .dataframe tbody tr th:only-of-type {\n",
       "        vertical-align: middle;\n",
       "    }\n",
       "\n",
       "    .dataframe tbody tr th {\n",
       "        vertical-align: top;\n",
       "    }\n",
       "\n",
       "    .dataframe thead th {\n",
       "        text-align: right;\n",
       "    }\n",
       "</style>\n",
       "<table border=\"1\" class=\"dataframe\">\n",
       "  <thead>\n",
       "    <tr style=\"text-align: right;\">\n",
       "      <th>station</th>\n",
       "      <th>date</th>\n",
       "      <th>Campanhã</th>\n",
       "      <th>Estádio do Dragão</th>\n",
       "      <th>H. São João</th>\n",
       "      <th>Santo Ovídio</th>\n",
       "      <th>Srª da Hora</th>\n",
       "      <th>Trindade</th>\n",
       "      <th>covid</th>\n",
       "    </tr>\n",
       "  </thead>\n",
       "  <tbody>\n",
       "    <tr>\n",
       "      <th>1540</th>\n",
       "      <td>2020-03-13 01:00:00</td>\n",
       "      <td>271.333333</td>\n",
       "      <td>112.888889</td>\n",
       "      <td>127.555556</td>\n",
       "      <td>133.333333</td>\n",
       "      <td>2.0</td>\n",
       "      <td>10.0</td>\n",
       "      <td>0.0</td>\n",
       "    </tr>\n",
       "    <tr>\n",
       "      <th>1541</th>\n",
       "      <td>2020-03-13 05:00:00</td>\n",
       "      <td>44.000000</td>\n",
       "      <td>19.000000</td>\n",
       "      <td>12.000000</td>\n",
       "      <td>25.000000</td>\n",
       "      <td>15.0</td>\n",
       "      <td>30.0</td>\n",
       "      <td>0.0</td>\n",
       "    </tr>\n",
       "    <tr>\n",
       "      <th>1542</th>\n",
       "      <td>2020-03-13 06:00:00</td>\n",
       "      <td>313.000000</td>\n",
       "      <td>120.000000</td>\n",
       "      <td>65.000000</td>\n",
       "      <td>276.000000</td>\n",
       "      <td>135.0</td>\n",
       "      <td>619.0</td>\n",
       "      <td>0.0</td>\n",
       "    </tr>\n",
       "    <tr>\n",
       "      <th>1543</th>\n",
       "      <td>2020-03-13 07:00:00</td>\n",
       "      <td>1139.000000</td>\n",
       "      <td>307.000000</td>\n",
       "      <td>288.000000</td>\n",
       "      <td>984.000000</td>\n",
       "      <td>502.0</td>\n",
       "      <td>1798.0</td>\n",
       "      <td>0.0</td>\n",
       "    </tr>\n",
       "    <tr>\n",
       "      <th>1544</th>\n",
       "      <td>2020-03-13 08:00:00</td>\n",
       "      <td>1581.000000</td>\n",
       "      <td>398.000000</td>\n",
       "      <td>359.000000</td>\n",
       "      <td>920.000000</td>\n",
       "      <td>771.0</td>\n",
       "      <td>2446.0</td>\n",
       "      <td>0.0</td>\n",
       "    </tr>\n",
       "    <tr>\n",
       "      <th>...</th>\n",
       "      <td>...</td>\n",
       "      <td>...</td>\n",
       "      <td>...</td>\n",
       "      <td>...</td>\n",
       "      <td>...</td>\n",
       "      <td>...</td>\n",
       "      <td>...</td>\n",
       "      <td>...</td>\n",
       "    </tr>\n",
       "    <tr>\n",
       "      <th>6908</th>\n",
       "      <td>2020-12-31 19:00:00</td>\n",
       "      <td>78.000000</td>\n",
       "      <td>39.000000</td>\n",
       "      <td>40.000000</td>\n",
       "      <td>41.000000</td>\n",
       "      <td>59.0</td>\n",
       "      <td>503.0</td>\n",
       "      <td>1.0</td>\n",
       "    </tr>\n",
       "    <tr>\n",
       "      <th>6909</th>\n",
       "      <td>2020-12-31 20:00:00</td>\n",
       "      <td>29.000000</td>\n",
       "      <td>13.000000</td>\n",
       "      <td>38.000000</td>\n",
       "      <td>19.000000</td>\n",
       "      <td>30.0</td>\n",
       "      <td>219.0</td>\n",
       "      <td>1.0</td>\n",
       "    </tr>\n",
       "    <tr>\n",
       "      <th>6910</th>\n",
       "      <td>2020-12-31 21:00:00</td>\n",
       "      <td>10.000000</td>\n",
       "      <td>8.000000</td>\n",
       "      <td>19.000000</td>\n",
       "      <td>12.000000</td>\n",
       "      <td>24.0</td>\n",
       "      <td>147.0</td>\n",
       "      <td>1.0</td>\n",
       "    </tr>\n",
       "    <tr>\n",
       "      <th>6911</th>\n",
       "      <td>2020-12-31 22:00:00</td>\n",
       "      <td>16.000000</td>\n",
       "      <td>6.000000</td>\n",
       "      <td>16.000000</td>\n",
       "      <td>11.000000</td>\n",
       "      <td>19.0</td>\n",
       "      <td>218.0</td>\n",
       "      <td>1.0</td>\n",
       "    </tr>\n",
       "    <tr>\n",
       "      <th>6912</th>\n",
       "      <td>2020-12-31 23:00:00</td>\n",
       "      <td>5.000000</td>\n",
       "      <td>62.777778</td>\n",
       "      <td>1.000000</td>\n",
       "      <td>1.000000</td>\n",
       "      <td>3.0</td>\n",
       "      <td>49.0</td>\n",
       "      <td>1.0</td>\n",
       "    </tr>\n",
       "  </tbody>\n",
       "</table>\n",
       "<p>5250 rows × 8 columns</p>\n",
       "</div>"
      ],
      "text/plain": [
       "station                date     Campanhã  Estádio do Dragão  H. São João  \\\n",
       "1540    2020-03-13 01:00:00   271.333333         112.888889   127.555556   \n",
       "1541    2020-03-13 05:00:00    44.000000          19.000000    12.000000   \n",
       "1542    2020-03-13 06:00:00   313.000000         120.000000    65.000000   \n",
       "1543    2020-03-13 07:00:00  1139.000000         307.000000   288.000000   \n",
       "1544    2020-03-13 08:00:00  1581.000000         398.000000   359.000000   \n",
       "...                     ...          ...                ...          ...   \n",
       "6908    2020-12-31 19:00:00    78.000000          39.000000    40.000000   \n",
       "6909    2020-12-31 20:00:00    29.000000          13.000000    38.000000   \n",
       "6910    2020-12-31 21:00:00    10.000000           8.000000    19.000000   \n",
       "6911    2020-12-31 22:00:00    16.000000           6.000000    16.000000   \n",
       "6912    2020-12-31 23:00:00     5.000000          62.777778     1.000000   \n",
       "\n",
       "station  Santo Ovídio  Srª da Hora  Trindade  covid  \n",
       "1540       133.333333          2.0      10.0    0.0  \n",
       "1541        25.000000         15.0      30.0    0.0  \n",
       "1542       276.000000        135.0     619.0    0.0  \n",
       "1543       984.000000        502.0    1798.0    0.0  \n",
       "1544       920.000000        771.0    2446.0    0.0  \n",
       "...               ...          ...       ...    ...  \n",
       "6908        41.000000         59.0     503.0    1.0  \n",
       "6909        19.000000         30.0     219.0    1.0  \n",
       "6910        12.000000         24.0     147.0    1.0  \n",
       "6911        11.000000         19.0     218.0    1.0  \n",
       "6912         1.000000          3.0      49.0    1.0  \n",
       "\n",
       "[5250 rows x 8 columns]"
      ]
     },
     "execution_count": 51,
     "metadata": {},
     "output_type": "execute_result"
    }
   ],
   "source": [
    "final_rail_df[final_rail_df['date']>'2020-03-13 00:00:00']"
   ]
  },
  {
   "cell_type": "markdown",
   "id": "6d4a922f-0bd6-45d3-8d93-a1856682263b",
   "metadata": {},
   "source": [
    "Nice! We're ready for the modelling part!"
   ]
  },
  {
   "cell_type": "markdown",
   "id": "60985c72-fe58-4fe9-a0dd-20edd3d1ce5a",
   "metadata": {},
   "source": [
    "# 4. Modelling"
   ]
  },
  {
   "cell_type": "code",
   "execution_count": 52,
   "id": "d9bb7f5e-a27d-4ea3-9de1-1d2556068444",
   "metadata": {},
   "outputs": [],
   "source": [
    "dataset = final_rail_df[['Campanhã', 'Estádio do Dragão', 'H. São João', 'Santo Ovídio',\n",
    "                                     'Srª da Hora', 'Trindade', 'covid']].values"
   ]
  },
  {
   "cell_type": "markdown",
   "id": "c63ce1b1-e540-48ca-a900-c64770574da9",
   "metadata": {},
   "source": [
    "Some sanity checks..."
   ]
  },
  {
   "cell_type": "code",
   "execution_count": 53,
   "id": "ba830e47-5826-4708-b122-b7b9b70ec877",
   "metadata": {},
   "outputs": [
    {
     "data": {
      "text/plain": [
       "array([[7.60000000e+01, 1.29000000e+02, 1.74000000e+02, ...,\n",
       "        2.26000000e+02, 4.56200000e+03, 0.00000000e+00],\n",
       "       [1.12000000e+02, 1.38000000e+02, 2.31000000e+02, ...,\n",
       "        2.82000000e+02, 4.25000000e+03, 0.00000000e+00],\n",
       "       [4.50000000e+01, 5.30000000e+01, 1.80000000e+02, ...,\n",
       "        1.32000000e+02, 2.98800000e+03, 0.00000000e+00],\n",
       "       ...,\n",
       "       [1.00000000e+01, 8.00000000e+00, 1.90000000e+01, ...,\n",
       "        2.40000000e+01, 1.47000000e+02, 1.00000000e+00],\n",
       "       [1.60000000e+01, 6.00000000e+00, 1.60000000e+01, ...,\n",
       "        1.90000000e+01, 2.18000000e+02, 1.00000000e+00],\n",
       "       [5.00000000e+00, 6.27777778e+01, 1.00000000e+00, ...,\n",
       "        3.00000000e+00, 4.90000000e+01, 1.00000000e+00]])"
      ]
     },
     "execution_count": 53,
     "metadata": {},
     "output_type": "execute_result"
    }
   ],
   "source": [
    "dataset"
   ]
  },
  {
   "cell_type": "code",
   "execution_count": 54,
   "id": "f07dbf49-609d-448b-975d-75770dc86346",
   "metadata": {},
   "outputs": [
    {
     "data": {
      "text/plain": [
       "(6790, 7)"
      ]
     },
     "execution_count": 54,
     "metadata": {},
     "output_type": "execute_result"
    }
   ],
   "source": [
    "dataset.shape"
   ]
  },
  {
   "cell_type": "code",
   "execution_count": 55,
   "id": "61ddba73-8dac-4752-b8fc-09908603a3ed",
   "metadata": {},
   "outputs": [
    {
     "data": {
      "text/plain": [
       "array([  76.,  129.,  174.,  203.,  226., 4562.,    0.])"
      ]
     },
     "execution_count": 55,
     "metadata": {},
     "output_type": "execute_result"
    }
   ],
   "source": [
    "dataset[0]"
   ]
  },
  {
   "cell_type": "code",
   "execution_count": 56,
   "id": "522bc75f-13e6-438c-aba5-fbe1d1b865b8",
   "metadata": {},
   "outputs": [
    {
     "data": {
      "text/plain": [
       "station\n",
       "date                 2020-01-01 00:00:00\n",
       "Campanhã                            76.0\n",
       "Estádio do Dragão                  129.0\n",
       "H. São João                        174.0\n",
       "Santo Ovídio                       203.0\n",
       "Srª da Hora                        226.0\n",
       "Trindade                          4562.0\n",
       "Name: 0, dtype: object"
      ]
     },
     "execution_count": 56,
     "metadata": {},
     "output_type": "execute_result"
    }
   ],
   "source": [
    "subset_rail_2020_expanded.iloc[0]"
   ]
  },
  {
   "cell_type": "markdown",
   "id": "e201814d-865d-414b-8037-a45e678016f9",
   "metadata": {},
   "source": [
    "## 4.1. Data normalization"
   ]
  },
  {
   "cell_type": "code",
   "execution_count": 57,
   "id": "b91c42c3-e788-4171-ae52-307d9c98558b",
   "metadata": {},
   "outputs": [],
   "source": [
    "# Normalize data\n",
    "sc = MinMaxScaler()\n",
    "dataset_norm = sc.fit_transform(dataset[...,0:6]) # we don't want to normalize the covid column"
   ]
  },
  {
   "cell_type": "code",
   "execution_count": 58,
   "id": "37e1f1f8-cc3a-4429-8b6a-cc8cd3f910b2",
   "metadata": {},
   "outputs": [],
   "source": [
    "# we lost the covid column, we have to add it back!\n",
    "dataset_norm = np.column_stack((dataset_norm,dataset[...,6]))"
   ]
  },
  {
   "cell_type": "code",
   "execution_count": 59,
   "id": "385e7a07-50b2-4977-8f36-f409e3766a32",
   "metadata": {},
   "outputs": [
    {
     "data": {
      "text/plain": [
       "array([[0.02414681, 0.0219818 , 0.21226994, 0.10181452, 0.17899761,\n",
       "        0.68866073, 0.        ],\n",
       "       [0.03573728, 0.02352739, 0.28220859, 0.14264113, 0.22354813,\n",
       "        0.64155217, 0.        ],\n",
       "       [0.01416613, 0.0089301 , 0.2196319 , 0.0453629 , 0.10421639,\n",
       "        0.45100408, 0.        ],\n",
       "       [0.00901481, 0.00343466, 0.05766871, 0.01512097, 0.05171042,\n",
       "        0.30243092, 0.        ],\n",
       "       [0.00901481, 0.00085866, 0.01840491, 0.00554435, 0.04534606,\n",
       "        0.3451608 , 0.        ],\n",
       "       [0.00708307, 0.00085866, 0.02208589, 0.01108871, 0.02625298,\n",
       "        0.24958478, 0.        ],\n",
       "       [0.00740502, 0.00309119, 0.00981595, 0.01310484, 0.03500398,\n",
       "        0.21244149, 0.        ],\n",
       "       [0.01609788, 0.00360639, 0.03680982, 0.0297379 , 0.04136834,\n",
       "        0.10946701, 0.        ],\n",
       "       [0.01416613, 0.00240426, 0.03803681, 0.02570565, 0.03102625,\n",
       "        0.05194021, 0.        ],\n",
       "       [0.02092724, 0.0010304 , 0.04907975, 0.04435484, 0.03659507,\n",
       "        0.06462328, 0.        ]])"
      ]
     },
     "execution_count": 59,
     "metadata": {},
     "output_type": "execute_result"
    }
   ],
   "source": [
    "dataset_norm[0:10]"
   ]
  },
  {
   "cell_type": "code",
   "execution_count": 60,
   "id": "86090b60-27c3-436b-ae9c-8e2f91cf993b",
   "metadata": {},
   "outputs": [],
   "source": [
    "# Each input will be itself and past data\n",
    "def sliding_windows(data, seq_length):\n",
    "    x = []\n",
    "    y = []\n",
    "\n",
    "    for i in range(len(data)-seq_length-1):\n",
    "        _x = data[i:(i+seq_length)]\n",
    "        _y = data[i+seq_length][0:6] # not interested in the covid column output\n",
    "        x.append(_x)\n",
    "        y.append(_y)\n",
    "\n",
    "    return np.array(x),np.array(y)"
   ]
  },
  {
   "cell_type": "code",
   "execution_count": 61,
   "id": "ae805cf3-afa5-4de8-9237-bf446af0ac14",
   "metadata": {},
   "outputs": [],
   "source": [
    "seq_length = 10 # how many \"timestamps\" are we using?\n",
    "x, y = sliding_windows(dataset_norm, seq_length)"
   ]
  },
  {
   "cell_type": "code",
   "execution_count": 62,
   "id": "0e79f673-2908-4142-a529-6db1ecedb5e6",
   "metadata": {},
   "outputs": [
    {
     "data": {
      "text/plain": [
       "array([[0.02414681, 0.0219818 , 0.21226994, 0.10181452, 0.17899761,\n",
       "        0.68866073, 0.        ],\n",
       "       [0.03573728, 0.02352739, 0.28220859, 0.14264113, 0.22354813,\n",
       "        0.64155217, 0.        ],\n",
       "       [0.01416613, 0.0089301 , 0.2196319 , 0.0453629 , 0.10421639,\n",
       "        0.45100408, 0.        ],\n",
       "       [0.00901481, 0.00343466, 0.05766871, 0.01512097, 0.05171042,\n",
       "        0.30243092, 0.        ],\n",
       "       [0.00901481, 0.00085866, 0.01840491, 0.00554435, 0.04534606,\n",
       "        0.3451608 , 0.        ],\n",
       "       [0.00708307, 0.00085866, 0.02208589, 0.01108871, 0.02625298,\n",
       "        0.24958478, 0.        ],\n",
       "       [0.00740502, 0.00309119, 0.00981595, 0.01310484, 0.03500398,\n",
       "        0.21244149, 0.        ],\n",
       "       [0.01609788, 0.00360639, 0.03680982, 0.0297379 , 0.04136834,\n",
       "        0.10946701, 0.        ],\n",
       "       [0.01416613, 0.00240426, 0.03803681, 0.02570565, 0.03102625,\n",
       "        0.05194021, 0.        ],\n",
       "       [0.02092724, 0.0010304 , 0.04907975, 0.04435484, 0.03659507,\n",
       "        0.06462328, 0.        ],\n",
       "       [0.02962009, 0.00686931, 0.09325153, 0.04737903, 0.08750994,\n",
       "        0.08410086, 0.        ]])"
      ]
     },
     "execution_count": 62,
     "metadata": {},
     "output_type": "execute_result"
    }
   ],
   "source": [
    "dataset_norm[0:11,...]"
   ]
  },
  {
   "cell_type": "code",
   "execution_count": 63,
   "id": "1a21e668-0373-4f14-a14b-52ad6c89abc1",
   "metadata": {},
   "outputs": [
    {
     "data": {
      "text/plain": [
       "array([[0.02414681, 0.0219818 , 0.21226994, 0.10181452, 0.17899761,\n",
       "        0.68866073, 0.        ],\n",
       "       [0.03573728, 0.02352739, 0.28220859, 0.14264113, 0.22354813,\n",
       "        0.64155217, 0.        ],\n",
       "       [0.01416613, 0.0089301 , 0.2196319 , 0.0453629 , 0.10421639,\n",
       "        0.45100408, 0.        ],\n",
       "       [0.00901481, 0.00343466, 0.05766871, 0.01512097, 0.05171042,\n",
       "        0.30243092, 0.        ],\n",
       "       [0.00901481, 0.00085866, 0.01840491, 0.00554435, 0.04534606,\n",
       "        0.3451608 , 0.        ],\n",
       "       [0.00708307, 0.00085866, 0.02208589, 0.01108871, 0.02625298,\n",
       "        0.24958478, 0.        ],\n",
       "       [0.00740502, 0.00309119, 0.00981595, 0.01310484, 0.03500398,\n",
       "        0.21244149, 0.        ],\n",
       "       [0.01609788, 0.00360639, 0.03680982, 0.0297379 , 0.04136834,\n",
       "        0.10946701, 0.        ],\n",
       "       [0.01416613, 0.00240426, 0.03803681, 0.02570565, 0.03102625,\n",
       "        0.05194021, 0.        ],\n",
       "       [0.02092724, 0.0010304 , 0.04907975, 0.04435484, 0.03659507,\n",
       "        0.06462328, 0.        ]])"
      ]
     },
     "execution_count": 63,
     "metadata": {},
     "output_type": "execute_result"
    }
   ],
   "source": [
    "x[0]"
   ]
  },
  {
   "cell_type": "code",
   "execution_count": 64,
   "id": "9b3873c5-01e3-4429-a57e-198e4916995b",
   "metadata": {},
   "outputs": [
    {
     "data": {
      "text/plain": [
       "array([0.02962009, 0.00686931, 0.09325153, 0.04737903, 0.08750994,\n",
       "       0.08410086])"
      ]
     },
     "execution_count": 64,
     "metadata": {},
     "output_type": "execute_result"
    }
   ],
   "source": [
    "y[0]"
   ]
  },
  {
   "cell_type": "markdown",
   "id": "d50719ea-73cf-45a7-b776-bbbb9aef44ad",
   "metadata": {},
   "source": [
    "We're using the last 10 entries to predict the next one (the 11th)"
   ]
  },
  {
   "cell_type": "code",
   "execution_count": 65,
   "id": "85e17841-c85e-401d-86c2-e80f5db7728f",
   "metadata": {},
   "outputs": [],
   "source": [
    "# Ideally we would be doing cross validation\n",
    "# For now we'll just do a simple train/test split\n",
    "train_size = int(len(y) * 0.67)\n",
    "test_size = len(y) - train_size"
   ]
  },
  {
   "cell_type": "code",
   "execution_count": 66,
   "id": "6077b93f-9d02-443f-ad38-7030c6963316",
   "metadata": {},
   "outputs": [],
   "source": [
    "trainX = Variable(torch.Tensor(np.array(x[0:train_size])))\n",
    "trainY = Variable(torch.Tensor(np.array(y[0:train_size])))\n",
    "\n",
    "testX = Variable(torch.Tensor(np.array(x[train_size:len(x)])))\n",
    "testY = Variable(torch.Tensor(np.array(y[train_size:len(y)])))"
   ]
  },
  {
   "cell_type": "markdown",
   "id": "ae4bd0f3-21e9-4978-8709-0e614e38c033",
   "metadata": {},
   "source": [
    "## 4.1 Model structure"
   ]
  },
  {
   "cell_type": "code",
   "execution_count": 67,
   "id": "768e54cb-8aa9-44a9-a0e6-982c84d887e7",
   "metadata": {},
   "outputs": [],
   "source": [
    "class LSTM(nn.Module):\n",
    "\n",
    "    def __init__(self, num_classes, input_size, hidden_size, num_layers):\n",
    "        super(LSTM, self).__init__()\n",
    "        \n",
    "        self.num_classes = num_classes # number of attributes/features\n",
    "        self.num_layers = num_layers\n",
    "        self.input_size = input_size\n",
    "        self.hidden_size = hidden_size\n",
    "        self.seq_length = seq_length\n",
    "        \n",
    "        self.lstm = nn.LSTM(input_size=input_size, hidden_size=hidden_size,\n",
    "                            num_layers=num_layers, batch_first=True)\n",
    "        \n",
    "        self.fc = nn.Linear(hidden_size, num_classes)\n",
    "\n",
    "    def forward(self, x):\n",
    "        h_0 = Variable(torch.zeros(\n",
    "            self.num_layers, x.size(0), self.hidden_size))\n",
    "        \n",
    "        c_0 = Variable(torch.zeros(\n",
    "            self.num_layers, x.size(0), self.hidden_size))\n",
    "        \n",
    "        # Propagate input through LSTM\n",
    "        ula, (h_out, _) = self.lstm(x, (h_0, c_0))\n",
    "        \n",
    "        h_out = h_out.view(-1, self.hidden_size)\n",
    "        \n",
    "        out = self.fc(h_out)\n",
    "        \n",
    "        return out"
   ]
  },
  {
   "cell_type": "markdown",
   "id": "bcb9ee7f-2c46-41cc-91ea-43855ba9db7b",
   "metadata": {},
   "source": [
    "## 4.2. Training"
   ]
  },
  {
   "cell_type": "code",
   "execution_count": 68,
   "id": "71400976-0668-4f99-8f06-99792468dd2e",
   "metadata": {},
   "outputs": [],
   "source": [
    "num_epochs = 500"
   ]
  },
  {
   "cell_type": "code",
   "execution_count": 69,
   "id": "3fdbcc0e-8f87-44cd-a6f1-566095ea49cd",
   "metadata": {},
   "outputs": [],
   "source": [
    "learning_rate = 0.1\n",
    "\n",
    "input_size = 7 # 6 station goes in (* seq length) + covid col\n",
    "hidden_size = 3\n",
    "num_layers = 1\n",
    "\n",
    "num_classes = 6 # 6 stations comes out\n",
    "\n",
    "lstm = LSTM(num_classes, input_size, hidden_size, num_layers)"
   ]
  },
  {
   "cell_type": "code",
   "execution_count": 70,
   "id": "02918aee-470d-4b6b-9a25-1b2d1989c6ab",
   "metadata": {},
   "outputs": [
    {
     "name": "stdout",
     "output_type": "stream",
     "text": [
      "Epoch: 0, loss: 0.24227\n",
      "Epoch: 100, loss: 0.00555\n",
      "Epoch: 200, loss: 0.00419\n",
      "Epoch: 300, loss: 0.00314\n",
      "Epoch: 400, loss: 0.00248\n"
     ]
    }
   ],
   "source": [
    "criterion = torch.nn.MSELoss()    # mean-squared error for regression\n",
    "optimizer = torch.optim.Adam(lstm.parameters(), lr=learning_rate)\n",
    "\n",
    "train_loss = []\n",
    "test_loss = []\n",
    "\n",
    "# Train the model\n",
    "for epoch in range(num_epochs):\n",
    "    lstm.train()\n",
    "    \n",
    "    outputs = lstm(trainX)\n",
    "    optimizer.zero_grad()\n",
    "    \n",
    "    # obtain the loss function\n",
    "    loss = criterion(outputs, trainY)\n",
    "    \n",
    "    loss.backward()\n",
    "    optimizer.step()\n",
    "    \n",
    "    train_loss.append(loss.item())\n",
    "    \n",
    "    lstm.eval()\n",
    "    test_predict = lstm(testX)\n",
    "    loss_test = criterion(test_predict, testY)\n",
    "    test_loss.append(loss_test.item())\n",
    "    \n",
    "    if epoch % 100 == 0:\n",
    "      print(\"Epoch: %d, loss: %1.5f\" % (epoch, loss.item()))"
   ]
  },
  {
   "cell_type": "markdown",
   "id": "eea47eae-028b-4be1-a42a-675ee1dce9f9",
   "metadata": {},
   "source": [
    "<a id='important_graph_2'><b>Important graph 2!</b> Shows that the LSTM used was able to learn with the subway data, since both the training and test loss become quite small.</a>"
   ]
  },
  {
   "cell_type": "code",
   "execution_count": 71,
   "id": "dd1bc078-a30f-4b89-b3a0-77ae386604dc",
   "metadata": {},
   "outputs": [
    {
     "data": {
      "text/plain": [
       "Text(0.5, 1.0, 'Loss per epoch')"
      ]
     },
     "execution_count": 71,
     "metadata": {},
     "output_type": "execute_result"
    },
    {
     "data": {
      "image/png": "[encoded data removed]",
      "text/plain": [
       "<Figure size 600x400 with 1 Axes>"
      ]
     },
     "metadata": {
      "needs_background": "light"
     },
     "output_type": "display_data"
    }
   ],
   "source": [
    "epochs = range(len(train_loss))\n",
    "\n",
    "fig = plt.figure(dpi=100)\n",
    "ax = fig.add_subplot()\n",
    "\n",
    "ax.plot(epochs, train_loss, label = f'Training Set Loss - Lowest Loss: {str(round(np.min(train_loss),4))}')\n",
    "ax.plot(epochs, test_loss, label = f'Test Set Loss - Lowest Loss: {str(round(np.min(test_loss),4))}')\n",
    "ax.set_ylabel('Loss')\n",
    "ax.set_xlabel('Epoch')\n",
    "\n",
    "ax.legend(loc='upper left', prop={'size': 10})\n",
    "#upper left\n",
    "ax.grid(True)\n",
    "plt.title(\"Loss per epoch\")"
   ]
  },
  {
   "cell_type": "code",
   "execution_count": 72,
   "id": "c11fc9c9-2693-4610-89f6-e8907e0c8711",
   "metadata": {},
   "outputs": [
    {
     "data": {
      "image/png": "[encoded data removed]",
      "text/plain": [
       "<Figure size 600x400 with 1 Axes>"
      ]
     },
     "metadata": {
      "needs_background": "light"
     },
     "output_type": "display_data"
    }
   ],
   "source": [
    "dataX = Variable(torch.Tensor(np.array(x)))\n",
    "\n",
    "total_predict = lstm(dataX)\n",
    "data_predict = total_predict.data.numpy()\n",
    "\n",
    "real_data = np.array(y)\n",
    "\n",
    "data_predict = sc.inverse_transform(data_predict)\n",
    "real_data = sc.inverse_transform(real_data)\n",
    "\n",
    "fig = plt.figure(dpi=100)\n",
    "#ax = fig.add_subplot()\n",
    "\n",
    "train_mark = int(len(real_data[0:168:,0]) * 0.67) #168 considering hourly measurements (24*7)\n",
    "\n",
    "plt.axvline(x=train_mark, c='r', linestyle='--')\n",
    "\n",
    "plt.plot(real_data[0:168:,0], label = \"Real Campanhã Data\") # Campanhã is the first column in the dataset\n",
    "plt.plot(data_predict[0:168:,0], label = \"Prediction Campanhã Data\")\n",
    "plt.suptitle('Validations at the Campanhã station - Test set after the red line')\n",
    "plt.xlabel(\"Week-ish\")\n",
    "plt.ylabel(\"Validations\")\n",
    "plt.legend(loc='upper left', prop={'size': 10})\n",
    "plt.show()"
   ]
  },
  {
   "cell_type": "markdown",
   "id": "0e91db46-fbfa-4156-bcbd-b6d89286e408",
   "metadata": {},
   "source": [
    "Look at that! Not bad for the Campanhã station! Let's get some numbers to get a better idea of what's up (let's get some mean squared errors). There are some weird peaks going on, those are probably due to the way that we are showing the values (jumps of 168 entries) - looking at them more thoroughly, they seem to be related to peak hours."
   ]
  },
  {
   "cell_type": "code",
   "execution_count": 73,
   "id": "f6e06e79-6989-4f53-a72b-23652adfdbbe",
   "metadata": {},
   "outputs": [
    {
     "data": {
      "text/plain": [
       "(6779, 6)"
      ]
     },
     "execution_count": 73,
     "metadata": {},
     "output_type": "execute_result"
    }
   ],
   "source": [
    "data_predict.shape"
   ]
  },
  {
   "cell_type": "code",
   "execution_count": 74,
   "id": "0374a344-1960-46cf-b6cc-35093ceb903a",
   "metadata": {},
   "outputs": [
    {
     "data": {
      "text/plain": [
       "(6779, 6)"
      ]
     },
     "execution_count": 74,
     "metadata": {},
     "output_type": "execute_result"
    }
   ],
   "source": [
    "real_data.shape"
   ]
  },
  {
   "cell_type": "code",
   "execution_count": 75,
   "id": "93d7f37e-f661-40ca-846b-613931a6141b",
   "metadata": {},
   "outputs": [
    {
     "name": "stdout",
     "output_type": "stream",
     "text": [
      "MAE for Campanhã station: 74.88; (Median: 181.89; MAE/Median%: 41.17%)\n",
      "MAE for Estádio do Dragão station: 29.61; (Median: 86.0; MAE/Median%: 34.43%)\n",
      "MAE for H. São João station: 32.3; (Median: 82.5; MAE/Median%: 39.15%)\n",
      "MAE for Santo Ovídio station: 58.62; (Median: 123.0; MAE/Median%: 47.66%)\n",
      "MAE for Srª da Hora station: 43.85; (Median: 125.0; MAE/Median%: 35.08%)\n",
      "MAE for Trindade station: 207.18; (Median: 777.5; MAE/Median%: 26.65%)\n"
     ]
    }
   ],
   "source": [
    "station_name_dict = {\n",
    "    0: 'Campanhã',\n",
    "    1: 'Estádio do Dragão',\n",
    "    2: 'H. São João',\n",
    "    3: 'Santo Ovídio',\n",
    "    4: 'Srª da Hora',\n",
    "    5: 'Trindade'}\n",
    "\n",
    "\n",
    "error = real_data[train_size:len(real_data)]-data_predict[train_size:len(data_predict)]\n",
    "absolute_error = np.abs(error)\n",
    "MAE = np.mean(absolute_error, axis=0) #mean_absolute_error\n",
    "\n",
    "for i, error_val in enumerate(MAE):\n",
    "    median = np.median(real_data[train_size:len(real_data),i])\n",
    "    print(f\"MAE for {station_name_dict[i]} station: {round(error_val,2)}; \\\n",
    "(Median: {round(median,2)}; \\\n",
    "MAE/Median%: {round(100*error_val/median,2)}%)\")"
   ]
  },
  {
   "cell_type": "markdown",
   "id": "e96489c9-8c2b-48e2-a48c-7aa7e27c3e24",
   "metadata": {},
   "source": [
    "It seems that the mean absolute error isn't the best, but it's alright. It seems that the model does worse in the Trindade station., and best in the H. São João station. Perhaps the Trindade station is more susceptible to less seasonality, as it the main subway hub, whereas the H. São João station may present a clearer seasonality, being close to a hospital and to a university campus."
   ]
  },
  {
   "cell_type": "markdown",
   "id": "462855af-faec-4e57-9d2c-6cb8c3722b09",
   "metadata": {},
   "source": [
    "<a id='important_graph_3'><b>Important graph 3!</b> illustrates the ability of the developed network to predict the number of expected validations at a subway station.</a>"
   ]
  },
  {
   "cell_type": "code",
   "execution_count": 76,
   "id": "9899f620-1174-46c6-80a6-0e2890704e0b",
   "metadata": {},
   "outputs": [
    {
     "data": {
      "image/png": "[encoded data removed]",
      "text/plain": [
       "<Figure size 600x400 with 1 Axes>"
      ]
     },
     "metadata": {
      "needs_background": "light"
     },
     "output_type": "display_data"
    }
   ],
   "source": [
    "fig = plt.figure(dpi=100)\n",
    "plt.plot(real_data[train_size:(train_size+250),0], label = \"Real Campanhã Data\") # Campanhã is the first column in the dataset\n",
    "plt.plot(data_predict[train_size:(train_size+250),0], label = \"Prediction Campanhã Data\")\n",
    "plt.suptitle('Results for a portion of the test set for the Campanhã station')\n",
    "plt.xlabel(\"Hourly-ish measurements\")\n",
    "plt.ylabel(\"Validations\")\n",
    "plt.legend(loc='upper left', prop={'size': 10})\n",
    "plt.show()"
   ]
  },
  {
   "cell_type": "code",
   "execution_count": 77,
   "id": "5b60d51a-b935-4896-afcf-92a3bd116f45",
   "metadata": {},
   "outputs": [
    {
     "data": {
      "image/png": "[encoded data removed]",
      "text/plain": [
       "<Figure size 600x400 with 1 Axes>"
      ]
     },
     "metadata": {
      "needs_background": "light"
     },
     "output_type": "display_data"
    }
   ],
   "source": [
    "fig = plt.figure(dpi=100)\n",
    "plt.plot(real_data[train_size:(train_size+250),5], label = \"Real Trindade Data\", c = 'green') # Trindade is the 6th column in the dataset\n",
    "plt.plot(data_predict[train_size:(train_size+250),5], label = \"Prediction Trindade Data\", c = 'pink')\n",
    "plt.suptitle('Results for a portion of the test set for the Trindade station')\n",
    "plt.xlabel(\"Hourly-ish measurements\")\n",
    "plt.ylabel(\"Validations\")\n",
    "plt.legend(loc='upper left', prop={'size': 10})\n",
    "plt.show()"
   ]
  },
  {
   "cell_type": "markdown",
   "id": "6224c599-beb8-4815-9632-af1f951ba644",
   "metadata": {},
   "source": [
    "Notice how before the 50th hour mark in the Trindade graph, there is a spike that isn't well predicte by the model - looking at the overall graph you can notice the weekly seasonality, and that specific day seems to be a saturday. Perhaps in that saturday an event or something was ongoing in downtown, attracting more people than the model suspected. Also, note how the Trindade stations has two peak hours, whereas the Campanhã only really has one. Interesting stuff!"
   ]
  },
  {
   "cell_type": "markdown",
   "id": "6e9d11b8-44f9-48d9-abef-cc43835997dc",
   "metadata": {},
   "source": [
    "# 5. What can we do with this?"
   ]
  },
  {
   "cell_type": "markdown",
   "id": "c578df48-2c6f-4396-b5f9-4ed0fe13512e",
   "metadata": {},
   "source": [
    "A very simple tool that we propose is aiding in determining how the number of carriages in a subway vehicle should change throughout the day. Like this:"
   ]
  },
  {
   "cell_type": "markdown",
   "id": "a8d909c9-27da-43a7-86aa-553268675eb1",
   "metadata": {},
   "source": [
    "This is what the \"current past data\" would look like (of the past 9 hours) for the number of validations in H. São João:"
   ]
  },
  {
   "cell_type": "code",
   "execution_count": 78,
   "id": "feab076e-6c66-47ef-9e27-1aee8518e4ce",
   "metadata": {},
   "outputs": [
    {
     "data": {
      "text/plain": [
       "array([125.55555556,  11.        ,  68.        , 256.        ,\n",
       "       323.        , 242.        , 173.        , 138.        ,\n",
       "       146.        , 184.        ])"
      ]
     },
     "execution_count": 78,
     "metadata": {},
     "output_type": "execute_result"
    }
   ],
   "source": [
    "current_past_data = real_data[train_size:(train_size+10),2]\n",
    "current_past_data"
   ]
  },
  {
   "cell_type": "markdown",
   "id": "8fc30cbe-7eab-4577-b8e8-6ac5eb3d94a8",
   "metadata": {},
   "source": [
    "This is what hour prediction looks like for the upcoming hour:"
   ]
  },
  {
   "cell_type": "code",
   "execution_count": 79,
   "id": "eda8f04c-fa74-4015-82e3-c3dbdf9a1381",
   "metadata": {},
   "outputs": [
    {
     "data": {
      "text/plain": [
       "array([1576.7776], dtype=float32)"
      ]
     },
     "execution_count": 79,
     "metadata": {},
     "output_type": "execute_result"
    }
   ],
   "source": [
    "prediction = data_predict[(train_size+10):(train_size+11),5]\n",
    "prediction"
   ]
  },
  {
   "cell_type": "markdown",
   "id": "57b5cba8-dc45-4d6b-9183-4c301a343ebe",
   "metadata": {},
   "source": [
    "That's quite the difference! So, what should be the percentual increase regarding the number of subway trains/number of carriages passing by?"
   ]
  },
  {
   "cell_type": "code",
   "execution_count": 80,
   "id": "57f3f7f0-439a-4d94-b0af-6430852e2eec",
   "metadata": {},
   "outputs": [
    {
     "data": {
      "text/plain": [
       "array([ 1255.84061117, 14334.34232955,  2318.79067096,   615.92877197,\n",
       "         488.16645704,   651.56101498,   911.43217124,  1142.59250453,\n",
       "        1079.98469606,   856.9443784 ])"
      ]
     },
     "execution_count": 80,
     "metadata": {},
     "output_type": "execute_result"
    }
   ],
   "source": [
    "100*prediction/current_past_data"
   ]
  },
  {
   "cell_type": "markdown",
   "id": "d759a835-1ece-4d48-b80c-267778d2d92c",
   "metadata": {
    "tags": []
   },
   "source": [
    "If the fleet in the past hours were answering to the population needs (how do we check that: subway trains with a little bit of extra space, in terms of seats - guarantees that everyone that wanted to get on was able to, without wasting too much space/energy), then we would have to increase the fleet (either subway trains or more carriages in each train) capacity by those percentages to answer to the demand expect in the next hour.\n",
    "\n",
    "This is, of course, just an idea! There are other things to take into consideration, such as how easy is it to add more carriages to a subway train? Can you do that in those stations (beggining/end of a line)? How fast is that process? How much energy is being saved by having the optimal number of subway trains/carriages? And so on, and so on..."
   ]
  },
  {
   "cell_type": "markdown",
   "id": "38ab0d5c-d0d7-4450-8d22-a906fe2874a2",
   "metadata": {},
   "source": [
    "## 🖼️ Visualisations\n",
    "Most important visualisations:"
   ]
  },
  {
   "cell_type": "markdown",
   "id": "6ea3d5dd-b0e4-47df-b564-6a44d21f79bc",
   "metadata": {},
   "source": [
    " [**Important graph 1! A boxplot that**](#important_graph_1) showed the seasonality associated with validations at subway stations, and how that is related to peak hours.\n",
    " \n",
    "  [**Important graph 2! A graph that**](#important_graph_2) showed that the LSTM used was able to learn given the subway data, since both the training and test loss become quite small.\n",
    "  \n",
    "  [**Important graph 3! A graph that**](#important_graph_3) better illustrates the ability of the developed network to predict the number of expected validations at a subway station."
   ]
  },
  {
   "cell_type": "markdown",
   "id": "8a4e6498-ebba-4e23-9e76-6fba41acc573",
   "metadata": {},
   "source": [
    "## 👓 References\n",
    "\n",
    "Inspiring Timeseries blogpost: https://www.machinelearningplus.com/time-series/time-series-analysis-python/\n",
    "\n",
    "LSTM reference:\n",
    "https://github.com/spdin/time-series-prediction-lstm-pytorch/blob/master/Time_Series_Prediction_with_LSTM_Using_PyTorch.ipynb"
   ]
  }
 ],
 "metadata": {
  "environment": {
   "kernel": "python3",
   "name": "common-cpu.m90",
   "type": "gcloud",
   "uri": "gcr.io/deeplearning-platform-release/base-cpu:m90"
  },
  "kernelspec": {
   "display_name": "Python 3",
   "language": "python",
   "name": "python3"
  },
  "language_info": {
   "codemirror_mode": {
    "name": "ipython",
    "version": 3
   },
   "file_extension": ".py",
   "mimetype": "text/x-python",
   "name": "python",
   "nbconvert_exporter": "python",
   "pygments_lexer": "ipython3",
   "version": "3.7.12"
  }
 },
 "nbformat": 4,
 "nbformat_minor": 5
}
