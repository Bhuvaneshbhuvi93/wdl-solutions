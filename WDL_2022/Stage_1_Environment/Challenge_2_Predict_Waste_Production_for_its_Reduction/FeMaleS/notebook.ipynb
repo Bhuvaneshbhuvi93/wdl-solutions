{
 "cells": [
  {
   "cell_type": "markdown",
   "metadata": {
    "id": "Is1th3sXsLqf"
   },
   "source": [
    "# World Data League 2022"
   ]
  },
  {
   "cell_type": "markdown",
   "metadata": {
    "id": "JeP6xkRIBJco"
   },
   "source": [
    "## Notebook Submission Template"
   ]
  },
  {
   "cell_type": "markdown",
   "metadata": {
    "id": "94NlB4NxwLra"
   },
   "source": [
    "## 🎯 Challenge\n",
    "Predict Waste Production for its Reduction\n"
   ]
  },
  {
   "cell_type": "markdown",
   "metadata": {
    "id": "jVBl_rp5gAdK"
   },
   "source": [
    "## 👥 Authors\n",
    "* Sandra Martínez Sanchis\n",
    "* Mónica López Lacort\n",
    "* Madría Rodríguez González\n",
    "* Francisca Ruíz Pérez"
   ]
  },
  {
   "cell_type": "markdown",
   "metadata": {
    "id": "C8rCpNajszur"
   },
   "source": [
    "## 💻 Development"
   ]
  },
  {
   "cell_type": "code",
   "execution_count": 1,
   "metadata": {
    "id": "afB4W0KnutpV"
   },
   "outputs": [],
   "source": [
    "import sys\n",
    "import pandas as pd\n",
    "import matplotlib.pyplot as plt\n",
    "import numpy as np\n",
    "import seaborn as sns\n",
    "import csv\n",
    "import datetime"
   ]
  },
  {
   "cell_type": "markdown",
   "metadata": {
    "id": "J4jPpcKOutZ5"
   },
   "source": [
    "### 1. EDA"
   ]
  },
  {
   "cell_type": "code",
   "execution_count": 15,
   "metadata": {
    "id": "LQ90XveiBN6A"
   },
   "outputs": [],
   "source": [
    "# read csv (dataset1) with weight of load, date, drop off, type of load and type of route of Austin city.\n",
    "url = 'https://data.austintexas.gov/resource/mbnu-4wq9.csv'\n",
    "df = pd.read_csv(url, sep=',')"
   ]
  },
  {
   "cell_type": "code",
   "execution_count": 16,
   "metadata": {},
   "outputs": [
    {
     "name": "stdout",
     "output_type": "stream",
     "text": [
      "report_date     1000\n",
      "load_type       1000\n",
      "load_time       1000\n",
      "load_weight      965\n",
      "dropoff_site    1000\n",
      "route_type      1000\n",
      "route_number    1000\n",
      "load_id         1000\n",
      "dtype: int64\n"
     ]
    }
   ],
   "source": [
    "# Look for loss values\n",
    "# print number of values for each column\n",
    "df=df.sort_values( by=['load_time'] )\n",
    "print(df.count()) # total rows"
   ]
  },
  {
   "cell_type": "code",
   "execution_count": 17,
   "metadata": {},
   "outputs": [
    {
     "name": "stdout",
     "output_type": "stream",
     "text": [
      "965\n"
     ]
    }
   ],
   "source": [
    "# duplicated values\n",
    "df1 = df.duplicated().sum() # duplicated rows\n",
    "\n",
    "# missing values\n",
    "df = df.dropna(axis=0, how ='any')\n",
    "df = df.dropna() # drop all rows with NaN\n",
    "print(len(df))"
   ]
  },
  {
   "cell_type": "code",
   "execution_count": 18,
   "metadata": {},
   "outputs": [
    {
     "name": "stdout",
     "output_type": "stream",
     "text": [
      "2020-12-09T00:00:00.000    148\n",
      "2020-12-10T00:00:00.000    138\n",
      "2020-12-08T00:00:00.000    138\n",
      "2020-12-11T00:00:00.000    108\n",
      "2020-12-07T00:00:00.000     76\n",
      "Name: report_date, dtype: int64\n"
     ]
    }
   ],
   "source": [
    "# number of values for each day\n",
    "# parse Timestamp report_date\n",
    "rd = pd.to_datetime(df['report_date']).dt.tz_localize(None) #without hours\n",
    "s = df.report_date.value_counts()\n",
    "print(s.head())\n",
    "\n",
    "df = df.drop(['report_date'], axis=1)\n",
    "\n",
    "#separate report_date column in Year/Month/Day/Hour/Dayofweek columns\n",
    "df['Year'] = pd.to_datetime(df['load_time']).dt.tz_localize(None).dt.year \n",
    "df['Month'] = pd.to_datetime(df['load_time']).dt.tz_localize(None).dt.month \n",
    "df['Day'] = pd.to_datetime(df['load_time']).dt.tz_localize(None).dt.day \n",
    "df['Hour'] = pd.to_datetime(df['load_time']).dt.tz_localize(None).dt.hour\n",
    "df['Dayofweek']= pd.to_datetime(df['load_time']).dt.dayofweek"
   ]
  },
  {
   "cell_type": "code",
   "execution_count": 24,
   "metadata": {},
   "outputs": [
    {
     "name": "stdout",
     "output_type": "stream",
     "text": [
      "2004\n",
      "2020\n"
     ]
    },
    {
     "name": "stderr",
     "output_type": "stream",
     "text": [
      "E:\\Software\\Anaconda3\\lib\\site-packages\\seaborn\\_decorators.py:36: FutureWarning: Pass the following variable as a keyword arg: x. From version 0.12, the only valid positional argument will be `data`, and passing other arguments without an explicit keyword will result in an error or misinterpretation.\n",
      "  warnings.warn(\n"
     ]
    },
    {
     "data": {
      "image/png": "[encoded data removed]",
      "text/plain": [
       "<Figure size 720x360 with 1 Axes>"
      ]
     },
     "metadata": {},
     "output_type": "display_data"
    }
   ],
   "source": [
    "#Range of dates\n",
    "# min(year)\n",
    "print(df['Year'].min())\n",
    "#max(year)\n",
    "print(df['Year'].max())\n",
    "\n",
    "#number of data for each year\n",
    "with sns.axes_style('white'):\n",
    "    g = sns.catplot(\"Year\", data=df, aspect=2,\n",
    "                       kind=\"count\", color='steelblue')\n",
    "    g.set_xticklabels(step=1)"
   ]
  },
  {
   "cell_type": "code",
   "execution_count": 25,
   "metadata": {},
   "outputs": [
    {
     "name": "stdout",
     "output_type": "stream",
     "text": [
      "802\n"
     ]
    }
   ],
   "source": [
    "# Year to study: 2020\n",
    "df_2020 = df[(df['Year'] == 2020)]\n",
    "print(len(df_2020['load_type']))"
   ]
  },
  {
   "cell_type": "code",
   "execution_count": 26,
   "metadata": {},
   "outputs": [
    {
     "data": {
      "image/png": "[encoded data removed]",
      "text/plain": [
       "<Figure size 1152x360 with 1 Axes>"
      ]
     },
     "metadata": {
      "needs_background": "light"
     },
     "output_type": "display_data"
    }
   ],
   "source": [
    "#Distribution of data in 2020\n",
    "import warnings\n",
    "warnings.filterwarnings('ignore')\n",
    "plt.figure(figsize=(16,5))\n",
    "sns.distplot(df_2020['Month'])\n",
    "plt.show()"
   ]
  },
  {
   "cell_type": "code",
   "execution_count": 27,
   "metadata": {},
   "outputs": [
    {
     "name": "stdout",
     "output_type": "stream",
     "text": [
      "756\n"
     ]
    }
   ],
   "source": [
    "# Select data of December (data are centred in this month)\n",
    "df_2020_dic = df_2020[(df_2020['Month'] == 12)]\n",
    "print(len(df_2020_dic))"
   ]
  },
  {
   "cell_type": "code",
   "execution_count": 28,
   "metadata": {},
   "outputs": [
    {
     "name": "stdout",
     "output_type": "stream",
     "text": [
      "Empty DataFrame\n",
      "Columns: [load_type, load_time, load_weight, dropoff_site, route_type, route_number, load_id, Year, Month, Day, Hour, Dayofweek]\n",
      "Index: []\n"
     ]
    }
   ],
   "source": [
    "# Is there any negative value in load_weight?\n",
    "print(df_2020[(df_2020['load_weight'] < 0)])"
   ]
  },
  {
   "cell_type": "code",
   "execution_count": 29,
   "metadata": {},
   "outputs": [
    {
     "name": "stdout",
     "output_type": "stream",
     "text": [
      "['AUSTIN IRON AND METAL', 'BALCONES RECYCLING', 'GREAT NORTHERN', 'HORNSBY BEND', 'MRF', 'ORGANICS BY GOSH', 'TDS - MRF', 'TDS LANDFILL']\n",
      "8\n"
     ]
    }
   ],
   "source": [
    "#List of values of dropoff site in December\n",
    "df_site_2020 = list(np.unique(np.array(df_2020_dic['dropoff_site'])))\n",
    "print(df_site_2020)\n",
    "print(len(df_site_2020))"
   ]
  },
  {
   "cell_type": "code",
   "execution_count": 30,
   "metadata": {},
   "outputs": [
    {
     "name": "stdout",
     "output_type": "stream",
     "text": [
      "['BRUSH', 'BULK', 'DEAD ANIMAL', 'GARBAGE COLLECTIONS', 'MIXED LITTER', 'ORGANICS', 'RECYCLED METAL', 'RECYCLING - SINGLE STREAM', 'SWEEPING', 'TIRES', 'YARD TRIMMING']\n",
      "11\n"
     ]
    }
   ],
   "source": [
    "#List of values of load type\n",
    "df_LoadType_2020 = list(np.unique(np.array(df_2020_dic['load_type'])))\n",
    "print(df_LoadType_2020)\n",
    "print(len(df_LoadType_2020))"
   ]
  },
  {
   "cell_type": "code",
   "execution_count": 31,
   "metadata": {},
   "outputs": [
    {
     "name": "stdout",
     "output_type": "stream",
     "text": [
      "['BRUSH', 'BULK', 'DEAD ANIMAL', 'GARBAGE COLLECTION', 'KAB', 'LITTER CONTROL', 'ON CALL BULK', 'RECYCLING - SINGLE STREAM', 'STREET CLEANING-SPECIAL PROJECTS', 'SWEEPER DUMPSITES', 'YARD TRIMMINGS', 'YARD TRIMMINGS-ORGANICS']\n",
      "12\n"
     ]
    }
   ],
   "source": [
    "#List of values of route type\n",
    "df_route_2020 = list(np.unique(np.array(df_2020_dic['route_type'])))\n",
    "print(df_route_2020)\n",
    "print(len(df_route_2020))"
   ]
  },
  {
   "cell_type": "code",
   "execution_count": 32,
   "metadata": {},
   "outputs": [
    {
     "data": {
      "text/plain": [
       "dropoff_site           load_type                \n",
       "AUSTIN IRON AND METAL  RECYCLED METAL                 2\n",
       "BALCONES RECYCLING     RECYCLING - SINGLE STREAM     88\n",
       "GREAT NORTHERN         GARBAGE COLLECTIONS            1\n",
       "HORNSBY BEND           BRUSH                         53\n",
       "                       YARD TRIMMING                 23\n",
       "MRF                    TIRES                         11\n",
       "ORGANICS BY GOSH       ORGANICS                     102\n",
       "TDS - MRF              GARBAGE COLLECTIONS            1\n",
       "                       RECYCLING - SINGLE STREAM    102\n",
       "TDS LANDFILL           BULK                         114\n",
       "                       DEAD ANIMAL                    5\n",
       "                       GARBAGE COLLECTIONS          237\n",
       "                       MIXED LITTER                   6\n",
       "                       SWEEPING                      10\n",
       "                       TIRES                          1\n",
       "dtype: int64"
      ]
     },
     "execution_count": 32,
     "metadata": {},
     "output_type": "execute_result"
    }
   ],
   "source": [
    "#What type of load is accepted in each dropoff site? How many value is there in each dropoff site?\n",
    "df_2020_dic.groupby(['dropoff_site', 'load_type']).size()"
   ]
  },
  {
   "cell_type": "code",
   "execution_count": 33,
   "metadata": {},
   "outputs": [
    {
     "data": {
      "text/plain": [
       "dropoff_site        load_type                \n",
       "BALCONES RECYCLING  RECYCLING - SINGLE STREAM     88\n",
       "HORNSBY BEND        BRUSH                         53\n",
       "                    YARD TRIMMING                 23\n",
       "ORGANICS BY GOSH    ORGANICS                     102\n",
       "TDS - MRF           RECYCLING - SINGLE STREAM    102\n",
       "TDS LANDFILL        BULK                         114\n",
       "                    GARBAGE COLLECTIONS          237\n",
       "dtype: int64"
      ]
     },
     "execution_count": 33,
     "metadata": {},
     "output_type": "execute_result"
    }
   ],
   "source": [
    "#Delete data with dropoff_site+load_type with less than 20 values\n",
    "df_2020_dic = df_2020_dic.drop(df_2020_dic[df_2020_dic.dropoff_site == 'GREAT NORTHERN'].index)\n",
    "df_2020_dic = df_2020_dic.drop(df_2020_dic[df_2020_dic.dropoff_site == 'AUSTIN IRON AND METAL'].index)\n",
    "df_2020_dic = df_2020_dic.drop(df_2020_dic[df_2020_dic.dropoff_site == 'MRF'].index)\n",
    "df_2020_dic = df_2020_dic.drop(df_2020_dic[(df_2020_dic.dropoff_site == 'TDS - MRF') & (df_2020_dic.load_type == 'GARBAGE COLLECTIONS')].index)\n",
    "df_2020_dic = df_2020_dic.drop(df_2020_dic[(df_2020_dic.dropoff_site == 'TDS LANDFILL') & (df_2020_dic.load_type == 'TIRES')].index)\n",
    "df_2020_dic = df_2020_dic.drop(df_2020_dic[(df_2020_dic.dropoff_site == 'AUSTIN IRON AND METAL') & (df_2020_dic.load_type == 'AUSTIN IRON AND METAL')].index)\n",
    "df_2020_dic = df_2020_dic.drop(df_2020_dic[(df_2020_dic.dropoff_site == 'TDS LANDFILL') & (df_2020_dic.load_type == 'SWEEPING')].index)\n",
    "df_2020_dic = df_2020_dic.drop(df_2020_dic[(df_2020_dic.dropoff_site == 'TDS LANDFILL') & (df_2020_dic.load_type == 'MIXED LITTER')].index)\n",
    "df_2020_dic = df_2020_dic.drop(df_2020_dic[(df_2020_dic.dropoff_site == 'TDS LANDFILL') & (df_2020_dic.load_type == 'DEAD ANIMAL')].index)\n",
    "df_2020_dic.groupby(['dropoff_site', 'load_type']).size()"
   ]
  },
  {
   "cell_type": "code",
   "execution_count": 34,
   "metadata": {},
   "outputs": [
    {
     "data": {
      "text/plain": [
       "route_type                 load_type                \n",
       "BRUSH                      BRUSH                         53\n",
       "BULK                       BULK                         108\n",
       "GARBAGE COLLECTION         GARBAGE COLLECTIONS          237\n",
       "KAB                        RECYCLING - SINGLE STREAM      1\n",
       "LITTER CONTROL             RECYCLING - SINGLE STREAM      1\n",
       "ON CALL BULK               BULK                           6\n",
       "RECYCLING - SINGLE STREAM  RECYCLING - SINGLE STREAM    188\n",
       "YARD TRIMMINGS             YARD TRIMMING                 23\n",
       "YARD TRIMMINGS-ORGANICS    ORGANICS                     102\n",
       "dtype: int64"
      ]
     },
     "execution_count": 34,
     "metadata": {},
     "output_type": "execute_result"
    }
   ],
   "source": [
    "#What type of load is there in each route?\n",
    "df_2020_dic.groupby(['route_type', 'load_type']).size()"
   ]
  },
  {
   "cell_type": "code",
   "execution_count": 35,
   "metadata": {},
   "outputs": [
    {
     "data": {
      "text/plain": [
       "dropoff_site        load_type                \n",
       "BALCONES RECYCLING  RECYCLING - SINGLE STREAM     88\n",
       "HORNSBY BEND        BRUSH                         53\n",
       "                    YARD TRIMMING                 23\n",
       "ORGANICS BY GOSH    ORGANICS                     102\n",
       "TDS - MRF           RECYCLING - SINGLE STREAM    100\n",
       "TDS LANDFILL        BULK                         108\n",
       "                    GARBAGE COLLECTIONS          237\n",
       "dtype: int64"
      ]
     },
     "execution_count": 35,
     "metadata": {},
     "output_type": "execute_result"
    }
   ],
   "source": [
    "#Delete data with dropoff_site+route_type with less than 20 values\n",
    "df_2020_dic = df_2020_dic.drop(df_2020_dic[df_2020_dic.route_type == 'KAB'].index)\n",
    "df_2020_dic = df_2020_dic.drop(df_2020_dic[df_2020_dic.route_type == 'LITTER CONTROL'].index)\n",
    "df_2020_dic = df_2020_dic.drop(df_2020_dic[df_2020_dic.route_type == 'ON CALL BULK'].index)\n",
    "df_2020_dic.groupby(['dropoff_site', 'load_type']).size()"
   ]
  },
  {
   "cell_type": "code",
   "execution_count": 36,
   "metadata": {},
   "outputs": [
    {
     "name": "stdout",
     "output_type": "stream",
     "text": [
      "['BALCONES RECYCLING', 'HORNSBY BEND', 'ORGANICS BY GOSH', 'TDS - MRF', 'TDS LANDFILL']\n",
      "5\n",
      "['BRUSH', 'BULK', 'GARBAGE COLLECTIONS', 'ORGANICS', 'RECYCLING - SINGLE STREAM', 'YARD TRIMMING']\n",
      "6\n",
      "['BRUSH', 'BULK', 'GARBAGE COLLECTION', 'RECYCLING - SINGLE STREAM', 'YARD TRIMMINGS', 'YARD TRIMMINGS-ORGANICS']\n",
      "6\n"
     ]
    }
   ],
   "source": [
    "#Overview about the last changes in the dataset\n",
    "\n",
    "#List of values of dropoff site in December\n",
    "df_site_2020 = list(np.unique(np.array(df_2020_dic['dropoff_site'])))\n",
    "print(df_site_2020)\n",
    "print(len(df_site_2020))\n",
    "\n",
    "#List of values of load type\n",
    "df_LoadType_2020 = list(np.unique(np.array(df_2020_dic['load_type'])))\n",
    "print(df_LoadType_2020)\n",
    "print(len(df_LoadType_2020))\n",
    "\n",
    "#List of values of route type\n",
    "df_route_2020 = list(np.unique(np.array(df_2020_dic['route_type'])))\n",
    "print(df_route_2020)\n",
    "print(len(df_route_2020))"
   ]
  },
  {
   "cell_type": "code",
   "execution_count": 37,
   "metadata": {},
   "outputs": [
    {
     "data": {
      "image/png": "[encoded data removed]",
      "text/plain": [
       "<Figure size 720x360 with 1 Axes>"
      ]
     },
     "metadata": {},
     "output_type": "display_data"
    }
   ],
   "source": [
    "#number of data for each year\n",
    "with sns.axes_style('white'):\n",
    "    g = sns.catplot(\"Day\", data=df_2020_dic, aspect=2,\n",
    "                       kind=\"count\", color='steelblue')\n",
    "    g.set_xticklabels(step=1)"
   ]
  },
  {
   "cell_type": "code",
   "execution_count": 38,
   "metadata": {},
   "outputs": [
    {
     "data": {
      "text/plain": [
       "dropoff_site        Day\n",
       "BALCONES RECYCLING  2       7\n",
       "                    3      10\n",
       "                    4      23\n",
       "                    8       1\n",
       "                    9      26\n",
       "                    10     21\n",
       "HORNSBY BEND        8      16\n",
       "                    9      13\n",
       "                    10     17\n",
       "                    11     18\n",
       "                    14     12\n",
       "ORGANICS BY GOSH    7       1\n",
       "                    8      15\n",
       "                    9      15\n",
       "                    10     29\n",
       "                    11     42\n",
       "TDS - MRF           1      10\n",
       "                    2       1\n",
       "                    7      36\n",
       "                    8      37\n",
       "                    9       4\n",
       "                    14     12\n",
       "TDS LANDFILL        4      12\n",
       "                    7      34\n",
       "                    8      61\n",
       "                    9      77\n",
       "                    10     63\n",
       "                    11     42\n",
       "                    12     52\n",
       "                    14      4\n",
       "dtype: int64"
      ]
     },
     "execution_count": 38,
     "metadata": {},
     "output_type": "execute_result"
    }
   ],
   "source": [
    "#Where and what day is there waste?\n",
    "df_2020_dic.groupby(['dropoff_site', 'Day']).size()"
   ]
  },
  {
   "cell_type": "code",
   "execution_count": 39,
   "metadata": {},
   "outputs": [
    {
     "data": {
      "text/plain": [
       "dropoff_site        Day\n",
       "BALCONES RECYCLING  3      10\n",
       "                    4      23\n",
       "                    9      26\n",
       "                    10     21\n",
       "HORNSBY BEND        8      16\n",
       "                    9      13\n",
       "                    10     17\n",
       "                    11     18\n",
       "                    14     12\n",
       "ORGANICS BY GOSH    8      15\n",
       "                    9      15\n",
       "                    10     29\n",
       "                    11     42\n",
       "TDS - MRF           1      10\n",
       "                    7      36\n",
       "                    8      37\n",
       "                    14     12\n",
       "TDS LANDFILL        4      12\n",
       "                    7      34\n",
       "                    8      61\n",
       "                    9      77\n",
       "                    10     63\n",
       "                    11     42\n",
       "                    12     52\n",
       "dtype: int64"
      ]
     },
     "execution_count": 39,
     "metadata": {},
     "output_type": "execute_result"
    }
   ],
   "source": [
    "#Delete data with dropoff_site+day with less than 10 values\n",
    "df_2020_dic = df_2020_dic.drop(df_2020_dic[(df_2020_dic.dropoff_site == 'BALCONES RECYCLING') & (df_2020_dic.Day == 8)].index)\n",
    "df_2020_dic = df_2020_dic.drop(df_2020_dic[(df_2020_dic.dropoff_site == 'BALCONES RECYCLING') & (df_2020_dic.Day == 2)].index)\n",
    "df_2020_dic = df_2020_dic.drop(df_2020_dic[(df_2020_dic.dropoff_site == 'ORGANICS BY GOSH') & (df_2020_dic.Day == 7)].index)\n",
    "df_2020_dic = df_2020_dic.drop(df_2020_dic[(df_2020_dic.dropoff_site == 'TDS - MRF') & (df_2020_dic.Day == 2)].index)\n",
    "df_2020_dic = df_2020_dic.drop(df_2020_dic[(df_2020_dic.dropoff_site == 'TDS - MRF') & (df_2020_dic.Day == 9)].index)\n",
    "df_2020_dic = df_2020_dic.drop(df_2020_dic[(df_2020_dic.dropoff_site == 'TDS LANDFILL') & (df_2020_dic.Day == 14)].index)\n",
    "df_2020_dic.groupby(['dropoff_site', 'Day']).size()"
   ]
  },
  {
   "cell_type": "code",
   "execution_count": 40,
   "metadata": {},
   "outputs": [
    {
     "data": {
      "text/plain": [
       "load_type                  Day\n",
       "BRUSH                      8      12\n",
       "                           9       8\n",
       "                           10     12\n",
       "                           11     15\n",
       "                           14      6\n",
       "BULK                       8       9\n",
       "                           9      18\n",
       "                           10     21\n",
       "                           11     10\n",
       "                           12     50\n",
       "GARBAGE COLLECTIONS        4      12\n",
       "                           7      34\n",
       "                           8      52\n",
       "                           9      59\n",
       "                           10     42\n",
       "                           11     32\n",
       "                           12      2\n",
       "ORGANICS                   8      15\n",
       "                           9      15\n",
       "                           10     29\n",
       "                           11     42\n",
       "RECYCLING - SINGLE STREAM  1      10\n",
       "                           3      10\n",
       "                           4      23\n",
       "                           7      36\n",
       "                           8      37\n",
       "                           9      26\n",
       "                           10     21\n",
       "                           14     12\n",
       "YARD TRIMMING              8       4\n",
       "                           9       5\n",
       "                           10      5\n",
       "                           11      3\n",
       "                           14      6\n",
       "dtype: int64"
      ]
     },
     "execution_count": 40,
     "metadata": {},
     "output_type": "execute_result"
    }
   ],
   "source": [
    "#What type of load is there each day?\n",
    "df_2020_dic.groupby(['load_type', 'Day']).size()"
   ]
  },
  {
   "cell_type": "code",
   "execution_count": 41,
   "metadata": {},
   "outputs": [
    {
     "data": {
      "text/plain": [
       "load_type                  Day\n",
       "BRUSH                      8      12\n",
       "                           10     12\n",
       "                           11     15\n",
       "BULK                       9      18\n",
       "                           10     21\n",
       "                           11     10\n",
       "                           12     50\n",
       "GARBAGE COLLECTIONS        4      12\n",
       "                           7      34\n",
       "                           8      52\n",
       "                           9      59\n",
       "                           10     42\n",
       "                           11     32\n",
       "ORGANICS                   8      15\n",
       "                           9      15\n",
       "                           10     29\n",
       "                           11     42\n",
       "RECYCLING - SINGLE STREAM  1      10\n",
       "                           3      10\n",
       "                           4      23\n",
       "                           7      36\n",
       "                           8      37\n",
       "                           9      26\n",
       "                           10     21\n",
       "                           14     12\n",
       "dtype: int64"
      ]
     },
     "execution_count": 41,
     "metadata": {},
     "output_type": "execute_result"
    }
   ],
   "source": [
    "#Delete data with load_type+day with less than 10 values\n",
    "df_2020_dic = df_2020_dic.drop(df_2020_dic[(df_2020_dic.load_type == 'BRUSH') & (df_2020_dic.Day == 9)].index)\n",
    "df_2020_dic = df_2020_dic.drop(df_2020_dic[(df_2020_dic.load_type == 'BRUSH') & (df_2020_dic.Day == 14)].index)\n",
    "df_2020_dic = df_2020_dic.drop(df_2020_dic[(df_2020_dic.load_type == 'BULK') & (df_2020_dic.Day == 8)].index)\n",
    "df_2020_dic = df_2020_dic.drop(df_2020_dic[(df_2020_dic.load_type == 'GARBAGE COLLECTIONS') & (df_2020_dic.Day == 12)].index)\n",
    "df_2020_dic = df_2020_dic.drop(df_2020_dic[(df_2020_dic.load_type == 'YARD TRIMMING')].index)\n",
    "df_2020_dic.groupby(['load_type', 'Day']).size()"
   ]
  },
  {
   "cell_type": "code",
   "execution_count": 42,
   "metadata": {},
   "outputs": [
    {
     "data": {
      "image/png": "[encoded data removed]",
      "text/plain": [
       "<Figure size 720x360 with 1 Axes>"
      ]
     },
     "metadata": {},
     "output_type": "display_data"
    }
   ],
   "source": [
    "#number of data for each day of week\n",
    "\n",
    "with sns.axes_style('white'):\n",
    "    g = sns.catplot(\"Dayofweek\", data=df_2020_dic, aspect=2,\n",
    "                       kind=\"count\", color='steelblue')\n",
    "    g.set_xticklabels(step=1)"
   ]
  },
  {
   "cell_type": "code",
   "execution_count": 43,
   "metadata": {},
   "outputs": [
    {
     "data": {
      "text/plain": [
       "dropoff_site        Dayofweek\n",
       "BALCONES RECYCLING  2            26\n",
       "                    3            31\n",
       "                    4            23\n",
       "HORNSBY BEND        1            12\n",
       "                    3            12\n",
       "                    4            15\n",
       "ORGANICS BY GOSH    1            15\n",
       "                    2            15\n",
       "                    3            29\n",
       "                    4            42\n",
       "TDS - MRF           0            48\n",
       "                    1            47\n",
       "TDS LANDFILL        0            34\n",
       "                    1            52\n",
       "                    2            77\n",
       "                    3            63\n",
       "                    4            54\n",
       "                    5            50\n",
       "dtype: int64"
      ]
     },
     "execution_count": 43,
     "metadata": {},
     "output_type": "execute_result"
    }
   ],
   "source": [
    "#Where and what day of week is there waste?\n",
    "df_2020_dic.groupby(['dropoff_site', 'Dayofweek']).size()"
   ]
  },
  {
   "cell_type": "code",
   "execution_count": 44,
   "metadata": {},
   "outputs": [
    {
     "name": "stdout",
     "output_type": "stream",
     "text": [
      "645\n"
     ]
    }
   ],
   "source": [
    "#Total Data (clean)\n",
    "print(len(df_2020_dic))"
   ]
  },
  {
   "cell_type": "code",
   "execution_count": 45,
   "metadata": {},
   "outputs": [],
   "source": [
    "#save cleaned dataset \n",
    "df_2020.to_csv (r'df_2020.csv', index = False, header=True)"
   ]
  },
  {
   "cell_type": "markdown",
   "metadata": {},
   "source": [
    "### 2. Prediction Model using Forecasting (ARIMA)"
   ]
  },
  {
   "cell_type": "code",
   "execution_count": 46,
   "metadata": {},
   "outputs": [],
   "source": [
    "#Load weight for each day of December\n",
    "df_2020_dic_day = df_2020_dic.groupby(\"Day\")[[\"load_weight\"]].sum()\n",
    "df_2020_dic_day = df_2020_dic_day.reset_index()\n",
    "#Days of month without data --> mean of data\n",
    "mean_2020_dic = df[\"load_weight\"].mean()\n",
    "data_add = pd.DataFrame({'Day': [2, 5, 6, 13],'load_weight': [mean_2020_dic, mean_2020_dic, mean_2020_dic, mean_2020_dic]})\n",
    "df_2020_dic_day = df_2020_dic_day.append(data_add, ignore_index = True)\n",
    "#sort values by day of month\n",
    "df_2020_dic_day = df_2020_dic_day.sort_values(by=['Day'])"
   ]
  },
  {
   "cell_type": "code",
   "execution_count": 50,
   "metadata": {},
   "outputs": [
    {
     "data": {
      "image/png": "[encoded data removed]",
      "text/plain": [
       "<Figure size 432x288 with 1 Axes>"
      ]
     },
     "metadata": {
      "needs_background": "light"
     },
     "output_type": "display_data"
    }
   ],
   "source": [
    "import matplotlib.pyplot as plt\n",
    "import seaborn as sns\n",
    "import datetime\n",
    "\n",
    "#select training data (70%) and test data (30%)\n",
    "train = df_2020_dic_day[df_2020_dic_day['Day'] < 12]\n",
    "test = df_2020_dic_day[df_2020_dic_day['Day'] >= 12]\n",
    "\n",
    "#plot training data and test data\n",
    "plt.scatter(train['Day'], train['load_weight'], color = \"black\", marker=\"o\")\n",
    "plt.scatter(test['Day'], test['load_weight'], color = \"red\", marker=\"o\")\n",
    "plt.ylabel('load_weight')\n",
    "plt.xlabel('Date')\n",
    "plt.xticks(rotation=45)\n",
    "plt.title(\"Train/Test split for load_weight Data\")\n",
    "plt.show()"
   ]
  },
  {
   "cell_type": "code",
   "execution_count": 63,
   "metadata": {},
   "outputs": [
    {
     "name": "stdout",
     "output_type": "stream",
     "text": [
      "RMSE:  903529.8853891903\n"
     ]
    },
    {
     "name": "stderr",
     "output_type": "stream",
     "text": [
      "ValueWarning: An unsupported index was provided and will be ignored when e.g. forecasting.\n",
      "ValueWarning: An unsupported index was provided and will be ignored when e.g. forecasting.\n",
      "ValueWarning: An unsupported index was provided and will be ignored when e.g. forecasting.\n",
      "ValueWarning: No supported index is available. Prediction results will be given with an integer index beginning at `start`.\n",
      "ValueWarning: No supported index is available. Prediction results will be given with an integer index beginning at `start`.\n"
     ]
    },
    {
     "data": {
      "image/png": "[encoded data removed]",
      "text/plain": [
       "<Figure size 432x288 with 1 Axes>"
      ]
     },
     "metadata": {
      "needs_background": "light"
     },
     "output_type": "display_data"
    }
   ],
   "source": [
    "from statsmodels.tsa.arima.model import ARIMA\n",
    "\n",
    "y = train['load_weight']\n",
    "\n",
    "#Define and run ARIMA model\n",
    "#ARIMAmodel = ARIMA(y, order = (4, 11, 12))\n",
    "ARIMAmodel = ARIMA(y, order = (1, 1, 1))\n",
    "ARIMAmodel = ARIMAmodel.fit()\n",
    "\n",
    "#Calculate predictions\n",
    "y_pred = ARIMAmodel.get_forecast(len(test['Day']))\n",
    "y_pred_df = y_pred.conf_int(alpha = 0.05) \n",
    "y_pred_df[\"Predictions\"] = ARIMAmodel.predict(start = y_pred_df.index[0], end = y_pred_df.index[-1])\n",
    "y_pred_df.index = test['Day']\n",
    "y_pred_out = y_pred_df[\"Predictions\"] \n",
    "\n",
    "#Plot dataset with predictions\n",
    "plt.scatter(train['Day'], train['load_weight'], color = \"black\", marker=\"o\")\n",
    "plt.scatter(test['Day'], test['load_weight'], color = \"red\", marker=\"o\")\n",
    "plt.ylabel('load_weight')\n",
    "plt.xlabel('Date')\n",
    "plt.plot(y_pred_out, color='green', label = 'Predictions')\n",
    "plt.legend()\n",
    "\n",
    "\n",
    "import numpy as np\n",
    "from sklearn.metrics import mean_squared_error\n",
    "\n",
    "#Metrics: RMSE\n",
    "arma_rmse = np.sqrt(mean_squared_error(test['load_weight'].values, y_pred_df[\"Predictions\"]))\n",
    "print(\"RMSE: \",arma_rmse)"
   ]
  },
  {
   "cell_type": "markdown",
   "metadata": {},
   "source": [
    "### 3. Correlation with API Weather"
   ]
  },
  {
   "cell_type": "code",
   "execution_count": 52,
   "metadata": {},
   "outputs": [
    {
     "name": "stderr",
     "output_type": "stream",
     "text": [
      "WARNING: Ignoring invalid distribution -illow (e:\\software\\anaconda3\\lib\\site-packages)\n",
      "WARNING: Ignoring invalid distribution -illow (e:\\software\\anaconda3\\lib\\site-packages)\n",
      "WARNING: Ignoring invalid distribution -illow (e:\\software\\anaconda3\\lib\\site-packages)\n",
      "WARNING: Ignoring invalid distribution -illow (e:\\software\\anaconda3\\lib\\site-packages)\n",
      "WARNING: Ignoring invalid distribution -illow (e:\\software\\anaconda3\\lib\\site-packages)\n",
      "WARNING: Ignoring invalid distribution -illow (e:\\software\\anaconda3\\lib\\site-packages)\n"
     ]
    },
    {
     "name": "stdout",
     "output_type": "stream",
     "text": [
      "Index(['tavg', 'tmin', 'tmax', 'prcp', 'snow', 'wdir', 'wspd', 'wpgt', 'pres',\n",
      "       'tsun'],\n",
      "      dtype='object')\n"
     ]
    },
    {
     "data": {
      "image/png": "[encoded data removed]",
      "text/plain": [
       "<Figure size 432x288 with 1 Axes>"
      ]
     },
     "metadata": {
      "needs_background": "light"
     },
     "output_type": "display_data"
    }
   ],
   "source": [
    "!pip install meteostat -q\n",
    "from datetime import datetime\n",
    "import matplotlib.pyplot as plt\n",
    "from meteostat import Point, Daily\n",
    "\n",
    "# Set time period\n",
    "start = datetime(2020, 1, 1)\n",
    "end = datetime(2020, 12, 31)\n",
    "\n",
    "# Create Point (latitude; longitude, altitude)\n",
    "austin = Point(30.2672, -97.7431, 165)\n",
    "\n",
    "# Get daily data for 2020\n",
    "data = Daily(austin, start, end)\n",
    "data = data.fetch()\n",
    "print(data.columns)\n",
    "\n",
    "# precipitation\n",
    "data.plot(y=['prcp'])\n",
    "plt.show()"
   ]
  },
  {
   "cell_type": "code",
   "execution_count": 53,
   "metadata": {},
   "outputs": [
    {
     "name": "stdout",
     "output_type": "stream",
     "text": [
      "      load_weight        load_id    Year  Month       Hour  Dayofweek\n",
      "Day                                                                  \n",
      "1     8266.000000  899230.600000  2020.0   12.0  12.200000        1.0\n",
      "2    10590.000000  899385.125000  2020.0   12.0  11.875000        2.0\n",
      "3     9738.000000  899086.500000  2020.0   12.0  12.500000        3.0\n",
      "4    12702.857143  899214.542857  2020.0   12.0  12.400000        4.0\n",
      "7    13470.389610  899196.480519  2020.0   12.0  13.233766        0.0\n",
      "8    11595.620438  899200.737226  2020.0   12.0  13.197080        1.0\n",
      "9    11232.054795  899379.280822  2020.0   12.0  13.280822        2.0\n",
      "10   10712.230216  899504.589928  2020.0   12.0  12.776978        3.0\n",
      "11   11366.972477  899689.366972  2020.0   12.0  13.770642        4.0\n",
      "12    8151.178571  899770.571429  2020.0   12.0  12.410714        5.0\n",
      "14   11846.896552  899823.344828  2020.0   12.0  13.310345        0.0\n"
     ]
    },
    {
     "data": {
      "image/png": "[encoded data removed]",
      "text/plain": [
       "<Figure size 432x288 with 1 Axes>"
      ]
     },
     "metadata": {
      "needs_background": "light"
     },
     "output_type": "display_data"
    },
    {
     "data": {
      "image/png": "[encoded data removed]",
      "text/plain": [
       "<Figure size 432x288 with 1 Axes>"
      ]
     },
     "metadata": {
      "needs_background": "light"
     },
     "output_type": "display_data"
    }
   ],
   "source": [
    "df_2020_December = df_2020[(df_2020['Month'] == 12)]\n",
    "print(df_2020_December.groupby(['Day']).mean()) # 14 days\n",
    "\n",
    "start = datetime(2020, 12, 1)\n",
    "end = datetime(2020, 12, 14)\n",
    "data = Daily(austin, start, end).fetch()\n",
    "\n",
    "data.plot(y=['prcp'])\n",
    "\n",
    "df_2020_December.groupby(['Day']).sum().plot(y='load_weight', kind = 'bar')\n",
    "plt.show()"
   ]
  },
  {
   "cell_type": "markdown",
   "metadata": {},
   "source": [
    "### 4. Correlation with Recycle Drop off Locations"
   ]
  },
  {
   "cell_type": "code",
   "execution_count": 54,
   "metadata": {},
   "outputs": [],
   "source": [
    "import geopandas as gpd\n",
    "import pandas as pd\n",
    "import folium\n",
    "from folium import Choropleth, Circle, Marker\n",
    "from folium.plugins import HeatMap, MarkerCluster\n",
    "import math\n",
    "from geopy.geocoders import Nominatim"
   ]
  },
  {
   "cell_type": "code",
   "execution_count": 55,
   "metadata": {},
   "outputs": [],
   "source": [
    "# read csv (dataset2) with coordinates of different recycle drop off of Austin in 2020\n",
    "url2 = 'https://data.austintexas.gov/api/views/9bpw-2ysw/rows.csv?accessType=DOWNLOAD'\n",
    "df2 = pd.read_csv(url2, sep=',')\n",
    "df2 = df2.loc[:,['Zone','Business Name','Address','Zip Code']]\n",
    "df2[['Road','City','Coordinates']] = df2['Address'].str.split('\\n',expand=True)\n",
    "df2 = df2.loc[:,['Zone','Business Name','Road','City','Zip Code','Coordinates']]\n",
    "df2[['Latitude','Longitude']] = df2['Coordinates'].str.split(',',expand=True)\n",
    "df2['Latitude']=df2['Latitude'].str.replace('(','')\n",
    "df2['Longitude']=df2['Longitude'].str.replace(')','')"
   ]
  },
  {
   "cell_type": "code",
   "execution_count": 56,
   "metadata": {},
   "outputs": [],
   "source": [
    "#Get Points of GeoDataFrame\n",
    "df2['Latitude'] = df2['Latitude'].astype(float, errors = 'raise')\n",
    "df2['Longitude'] = df2['Longitude'].astype(float, errors = 'raise')\n",
    "gdf = gpd.GeoDataFrame(df2, geometry=gpd.points_from_xy(df2.Longitude, df2.Latitude))"
   ]
  },
  {
   "cell_type": "code",
   "execution_count": 57,
   "metadata": {},
   "outputs": [],
   "source": [
    "#Create dataset with latitude and longitude of drop off of dataset1\n",
    "data = {'dropoff_site': ['BALCONES RECYCLING', 'HORNSBY BEND', 'TDS - MRF', 'TDS LANDFILL'], \n",
    "        'Latitude': [30.32710, 30.38498, 30.11160, 30.11004], 'Longitude': [-97.62632, -97.68206, -97.71330, -97.79703]}\n",
    "df_dropoff = pd.DataFrame(data)"
   ]
  },
  {
   "cell_type": "code",
   "execution_count": 58,
   "metadata": {},
   "outputs": [],
   "source": [
    "#Get Points of GeoDataFrame\n",
    "df_dropoff['Latitude'] = df_dropoff['Latitude'].astype(float, errors = 'raise')\n",
    "df_dropoff['Longitude'] = df_dropoff['Longitude'].astype(float, errors = 'raise')\n",
    "gdf_dropoff = gpd.GeoDataFrame(df_dropoff, geometry=gpd.points_from_xy(df_dropoff.Longitude, df_dropoff.Latitude))"
   ]
  },
  {
   "cell_type": "code",
   "execution_count": 59,
   "metadata": {},
   "outputs": [
    {
     "data": {
      "text/html": [
       "<div style=\"width:100%;\"><div style=\"position:relative;width:100%;height:0;padding-bottom:60%;\"><span style=\"color:#565656\">Make this Notebook Trusted to load map: File -> Trust Notebook</span><iframe src=\"about:blank\" style=\"position:absolute;width:100%;height:100%;left:0;top:0;border:none !important;\" data-html=%3C%21DOCTYPE%20html%3E%0A%3Chead%3E%20%20%20%20%0A%20%20%20%20%3Cmeta%20http-equiv%3D%22content-type%22%20content%3D%22text/html%3B%20charset%3DUTF-8%22%20/%3E%0A%20%20%20%20%0A%20%20%20%20%20%20%20%20%3Cscript%3E%0A%20%20%20%20%20%20%20%20%20%20%20%20L_NO_TOUCH%20%3D%20false%3B%0A%20%20%20%20%20%20%20%20%20%20%20%20L_DISABLE_3D%20%3D%20false%3B%0A%20%20%20%20%20%20%20%20%3C/script%3E%0A%20%20%20%20%0A%20%20%20%20%3Cstyle%3Ehtml%2C%20body%20%7Bwidth%3A%20100%25%3Bheight%3A%20100%25%3Bmargin%3A%200%3Bpadding%3A%200%3B%7D%3C/style%3E%0A%20%20%20%20%3Cstyle%3E%23map%20%7Bposition%3Aabsolute%3Btop%3A0%3Bbottom%3A0%3Bright%3A0%3Bleft%3A0%3B%7D%3C/style%3E%0A%20%20%20%20%3Cscript%20src%3D%22https%3A//cdn.jsdelivr.net/npm/leaflet%401.6.0/dist/leaflet.js%22%3E%3C/script%3E%0A%20%20%20%20%3Cscript%20src%3D%22https%3A//code.jquery.com/jquery-1.12.4.min.js%22%3E%3C/script%3E%0A%20%20%20%20%3Cscript%20src%3D%22https%3A//maxcdn.bootstrapcdn.com/bootstrap/3.2.0/js/bootstrap.min.js%22%3E%3C/script%3E%0A%20%20%20%20%3Cscript%20src%3D%22https%3A//cdnjs.cloudflare.com/ajax/libs/Leaflet.awesome-markers/2.0.2/leaflet.awesome-markers.js%22%3E%3C/script%3E%0A%20%20%20%20%3Clink%20rel%3D%22stylesheet%22%20href%3D%22https%3A//cdn.jsdelivr.net/npm/leaflet%401.6.0/dist/leaflet.css%22/%3E%0A%20%20%20%20%3Clink%20rel%3D%22stylesheet%22%20href%3D%22https%3A//maxcdn.bootstrapcdn.com/bootstrap/3.2.0/css/bootstrap.min.css%22/%3E%0A%20%20%20%20%3Clink%20rel%3D%22stylesheet%22%20href%3D%22https%3A//maxcdn.bootstrapcdn.com/bootstrap/3.2.0/css/bootstrap-theme.min.css%22/%3E%0A%20%20%20%20%3Clink%20rel%3D%22stylesheet%22%20href%3D%22https%3A//maxcdn.bootstrapcdn.com/font-awesome/4.6.3/css/font-awesome.min.css%22/%3E%0A%20%20%20%20%3Clink%20rel%3D%22stylesheet%22%20href%3D%22https%3A//cdnjs.cloudflare.com/ajax/libs/Leaflet.awesome-markers/2.0.2/leaflet.awesome-markers.css%22/%3E%0A%20%20%20%20%3Clink%20rel%3D%22stylesheet%22%20href%3D%22https%3A//cdn.jsdelivr.net/gh/python-visualization/folium/folium/templates/leaflet.awesome.rotate.min.css%22/%3E%0A%20%20%20%20%0A%20%20%20%20%20%20%20%20%20%20%20%20%3Cmeta%20name%3D%22viewport%22%20content%3D%22width%3Ddevice-width%2C%0A%20%20%20%20%20%20%20%20%20%20%20%20%20%20%20%20initial-scale%3D1.0%2C%20maximum-scale%3D1.0%2C%20user-scalable%3Dno%22%20/%3E%0A%20%20%20%20%20%20%20%20%20%20%20%20%3Cstyle%3E%0A%20%20%20%20%20%20%20%20%20%20%20%20%20%20%20%20%23map_1a1b18e2e1e941fd8cf9a6a5c6ed3609%20%7B%0A%20%20%20%20%20%20%20%20%20%20%20%20%20%20%20%20%20%20%20%20position%3A%20relative%3B%0A%20%20%20%20%20%20%20%20%20%20%20%20%20%20%20%20%20%20%20%20width%3A%20100.0%25%3B%0A%20%20%20%20%20%20%20%20%20%20%20%20%20%20%20%20%20%20%20%20height%3A%20100.0%25%3B%0A%20%20%20%20%20%20%20%20%20%20%20%20%20%20%20%20%20%20%20%20left%3A%200.0%25%3B%0A%20%20%20%20%20%20%20%20%20%20%20%20%20%20%20%20%20%20%20%20top%3A%200.0%25%3B%0A%20%20%20%20%20%20%20%20%20%20%20%20%20%20%20%20%7D%0A%20%20%20%20%20%20%20%20%20%20%20%20%3C/style%3E%0A%20%20%20%20%20%20%20%20%0A%3C/head%3E%0A%3Cbody%3E%20%20%20%20%0A%20%20%20%20%0A%20%20%20%20%20%20%20%20%20%20%20%20%3Cdiv%20class%3D%22folium-map%22%20id%3D%22map_1a1b18e2e1e941fd8cf9a6a5c6ed3609%22%20%3E%3C/div%3E%0A%20%20%20%20%20%20%20%20%0A%3C/body%3E%0A%3Cscript%3E%20%20%20%20%0A%20%20%20%20%0A%20%20%20%20%20%20%20%20%20%20%20%20var%20map_1a1b18e2e1e941fd8cf9a6a5c6ed3609%20%3D%20L.map%28%0A%20%20%20%20%20%20%20%20%20%20%20%20%20%20%20%20%22map_1a1b18e2e1e941fd8cf9a6a5c6ed3609%22%2C%0A%20%20%20%20%20%20%20%20%20%20%20%20%20%20%20%20%7B%0A%20%20%20%20%20%20%20%20%20%20%20%20%20%20%20%20%20%20%20%20center%3A%20%5B30.3%2C%20-97.75%5D%2C%0A%20%20%20%20%20%20%20%20%20%20%20%20%20%20%20%20%20%20%20%20crs%3A%20L.CRS.EPSG3857%2C%0A%20%20%20%20%20%20%20%20%20%20%20%20%20%20%20%20%20%20%20%20zoom%3A%2010%2C%0A%20%20%20%20%20%20%20%20%20%20%20%20%20%20%20%20%20%20%20%20zoomControl%3A%20true%2C%0A%20%20%20%20%20%20%20%20%20%20%20%20%20%20%20%20%20%20%20%20preferCanvas%3A%20false%2C%0A%20%20%20%20%20%20%20%20%20%20%20%20%20%20%20%20%7D%0A%20%20%20%20%20%20%20%20%20%20%20%20%29%3B%0A%0A%20%20%20%20%20%20%20%20%20%20%20%20%0A%0A%20%20%20%20%20%20%20%20%0A%20%20%20%20%0A%20%20%20%20%20%20%20%20%20%20%20%20var%20tile_layer_3b564c4ab7df4af68459ecfc7c2371e5%20%3D%20L.tileLayer%28%0A%20%20%20%20%20%20%20%20%20%20%20%20%20%20%20%20%22https%3A//cartodb-basemaps-%7Bs%7D.global.ssl.fastly.net/light_all/%7Bz%7D/%7Bx%7D/%7By%7D.png%22%2C%0A%20%20%20%20%20%20%20%20%20%20%20%20%20%20%20%20%7B%22attribution%22%3A%20%22%5Cu0026copy%3B%20%5Cu003ca%20href%3D%5C%22http%3A//www.openstreetmap.org/copyright%5C%22%5Cu003eOpenStreetMap%5Cu003c/a%5Cu003e%20contributors%20%5Cu0026copy%3B%20%5Cu003ca%20href%3D%5C%22http%3A//cartodb.com/attributions%5C%22%5Cu003eCartoDB%5Cu003c/a%5Cu003e%2C%20CartoDB%20%5Cu003ca%20href%20%3D%5C%22http%3A//cartodb.com/attributions%5C%22%5Cu003eattributions%5Cu003c/a%5Cu003e%22%2C%20%22detectRetina%22%3A%20false%2C%20%22maxNativeZoom%22%3A%2018%2C%20%22maxZoom%22%3A%2018%2C%20%22minZoom%22%3A%200%2C%20%22noWrap%22%3A%20false%2C%20%22opacity%22%3A%201%2C%20%22subdomains%22%3A%20%22abc%22%2C%20%22tms%22%3A%20false%7D%0A%20%20%20%20%20%20%20%20%20%20%20%20%29.addTo%28map_1a1b18e2e1e941fd8cf9a6a5c6ed3609%29%3B%0A%20%20%20%20%20%20%20%20%0A%20%20%20%20%0A%20%20%20%20%20%20%20%20%20%20%20%20var%20marker_63ca28a218204691b70e33b87f122b1f%20%3D%20L.marker%28%0A%20%20%20%20%20%20%20%20%20%20%20%20%20%20%20%20%5B30.21197822400046%2C%20-97.72995848699969%5D%2C%0A%20%20%20%20%20%20%20%20%20%20%20%20%20%20%20%20%7B%7D%0A%20%20%20%20%20%20%20%20%20%20%20%20%29.addTo%28map_1a1b18e2e1e941fd8cf9a6a5c6ed3609%29%3B%0A%20%20%20%20%20%20%20%20%0A%20%20%20%20%0A%20%20%20%20%20%20%20%20%20%20%20%20var%20marker_192234e0a0d5477da77ffa7cc0d393c5%20%3D%20L.marker%28%0A%20%20%20%20%20%20%20%20%20%20%20%20%20%20%20%20%5B30.21303076400045%2C%20-97.73832021699968%5D%2C%0A%20%20%20%20%20%20%20%20%20%20%20%20%20%20%20%20%7B%7D%0A%20%20%20%20%20%20%20%20%20%20%20%20%29.addTo%28map_1a1b18e2e1e941fd8cf9a6a5c6ed3609%29%3B%0A%20%20%20%20%20%20%20%20%0A%20%20%20%20%0A%20%20%20%20%20%20%20%20%20%20%20%20var%20marker_5db10e7c06064c009743283ee1b546a5%20%3D%20L.marker%28%0A%20%20%20%20%20%20%20%20%20%20%20%20%20%20%20%20%5B30.136601191000466%2C%20-97.67324819399965%5D%2C%0A%20%20%20%20%20%20%20%20%20%20%20%20%20%20%20%20%7B%7D%0A%20%20%20%20%20%20%20%20%20%20%20%20%29.addTo%28map_1a1b18e2e1e941fd8cf9a6a5c6ed3609%29%3B%0A%20%20%20%20%20%20%20%20%0A%20%20%20%20%0A%20%20%20%20%20%20%20%20%20%20%20%20var%20marker_8f32236154c7450a9741ecc644561e21%20%3D%20L.marker%28%0A%20%20%20%20%20%20%20%20%20%20%20%20%20%20%20%20%5B30.401251131000436%2C%20-97.75333968099966%5D%2C%0A%20%20%20%20%20%20%20%20%20%20%20%20%20%20%20%20%7B%7D%0A%20%20%20%20%20%20%20%20%20%20%20%20%29.addTo%28map_1a1b18e2e1e941fd8cf9a6a5c6ed3609%29%3B%0A%20%20%20%20%20%20%20%20%0A%20%20%20%20%0A%20%20%20%20%20%20%20%20%20%20%20%20var%20marker_430985a35f42438c830279f63b12807a%20%3D%20L.marker%28%0A%20%20%20%20%20%20%20%20%20%20%20%20%20%20%20%20%5B30.23095105900046%2C%20-97.73379059599966%5D%2C%0A%20%20%20%20%20%20%20%20%20%20%20%20%20%20%20%20%7B%7D%0A%20%20%20%20%20%20%20%20%20%20%20%20%29.addTo%28map_1a1b18e2e1e941fd8cf9a6a5c6ed3609%29%3B%0A%20%20%20%20%20%20%20%20%0A%20%20%20%20%0A%20%20%20%20%20%20%20%20%20%20%20%20var%20marker_b60db510e8b04fa28b0127ade3eabb4b%20%3D%20L.marker%28%0A%20%20%20%20%20%20%20%20%20%20%20%20%20%20%20%20%5B30.326210362000438%2C%20-97.6278986749997%5D%2C%0A%20%20%20%20%20%20%20%20%20%20%20%20%20%20%20%20%7B%7D%0A%20%20%20%20%20%20%20%20%20%20%20%20%29.addTo%28map_1a1b18e2e1e941fd8cf9a6a5c6ed3609%29%3B%0A%20%20%20%20%20%20%20%20%0A%20%20%20%20%0A%20%20%20%20%20%20%20%20%20%20%20%20var%20marker_cbe8e9fd4fce4729913c32cd150a64c9%20%3D%20L.marker%28%0A%20%20%20%20%20%20%20%20%20%20%20%20%20%20%20%20%5B30.136162345000457%2C%20-97.7587492129997%5D%2C%0A%20%20%20%20%20%20%20%20%20%20%20%20%20%20%20%20%7B%7D%0A%20%20%20%20%20%20%20%20%20%20%20%20%29.addTo%28map_1a1b18e2e1e941fd8cf9a6a5c6ed3609%29%3B%0A%20%20%20%20%20%20%20%20%0A%20%20%20%20%0A%20%20%20%20%20%20%20%20%20%20%20%20var%20marker_60d65f24638e401dbe73d5d45e9304d2%20%3D%20L.marker%28%0A%20%20%20%20%20%20%20%20%20%20%20%20%20%20%20%20%5B30.220960771000478%2C%20-97.76516033099966%5D%2C%0A%20%20%20%20%20%20%20%20%20%20%20%20%20%20%20%20%7B%7D%0A%20%20%20%20%20%20%20%20%20%20%20%20%29.addTo%28map_1a1b18e2e1e941fd8cf9a6a5c6ed3609%29%3B%0A%20%20%20%20%20%20%20%20%0A%20%20%20%20%0A%20%20%20%20%20%20%20%20%20%20%20%20var%20marker_b5bfbc6dd977415f8a660273cc4edcb9%20%3D%20L.marker%28%0A%20%20%20%20%20%20%20%20%20%20%20%20%20%20%20%20%5B30.191450819000465%2C%20-97.77308111999969%5D%2C%0A%20%20%20%20%20%20%20%20%20%20%20%20%20%20%20%20%7B%7D%0A%20%20%20%20%20%20%20%20%20%20%20%20%29.addTo%28map_1a1b18e2e1e941fd8cf9a6a5c6ed3609%29%3B%0A%20%20%20%20%20%20%20%20%0A%20%20%20%20%0A%20%20%20%20%20%20%20%20%20%20%20%20var%20marker_5fe3900c043b4d9d8e13f76121b82542%20%3D%20L.marker%28%0A%20%20%20%20%20%20%20%20%20%20%20%20%20%20%20%20%5B30.209320415000434%2C%20-97.80440015499966%5D%2C%0A%20%20%20%20%20%20%20%20%20%20%20%20%20%20%20%20%7B%7D%0A%20%20%20%20%20%20%20%20%20%20%20%20%29.addTo%28map_1a1b18e2e1e941fd8cf9a6a5c6ed3609%29%3B%0A%20%20%20%20%20%20%20%20%0A%20%20%20%20%0A%20%20%20%20%20%20%20%20%20%20%20%20var%20marker_9f9e30e4adf941859169de0207c340f3%20%3D%20L.marker%28%0A%20%20%20%20%20%20%20%20%20%20%20%20%20%20%20%20%5B30.218950038000457%2C%20-97.75540049999967%5D%2C%0A%20%20%20%20%20%20%20%20%20%20%20%20%20%20%20%20%7B%7D%0A%20%20%20%20%20%20%20%20%20%20%20%20%29.addTo%28map_1a1b18e2e1e941fd8cf9a6a5c6ed3609%29%3B%0A%20%20%20%20%20%20%20%20%0A%20%20%20%20%0A%20%20%20%20%20%20%20%20%20%20%20%20var%20marker_808307c24c6e44039b186776e216a95f%20%3D%20L.marker%28%0A%20%20%20%20%20%20%20%20%20%20%20%20%20%20%20%20%5B30.197620138000445%2C%20-97.84079038399966%5D%2C%0A%20%20%20%20%20%20%20%20%20%20%20%20%20%20%20%20%7B%7D%0A%20%20%20%20%20%20%20%20%20%20%20%20%29.addTo%28map_1a1b18e2e1e941fd8cf9a6a5c6ed3609%29%3B%0A%20%20%20%20%20%20%20%20%0A%20%20%20%20%0A%20%20%20%20%20%20%20%20%20%20%20%20var%20marker_9128a2d4f0b14f8e8a8a653903fe90ee%20%3D%20L.marker%28%0A%20%20%20%20%20%20%20%20%20%20%20%20%20%20%20%20%5B30.24331044000047%2C%20-97.72930015099968%5D%2C%0A%20%20%20%20%20%20%20%20%20%20%20%20%20%20%20%20%7B%7D%0A%20%20%20%20%20%20%20%20%20%20%20%20%29.addTo%28map_1a1b18e2e1e941fd8cf9a6a5c6ed3609%29%3B%0A%20%20%20%20%20%20%20%20%0A%20%20%20%20%0A%20%20%20%20%20%20%20%20%20%20%20%20var%20marker_f75c324378694fdfa178d977f07e89a0%20%3D%20L.marker%28%0A%20%20%20%20%20%20%20%20%20%20%20%20%20%20%20%20%5B30.23450008800046%2C%20-97.72412064199966%5D%2C%0A%20%20%20%20%20%20%20%20%20%20%20%20%20%20%20%20%7B%7D%0A%20%20%20%20%20%20%20%20%20%20%20%20%29.addTo%28map_1a1b18e2e1e941fd8cf9a6a5c6ed3609%29%3B%0A%20%20%20%20%20%20%20%20%0A%20%20%20%20%0A%20%20%20%20%20%20%20%20%20%20%20%20var%20marker_c0f16088ca3a424a81aa1c4e3268020c%20%3D%20L.marker%28%0A%20%20%20%20%20%20%20%20%20%20%20%20%20%20%20%20%5B30.288663348000455%2C%20-97.71564675799965%5D%2C%0A%20%20%20%20%20%20%20%20%20%20%20%20%20%20%20%20%7B%7D%0A%20%20%20%20%20%20%20%20%20%20%20%20%29.addTo%28map_1a1b18e2e1e941fd8cf9a6a5c6ed3609%29%3B%0A%20%20%20%20%20%20%20%20%0A%20%20%20%20%0A%20%20%20%20%20%20%20%20%20%20%20%20var%20marker_4317d4c3443e4eeea96bf433a7442223%20%3D%20L.marker%28%0A%20%20%20%20%20%20%20%20%20%20%20%20%20%20%20%20%5B30.308370607000484%2C%20-97.66935035599965%5D%2C%0A%20%20%20%20%20%20%20%20%20%20%20%20%20%20%20%20%7B%7D%0A%20%20%20%20%20%20%20%20%20%20%20%20%29.addTo%28map_1a1b18e2e1e941fd8cf9a6a5c6ed3609%29%3B%0A%20%20%20%20%20%20%20%20%0A%20%20%20%20%0A%20%20%20%20%20%20%20%20%20%20%20%20var%20marker_35992bc74da94dc0996a46a6ecc24902%20%3D%20L.marker%28%0A%20%20%20%20%20%20%20%20%20%20%20%20%20%20%20%20%5B30.187940967000486%2C%20-97.7640910129997%5D%2C%0A%20%20%20%20%20%20%20%20%20%20%20%20%20%20%20%20%7B%7D%0A%20%20%20%20%20%20%20%20%20%20%20%20%29.addTo%28map_1a1b18e2e1e941fd8cf9a6a5c6ed3609%29%3B%0A%20%20%20%20%20%20%20%20%0A%20%20%20%20%0A%20%20%20%20%20%20%20%20%20%20%20%20var%20marker_ed1da6e02a2a4d7397932a3f13a40efd%20%3D%20L.marker%28%0A%20%20%20%20%20%20%20%20%20%20%20%20%20%20%20%20%5B30.227610592000474%2C%20-97.76259074099966%5D%2C%0A%20%20%20%20%20%20%20%20%20%20%20%20%20%20%20%20%7B%7D%0A%20%20%20%20%20%20%20%20%20%20%20%20%29.addTo%28map_1a1b18e2e1e941fd8cf9a6a5c6ed3609%29%3B%0A%20%20%20%20%20%20%20%20%0A%20%20%20%20%0A%20%20%20%20%20%20%20%20%20%20%20%20var%20marker_4f9db7f7cb02467a9122f62d912d40c0%20%3D%20L.marker%28%0A%20%20%20%20%20%20%20%20%20%20%20%20%20%20%20%20%5B30.17674078300047%2C%20-97.82212110499967%5D%2C%0A%20%20%20%20%20%20%20%20%20%20%20%20%20%20%20%20%7B%7D%0A%20%20%20%20%20%20%20%20%20%20%20%20%29.addTo%28map_1a1b18e2e1e941fd8cf9a6a5c6ed3609%29%3B%0A%20%20%20%20%20%20%20%20%0A%20%20%20%20%0A%20%20%20%20%20%20%20%20%20%20%20%20var%20marker_4d8f2e6bbfe6427ba3b705fdcae1ed61%20%3D%20L.marker%28%0A%20%20%20%20%20%20%20%20%20%20%20%20%20%20%20%20%5B30.431592304000446%2C%20-97.80136937099968%5D%2C%0A%20%20%20%20%20%20%20%20%20%20%20%20%20%20%20%20%7B%7D%0A%20%20%20%20%20%20%20%20%20%20%20%20%29.addTo%28map_1a1b18e2e1e941fd8cf9a6a5c6ed3609%29%3B%0A%20%20%20%20%20%20%20%20%0A%20%20%20%20%0A%20%20%20%20%20%20%20%20%20%20%20%20var%20marker_125d0184ac484651bb82a08a911ebf63%20%3D%20L.marker%28%0A%20%20%20%20%20%20%20%20%20%20%20%20%20%20%20%20%5B30.431780113000457%2C%20-97.76365347099966%5D%2C%0A%20%20%20%20%20%20%20%20%20%20%20%20%20%20%20%20%7B%7D%0A%20%20%20%20%20%20%20%20%20%20%20%20%29.addTo%28map_1a1b18e2e1e941fd8cf9a6a5c6ed3609%29%3B%0A%20%20%20%20%20%20%20%20%0A%20%20%20%20%0A%20%20%20%20%20%20%20%20%20%20%20%20var%20marker_b8c86304594944c08acdd18b055b0405%20%3D%20L.marker%28%0A%20%20%20%20%20%20%20%20%20%20%20%20%20%20%20%20%5B30.431592304000446%2C%20-97.80136937099968%5D%2C%0A%20%20%20%20%20%20%20%20%20%20%20%20%20%20%20%20%7B%7D%0A%20%20%20%20%20%20%20%20%20%20%20%20%29.addTo%28map_1a1b18e2e1e941fd8cf9a6a5c6ed3609%29%3B%0A%20%20%20%20%20%20%20%20%0A%20%20%20%20%0A%20%20%20%20%20%20%20%20%20%20%20%20var%20marker_5fc2cd92d90e4c24ad24fcb8d9d29c36%20%3D%20L.marker%28%0A%20%20%20%20%20%20%20%20%20%20%20%20%20%20%20%20%5B30.383593028000462%2C%20-97.7079865129997%5D%2C%0A%20%20%20%20%20%20%20%20%20%20%20%20%20%20%20%20%7B%7D%0A%20%20%20%20%20%20%20%20%20%20%20%20%29.addTo%28map_1a1b18e2e1e941fd8cf9a6a5c6ed3609%29%3B%0A%20%20%20%20%20%20%20%20%0A%20%20%20%20%0A%20%20%20%20%20%20%20%20%20%20%20%20var%20marker_3e7e8a85170c46df8a927d5cfcaa9950%20%3D%20L.marker%28%0A%20%20%20%20%20%20%20%20%20%20%20%20%20%20%20%20%5B30.254080823000436%2C%20-97.69874046999968%5D%2C%0A%20%20%20%20%20%20%20%20%20%20%20%20%20%20%20%20%7B%7D%0A%20%20%20%20%20%20%20%20%20%20%20%20%29.addTo%28map_1a1b18e2e1e941fd8cf9a6a5c6ed3609%29%3B%0A%20%20%20%20%20%20%20%20%0A%20%20%20%20%0A%20%20%20%20%20%20%20%20%20%20%20%20var%20marker_728f8b2507e54ec5a68ad0b1a603c383%20%3D%20L.marker%28%0A%20%20%20%20%20%20%20%20%20%20%20%20%20%20%20%20%5B30.30758150200046%2C%20-97.68754760699966%5D%2C%0A%20%20%20%20%20%20%20%20%20%20%20%20%20%20%20%20%7B%7D%0A%20%20%20%20%20%20%20%20%20%20%20%20%29.addTo%28map_1a1b18e2e1e941fd8cf9a6a5c6ed3609%29%3B%0A%20%20%20%20%20%20%20%20%0A%20%20%20%20%0A%20%20%20%20%20%20%20%20%20%20%20%20var%20marker_a9289e31f78d42058bf9fb1ed1b68796%20%3D%20L.marker%28%0A%20%20%20%20%20%20%20%20%20%20%20%20%20%20%20%20%5B30.313183780000486%2C%20-97.66294169999969%5D%2C%0A%20%20%20%20%20%20%20%20%20%20%20%20%20%20%20%20%7B%7D%0A%20%20%20%20%20%20%20%20%20%20%20%20%29.addTo%28map_1a1b18e2e1e941fd8cf9a6a5c6ed3609%29%3B%0A%20%20%20%20%20%20%20%20%0A%20%20%20%20%0A%20%20%20%20%20%20%20%20%20%20%20%20var%20marker_18f36eb859394e588424ee1547c5c872%20%3D%20L.marker%28%0A%20%20%20%20%20%20%20%20%20%20%20%20%20%20%20%20%5B30.273220233000472%2C%20-97.69781057899968%5D%2C%0A%20%20%20%20%20%20%20%20%20%20%20%20%20%20%20%20%7B%7D%0A%20%20%20%20%20%20%20%20%20%20%20%20%29.addTo%28map_1a1b18e2e1e941fd8cf9a6a5c6ed3609%29%3B%0A%20%20%20%20%20%20%20%20%0A%20%20%20%20%0A%20%20%20%20%20%20%20%20%20%20%20%20var%20marker_b7e062ee4764496aa0d9eeffcac4b274%20%3D%20L.marker%28%0A%20%20%20%20%20%20%20%20%20%20%20%20%20%20%20%20%5B30.21499079600045%2C%20-97.75729024199967%5D%2C%0A%20%20%20%20%20%20%20%20%20%20%20%20%20%20%20%20%7B%7D%0A%20%20%20%20%20%20%20%20%20%20%20%20%29.addTo%28map_1a1b18e2e1e941fd8cf9a6a5c6ed3609%29%3B%0A%20%20%20%20%20%20%20%20%0A%20%20%20%20%0A%20%20%20%20%20%20%20%20%20%20%20%20var%20marker_989b7e1a3b6448959f77a3a276ec3034%20%3D%20L.marker%28%0A%20%20%20%20%20%20%20%20%20%20%20%20%20%20%20%20%5B30.172750429000473%2C%20-97.81697040399968%5D%2C%0A%20%20%20%20%20%20%20%20%20%20%20%20%20%20%20%20%7B%7D%0A%20%20%20%20%20%20%20%20%20%20%20%20%29.addTo%28map_1a1b18e2e1e941fd8cf9a6a5c6ed3609%29%3B%0A%20%20%20%20%20%20%20%20%0A%20%20%20%20%0A%20%20%20%20%20%20%20%20%20%20%20%20var%20marker_cf62411f930f4b96bea53fe9b4abbce5%20%3D%20L.marker%28%0A%20%20%20%20%20%20%20%20%20%20%20%20%20%20%20%20%5B30.177100295000457%2C%20-97.82190101899965%5D%2C%0A%20%20%20%20%20%20%20%20%20%20%20%20%20%20%20%20%7B%7D%0A%20%20%20%20%20%20%20%20%20%20%20%20%29.addTo%28map_1a1b18e2e1e941fd8cf9a6a5c6ed3609%29%3B%0A%20%20%20%20%20%20%20%20%0A%20%20%20%20%0A%20%20%20%20%20%20%20%20%20%20%20%20var%20marker_f94a5bd856de4a9eab62fa1e27c2eace%20%3D%20L.marker%28%0A%20%20%20%20%20%20%20%20%20%20%20%20%20%20%20%20%5B30.491740216000437%2C%20-97.76430647399968%5D%2C%0A%20%20%20%20%20%20%20%20%20%20%20%20%20%20%20%20%7B%7D%0A%20%20%20%20%20%20%20%20%20%20%20%20%29.addTo%28map_1a1b18e2e1e941fd8cf9a6a5c6ed3609%29%3B%0A%20%20%20%20%20%20%20%20%0A%20%20%20%20%0A%20%20%20%20%20%20%20%20%20%20%20%20var%20marker_b8c8609640f54b4f9df1bd063828fa9a%20%3D%20L.marker%28%0A%20%20%20%20%20%20%20%20%20%20%20%20%20%20%20%20%5B30.458510696000474%2C%20-97.79239106799969%5D%2C%0A%20%20%20%20%20%20%20%20%20%20%20%20%20%20%20%20%7B%7D%0A%20%20%20%20%20%20%20%20%20%20%20%20%29.addTo%28map_1a1b18e2e1e941fd8cf9a6a5c6ed3609%29%3B%0A%20%20%20%20%20%20%20%20%0A%20%20%20%20%0A%20%20%20%20%20%20%20%20%20%20%20%20var%20marker_fe8a4301b6344dc0b49b2629a256534c%20%3D%20L.marker%28%0A%20%20%20%20%20%20%20%20%20%20%20%20%20%20%20%20%5B30.433691234000435%2C%20-97.77164139999968%5D%2C%0A%20%20%20%20%20%20%20%20%20%20%20%20%20%20%20%20%7B%7D%0A%20%20%20%20%20%20%20%20%20%20%20%20%29.addTo%28map_1a1b18e2e1e941fd8cf9a6a5c6ed3609%29%3B%0A%20%20%20%20%20%20%20%20%0A%20%20%20%20%0A%20%20%20%20%20%20%20%20%20%20%20%20var%20marker_01e5ca49ac04491a9af7b556da53b4f6%20%3D%20L.marker%28%0A%20%20%20%20%20%20%20%20%20%20%20%20%20%20%20%20%5B30.390160763000438%2C%20-97.74353083799969%5D%2C%0A%20%20%20%20%20%20%20%20%20%20%20%20%20%20%20%20%7B%7D%0A%20%20%20%20%20%20%20%20%20%20%20%20%29.addTo%28map_1a1b18e2e1e941fd8cf9a6a5c6ed3609%29%3B%0A%20%20%20%20%20%20%20%20%0A%20%20%20%20%0A%20%20%20%20%20%20%20%20%20%20%20%20var%20marker_bb67fae09277453a8188c56d4d8133d0%20%3D%20L.marker%28%0A%20%20%20%20%20%20%20%20%20%20%20%20%20%20%20%20%5B30.374690219000456%2C%20-97.74043004699968%5D%2C%0A%20%20%20%20%20%20%20%20%20%20%20%20%20%20%20%20%7B%7D%0A%20%20%20%20%20%20%20%20%20%20%20%20%29.addTo%28map_1a1b18e2e1e941fd8cf9a6a5c6ed3609%29%3B%0A%20%20%20%20%20%20%20%20%0A%20%20%20%20%0A%20%20%20%20%20%20%20%20%20%20%20%20var%20marker_6fd9c36538fe403e9b6d24f26c87671d%20%3D%20L.marker%28%0A%20%20%20%20%20%20%20%20%20%20%20%20%20%20%20%20%5B30.33232196300048%2C%20-97.7038066179997%5D%2C%0A%20%20%20%20%20%20%20%20%20%20%20%20%20%20%20%20%7B%7D%0A%20%20%20%20%20%20%20%20%20%20%20%20%29.addTo%28map_1a1b18e2e1e941fd8cf9a6a5c6ed3609%29%3B%0A%20%20%20%20%20%20%20%20%0A%20%20%20%20%0A%20%20%20%20%20%20%20%20%20%20%20%20var%20marker_a491a617f0ec409691b24b0fccc1ad70%20%3D%20L.marker%28%0A%20%20%20%20%20%20%20%20%20%20%20%20%20%20%20%20%5B30.35552629600045%2C%20-97.7296820039997%5D%2C%0A%20%20%20%20%20%20%20%20%20%20%20%20%20%20%20%20%7B%7D%0A%20%20%20%20%20%20%20%20%20%20%20%20%29.addTo%28map_1a1b18e2e1e941fd8cf9a6a5c6ed3609%29%3B%0A%20%20%20%20%20%20%20%20%0A%20%20%20%20%0A%20%20%20%20%20%20%20%20%20%20%20%20var%20marker_8dd96c41d562486badc137353ec9cc71%20%3D%20L.marker%28%0A%20%20%20%20%20%20%20%20%20%20%20%20%20%20%20%20%5B30.350220351000473%2C%20-97.7345004019997%5D%2C%0A%20%20%20%20%20%20%20%20%20%20%20%20%20%20%20%20%7B%7D%0A%20%20%20%20%20%20%20%20%20%20%20%20%29.addTo%28map_1a1b18e2e1e941fd8cf9a6a5c6ed3609%29%3B%0A%20%20%20%20%20%20%20%20%0A%20%20%20%20%0A%20%20%20%20%20%20%20%20%20%20%20%20var%20marker_9ebf2e2b530548eba7107a2591af1889%20%3D%20L.marker%28%0A%20%20%20%20%20%20%20%20%20%20%20%20%20%20%20%20%5B30.366959127000484%2C%20-97.7280261999997%5D%2C%0A%20%20%20%20%20%20%20%20%20%20%20%20%20%20%20%20%7B%7D%0A%20%20%20%20%20%20%20%20%20%20%20%20%29.addTo%28map_1a1b18e2e1e941fd8cf9a6a5c6ed3609%29%3B%0A%20%20%20%20%20%20%20%20%0A%20%20%20%20%0A%20%20%20%20%20%20%20%20%20%20%20%20var%20marker_af3799aaf64b46d280fcb810bd5e1e99%20%3D%20L.marker%28%0A%20%20%20%20%20%20%20%20%20%20%20%20%20%20%20%20%5B30.36349003500044%2C%20-97.7164510509997%5D%2C%0A%20%20%20%20%20%20%20%20%20%20%20%20%20%20%20%20%7B%7D%0A%20%20%20%20%20%20%20%20%20%20%20%20%29.addTo%28map_1a1b18e2e1e941fd8cf9a6a5c6ed3609%29%3B%0A%20%20%20%20%20%20%20%20%0A%20%20%20%20%0A%20%20%20%20%20%20%20%20%20%20%20%20var%20marker_4199447150884d04a3dab75bf87561c1%20%3D%20L.marker%28%0A%20%20%20%20%20%20%20%20%20%20%20%20%20%20%20%20%5B30.358378924000476%2C%20-97.73575188899969%5D%2C%0A%20%20%20%20%20%20%20%20%20%20%20%20%20%20%20%20%7B%7D%0A%20%20%20%20%20%20%20%20%20%20%20%20%29.addTo%28map_1a1b18e2e1e941fd8cf9a6a5c6ed3609%29%3B%0A%20%20%20%20%20%20%20%20%0A%20%20%20%20%0A%20%20%20%20%20%20%20%20%20%20%20%20var%20marker_1024e26e73bc48728349c61226bd82d9%20%3D%20L.marker%28%0A%20%20%20%20%20%20%20%20%20%20%20%20%20%20%20%20%5B30.370100678000483%2C%20-97.72718110399967%5D%2C%0A%20%20%20%20%20%20%20%20%20%20%20%20%20%20%20%20%7B%7D%0A%20%20%20%20%20%20%20%20%20%20%20%20%29.addTo%28map_1a1b18e2e1e941fd8cf9a6a5c6ed3609%29%3B%0A%20%20%20%20%20%20%20%20%0A%20%20%20%20%0A%20%20%20%20%20%20%20%20%20%20%20%20var%20marker_0df47b7167444dc6abc867f9d2993a64%20%3D%20L.marker%28%0A%20%20%20%20%20%20%20%20%20%20%20%20%20%20%20%20%5B30.34116110700046%2C%20-97.73881108999967%5D%2C%0A%20%20%20%20%20%20%20%20%20%20%20%20%20%20%20%20%7B%7D%0A%20%20%20%20%20%20%20%20%20%20%20%20%29.addTo%28map_1a1b18e2e1e941fd8cf9a6a5c6ed3609%29%3B%0A%20%20%20%20%20%20%20%20%0A%20%20%20%20%0A%20%20%20%20%20%20%20%20%20%20%20%20var%20marker_efaba7ac90cb424e918a1aa17fca60d7%20%3D%20L.marker%28%0A%20%20%20%20%20%20%20%20%20%20%20%20%20%20%20%20%5B30.412896958000488%2C%20-97.7461896799997%5D%2C%0A%20%20%20%20%20%20%20%20%20%20%20%20%20%20%20%20%7B%7D%0A%20%20%20%20%20%20%20%20%20%20%20%20%29.addTo%28map_1a1b18e2e1e941fd8cf9a6a5c6ed3609%29%3B%0A%20%20%20%20%20%20%20%20%0A%20%20%20%20%0A%20%20%20%20%20%20%20%20%20%20%20%20var%20marker_15b63125c3464b3fa81c0e3203f8f8bc%20%3D%20L.marker%28%0A%20%20%20%20%20%20%20%20%20%20%20%20%20%20%20%20%5B30.431592304000446%2C%20-97.80136937099968%5D%2C%0A%20%20%20%20%20%20%20%20%20%20%20%20%20%20%20%20%7B%7D%0A%20%20%20%20%20%20%20%20%20%20%20%20%29.addTo%28map_1a1b18e2e1e941fd8cf9a6a5c6ed3609%29%3B%0A%20%20%20%20%20%20%20%20%0A%20%20%20%20%0A%20%20%20%20%20%20%20%20%20%20%20%20var%20marker_b8adcf24d1304e53970e3cfc49947619%20%3D%20L.marker%28%0A%20%20%20%20%20%20%20%20%20%20%20%20%20%20%20%20%5B30.36243108700046%2C%20-97.69739114699968%5D%2C%0A%20%20%20%20%20%20%20%20%20%20%20%20%20%20%20%20%7B%7D%0A%20%20%20%20%20%20%20%20%20%20%20%20%29.addTo%28map_1a1b18e2e1e941fd8cf9a6a5c6ed3609%29%3B%0A%20%20%20%20%20%20%20%20%0A%20%20%20%20%0A%20%20%20%20%20%20%20%20%20%20%20%20var%20marker_d98ae3f080b64e56820f85e7a8c2fa94%20%3D%20L.marker%28%0A%20%20%20%20%20%20%20%20%20%20%20%20%20%20%20%20%5B30.375020924000466%2C%20-97.72606108599967%5D%2C%0A%20%20%20%20%20%20%20%20%20%20%20%20%20%20%20%20%7B%7D%0A%20%20%20%20%20%20%20%20%20%20%20%20%29.addTo%28map_1a1b18e2e1e941fd8cf9a6a5c6ed3609%29%3B%0A%20%20%20%20%20%20%20%20%0A%20%20%20%20%0A%20%20%20%20%20%20%20%20%20%20%20%20var%20marker_fd201ba376ca4238bc596852e6781e6c%20%3D%20L.marker%28%0A%20%20%20%20%20%20%20%20%20%20%20%20%20%20%20%20%5B30.370960281000464%2C%20-97.6925803689997%5D%2C%0A%20%20%20%20%20%20%20%20%20%20%20%20%20%20%20%20%7B%7D%0A%20%20%20%20%20%20%20%20%20%20%20%20%29.addTo%28map_1a1b18e2e1e941fd8cf9a6a5c6ed3609%29%3B%0A%20%20%20%20%20%20%20%20%0A%20%20%20%20%0A%20%20%20%20%20%20%20%20%20%20%20%20var%20marker_1213b23916b9487c8fcd1215fb21f942%20%3D%20L.marker%28%0A%20%20%20%20%20%20%20%20%20%20%20%20%20%20%20%20%5B30.37197083300049%2C%20-97.69201114099968%5D%2C%0A%20%20%20%20%20%20%20%20%20%20%20%20%20%20%20%20%7B%7D%0A%20%20%20%20%20%20%20%20%20%20%20%20%29.addTo%28map_1a1b18e2e1e941fd8cf9a6a5c6ed3609%29%3B%0A%20%20%20%20%20%20%20%20%0A%20%20%20%20%0A%20%20%20%20%20%20%20%20%20%20%20%20var%20marker_bbd8be0671214b8188ab24d78ade4430%20%3D%20L.marker%28%0A%20%20%20%20%20%20%20%20%20%20%20%20%20%20%20%20%5B30.41937112000045%2C%20-97.70258102699967%5D%2C%0A%20%20%20%20%20%20%20%20%20%20%20%20%20%20%20%20%7B%7D%0A%20%20%20%20%20%20%20%20%20%20%20%20%29.addTo%28map_1a1b18e2e1e941fd8cf9a6a5c6ed3609%29%3B%0A%20%20%20%20%20%20%20%20%0A%20%20%20%20%0A%20%20%20%20%20%20%20%20%20%20%20%20var%20marker_0514cb7c92944eb9a62276804e20f3b0%20%3D%20L.marker%28%0A%20%20%20%20%20%20%20%20%20%20%20%20%20%20%20%20%5B30.36625546400046%2C%20-97.72815235999968%5D%2C%0A%20%20%20%20%20%20%20%20%20%20%20%20%20%20%20%20%7B%7D%0A%20%20%20%20%20%20%20%20%20%20%20%20%29.addTo%28map_1a1b18e2e1e941fd8cf9a6a5c6ed3609%29%3B%0A%20%20%20%20%20%20%20%20%0A%20%20%20%20%0A%20%20%20%20%20%20%20%20%20%20%20%20var%20marker_d1c8962889c54937b9b3aa82eaa50b49%20%3D%20L.marker%28%0A%20%20%20%20%20%20%20%20%20%20%20%20%20%20%20%20%5B30.357130588000473%2C%20-97.7155407469997%5D%2C%0A%20%20%20%20%20%20%20%20%20%20%20%20%20%20%20%20%7B%7D%0A%20%20%20%20%20%20%20%20%20%20%20%20%29.addTo%28map_1a1b18e2e1e941fd8cf9a6a5c6ed3609%29%3B%0A%20%20%20%20%20%20%20%20%0A%20%20%20%20%0A%20%20%20%20%20%20%20%20%20%20%20%20var%20marker_3dd5f12633574d76ad5a6dc50f86b1bc%20%3D%20L.marker%28%0A%20%20%20%20%20%20%20%20%20%20%20%20%20%20%20%20%5B30.371752889000447%2C%20-97.6805695279997%5D%2C%0A%20%20%20%20%20%20%20%20%20%20%20%20%20%20%20%20%7B%7D%0A%20%20%20%20%20%20%20%20%20%20%20%20%29.addTo%28map_1a1b18e2e1e941fd8cf9a6a5c6ed3609%29%3B%0A%20%20%20%20%20%20%20%20%0A%20%20%20%20%0A%20%20%20%20%20%20%20%20%20%20%20%20var%20marker_83ccdb7f0f394985b42a5a8ca1042f78%20%3D%20L.marker%28%0A%20%20%20%20%20%20%20%20%20%20%20%20%20%20%20%20%5B30.338820821000468%2C%20-97.69273016499966%5D%2C%0A%20%20%20%20%20%20%20%20%20%20%20%20%20%20%20%20%7B%7D%0A%20%20%20%20%20%20%20%20%20%20%20%20%29.addTo%28map_1a1b18e2e1e941fd8cf9a6a5c6ed3609%29%3B%0A%20%20%20%20%20%20%20%20%0A%20%20%20%20%0A%20%20%20%20%20%20%20%20%20%20%20%20var%20marker_92d9318a5454451d8c9cc803f2f8eaf8%20%3D%20L.marker%28%0A%20%20%20%20%20%20%20%20%20%20%20%20%20%20%20%20%5B30.26032043200047%2C%20-97.71022065999966%5D%2C%0A%20%20%20%20%20%20%20%20%20%20%20%20%20%20%20%20%7B%7D%0A%20%20%20%20%20%20%20%20%20%20%20%20%29.addTo%28map_1a1b18e2e1e941fd8cf9a6a5c6ed3609%29%3B%0A%20%20%20%20%20%20%20%20%0A%20%20%20%20%0A%20%20%20%20%20%20%20%20%20%20%20%20var%20marker_9841037abeeb429898b1ca54bbb41be7%20%3D%20L.marker%28%0A%20%20%20%20%20%20%20%20%20%20%20%20%20%20%20%20%5B30.260870070000465%2C%20-97.71362104499968%5D%2C%0A%20%20%20%20%20%20%20%20%20%20%20%20%20%20%20%20%7B%7D%0A%20%20%20%20%20%20%20%20%20%20%20%20%29.addTo%28map_1a1b18e2e1e941fd8cf9a6a5c6ed3609%29%3B%0A%20%20%20%20%20%20%20%20%0A%20%20%20%20%0A%20%20%20%20%20%20%20%20%20%20%20%20var%20marker_b67cbed15da24408800bed3c9d08eabb%20%3D%20L.marker%28%0A%20%20%20%20%20%20%20%20%20%20%20%20%20%20%20%20%5B30.209010451000438%2C%20-97.78277066299967%5D%2C%0A%20%20%20%20%20%20%20%20%20%20%20%20%20%20%20%20%7B%7D%0A%20%20%20%20%20%20%20%20%20%20%20%20%29.addTo%28map_1a1b18e2e1e941fd8cf9a6a5c6ed3609%29%3B%0A%20%20%20%20%20%20%20%20%0A%20%20%20%20%0A%20%20%20%20%20%20%20%20%20%20%20%20var%20marker_748f170e373e40498cc30aab4751bc98%20%3D%20L.marker%28%0A%20%20%20%20%20%20%20%20%20%20%20%20%20%20%20%20%5B30.25590027600049%2C%20-97.76158018899969%5D%2C%0A%20%20%20%20%20%20%20%20%20%20%20%20%20%20%20%20%7B%7D%0A%20%20%20%20%20%20%20%20%20%20%20%20%29.addTo%28map_1a1b18e2e1e941fd8cf9a6a5c6ed3609%29%3B%0A%20%20%20%20%20%20%20%20%0A%20%20%20%20%0A%20%20%20%20%20%20%20%20%20%20%20%20var%20marker_d2801718e2854ec4a3b7fc7d1f216f16%20%3D%20L.marker%28%0A%20%20%20%20%20%20%20%20%20%20%20%20%20%20%20%20%5B30.336061105000454%2C%20-97.75808070799968%5D%2C%0A%20%20%20%20%20%20%20%20%20%20%20%20%20%20%20%20%7B%7D%0A%20%20%20%20%20%20%20%20%20%20%20%20%29.addTo%28map_1a1b18e2e1e941fd8cf9a6a5c6ed3609%29%3B%0A%20%20%20%20%20%20%20%20%0A%20%20%20%20%0A%20%20%20%20%20%20%20%20%20%20%20%20var%20marker_9ab0e81c28fe4df0af4edf0f0a63e14e%20%3D%20L.marker%28%0A%20%20%20%20%20%20%20%20%20%20%20%20%20%20%20%20%5B30.357450922000453%2C%20-97.9797210699997%5D%2C%0A%20%20%20%20%20%20%20%20%20%20%20%20%20%20%20%20%7B%7D%0A%20%20%20%20%20%20%20%20%20%20%20%20%29.addTo%28map_1a1b18e2e1e941fd8cf9a6a5c6ed3609%29%3B%0A%20%20%20%20%20%20%20%20%0A%20%20%20%20%0A%20%20%20%20%20%20%20%20%20%20%20%20var%20marker_cc85e3043c1144ada46cdbedf44b3e25%20%3D%20L.marker%28%0A%20%20%20%20%20%20%20%20%20%20%20%20%20%20%20%20%5B30.30295193900048%2C%20-97.73799574399965%5D%2C%0A%20%20%20%20%20%20%20%20%20%20%20%20%20%20%20%20%7B%7D%0A%20%20%20%20%20%20%20%20%20%20%20%20%29.addTo%28map_1a1b18e2e1e941fd8cf9a6a5c6ed3609%29%3B%0A%20%20%20%20%20%20%20%20%0A%20%20%20%20%0A%20%20%20%20%20%20%20%20%20%20%20%20var%20marker_a58cf41fe84e4c86a117d50a62fef8d1%20%3D%20L.marker%28%0A%20%20%20%20%20%20%20%20%20%20%20%20%20%20%20%20%5B30.370940692000488%2C%20-97.72059004899967%5D%2C%0A%20%20%20%20%20%20%20%20%20%20%20%20%20%20%20%20%7B%7D%0A%20%20%20%20%20%20%20%20%20%20%20%20%29.addTo%28map_1a1b18e2e1e941fd8cf9a6a5c6ed3609%29%3B%0A%20%20%20%20%20%20%20%20%0A%20%20%20%20%0A%20%20%20%20%20%20%20%20%20%20%20%20var%20marker_01b70750d46f45c7a5a8392cc2b65f6c%20%3D%20L.marker%28%0A%20%20%20%20%20%20%20%20%20%20%20%20%20%20%20%20%5B30.35916091000047%2C%20-97.68994048999969%5D%2C%0A%20%20%20%20%20%20%20%20%20%20%20%20%20%20%20%20%7B%7D%0A%20%20%20%20%20%20%20%20%20%20%20%20%29.addTo%28map_1a1b18e2e1e941fd8cf9a6a5c6ed3609%29%3B%0A%20%20%20%20%20%20%20%20%0A%20%20%20%20%0A%20%20%20%20%20%20%20%20%20%20%20%20var%20marker_8ec368a7306445dd813e8133eead1d87%20%3D%20L.marker%28%0A%20%20%20%20%20%20%20%20%20%20%20%20%20%20%20%20%5B30.36886082300049%2C%20-97.69378104699967%5D%2C%0A%20%20%20%20%20%20%20%20%20%20%20%20%20%20%20%20%7B%7D%0A%20%20%20%20%20%20%20%20%20%20%20%20%29.addTo%28map_1a1b18e2e1e941fd8cf9a6a5c6ed3609%29%3B%0A%20%20%20%20%20%20%20%20%0A%20%20%20%20%0A%20%20%20%20%20%20%20%20%20%20%20%20var%20marker_5ec63cf1cb4e4b4e97266b69c4102a0c%20%3D%20L.marker%28%0A%20%20%20%20%20%20%20%20%20%20%20%20%20%20%20%20%5B30.430080433000455%2C%20-97.67657055699965%5D%2C%0A%20%20%20%20%20%20%20%20%20%20%20%20%20%20%20%20%7B%7D%0A%20%20%20%20%20%20%20%20%20%20%20%20%29.addTo%28map_1a1b18e2e1e941fd8cf9a6a5c6ed3609%29%3B%0A%20%20%20%20%20%20%20%20%0A%20%20%20%20%0A%20%20%20%20%20%20%20%20%20%20%20%20var%20marker_bc7e0492a0a94ec0a708d09e8f1781a9%20%3D%20L.marker%28%0A%20%20%20%20%20%20%20%20%20%20%20%20%20%20%20%20%5B30.366883464000466%2C%20-97.72804667099967%5D%2C%0A%20%20%20%20%20%20%20%20%20%20%20%20%20%20%20%20%7B%7D%0A%20%20%20%20%20%20%20%20%20%20%20%20%29.addTo%28map_1a1b18e2e1e941fd8cf9a6a5c6ed3609%29%3B%0A%20%20%20%20%20%20%20%20%0A%20%20%20%20%0A%20%20%20%20%20%20%20%20%20%20%20%20var%20marker_387eed0a18de43cc9dd012cd4364e2ee%20%3D%20L.marker%28%0A%20%20%20%20%20%20%20%20%20%20%20%20%20%20%20%20%5B30.237100790000454%2C%20-97.79141047599967%5D%2C%0A%20%20%20%20%20%20%20%20%20%20%20%20%20%20%20%20%7B%7D%0A%20%20%20%20%20%20%20%20%20%20%20%20%29.addTo%28map_1a1b18e2e1e941fd8cf9a6a5c6ed3609%29%3B%0A%20%20%20%20%20%20%20%20%0A%20%20%20%20%0A%20%20%20%20%20%20%20%20%20%20%20%20var%20marker_22802d4aa4224a92854934eead8af19c%20%3D%20L.marker%28%0A%20%20%20%20%20%20%20%20%20%20%20%20%20%20%20%20%5B30.26253332300047%2C%20-97.74480622299967%5D%2C%0A%20%20%20%20%20%20%20%20%20%20%20%20%20%20%20%20%7B%7D%0A%20%20%20%20%20%20%20%20%20%20%20%20%29.addTo%28map_1a1b18e2e1e941fd8cf9a6a5c6ed3609%29%3B%0A%20%20%20%20%20%20%20%20%0A%20%20%20%20%0A%20%20%20%20%20%20%20%20%20%20%20%20var%20marker_48874bae1c314a7897ddcc096662268c%20%3D%20L.marker%28%0A%20%20%20%20%20%20%20%20%20%20%20%20%20%20%20%20%5B30.254103175000466%2C%20-97.86540606199969%5D%2C%0A%20%20%20%20%20%20%20%20%20%20%20%20%20%20%20%20%7B%7D%0A%20%20%20%20%20%20%20%20%20%20%20%20%29.addTo%28map_1a1b18e2e1e941fd8cf9a6a5c6ed3609%29%3B%0A%20%20%20%20%20%20%20%20%0A%20%20%20%20%0A%20%20%20%20%20%20%20%20%20%20%20%20var%20marker_873b4c00ef5b4f9daa8bb2a4c10453aa%20%3D%20L.marker%28%0A%20%20%20%20%20%20%20%20%20%20%20%20%20%20%20%20%5B30.271221023000464%2C%20-97.78872104899966%5D%2C%0A%20%20%20%20%20%20%20%20%20%20%20%20%20%20%20%20%7B%7D%0A%20%20%20%20%20%20%20%20%20%20%20%20%29.addTo%28map_1a1b18e2e1e941fd8cf9a6a5c6ed3609%29%3B%0A%20%20%20%20%20%20%20%20%0A%20%20%20%20%0A%20%20%20%20%20%20%20%20%20%20%20%20var%20marker_6292278d60e3475da8af812c0afb13bb%20%3D%20L.marker%28%0A%20%20%20%20%20%20%20%20%20%20%20%20%20%20%20%20%5B30.42840301500047%2C%20-97.67969680999965%5D%2C%0A%20%20%20%20%20%20%20%20%20%20%20%20%20%20%20%20%7B%7D%0A%20%20%20%20%20%20%20%20%20%20%20%20%29.addTo%28map_1a1b18e2e1e941fd8cf9a6a5c6ed3609%29%3B%0A%20%20%20%20%20%20%20%20%0A%20%20%20%20%0A%20%20%20%20%20%20%20%20%20%20%20%20var%20marker_9dd2a1b93920499cbfc2357c554af12b%20%3D%20L.marker%28%0A%20%20%20%20%20%20%20%20%20%20%20%20%20%20%20%20%5B30.22833076900048%2C%20-97.78585071299966%5D%2C%0A%20%20%20%20%20%20%20%20%20%20%20%20%20%20%20%20%7B%7D%0A%20%20%20%20%20%20%20%20%20%20%20%20%29.addTo%28map_1a1b18e2e1e941fd8cf9a6a5c6ed3609%29%3B%0A%20%20%20%20%20%20%20%20%0A%20%20%20%20%0A%20%20%20%20%20%20%20%20%20%20%20%20var%20marker_25035737ed454559bf09f8e8d1af559a%20%3D%20L.marker%28%0A%20%20%20%20%20%20%20%20%20%20%20%20%20%20%20%20%5B30.259940179000466%2C%20-97.73275008499968%5D%2C%0A%20%20%20%20%20%20%20%20%20%20%20%20%20%20%20%20%7B%7D%0A%20%20%20%20%20%20%20%20%20%20%20%20%29.addTo%28map_1a1b18e2e1e941fd8cf9a6a5c6ed3609%29%3B%0A%20%20%20%20%20%20%20%20%0A%20%20%20%20%0A%20%20%20%20%20%20%20%20%20%20%20%20var%20marker_40b36c2965d048bd8b63190f98eb013d%20%3D%20L.marker%28%0A%20%20%20%20%20%20%20%20%20%20%20%20%20%20%20%20%5B30.263090519000457%2C%20-97.73282037399969%5D%2C%0A%20%20%20%20%20%20%20%20%20%20%20%20%20%20%20%20%7B%7D%0A%20%20%20%20%20%20%20%20%20%20%20%20%29.addTo%28map_1a1b18e2e1e941fd8cf9a6a5c6ed3609%29%3B%0A%20%20%20%20%20%20%20%20%0A%20%20%20%20%0A%20%20%20%20%20%20%20%20%20%20%20%20var%20marker_2c81212ff7494be4a23e3448b3bbba4d%20%3D%20L.marker%28%0A%20%20%20%20%20%20%20%20%20%20%20%20%20%20%20%20%5B30.236393459000453%2C%20-97.75564617599969%5D%2C%0A%20%20%20%20%20%20%20%20%20%20%20%20%20%20%20%20%7B%7D%0A%20%20%20%20%20%20%20%20%20%20%20%20%29.addTo%28map_1a1b18e2e1e941fd8cf9a6a5c6ed3609%29%3B%0A%20%20%20%20%20%20%20%20%0A%20%20%20%20%0A%20%20%20%20%20%20%20%20%20%20%20%20var%20marker_dd9054d2551e4b7b957aa1fdccca6ea4%20%3D%20L.marker%28%0A%20%20%20%20%20%20%20%20%20%20%20%20%20%20%20%20%5B30.247410260000436%2C%20-97.77423109799969%5D%2C%0A%20%20%20%20%20%20%20%20%20%20%20%20%20%20%20%20%7B%7D%0A%20%20%20%20%20%20%20%20%20%20%20%20%29.addTo%28map_1a1b18e2e1e941fd8cf9a6a5c6ed3609%29%3B%0A%20%20%20%20%20%20%20%20%0A%20%20%20%20%0A%20%20%20%20%20%20%20%20%20%20%20%20var%20marker_338cfa0988ce45dbb841a02bec3f7e9b%20%3D%20L.marker%28%0A%20%20%20%20%20%20%20%20%20%20%20%20%20%20%20%20%5B30.238228581000442%2C%20-97.75399616699968%5D%2C%0A%20%20%20%20%20%20%20%20%20%20%20%20%20%20%20%20%7B%7D%0A%20%20%20%20%20%20%20%20%20%20%20%20%29.addTo%28map_1a1b18e2e1e941fd8cf9a6a5c6ed3609%29%3B%0A%20%20%20%20%20%20%20%20%0A%20%20%20%20%0A%20%20%20%20%20%20%20%20%20%20%20%20var%20marker_cb45aa6c1f4e4a2a9382b04d9574558d%20%3D%20L.marker%28%0A%20%20%20%20%20%20%20%20%20%20%20%20%20%20%20%20%5B30.254103175000466%2C%20-97.86540606199969%5D%2C%0A%20%20%20%20%20%20%20%20%20%20%20%20%20%20%20%20%7B%7D%0A%20%20%20%20%20%20%20%20%20%20%20%20%29.addTo%28map_1a1b18e2e1e941fd8cf9a6a5c6ed3609%29%3B%0A%20%20%20%20%20%20%20%20%0A%20%20%20%20%0A%20%20%20%20%20%20%20%20%20%20%20%20var%20marker_d931b4acc5c348bd813b9338e26d79f1%20%3D%20L.marker%28%0A%20%20%20%20%20%20%20%20%20%20%20%20%20%20%20%20%5B30.290922751000437%2C%20-97.80956839699968%5D%2C%0A%20%20%20%20%20%20%20%20%20%20%20%20%20%20%20%20%7B%7D%0A%20%20%20%20%20%20%20%20%20%20%20%20%29.addTo%28map_1a1b18e2e1e941fd8cf9a6a5c6ed3609%29%3B%0A%20%20%20%20%20%20%20%20%0A%20%20%20%20%0A%20%20%20%20%20%20%20%20%20%20%20%20var%20marker_7d581f715d8f4ac6872c8ff5be693af7%20%3D%20L.marker%28%0A%20%20%20%20%20%20%20%20%20%20%20%20%20%20%20%20%5B30.35396065900045%2C%20-97.75413068399968%5D%2C%0A%20%20%20%20%20%20%20%20%20%20%20%20%20%20%20%20%7B%7D%0A%20%20%20%20%20%20%20%20%20%20%20%20%29.addTo%28map_1a1b18e2e1e941fd8cf9a6a5c6ed3609%29%3B%0A%20%20%20%20%20%20%20%20%0A%20%20%20%20%0A%20%20%20%20%20%20%20%20%20%20%20%20var%20marker_61015c48e79e4fbf82d5712e94a51ad4%20%3D%20L.marker%28%0A%20%20%20%20%20%20%20%20%20%20%20%20%20%20%20%20%5B30.297001037000484%2C%20-97.76802029599969%5D%2C%0A%20%20%20%20%20%20%20%20%20%20%20%20%20%20%20%20%7B%7D%0A%20%20%20%20%20%20%20%20%20%20%20%20%29.addTo%28map_1a1b18e2e1e941fd8cf9a6a5c6ed3609%29%3B%0A%20%20%20%20%20%20%20%20%0A%20%20%20%20%0A%20%20%20%20%20%20%20%20%20%20%20%20var%20marker_6417c651c8dd4362b272bd6a798cdd68%20%3D%20L.marker%28%0A%20%20%20%20%20%20%20%20%20%20%20%20%20%20%20%20%5B30.292312816000447%2C%20-97.79831858999967%5D%2C%0A%20%20%20%20%20%20%20%20%20%20%20%20%20%20%20%20%7B%7D%0A%20%20%20%20%20%20%20%20%20%20%20%20%29.addTo%28map_1a1b18e2e1e941fd8cf9a6a5c6ed3609%29%3B%0A%20%20%20%20%20%20%20%20%0A%20%20%20%20%0A%20%20%20%20%20%20%20%20%20%20%20%20var%20marker_f467125f7b5a41dbbd2a959848c2f589%20%3D%20L.marker%28%0A%20%20%20%20%20%20%20%20%20%20%20%20%20%20%20%20%5B30.303010190000464%2C%20-97.73800103499968%5D%2C%0A%20%20%20%20%20%20%20%20%20%20%20%20%20%20%20%20%7B%7D%0A%20%20%20%20%20%20%20%20%20%20%20%20%29.addTo%28map_1a1b18e2e1e941fd8cf9a6a5c6ed3609%29%3B%0A%20%20%20%20%20%20%20%20%0A%20%20%20%20%0A%20%20%20%20%20%20%20%20%20%20%20%20var%20marker_882f6f91e4da4b9ca485a10ef8107f53%20%3D%20L.marker%28%0A%20%20%20%20%20%20%20%20%20%20%20%20%20%20%20%20%5B30.30296064200047%2C%20-97.74454023799967%5D%2C%0A%20%20%20%20%20%20%20%20%20%20%20%20%20%20%20%20%7B%7D%0A%20%20%20%20%20%20%20%20%20%20%20%20%29.addTo%28map_1a1b18e2e1e941fd8cf9a6a5c6ed3609%29%3B%0A%20%20%20%20%20%20%20%20%0A%20%20%20%20%0A%20%20%20%20%20%20%20%20%20%20%20%20var%20marker_491e7109fcc340f58246a39abcc67c6b%20%3D%20L.marker%28%0A%20%20%20%20%20%20%20%20%20%20%20%20%20%20%20%20%5B30.260458084000447%2C%20-97.7109033479997%5D%2C%0A%20%20%20%20%20%20%20%20%20%20%20%20%20%20%20%20%7B%7D%0A%20%20%20%20%20%20%20%20%20%20%20%20%29.addTo%28map_1a1b18e2e1e941fd8cf9a6a5c6ed3609%29%3B%0A%20%20%20%20%20%20%20%20%0A%20%20%20%20%0A%20%20%20%20%20%20%20%20%20%20%20%20var%20marker_6c59d62a74e9432d8b190a2cca891d8a%20%3D%20L.marker%28%0A%20%20%20%20%20%20%20%20%20%20%20%20%20%20%20%20%5B30.16985351800048%2C%20-97.82531904099966%5D%2C%0A%20%20%20%20%20%20%20%20%20%20%20%20%20%20%20%20%7B%7D%0A%20%20%20%20%20%20%20%20%20%20%20%20%29.addTo%28map_1a1b18e2e1e941fd8cf9a6a5c6ed3609%29%3B%0A%20%20%20%20%20%20%20%20%0A%20%20%20%20%0A%20%20%20%20%20%20%20%20%20%20%20%20var%20marker_bd62c4b50464433abc9684d966e37867%20%3D%20L.marker%28%0A%20%20%20%20%20%20%20%20%20%20%20%20%20%20%20%20%5B30.320803354000475%2C%20-97.96173917899966%5D%2C%0A%20%20%20%20%20%20%20%20%20%20%20%20%20%20%20%20%7B%7D%0A%20%20%20%20%20%20%20%20%20%20%20%20%29.addTo%28map_1a1b18e2e1e941fd8cf9a6a5c6ed3609%29%3B%0A%20%20%20%20%20%20%20%20%0A%20%20%20%20%0A%20%20%20%20%20%20%20%20%20%20%20%20var%20marker_8fb2ec7b27544671a783170456e3d20c%20%3D%20L.marker%28%0A%20%20%20%20%20%20%20%20%20%20%20%20%20%20%20%20%5B30.251130146000435%2C%20-97.69682873899967%5D%2C%0A%20%20%20%20%20%20%20%20%20%20%20%20%20%20%20%20%7B%7D%0A%20%20%20%20%20%20%20%20%20%20%20%20%29.addTo%28map_1a1b18e2e1e941fd8cf9a6a5c6ed3609%29%3B%0A%20%20%20%20%20%20%20%20%0A%20%20%20%20%0A%20%20%20%20%20%20%20%20%20%20%20%20var%20marker_6e41d5ba76d24cc1b6865576c23f77d2%20%3D%20L.marker%28%0A%20%20%20%20%20%20%20%20%20%20%20%20%20%20%20%20%5B30.21540100800047%2C%20-97.70005061499967%5D%2C%0A%20%20%20%20%20%20%20%20%20%20%20%20%20%20%20%20%7B%7D%0A%20%20%20%20%20%20%20%20%20%20%20%20%29.addTo%28map_1a1b18e2e1e941fd8cf9a6a5c6ed3609%29%3B%0A%20%20%20%20%20%20%20%20%0A%20%20%20%20%0A%20%20%20%20%20%20%20%20%20%20%20%20var%20marker_204536e7695c4b4b951c8ce0df6cf014%20%3D%20L.marker%28%0A%20%20%20%20%20%20%20%20%20%20%20%20%20%20%20%20%5B30.254520995000462%2C%20-97.69940072799966%5D%2C%0A%20%20%20%20%20%20%20%20%20%20%20%20%20%20%20%20%7B%7D%0A%20%20%20%20%20%20%20%20%20%20%20%20%29.addTo%28map_1a1b18e2e1e941fd8cf9a6a5c6ed3609%29%3B%0A%20%20%20%20%20%20%20%20%0A%20%20%20%20%0A%20%20%20%20%20%20%20%20%20%20%20%20var%20marker_727a54780ac0416bb68a92c7819d951c%20%3D%20L.marker%28%0A%20%20%20%20%20%20%20%20%20%20%20%20%20%20%20%20%5B30.262550098000474%2C%20-97.73126018299968%5D%2C%0A%20%20%20%20%20%20%20%20%20%20%20%20%20%20%20%20%7B%7D%0A%20%20%20%20%20%20%20%20%20%20%20%20%29.addTo%28map_1a1b18e2e1e941fd8cf9a6a5c6ed3609%29%3B%0A%20%20%20%20%20%20%20%20%0A%20%20%20%20%0A%20%20%20%20%20%20%20%20%20%20%20%20var%20marker_4e25f7e061cf441a955fd7113a76be1f%20%3D%20L.marker%28%0A%20%20%20%20%20%20%20%20%20%20%20%20%20%20%20%20%5B30.20779018300044%2C%20-97.81683097699965%5D%2C%0A%20%20%20%20%20%20%20%20%20%20%20%20%20%20%20%20%7B%7D%0A%20%20%20%20%20%20%20%20%20%20%20%20%29.addTo%28map_1a1b18e2e1e941fd8cf9a6a5c6ed3609%29%3B%0A%20%20%20%20%20%20%20%20%0A%20%20%20%20%0A%20%20%20%20%20%20%20%20%20%20%20%20var%20marker_4c1be5ef327240ecb3b34b180c407c61%20%3D%20L.marker%28%0A%20%20%20%20%20%20%20%20%20%20%20%20%20%20%20%20%5B30.172950925000464%2C%20-97.8240603969997%5D%2C%0A%20%20%20%20%20%20%20%20%20%20%20%20%20%20%20%20%7B%7D%0A%20%20%20%20%20%20%20%20%20%20%20%20%29.addTo%28map_1a1b18e2e1e941fd8cf9a6a5c6ed3609%29%3B%0A%20%20%20%20%20%20%20%20%0A%20%20%20%20%0A%20%20%20%20%20%20%20%20%20%20%20%20var%20marker_3ef8a399314a4eaa8c1385a3052ef4c7%20%3D%20L.marker%28%0A%20%20%20%20%20%20%20%20%20%20%20%20%20%20%20%20%5B30.19933012600046%2C%20-97.79545037799966%5D%2C%0A%20%20%20%20%20%20%20%20%20%20%20%20%20%20%20%20%7B%7D%0A%20%20%20%20%20%20%20%20%20%20%20%20%29.addTo%28map_1a1b18e2e1e941fd8cf9a6a5c6ed3609%29%3B%0A%20%20%20%20%20%20%20%20%0A%20%20%20%20%0A%20%20%20%20%20%20%20%20%20%20%20%20var%20marker_0f737fabd5a944c6a065cdfc11422373%20%3D%20L.marker%28%0A%20%20%20%20%20%20%20%20%20%20%20%20%20%20%20%20%5B30.25333068700047%2C%20-97.76318070999969%5D%2C%0A%20%20%20%20%20%20%20%20%20%20%20%20%20%20%20%20%7B%7D%0A%20%20%20%20%20%20%20%20%20%20%20%20%29.addTo%28map_1a1b18e2e1e941fd8cf9a6a5c6ed3609%29%3B%0A%20%20%20%20%20%20%20%20%0A%20%20%20%20%0A%20%20%20%20%20%20%20%20%20%20%20%20var%20marker_8c40fa7ac7df472895a3feea1e470b6d%20%3D%20L.marker%28%0A%20%20%20%20%20%20%20%20%20%20%20%20%20%20%20%20%5B30.23602110200045%2C%20-97.91410089399966%5D%2C%0A%20%20%20%20%20%20%20%20%20%20%20%20%20%20%20%20%7B%7D%0A%20%20%20%20%20%20%20%20%20%20%20%20%29.addTo%28map_1a1b18e2e1e941fd8cf9a6a5c6ed3609%29%3B%0A%20%20%20%20%20%20%20%20%0A%20%20%20%20%0A%20%20%20%20%20%20%20%20%20%20%20%20var%20marker_817424e16d0c48c2857ab42f627a6db7%20%3D%20L.marker%28%0A%20%20%20%20%20%20%20%20%20%20%20%20%20%20%20%20%5B30.254103175000466%2C%20-97.86540606199969%5D%2C%0A%20%20%20%20%20%20%20%20%20%20%20%20%20%20%20%20%7B%7D%0A%20%20%20%20%20%20%20%20%20%20%20%20%29.addTo%28map_1a1b18e2e1e941fd8cf9a6a5c6ed3609%29%3B%0A%20%20%20%20%20%20%20%20%0A%20%20%20%20%0A%20%20%20%20%20%20%20%20%20%20%20%20var%20marker_49ae5ba6bb4545d681547d543d98db85%20%3D%20L.marker%28%0A%20%20%20%20%20%20%20%20%20%20%20%20%20%20%20%20%5B30.425852552000435%2C%20-97.71630719899969%5D%2C%0A%20%20%20%20%20%20%20%20%20%20%20%20%20%20%20%20%7B%7D%0A%20%20%20%20%20%20%20%20%20%20%20%20%29.addTo%28map_1a1b18e2e1e941fd8cf9a6a5c6ed3609%29%3B%0A%20%20%20%20%20%20%20%20%0A%20%20%20%20%0A%20%20%20%20%20%20%20%20%20%20%20%20var%20marker_41f9683e313f45e4b4a6fd4f79afe666%20%3D%20L.marker%28%0A%20%20%20%20%20%20%20%20%20%20%20%20%20%20%20%20%5B30.303300565000484%2C%20-97.76429035699965%5D%2C%0A%20%20%20%20%20%20%20%20%20%20%20%20%20%20%20%20%7B%7D%0A%20%20%20%20%20%20%20%20%20%20%20%20%29.addTo%28map_1a1b18e2e1e941fd8cf9a6a5c6ed3609%29%3B%0A%20%20%20%20%20%20%20%20%0A%20%20%20%20%0A%20%20%20%20%20%20%20%20%20%20%20%20var%20marker_0d275f1ab3c74f93832f5e3b84098d6d%20%3D%20L.marker%28%0A%20%20%20%20%20%20%20%20%20%20%20%20%20%20%20%20%5B30.25443111700048%2C%20-97.7047807349997%5D%2C%0A%20%20%20%20%20%20%20%20%20%20%20%20%20%20%20%20%7B%7D%0A%20%20%20%20%20%20%20%20%20%20%20%20%29.addTo%28map_1a1b18e2e1e941fd8cf9a6a5c6ed3609%29%3B%0A%20%20%20%20%20%20%20%20%0A%20%20%20%20%0A%20%20%20%20%20%20%20%20%20%20%20%20var%20marker_24b5a00c4711473d8ed81f39e373947a%20%3D%20L.marker%28%0A%20%20%20%20%20%20%20%20%20%20%20%20%20%20%20%20%5B30.30732087800044%2C%20-97.71572050299966%5D%2C%0A%20%20%20%20%20%20%20%20%20%20%20%20%20%20%20%20%7B%7D%0A%20%20%20%20%20%20%20%20%20%20%20%20%29.addTo%28map_1a1b18e2e1e941fd8cf9a6a5c6ed3609%29%3B%0A%20%20%20%20%20%20%20%20%0A%20%20%20%20%0A%20%20%20%20%20%20%20%20%20%20%20%20var%20marker_83eeabbadca84a9bac74be008fceba13%20%3D%20L.marker%28%0A%20%20%20%20%20%20%20%20%20%20%20%20%20%20%20%20%5B30.27120028200045%2C%20-97.75417101399967%5D%2C%0A%20%20%20%20%20%20%20%20%20%20%20%20%20%20%20%20%7B%7D%0A%20%20%20%20%20%20%20%20%20%20%20%20%29.addTo%28map_1a1b18e2e1e941fd8cf9a6a5c6ed3609%29%3B%0A%20%20%20%20%20%20%20%20%0A%20%20%20%20%0A%20%20%20%20%20%20%20%20%20%20%20%20var%20marker_2f4a87b0c6d5481196e64c73b4021d99%20%3D%20L.marker%28%0A%20%20%20%20%20%20%20%20%20%20%20%20%20%20%20%20%5B30.268770119000465%2C%20-97.73432064499968%5D%2C%0A%20%20%20%20%20%20%20%20%20%20%20%20%20%20%20%20%7B%7D%0A%20%20%20%20%20%20%20%20%20%20%20%20%29.addTo%28map_1a1b18e2e1e941fd8cf9a6a5c6ed3609%29%3B%0A%20%20%20%20%20%20%20%20%0A%20%20%20%20%0A%20%20%20%20%20%20%20%20%20%20%20%20var%20marker_f165aa89f4d448ffad214e6a92ccb661%20%3D%20L.marker%28%0A%20%20%20%20%20%20%20%20%20%20%20%20%20%20%20%20%5B30.3271%2C%20-97.62632%5D%2C%0A%20%20%20%20%20%20%20%20%20%20%20%20%20%20%20%20%7B%7D%0A%20%20%20%20%20%20%20%20%20%20%20%20%29.addTo%28map_1a1b18e2e1e941fd8cf9a6a5c6ed3609%29%3B%0A%20%20%20%20%20%20%20%20%0A%20%20%20%20%0A%20%20%20%20%20%20%20%20%20%20%20%20var%20icon_27a37d3166f34e0bacbfe6a7173d37dd%20%3D%20L.AwesomeMarkers.icon%28%0A%20%20%20%20%20%20%20%20%20%20%20%20%20%20%20%20%7B%22extraClasses%22%3A%20%22fa-rotate-0%22%2C%20%22icon%22%3A%20%22info-sign%22%2C%20%22iconColor%22%3A%20%22white%22%2C%20%22markerColor%22%3A%20%22yellow%22%2C%20%22prefix%22%3A%20%22glyphicon%22%7D%0A%20%20%20%20%20%20%20%20%20%20%20%20%29%3B%0A%20%20%20%20%20%20%20%20%20%20%20%20marker_f165aa89f4d448ffad214e6a92ccb661.setIcon%28icon_27a37d3166f34e0bacbfe6a7173d37dd%29%3B%0A%20%20%20%20%20%20%20%20%0A%20%20%20%20%0A%20%20%20%20%20%20%20%20%20%20%20%20var%20marker_46cd9e2c9f4a435d80e5b9170485acff%20%3D%20L.marker%28%0A%20%20%20%20%20%20%20%20%20%20%20%20%20%20%20%20%5B30.38498%2C%20-97.68206%5D%2C%0A%20%20%20%20%20%20%20%20%20%20%20%20%20%20%20%20%7B%7D%0A%20%20%20%20%20%20%20%20%20%20%20%20%29.addTo%28map_1a1b18e2e1e941fd8cf9a6a5c6ed3609%29%3B%0A%20%20%20%20%20%20%20%20%0A%20%20%20%20%0A%20%20%20%20%20%20%20%20%20%20%20%20var%20icon_93ee2780648a4e2397a25450d557a12c%20%3D%20L.AwesomeMarkers.icon%28%0A%20%20%20%20%20%20%20%20%20%20%20%20%20%20%20%20%7B%22extraClasses%22%3A%20%22fa-rotate-0%22%2C%20%22icon%22%3A%20%22info-sign%22%2C%20%22iconColor%22%3A%20%22white%22%2C%20%22markerColor%22%3A%20%22yellow%22%2C%20%22prefix%22%3A%20%22glyphicon%22%7D%0A%20%20%20%20%20%20%20%20%20%20%20%20%29%3B%0A%20%20%20%20%20%20%20%20%20%20%20%20marker_46cd9e2c9f4a435d80e5b9170485acff.setIcon%28icon_93ee2780648a4e2397a25450d557a12c%29%3B%0A%20%20%20%20%20%20%20%20%0A%20%20%20%20%0A%20%20%20%20%20%20%20%20%20%20%20%20var%20marker_da30bb3636d6475397505d0dfcc6d614%20%3D%20L.marker%28%0A%20%20%20%20%20%20%20%20%20%20%20%20%20%20%20%20%5B30.1116%2C%20-97.7133%5D%2C%0A%20%20%20%20%20%20%20%20%20%20%20%20%20%20%20%20%7B%7D%0A%20%20%20%20%20%20%20%20%20%20%20%20%29.addTo%28map_1a1b18e2e1e941fd8cf9a6a5c6ed3609%29%3B%0A%20%20%20%20%20%20%20%20%0A%20%20%20%20%0A%20%20%20%20%20%20%20%20%20%20%20%20var%20icon_5d8f5de899474a2dbcff6c05c735f0a3%20%3D%20L.AwesomeMarkers.icon%28%0A%20%20%20%20%20%20%20%20%20%20%20%20%20%20%20%20%7B%22extraClasses%22%3A%20%22fa-rotate-0%22%2C%20%22icon%22%3A%20%22info-sign%22%2C%20%22iconColor%22%3A%20%22white%22%2C%20%22markerColor%22%3A%20%22yellow%22%2C%20%22prefix%22%3A%20%22glyphicon%22%7D%0A%20%20%20%20%20%20%20%20%20%20%20%20%29%3B%0A%20%20%20%20%20%20%20%20%20%20%20%20marker_da30bb3636d6475397505d0dfcc6d614.setIcon%28icon_5d8f5de899474a2dbcff6c05c735f0a3%29%3B%0A%20%20%20%20%20%20%20%20%0A%20%20%20%20%0A%20%20%20%20%20%20%20%20%20%20%20%20var%20marker_19a0ed9c35ab4bd88fea3104fa84f3a1%20%3D%20L.marker%28%0A%20%20%20%20%20%20%20%20%20%20%20%20%20%20%20%20%5B30.11004%2C%20-97.79703%5D%2C%0A%20%20%20%20%20%20%20%20%20%20%20%20%20%20%20%20%7B%7D%0A%20%20%20%20%20%20%20%20%20%20%20%20%29.addTo%28map_1a1b18e2e1e941fd8cf9a6a5c6ed3609%29%3B%0A%20%20%20%20%20%20%20%20%0A%20%20%20%20%0A%20%20%20%20%20%20%20%20%20%20%20%20var%20icon_e3e626a15d934e9b83ab03ea18b9fe87%20%3D%20L.AwesomeMarkers.icon%28%0A%20%20%20%20%20%20%20%20%20%20%20%20%20%20%20%20%7B%22extraClasses%22%3A%20%22fa-rotate-0%22%2C%20%22icon%22%3A%20%22info-sign%22%2C%20%22iconColor%22%3A%20%22white%22%2C%20%22markerColor%22%3A%20%22yellow%22%2C%20%22prefix%22%3A%20%22glyphicon%22%7D%0A%20%20%20%20%20%20%20%20%20%20%20%20%29%3B%0A%20%20%20%20%20%20%20%20%20%20%20%20marker_19a0ed9c35ab4bd88fea3104fa84f3a1.setIcon%28icon_e3e626a15d934e9b83ab03ea18b9fe87%29%3B%0A%20%20%20%20%20%20%20%20%0A%3C/script%3E onload=\"this.contentDocument.open();this.contentDocument.write(    decodeURIComponent(this.getAttribute('data-html')));this.contentDocument.close();\" allowfullscreen webkitallowfullscreen mozallowfullscreen></iframe></div></div>"
      ],
      "text/plain": [
       "<folium.folium.Map at 0x1e775651580>"
      ]
     },
     "execution_count": 59,
     "metadata": {},
     "output_type": "execute_result"
    }
   ],
   "source": [
    "# Create a map with localitaions of dataset1 (red) and localitations of dataset2 (blue)\n",
    "m_1 = folium.Map(location=[30.3,-97.75], tiles='cartodbpositron', zoom_start=10)\n",
    "\n",
    "# Add points to the map\n",
    "for idx, row in df2.iterrows():\n",
    "    Marker([row['Latitude'], row['Longitude']]).add_to(m_1)\n",
    "    \n",
    "# Add points to the map\n",
    "#for idx, row in df_dropoff.iterrows():\n",
    "#    Marker([row['Latitude'], row['Longitude']]).add_to(m_1)\n",
    "\n",
    "# Display the map\n",
    "#m_1\n",
    "\n",
    "for indice, row in df_dropoff.iterrows():\n",
    "    folium.Marker(\n",
    "        location=[row[\"Latitude\"], row[\"Longitude\"]],\n",
    "        icon=folium.map.Icon(color='yellow')\n",
    "    ).add_to(m_1)\n",
    "m_1"
   ]
  },
  {
   "attachments": {},
   "cell_type": "markdown",
   "metadata": {
    "id": "gCcVSUTsasBP"
   },
   "source": [
    "## 🖼️ Visualisations\n",
    "LMER MODEL (Code in Appendix)\n",
    "\n",
    "PDF\n",
    "https://drive.google.com/file/d/15-M4Iee8zZxfV1Na9hzoyyAnvT4t8lgP/view?usp=sharing\n",
    "\n",
    ".ipynb\n",
    "https://drive.google.com/file/d/15-M4Iee8zZxfV1Na9hzoyyAnvT4t8lgP/view?usp=sharing"
   ]
  },
  {
   "cell_type": "markdown",
   "metadata": {
    "id": "F2REdi5_rThg"
   },
   "source": [
    "## 👓 References\n",
    "Dataset 1: https://data.austintexas.gov/resource/mbnu-4wq9.csv\n",
    "\n",
    "Dataset 2: https://data.austintexas.gov/api/views/9bpw-2ysw/rows.csv?accessType=DOWNLOAD\n",
    "\n",
    "Chapman-Wardy C., Asiedu L., Doku-Amponsah K. and Mettle F.O. Modeling the Amount of Waste Generated by Households in the Greater Accra Region Using Artificial Neural Networks. Journal of Environmental and Public Health. Volume 2021, Article ID 8622105, 12 pages. https://doi.org/10.1155/2021/8622105\n",
    "\n",
    "J. K. Solano Meza, D. O. Yepes, J. Rodrigo-Ilarri, E. Cassiraga. Predictive analysis of urban waste generation for the city of Bogota, Colombia, through the implementation of decision trees-based machine learning, support vector machines and artificial neural networks. Heliyon 5 (2019) e02810. https://doi.org/10.1016/j.heliyon.2019.e02810\n",
    "\n",
    "J.A. Araiza-Aguilar, M.N. Rojas-Valencia, R.A. Aguilar-Vera. Forecast generation model of municipal solid waste using multiple linear regression. Global J. Environ. Sci. Manage. 6(1): 1-14 Winter 2020."
   ]
  },
  {
   "cell_type": "markdown",
   "metadata": {
    "id": "uLBpGOl5o0ix"
   },
   "source": [
    "## ⏭️ Appendix\n",
    "Add here any code, images or text that you still find relevant, but that was too long to include in the main report. This section is optional.\n"
   ]
  },
  {
   "cell_type": "code",
   "execution_count": null,
   "metadata": {
    "id": "Mot-NqmmpAHI"
   },
   "outputs": [],
   "source": [
    "library(lme4)\n",
    "library(report)\n",
    "\n",
    "datos <- read.csv(file=\"C:/Users/monic/Downloads/df_2020.csv\", sep=\",\")\n",
    "\n",
    "datos$fecha<- as.Date( paste0(datos$Year, \"-\", datos$Month, \"-\", datos$Day))\n",
    "datos$fecha2<- as.Date( substr(datos$load_time,1,10))\n",
    "\n",
    "datos <- subset(datos , select =c(load_type, load_weight, route_number, fecha, Dayofweek))\n",
    "\n",
    "datos2 <- aggregate(datos$load_weight, by = list(datos$load_type, datos$route_number, datos$fecha), FUN = sum)\n",
    "\n",
    "names(datos2) <- c(\"type\",\"route\", \"date\", \"kg\")\n",
    "datos2$day <- weekdays(as.Date(datos2$date))\n",
    "\n",
    "datos2$dia <- as.numeric(substr(datos2$date, 9,10))\n",
    "\n",
    "# quitamos outliers\n",
    "a<-boxplot(datos2$kg)\n",
    "a$out\n",
    "\n",
    "datos2<-datos2[!(datos2$kg %in% a$out),]\n",
    "datos2<-subset(datos2, rownames(datos2)!= \"418\")\n",
    "\n",
    "boxplot(datos2$kg)\n",
    "\n",
    "lmer_model <-lmer(kg ~  day + type + (1|route), data=datos2) "
   ]
  },
  {
   "cell_type": "code",
   "execution_count": null,
   "metadata": {},
   "outputs": [],
   "source": [
    "summary(lmer_model)\n",
    "confint(lmer_model)"
   ]
  },
  {
   "cell_type": "code",
   "execution_count": null,
   "metadata": {},
   "outputs": [],
   "source": [
    "report::report(lmer_model)"
   ]
  },
  {
   "cell_type": "code",
   "execution_count": null,
   "metadata": {},
   "outputs": [],
   "source": [
    "plot(lmer_model, witch=1)\n",
    "lattice::qqmath(lmer_model)"
   ]
  },
  {
   "cell_type": "code",
   "execution_count": null,
   "metadata": {},
   "outputs": [],
   "source": []
  }
 ],
 "metadata": {
  "colab": {
   "collapsed_sections": [
    "63ltgxp_rOpI",
    "C8rCpNajszur",
    "gSDath2nr1fq",
    "a92GV5ghiRg3",
    "qo35-wi0iaFm",
    "CsQEKAQhi_MG",
    "My5BY9qAkSb4",
    "JQuIjEpYka3O",
    "DjduQ037k9CK",
    "kaPf4ZEalZH9",
    "0XBiBOyAl2Sv"
   ],
   "name": "Submission_Template.ipynb",
   "provenance": []
  },
  "kernelspec": {
   "display_name": "Python 3",
   "language": "python",
   "name": "python3"
  },
  "language_info": {
   "codemirror_mode": {
    "name": "ipython",
    "version": 3
   },
   "file_extension": ".py",
   "mimetype": "text/x-python",
   "name": "python",
   "nbconvert_exporter": "python",
   "pygments_lexer": "ipython3",
   "version": "3.8.5"
  }
 },
 "nbformat": 4,
 "nbformat_minor": 1
}
